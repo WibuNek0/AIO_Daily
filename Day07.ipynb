{
 "cells": [
  {
   "cell_type": "code",
   "execution_count": 13,
   "metadata": {},
   "outputs": [
    {
     "name": "stdout",
     "output_type": "stream",
     "text": [
      "[2, 4, 6, 8, 10, 12]\n"
     ]
    }
   ],
   "source": [
    "lst_data = []\n",
    "\n",
    "for i in range(2, 14, 2): \n",
    "    lst_data.append(i)\n",
    "\n",
    "print(lst_data)"
   ]
  },
  {
   "cell_type": "code",
   "execution_count": 14,
   "metadata": {},
   "outputs": [
    {
     "name": "stdout",
     "output_type": "stream",
     "text": [
      "[2, 4, 8, 10]\n"
     ]
    }
   ],
   "source": [
    "for i in lst_data:\n",
    "    if i % 3 == 0: \n",
    "        lst_data.remove(i)\n",
    "\n",
    "print(lst_data)"
   ]
  },
  {
   "cell_type": "code",
   "execution_count": 15,
   "metadata": {},
   "outputs": [
    {
     "name": "stdout",
     "output_type": "stream",
     "text": [
      "[2, 4, 8, 6, 7, 8, 10, 1, 2, 3]\n"
     ]
    }
   ],
   "source": [
    "value_1 = [1, 2, 3]\n",
    "value_2 = [6, 7, 8]\n",
    "\n",
    "index = 3\n",
    "\n",
    "for i in value_1: \n",
    "    lst_data.append(i)\n",
    "\n",
    "for j in value_2: \n",
    "    lst_data.insert(index, j)\n",
    "    index += 1\n",
    "\n",
    "print(lst_data)"
   ]
  },
  {
   "cell_type": "code",
   "execution_count": 16,
   "metadata": {},
   "outputs": [
    {
     "name": "stdout",
     "output_type": "stream",
     "text": [
      "[0, 0, 0, 0, 7, 8, 0, 1, 0, 3]\n"
     ]
    }
   ],
   "source": [
    "for i in lst_data: \n",
    "    if (lst_data[i] % 2 == 0) | (lst_data[i] % 5 == 0):\n",
    "        lst_data[i] = 0\n",
    "\n",
    "print(lst_data)"
   ]
  }
 ],
 "metadata": {
  "kernelspec": {
   "display_name": "Python 3",
   "language": "python",
   "name": "python3"
  },
  "language_info": {
   "codemirror_mode": {
    "name": "ipython",
    "version": 3
   },
   "file_extension": ".py",
   "mimetype": "text/x-python",
   "name": "python",
   "nbconvert_exporter": "python",
   "pygments_lexer": "ipython3",
   "version": "3.13.0"
  }
 },
 "nbformat": 4,
 "nbformat_minor": 2
}
