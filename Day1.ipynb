{
 "cells": [
  {
   "cell_type": "code",
   "execution_count": 5,
   "metadata": {},
   "outputs": [],
   "source": [
    "def calculate_can_chi_calendar(year):\n",
    "    can = ''\n",
    "    chi = ''\n",
    "\n",
    "    if (year%10) == 0: \n",
    "        can = 'Canh'\n",
    "    elif (year%10) == 1: \n",
    "        can = 'Tân'\n",
    "    elif (year%10) == 2: \n",
    "        can = 'Nhâm'\n",
    "    elif (year%10) == 3: \n",
    "        can = 'Quý'\n",
    "    elif (year%10) == 4: \n",
    "        can = 'Giáp'\n",
    "    elif (year%10) == 5: \n",
    "        can = 'Ất'\n",
    "    elif (year%10) == 6: \n",
    "        can = 'Bính'\n",
    "    elif (year%10) == 7: \n",
    "        can = 'Đinh'\n",
    "    elif (year%10) == 8: \n",
    "        can = 'Mậu'\n",
    "    else:\n",
    "        can = 'Kỷ'\n",
    "\n",
    "    if (year%12) == 0: \n",
    "        chi = 'Thân'\n",
    "    elif (year%12) == 1: \n",
    "        chi = 'Dậu'\n",
    "    elif (year%12) == 2: \n",
    "        chi = 'Tuất'\n",
    "    elif (year%12) == 3: \n",
    "        chi = 'Hợi'\n",
    "    elif (year%12) == 4: \n",
    "        chi = 'Tý'\n",
    "    elif (year%12) == 5: \n",
    "        chi = 'Sửu'\n",
    "    elif (year%12) == 6: \n",
    "        chi = 'Dần'\n",
    "    elif (year%12) == 7: \n",
    "        chi = 'Mẹo'\n",
    "    elif (year%12) == 8: \n",
    "        chi = 'Thìn'\n",
    "    elif (year%12) == 9: \n",
    "        chi = 'Tỵ'\n",
    "    elif (year%12) == 10: \n",
    "        chi = 'Ngọ'\n",
    "    else: \n",
    "        chi = 'Mùi'\n",
    "\n",
    "    result = can + ' ' + chi\n",
    "    # #### Your code here ######\n",
    "    return result\n"
   ]
  },
  {
   "cell_type": "code",
   "execution_count": 6,
   "metadata": {},
   "outputs": [
    {
     "data": {
      "text/plain": [
       "'Ất Tỵ'"
      ]
     },
     "execution_count": 6,
     "metadata": {},
     "output_type": "execute_result"
    }
   ],
   "source": [
    "calculate_can_chi_calendar(2025)"
   ]
  },
  {
   "cell_type": "code",
   "execution_count": 7,
   "metadata": {},
   "outputs": [
    {
     "data": {
      "text/plain": [
       "'Giáp Thìn'"
      ]
     },
     "execution_count": 7,
     "metadata": {},
     "output_type": "execute_result"
    }
   ],
   "source": [
    "calculate_can_chi_calendar(2024)"
   ]
  },
  {
   "cell_type": "code",
   "execution_count": 8,
   "metadata": {},
   "outputs": [
    {
     "data": {
      "text/plain": [
       "'Đinh Sửu'"
      ]
     },
     "execution_count": 8,
     "metadata": {},
     "output_type": "execute_result"
    }
   ],
   "source": [
    "calculate_can_chi_calendar(1997)"
   ]
  },
  {
   "cell_type": "code",
   "execution_count": null,
   "metadata": {},
   "outputs": [],
   "source": [
    "def relu(x):\n",
    "    if x > 0: \n",
    "        return x\n",
    "    else: \n",
    "        return 0 \n"
   ]
  }
 ],
 "metadata": {
  "kernelspec": {
   "display_name": "Python 3",
   "language": "python",
   "name": "python3"
  },
  "language_info": {
   "codemirror_mode": {
    "name": "ipython",
    "version": 3
   },
   "file_extension": ".py",
   "mimetype": "text/x-python",
   "name": "python",
   "nbconvert_exporter": "python",
   "pygments_lexer": "ipython3",
   "version": "3.13.0"
  }
 },
 "nbformat": 4,
 "nbformat_minor": 2
}
