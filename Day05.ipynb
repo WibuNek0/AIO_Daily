{
 "cells": [
  {
   "cell_type": "code",
   "execution_count": 1,
   "metadata": {},
   "outputs": [],
   "source": [
    "def find_squared_root(a):\n",
    "# Find the squared root of number a\n",
    "    EPSILON = 0.001\n",
    "\n",
    "    x0 = a\n",
    "    n = 0\n",
    "\n",
    "    while True:\n",
    "        f_x = x0**2 - a\n",
    "        f__x = 2*x0\n",
    "\n",
    "        x1 = x0 - f_x/f__x\n",
    "\n",
    "        if abs(x1 - x0) < EPSILON:\n",
    "            return x1\n",
    "        \n",
    "        x0 = x1\n",
    "\n"
   ]
  },
  {
   "cell_type": "code",
   "execution_count": 2,
   "metadata": {},
   "outputs": [
    {
     "data": {
      "text/plain": [
       "1.4142135623746899"
      ]
     },
     "execution_count": 2,
     "metadata": {},
     "output_type": "execute_result"
    }
   ],
   "source": [
    "find_squared_root(2)"
   ]
  },
  {
   "cell_type": "code",
   "execution_count": 3,
   "metadata": {},
   "outputs": [
    {
     "data": {
      "text/plain": [
       "1.7320508100147276"
      ]
     },
     "execution_count": 3,
     "metadata": {},
     "output_type": "execute_result"
    }
   ],
   "source": [
    "find_squared_root(3)"
   ]
  }
 ],
 "metadata": {
  "kernelspec": {
   "display_name": "Python 3",
   "language": "python",
   "name": "python3"
  },
  "language_info": {
   "codemirror_mode": {
    "name": "ipython",
    "version": 3
   },
   "file_extension": ".py",
   "mimetype": "text/x-python",
   "name": "python",
   "nbconvert_exporter": "python",
   "pygments_lexer": "ipython3",
   "version": "3.13.0"
  }
 },
 "nbformat": 4,
 "nbformat_minor": 2
}
