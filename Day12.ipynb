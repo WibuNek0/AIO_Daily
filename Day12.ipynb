{
 "cells": [
  {
   "cell_type": "code",
   "execution_count": 26,
   "metadata": {},
   "outputs": [],
   "source": [
    "def knight_tour(x, y, move_count, board):\n",
    "    if move_count == len(board)**2: \n",
    "        return True\n",
    "    \n",
    "    possible_moves = [\n",
    "        ( 2,  1), # Di chuyển 2 ô theo chiều ngang và 1 ô theo chiều dọc.\n",
    "        ( 1,  2), # Di chuyển 1 ô theo chiều ngang và 2 ô theo chiều dọc.\n",
    "        (-1,  2), # Di chuyển 1 ô ngược lại theo chiều ngang và 2 ô theo chiều dọc.\n",
    "        (-2,  1), # Di chuyển 2 ô ngược lại theo chiều ngang và 1 ô theo chiều dọc.\n",
    "        (-2, -1), # Di chuyển 2 ô ngược lại theo chiều ngang và 1 ô ngược lại theo chiều dọc.\n",
    "        (-1, -2), # Di chuyển 1 ô ngược lại theo chiều ngang và 2 ô ngược lại theo chiều dọc.\n",
    "        ( 1, -2), # Di chuyển 1 ô theo chiều ngang và 2 ô ngược lại theo chiều dọc.\n",
    "        ( 2, -1)  # Di chuyển 2 ô theo chiều ngang và 1 ô ngược lại theo chiều dọc.\n",
    "    ]\n",
    "\n",
    "    for dx, dy in possible_moves:\n",
    "        new_x = x + dx\n",
    "        new_y = y + dy\n",
    "\n",
    "        if (0 <= new_x < len(board)) and (0 <= new_y < len(board)) and (board[new_x][new_y] == -1):\n",
    "            board[new_x][new_y] = move_count + 1\n",
    "            if knight_tour(new_x, new_y, move_count + 1, board):\n",
    "                return True\n",
    "            board[new_x][new_y] = -1\n",
    "            \n",
    "    return False\n"
   ]
  },
  {
   "cell_type": "code",
   "execution_count": null,
   "metadata": {},
   "outputs": [],
   "source": [
    "def solve_knight_tour(size_of_cheesboard, start_x, start_y):\n",
    "    board = [[-1 for _ in range (size_of_cheesboard)] for _ in range (size_of_cheesboard)]\n",
    "    board[start_x][start_y] = 1\n",
    "\n",
    "    if knight_tour(start_x, start_y, 1, board) == True:\n",
    "        for row in board: \n",
    "            print(row)\n",
    "    else:\n",
    "        print(\"No solution exists\")"
   ]
  },
  {
   "cell_type": "code",
   "execution_count": 37,
   "metadata": {},
   "outputs": [
    {
     "name": "stdout",
     "output_type": "stream",
     "text": [
      "[25, 6, 15, 10, 23]\n",
      "[14, 9, 24, 5, 16]\n",
      "[19, 2, 7, 22, 11]\n",
      "[8, 13, 20, 17, 4]\n",
      "[-1, 18, 3, 12, 21]\n",
      "Câu 1: None\n"
     ]
    }
   ],
   "source": [
    "print(f\"Câu 1: {solve_knight_tour(5, 0, 0)}\")"
   ]
  },
  {
   "cell_type": "code",
   "execution_count": 38,
   "metadata": {},
   "outputs": [
    {
     "name": "stdout",
     "output_type": "stream",
     "text": [
      "[11, 18, 23, 4, 9]\n",
      "[24, 5, 10, 17, 22]\n",
      "[19, 12, 15, 8, 3]\n",
      "[14, 25, 6, 21, 16]\n",
      "[-1, 20, 13, 2, 7]\n",
      "Câu 2: None\n"
     ]
    }
   ],
   "source": [
    "print(f\"Câu 2: {solve_knight_tour(5, 2, 2)}\")"
   ]
  }
 ],
 "metadata": {
  "kernelspec": {
   "display_name": "Python 3",
   "language": "python",
   "name": "python3"
  },
  "language_info": {
   "codemirror_mode": {
    "name": "ipython",
    "version": 3
   },
   "file_extension": ".py",
   "mimetype": "text/x-python",
   "name": "python",
   "nbconvert_exporter": "python",
   "pygments_lexer": "ipython3",
   "version": "3.13.0"
  }
 },
 "nbformat": 4,
 "nbformat_minor": 2
}
