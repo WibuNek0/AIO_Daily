{
 "cells": [
  {
   "cell_type": "code",
   "execution_count": 3,
   "metadata": {},
   "outputs": [],
   "source": [
    "import mysql.connector\n",
    "import pandas as pd\n",
    "\n",
    "connection = mysql.connector.connect(\n",
    "    host= 'localhost',         \n",
    "    database = 'AIO2025_2',\n",
    "    user= 'root',             \n",
    "    password= '123456'       \n",
    ")\n",
    "cursor = connection.cursor()"
   ]
  },
  {
   "cell_type": "code",
   "execution_count": 4,
   "metadata": {},
   "outputs": [],
   "source": [
    "import warnings\n",
    "warnings.filterwarnings('ignore')"
   ]
  },
  {
   "cell_type": "code",
   "execution_count": 5,
   "metadata": {},
   "outputs": [],
   "source": [
    "cursor.execute(\"\"\"\n",
    "CREATE TABLE Products (\n",
    "    ProductID INTEGER PRIMARY KEY,\n",
    "    ProductName VARCHAR(100) NOT NULL,\n",
    "    Category VARCHAR(50) NOT NULL,\n",
    "    Price DECIMAL(10, 2) NOT NULL, \n",
    "    StockQuantity INTEGER NOT NULL\n",
    ");\n",
    "\"\"\")"
   ]
  },
  {
   "cell_type": "code",
   "execution_count": 6,
   "metadata": {},
   "outputs": [],
   "source": [
    "cursor.execute(\"\"\"\n",
    "INSERT INTO Products (ProductID, ProductName, Category, Price, StockQuantity) VALUES\n",
    "(1, 'Laptop Dell XPS', 'Laptop', '25000000', '10'),\n",
    "(2, 'iPhone 14', 'Điện thoại', '22000000', '15'),\n",
    "(3, 'Tai nghe Sony', 'Phụ kiện', '3000000', '20'),\n",
    "(4, 'Bàn phím Cơ', 'Phụ kiện', '1500000', '50'),\n",
    "(5, 'MacBook Air M2', 'Laptop', '28000000', '8');\n",
    "\"\"\")\n",
    "\n",
    "connection.commit()"
   ]
  },
  {
   "cell_type": "code",
   "execution_count": 7,
   "metadata": {},
   "outputs": [],
   "source": [
    "cursor.execute(\"\"\"\n",
    "CREATE TABLE Customers (\n",
    "    CustomerID INTEGER PRIMARY KEY,\n",
    "    FullName VARCHAR(100) NOT NULL,\n",
    "    PhoneNumber VARCHAR(15) UNIQUE,\n",
    "    Email VARCHAR(100) UNIQUE\n",
    ");\n",
    "\"\"\")"
   ]
  },
  {
   "cell_type": "code",
   "execution_count": 8,
   "metadata": {},
   "outputs": [],
   "source": [
    "cursor.execute(\"\"\"\n",
    "INSERT INTO Customers (CustomerID, FullName, PhoneNumber, Email) VALUES\n",
    "(1, 'Nguyễn Văn A', '0987654321', 'a@example.com'),\n",
    "(2, 'Trần Thị B', '0976543210', 'b@example.com'),\n",
    "(3, 'Lê Văn C', '0965432109', 'c@example.com'),\n",
    "(4, 'Phạm Thị D', '0945678123', 'd@example.com'),\n",
    "(5, 'Bùi Văn E', '0936789123', 'e@example.com');\n",
    "\"\"\")\n",
    "\n",
    "connection.commit()"
   ]
  },
  {
   "cell_type": "code",
   "execution_count": 9,
   "metadata": {},
   "outputs": [],
   "source": [
    "cursor.execute(\"\"\"\n",
    "CREATE TABLE Salespersons (\n",
    "    SalespersonID INTEGER PRIMARY KEY,\n",
    "    FullName VARCHAR(100) NOT NULL,\n",
    "    PhoneNumber VARCHAR(15) UNIQUE\n",
    ");\n",
    "\"\"\")"
   ]
  },
  {
   "cell_type": "code",
   "execution_count": 11,
   "metadata": {},
   "outputs": [],
   "source": [
    "cursor.execute(\"\"\"\n",
    "INSERT INTO Salespersons (SalespersonID, FullName, PhoneNumber) VALUES\n",
    "(1, 'Lê Hoàng Nam', '0934567890'),\n",
    "(2, 'Trần Quốc Bảo', '0945678123'),\n",
    "(3, 'Nguyễn Minh Hà', '0956789123');\n",
    "\"\"\")\n",
    "\n",
    "connection.commit()"
   ]
  },
  {
   "cell_type": "code",
   "execution_count": 14,
   "metadata": {},
   "outputs": [],
   "source": [
    "cursor.execute(\"\"\"\n",
    "CREATE TABLE Orders (\n",
    "    OrderID INTEGER PRIMARY KEY,\n",
    "    CustomerID INTEGER ,\n",
    "    SalespersonID INTEGER, \n",
    "    OrderDate DATE, \n",
    "    TotalAmount DECIMAL(10, 2),\n",
    "    FOREIGN KEY (CustomerID) REFERENCES Customers(CustomerID),\n",
    "    FOREIGN KEY (SalespersonID) REFERENCES Salespersons(SalespersonID)\n",
    ");\n",
    "\"\"\")"
   ]
  },
  {
   "cell_type": "code",
   "execution_count": 15,
   "metadata": {},
   "outputs": [],
   "source": [
    "cursor.execute(\"\"\"\n",
    "INSERT INTO Orders (OrderID, CustomerID, SalespersonID, OrderDate, TotalAmount) VALUES\n",
    "(1, 1, 1, '2024-03-10', '25000000'),\n",
    "(2, 2, 2, '2024-03-11', '3000000'),\n",
    "(3, 3, 3, '2024-03-12', '22000000');\n",
    "\"\"\")\n",
    "\n",
    "connection.commit()"
   ]
  },
  {
   "cell_type": "code",
   "execution_count": 16,
   "metadata": {},
   "outputs": [],
   "source": [
    "cursor.execute(\"\"\"\n",
    "CREATE TABLE OrderDetails (\n",
    "    OrderDetailID INTEGER PRIMARY KEY,\n",
    "    OrderID INTEGER,\n",
    "    ProductID INTEGER,\n",
    "    Quantity INTEGER, \n",
    "    Subtotal DECIMAL(10, 2), \n",
    "    FOREIGN KEY (OrderID) REFERENCES Orders(OrderID),\n",
    "    FOREIGN KEY (ProductID) REFERENCES Products(ProductID)\n",
    ");\n",
    "\"\"\")"
   ]
  },
  {
   "cell_type": "code",
   "execution_count": 17,
   "metadata": {},
   "outputs": [],
   "source": [
    "cursor.execute(\"\"\"\n",
    "INSERT INTO OrderDetails (OrderDetailID, OrderID, ProductID, Quantity, Subtotal) VALUES\n",
    "(1, 1, 1, 1, '25000000'),\n",
    "(2, 2, 3, 1, '3000000'),\n",
    "(3, 3, 2, 1, '22000000');\n",
    "\"\"\")\n",
    "\n",
    "connection.commit()"
   ]
  },
  {
   "cell_type": "code",
   "execution_count": 19,
   "metadata": {},
   "outputs": [
    {
     "name": "stdout",
     "output_type": "stream",
     "text": [
      "   ProductID      ProductName    Category       Price  StockQuantity\n",
      "0          1  Laptop Dell XPS      Laptop  25000000.0             10\n",
      "1          2        iPhone 14  Điện thoại  22000000.0             15\n",
      "2          3    Tai nghe Sony    Phụ kiện   3000000.0             20\n",
      "3          4      Bàn phím Cơ    Phụ kiện   1500000.0             50\n",
      "4          5   MacBook Air M2      Laptop  28000000.0              8\n"
     ]
    }
   ],
   "source": [
    "query = (\"\"\"\n",
    "SELECT * FROM Products;\n",
    "\"\"\")\n",
    "\n",
    "data_3_1 = pd.read_sql_query(query, connection)\n",
    "print(data_3_1)"
   ]
  },
  {
   "cell_type": "code",
   "execution_count": 20,
   "metadata": {},
   "outputs": [
    {
     "name": "stdout",
     "output_type": "stream",
     "text": [
      "   OrderID  CustomerID  SalespersonID   OrderDate  TotalAmount\n",
      "0        1           1              1  2024-03-10   25000000.0\n"
     ]
    }
   ],
   "source": [
    "query = (\"\"\"\n",
    "SELECT * FROM Orders\n",
    "WHERE CustomerID = 1;\n",
    "\"\"\")\n",
    "\n",
    "data_3_2 = pd.read_sql_query(query, connection)\n",
    "print(data_3_2)"
   ]
  },
  {
   "cell_type": "code",
   "execution_count": 21,
   "metadata": {},
   "outputs": [
    {
     "name": "stdout",
     "output_type": "stream",
     "text": [
      "   SalespersonID  TotalSales\n",
      "0              1  25000000.0\n",
      "1              2   3000000.0\n",
      "2              3  22000000.0\n"
     ]
    }
   ],
   "source": [
    "query = (\"\"\"\n",
    "SELECT SalespersonID, SUM(TotalAmount) AS TotalSales\n",
    " FROM Orders\n",
    "GROUP BY SalespersonID;\n",
    "\"\"\")\n",
    "\n",
    "data_3_3 = pd.read_sql_query(query, connection)\n",
    "print(data_3_3)"
   ]
  },
  {
   "cell_type": "code",
   "execution_count": 27,
   "metadata": {},
   "outputs": [
    {
     "name": "stdout",
     "output_type": "stream",
     "text": [
      "       FullName  TotalSales\n",
      "0  Lê Hoàng Nam  25000000.0\n"
     ]
    }
   ],
   "source": [
    "query = (\"\"\"\n",
    "SELECT b.FullName, SUM(a.TotalAmount) AS TotalSales\n",
    " FROM Orders a\n",
    "LEFT JOIN Salespersons b ON a.SalespersonID = b.SalespersonID\n",
    "GROUP BY b.FullName\n",
    "ORDER BY TotalSales DESC\n",
    "LIMIT 1;\n",
    "\"\"\")\n",
    "\n",
    "data_4_1 = pd.read_sql_query(query, connection)\n",
    "print(data_4_1)"
   ]
  },
  {
   "cell_type": "code",
   "execution_count": 26,
   "metadata": {},
   "outputs": [
    {
     "name": "stdout",
     "output_type": "stream",
     "text": [
      "       ProductName  TotalSales\n",
      "0  Laptop Dell XPS  25000000.0\n"
     ]
    }
   ],
   "source": [
    "query = (\"\"\"\n",
    "SELECT b.ProductName, SUM(a.Subtotal) AS TotalSales\n",
    " FROM OrderDetails a\n",
    "LEFT JOIN Products b ON a.ProductID = b.ProductID\n",
    "GROUP BY b.ProductName\n",
    "ORDER BY TotalSales DESC\n",
    "LIMIT 1;\n",
    "\"\"\")\n",
    "\n",
    "data_4_2 = pd.read_sql_query(query, connection)\n",
    "print(data_4_2)"
   ]
  },
  {
   "cell_type": "code",
   "execution_count": 29,
   "metadata": {},
   "outputs": [
    {
     "name": "stdout",
     "output_type": "stream",
     "text": [
      "       FullName  TotalSales\n",
      "0  Nguyễn Văn A  25000000.0\n",
      "1      Lê Văn C  22000000.0\n",
      "2    Trần Thị B   3000000.0\n"
     ]
    }
   ],
   "source": [
    "query = (\"\"\"\n",
    "SELECT b.FullName, SUM(a.TotalAmount) AS TotalSales\n",
    " FROM Orders a\n",
    "LEFT JOIN Customers b ON a.CustomerID = b.CustomerID\n",
    "GROUP BY b.FullName\n",
    "ORDER BY TotalSales DESC\n",
    "LIMIT 3;\n",
    "\"\"\")\n",
    "\n",
    "data_4_3 = pd.read_sql_query(query, connection)\n",
    "print(data_4_3)"
   ]
  },
  {
   "cell_type": "code",
   "execution_count": 30,
   "metadata": {},
   "outputs": [
    {
     "name": "stdout",
     "output_type": "stream",
     "text": [
      "   Month  TotalSales\n",
      "0      3  50000000.0\n"
     ]
    }
   ],
   "source": [
    "query = (\"\"\"\n",
    "SELECT MONTH(OrderDate) AS Month, SUM(TotalAmount) AS TotalSales\n",
    " FROM Orders\n",
    "GROUP BY MONTH(OrderDate)\n",
    "ORDER BY TotalSales DESC;\n",
    "\"\"\")\n",
    "\n",
    "data_4_4 = pd.read_sql_query(query, connection)\n",
    "print(data_4_4)"
   ]
  },
  {
   "cell_type": "code",
   "execution_count": 32,
   "metadata": {},
   "outputs": [
    {
     "name": "stdout",
     "output_type": "stream",
     "text": [
      "       ProductName  TotalQuantity\n",
      "0  Laptop Dell XPS            1.0\n",
      "1    Tai nghe Sony            1.0\n",
      "2        iPhone 14            1.0\n"
     ]
    }
   ],
   "source": [
    "query = (\"\"\"\n",
    "SELECT b.ProductName, SUM(a.Quantity) AS TotalQuantity\n",
    " FROM OrderDetails a\n",
    "LEFT JOIN Products b ON a.ProductID = b.ProductID\n",
    "GROUP BY b.ProductName\n",
    "ORDER BY TotalQuantity DESC;\n",
    "\"\"\")\n",
    "\n",
    "data_4_5 = pd.read_sql_query(query, connection)\n",
    "print(data_4_5)"
   ]
  }
 ],
 "metadata": {
  "kernelspec": {
   "display_name": "base",
   "language": "python",
   "name": "python3"
  },
  "language_info": {
   "codemirror_mode": {
    "name": "ipython",
    "version": 3
   },
   "file_extension": ".py",
   "mimetype": "text/x-python",
   "name": "python",
   "nbconvert_exporter": "python",
   "pygments_lexer": "ipython3",
   "version": "3.10.16"
  }
 },
 "nbformat": 4,
 "nbformat_minor": 2
}
