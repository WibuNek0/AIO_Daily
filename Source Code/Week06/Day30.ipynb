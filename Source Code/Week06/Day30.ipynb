{
 "cells": [
  {
   "cell_type": "markdown",
   "metadata": {},
   "source": [
    "#### Bài 1"
   ]
  },
  {
   "cell_type": "code",
   "execution_count": 1,
   "metadata": {},
   "outputs": [
    {
     "name": "stdout",
     "output_type": "stream",
     "text": [
      "Sigmoid: [0.11920292 0.26894142 0.5        0.73105858 0.88079708]\n",
      "Sigmoid derivative: [0.10499359 0.19661193 0.25       0.19661193 0.10499359]\n"
     ]
    }
   ],
   "source": [
    "import numpy as np\n",
    "\n",
    "def sigmoid(x):\n",
    "    return 1 / (1 + np.exp(-x))\n",
    "\n",
    "def sigmoid_derivative(x):\n",
    "    return sigmoid(x) * (1 - sigmoid(x))\n",
    "\n",
    "x = np.array([-2, -1, 0, 1, 2])\n",
    "print(\"Sigmoid:\", sigmoid(x))\n",
    "print(\"Sigmoid derivative:\", sigmoid_derivative(x))\n"
   ]
  },
  {
   "cell_type": "markdown",
   "metadata": {},
   "source": [
    "#### Bài 2"
   ]
  },
  {
   "cell_type": "markdown",
   "metadata": {},
   "source": [
    "$$\n",
    "L(y, \\hat{y}) = \\frac{1}{n} \\sum_{i=1}^{n} (y_i - \\hat{y}i)^2\n",
    "$$"
   ]
  },
  {
   "cell_type": "code",
   "execution_count": 3,
   "metadata": {},
   "outputs": [
    {
     "name": "stdout",
     "output_type": "stream",
     "text": [
      "Gradient của MSE: [ 0.25  0.1  -0.05  0.25]\n"
     ]
    }
   ],
   "source": [
    "def mse_derivative(y_true, y_pred):\n",
    "    return (-2/len(y_true)) * (y_pred - y_true)\n",
    "\n",
    "y_true = np.array([3, 5, 2, 8])\n",
    "y_pred = np.array([2.5, 4.8, 2.1, 7.5])\n",
    "print(\"Gradient của MSE:\", mse_derivative(y_true, y_pred))"
   ]
  },
  {
   "cell_type": "markdown",
   "metadata": {},
   "source": [
    "#### Bài 3"
   ]
  },
  {
   "cell_type": "code",
   "execution_count": 4,
   "metadata": {},
   "outputs": [
    {
     "name": "stdout",
     "output_type": "stream",
     "text": [
      "ReLU: [0 0 0 1 2]\n",
      "ReLU derivative: [0 0 0 1 1]\n"
     ]
    }
   ],
   "source": [
    "def relu(x):\n",
    "    return np.maximum(0, x)\n",
    "\n",
    "def relu_derivative(x):\n",
    "    return np.where(x > 0, 1, 0)\n",
    "\n",
    "x = np.array([-2, -1, 0, 1, 2])\n",
    "print(\"ReLU:\", relu(x))\n",
    "print(\"ReLU derivative:\", relu_derivative(x))"
   ]
  },
  {
   "cell_type": "markdown",
   "metadata": {},
   "source": [
    "#### Bài 4"
   ]
  },
  {
   "cell_type": "code",
   "execution_count": 5,
   "metadata": {},
   "outputs": [
    {
     "name": "stdout",
     "output_type": "stream",
     "text": [
      "Softmax: [0.65900114 0.24243297 0.09856589]\n",
      "Gradient của Softmax: [0.22471864 0.18365923 0.08885066]\n"
     ]
    }
   ],
   "source": [
    "def softmax(z):\n",
    "    return np.exp(z) / np.sum(np.exp(z))\n",
    "\n",
    "def softmax_derivative(z):\n",
    "    return softmax(z) * (1 - softmax(z))\n",
    "\n",
    "z = np.array([2.0, 1.0, 0.1])\n",
    "print(\"Softmax:\", softmax(z))\n",
    "print(\"Gradient của Softmax:\", softmax_derivative(z))\n"
   ]
  },
  {
   "cell_type": "markdown",
   "metadata": {},
   "source": [
    "#### Bài 5"
   ]
  },
  {
   "cell_type": "code",
   "execution_count": 6,
   "metadata": {},
   "outputs": [
    {
     "name": "stdout",
     "output_type": "stream",
     "text": [
      "Tanh : [-0.96402758 -0.76159416  0.          0.76159416  0.96402758]\n",
      "Tanh derivative: [0.07065082 0.41997434 1.         0.41997434 0.07065082]\n"
     ]
    }
   ],
   "source": [
    "def tanh(x):\n",
    "    return (np.exp(x) - np.exp(-x)) / (np.exp(x) + np.exp(-x))\n",
    "\n",
    "def tanh_derivative(x):\n",
    "    return 1 - tanh(x)**2\n",
    "\n",
    "x = np.array([-2, -1, 0, 1, 2])\n",
    "print(\"Tanh :\", tanh(x))\n",
    "print(\"Tanh derivative:\", tanh_derivative(x))\n"
   ]
  }
 ],
 "metadata": {
  "kernelspec": {
   "display_name": "base",
   "language": "python",
   "name": "python3"
  },
  "language_info": {
   "codemirror_mode": {
    "name": "ipython",
    "version": 3
   },
   "file_extension": ".py",
   "mimetype": "text/x-python",
   "name": "python",
   "nbconvert_exporter": "python",
   "pygments_lexer": "ipython3",
   "version": "3.12.3"
  }
 },
 "nbformat": 4,
 "nbformat_minor": 2
}
