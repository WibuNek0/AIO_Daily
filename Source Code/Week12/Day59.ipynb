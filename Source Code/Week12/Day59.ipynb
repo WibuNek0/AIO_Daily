{
 "cells": [
  {
   "cell_type": "code",
   "execution_count": null,
   "metadata": {},
   "outputs": [],
   "source": [
    "import streamlit as st\n",
    "import pandas as pd\n",
    "\n",
    "st.title(\"Phân tích dữ liệu từ file CSV\")\n",
    "\n",
    "uploaded_file = st.file_uploader(\"Chọn file CSV\", type=[\"csv\"])\n",
    "if uploaded_file is not None:\n",
    "    df = pd.read_csv(uploaded_file)\n",
    "    st.subheader(\"Dữ liệu ban đầu\")\n",
    "    st.dataframe(df.head())\n",
    "    st.write(\"Số dòng:\", df.shape[0])\n",
    "    st.write(\"Số cột:\", df.shape[1])"
   ]
  },
  {
   "cell_type": "code",
   "execution_count": null,
   "metadata": {},
   "outputs": [],
   "source": [
    "if uploaded_file is not None :\n",
    "    st.subheader(\"Thông tin mô tả dữ liệu\")\n",
    "    st.write(\"Các thống kê cơ bản:\")\n",
    "    st.dataframe(df.describe())\n",
    "    st.write(\"Kiểu dữ liệu:\")\n",
    "    st.write(df.dtypes)\n",
    "    st.write(\"Số giá trị thiếu:\")\n",
    "    st.write(df.isnull().sum())"
   ]
  },
  {
   "cell_type": "code",
   "execution_count": null,
   "metadata": {},
   "outputs": [],
   "source": [
    "import streamlit.components.v1 as components\n",
    "import pygwalker as pyg\n",
    "\n",
    "if uploaded_file is not None :\n",
    "    st.subheader(\"Phân tích dữ liệu tương tác với PygWalker\")\n",
    "    pyg_html = pyg.walk(df, return_html=True)\n",
    "    components.html(pyg_html, height=1000, scrolling=True)"
   ]
  }
 ],
 "metadata": {
  "kernelspec": {
   "display_name": "base",
   "language": "python",
   "name": "python3"
  },
  "language_info": {
   "name": "python",
   "version": "3.10.16"
  }
 },
 "nbformat": 4,
 "nbformat_minor": 2
}
