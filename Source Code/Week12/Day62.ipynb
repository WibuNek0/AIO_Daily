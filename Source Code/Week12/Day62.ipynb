{
 "cells": [
  {
   "cell_type": "code",
   "execution_count": null,
   "metadata": {},
   "outputs": [],
   "source": [
    "import librosa\n",
    "\n",
    "filename = librosa.example('nutcracker')\n",
    "# Load the audio as a waveform 'y'\n",
    "# Store the sampling rate as 'sr'\n",
    "audio, sr = librosa.load(filename)\n",
    "\n",
    "import numpy as np\n",
    "import matplotlib.pyplot as plt\n",
    "time = np.linspace(0, audio.shape[0] / sr, num=audio.shape[0])\n",
    "plt.plot(time, audio, color=\"blue\")\n",
    "plt.xlabel(\"Time (s)\")\n",
    "plt.ylabel(\"Amplitude (quantized)\")\n",
    "plt.title(\"Wav file visualization\")\n",
    "plt.axhline(y=0, color=\"r\", linestyle=\"-\")\n",
    "plt.show()\n"
   ]
  },
  {
   "cell_type": "code",
   "execution_count": null,
   "metadata": {},
   "outputs": [],
   "source": [
    "import speech_recognition as sr\n",
    "\n",
    "r = sr.Recognizer()\n",
    "audio_filename = 'data.wav'\n",
    "\n",
    "my_audio = sr.AudioFile(audio_filename)\n",
    "with my_audio as source:\n",
    "    audio = r.record(source)\n",
    "\n",
    "print(type(audio))\n",
    "your_speech = r.recognize_google(audio, language=\"vi-VN\")\n",
    "print(\"Audio transcription: \", your_speech)"
   ]
  },
  {
   "cell_type": "code",
   "execution_count": null,
   "metadata": {},
   "outputs": [],
   "source": [
    "from gtts import gTTS\n",
    "import librosa\n",
    "import numpy as np\n",
    "\n",
    "lang = 'vi'\n",
    "output_filename = 'record.mp3'\n",
    "content = \"xin chào mọi người\"\n",
    "output = gTTS(content, lang=lang, slow=False) # text to speech\n",
    "output.save(output_filename) # save google audio to a file\n",
    "data, sr = librosa.load(output_filename) # load google audio using librosa library\n",
    "\n",
    "import IPython\n",
    "IPython.display.display(IPython.display.Audio(np.transpose(data), rate=sr)) # display audio"
   ]
  },
  {
   "cell_type": "code",
   "execution_count": null,
   "metadata": {},
   "outputs": [],
   "source": [
    "test_case_1 = Một file âm thanh tự do.\n",
    "test_case_2 = \"Tôi yêu AIO\"\n",
    "# Your code here\n"
   ]
  }
 ],
 "metadata": {
  "kernelspec": {
   "display_name": "base",
   "language": "python",
   "name": "python3"
  },
  "language_info": {
   "name": "python",
   "version": "3.10.16"
  }
 },
 "nbformat": 4,
 "nbformat_minor": 2
}
