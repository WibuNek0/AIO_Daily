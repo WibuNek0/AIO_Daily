{
 "cells": [
  {
   "cell_type": "code",
   "execution_count": null,
   "metadata": {},
   "outputs": [],
   "source": [
    "import pandas as pd\n",
    "\n",
    "df = pd.read_csv(\"data/advertising.csv\")\n",
    "X = df[[\"TV\", \"Radio\", \"Newspaper\"]].values\n",
    "y = df[\"Sales\"].values.reshape(-1, 1)\n",
    "\n",
    "X = (X - X.mean(axis=0)) / X.std(axis=0)"
   ]
  },
  {
   "cell_type": "code",
   "execution_count": null,
   "metadata": {},
   "outputs": [],
   "source": [
    "import numpy as np\n",
    "\n",
    "def train_linear_regression(X, y, lr=0.01, epochs=100):\n",
    "    # Your code here #"
   ]
  },
  {
   "cell_type": "code",
   "execution_count": null,
   "metadata": {},
   "outputs": [],
   "source": [
    "import streamlit as st\n",
    "import matplotlib.pyplot as plt\n",
    "\n",
    "st.title(\"Huấn luyện Linear Regression với Numpy\")\n",
    "\n",
    "lr = st.slider(\"Learning rate\", 0.001, 0.1, 0.01)\n",
    "epochs = st.slider(\"Số epoch\", 10, 1000, 200)\n",
    "\n",
    "if st.button(\"Train model\"):\n",
    "    w, b, loss_history = train_linear_regression(X, y, lr, epochs)\n",
    "\n",
    "    st.subheader(\"Loss theo epoch\")\n",
    "    fig, ax = plt.subplots()\n",
    "    ax.plot(loss_history)\n",
    "    ax.set_xlabel(\"Epoch\")\n",
    "    ax.set_ylabel(\"MSE Loss\")\n",
    "    st.pyplot(fig)\n",
    "\n",
    "    st.write(\"Trọng số cuối cùng (w):\", w.flatten())\n",
    "    st.write(\"Bias (b):\", b)\n"
   ]
  }
 ],
 "metadata": {
  "kernelspec": {
   "display_name": "base",
   "language": "python",
   "name": "python3"
  },
  "language_info": {
   "name": "python",
   "version": "3.10.16"
  }
 },
 "nbformat": 4,
 "nbformat_minor": 2
}
