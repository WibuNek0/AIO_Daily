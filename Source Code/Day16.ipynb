{
 "cells": [
  {
   "cell_type": "markdown",
   "metadata": {},
   "source": [
    "#### Bài 1"
   ]
  },
  {
   "cell_type": "code",
   "execution_count": 13,
   "metadata": {},
   "outputs": [
    {
     "name": "stdout",
     "output_type": "stream",
     "text": [
      "[[0.33432857 0.2207897  0.27598961]\n",
      " [0.2207897  0.19580158 0.19452994]\n",
      " [0.27598961 0.19452994 0.32603015]]\n"
     ]
    }
   ],
   "source": [
    "import numpy as np\n",
    "\n",
    "def compute_gram_matrix(feature_map: np.ndarray) -> np.ndarray:\n",
    "    C, H, W = feature_map.shape\n",
    "\n",
    "    F = feature_map.reshape(C, H*W)\n",
    "\n",
    "    G = np.dot(F, F.T)\n",
    "\n",
    "    G = G.astype(float)\n",
    "    G /= (H*W)\n",
    "\n",
    "    return G\n",
    "\n",
    "np.random.seed(42)\n",
    "feature_map = np.random.rand(3, 4, 4)\n",
    "\n",
    "# Tính Gram Matrix\n",
    "gram_matrix = compute_gram_matrix(feature_map)\n",
    "print(gram_matrix)"
   ]
  },
  {
   "cell_type": "code",
   "execution_count": 14,
   "metadata": {},
   "outputs": [
    {
     "name": "stdout",
     "output_type": "stream",
     "text": [
      "[[  7.5  17.5  27.5]\n",
      " [ 17.5  43.5  69.5]\n",
      " [ 27.5  69.5 111.5]]\n"
     ]
    }
   ],
   "source": [
    "feature_map = np.array([\n",
    "    [[1, 2], [3, 4]], \n",
    "    [[5, 6], [7, 8]], \n",
    "    [[9, 10], [11, 12]] \n",
    "])\n",
    "\n",
    "gram_matrix = compute_gram_matrix(feature_map)\n",
    "print(gram_matrix)"
   ]
  },
  {
   "cell_type": "markdown",
   "metadata": {},
   "source": [
    "#### Bài 2"
   ]
  },
  {
   "cell_type": "code",
   "execution_count": null,
   "metadata": {},
   "outputs": [
    {
     "name": "stdout",
     "output_type": "stream",
     "text": [
      " Similarity Score : 0.6741245785155123\n"
     ]
    }
   ],
   "source": [
    "def compute_similarity(gram1: np.ndarray, gram2:np.ndarray) -> float:\n",
    "    \"\"\"\n",
    "    Tính độ tương đồng giữa hai Gram Matrix.\n",
    "\n",
    "    Args:\n",
    "    gram1(np.ndarray): Gram Matrix ảnh 1.\n",
    "    gram2(np.ndarray): Gram Matrix ảnh 2.\n",
    "\n",
    "    Returns:\n",
    "    float: Độ tương đồng trong kho ảnh [0, 1].\n",
    "    \"\"\"\n",
    "    # Your code here #\n",
    "    up = np.sum(gram1*gram2)\n",
    "    down = (np.sqrt(np.sum(gram1**2)))*(np.sqrt(np.sum(gram2**2)))\n",
    "\n",
    "    similarity = up/down\n",
    "    return similarity\n",
    "\n",
    "# Feature Map của hai ảnh\n",
    "feature_map1 = np.array ([\n",
    "[[1, 2], [3, 4]],\n",
    "[[5, 6], [7, 8]],\n",
    "[[9, 10], [11, 12]]\n",
    "])\n",
    "\n",
    "feature_map2 = np.array ([\n",
    "[[2, 4], [6, 8]],\n",
    "[[1, 3], [5, 7]],\n",
    "[[0, 2], [4, 6]]\n",
    "])\n",
    "\n",
    "# Tính Gram Matrix của hai ảnh\n",
    "gram1 = compute_gram_matrix(feature_map1)\n",
    "gram2 = compute_gram_matrix(feature_map2)\n",
    "\n",
    "# Tính độ tương đồng\n",
    "similarity = compute_similarity(gram1, gram2)\n",
    "print(\" Similarity Score :\", similarity)"
   ]
  }
 ],
 "metadata": {
  "kernelspec": {
   "display_name": "base",
   "language": "python",
   "name": "python3"
  },
  "language_info": {
   "codemirror_mode": {
    "name": "ipython",
    "version": 3
   },
   "file_extension": ".py",
   "mimetype": "text/x-python",
   "name": "python",
   "nbconvert_exporter": "python",
   "pygments_lexer": "ipython3",
   "version": "3.12.3"
  }
 },
 "nbformat": 4,
 "nbformat_minor": 2
}
