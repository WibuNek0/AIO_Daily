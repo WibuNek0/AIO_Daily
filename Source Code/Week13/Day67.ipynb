{
 "cells": [
  {
   "cell_type": "code",
   "execution_count": null,
   "metadata": {},
   "outputs": [],
   "source": [
    "from ultralytics import YOLO\n",
    "\n",
    "model = YOLO('yolov11.pt') # hoặc dùng phi ên bản custom"
   ]
  },
  {
   "cell_type": "code",
   "execution_count": null,
   "metadata": {},
   "outputs": [],
   "source": [
    "results = model.predict('input_image.jpg', conf=0.5)\n",
    "\n",
    "# Hiển thị ảnh kết quả\n",
    "results[0].show()"
   ]
  },
  {
   "cell_type": "code",
   "execution_count": null,
   "metadata": {},
   "outputs": [],
   "source": [
    "results = model.predict(source='input_video.mp4', stream=True)\n",
    "\n",
    "for result in results:\n",
    "    frame = result.plot()\n",
    "    # Hiển thị từng khung hình hoặc lưu lại"
   ]
  }
 ],
 "metadata": {
  "kernelspec": {
   "display_name": "base",
   "language": "python",
   "name": "python3"
  },
  "language_info": {
   "name": "python",
   "version": "3.10.16"
  }
 },
 "nbformat": 4,
 "nbformat_minor": 2
}
