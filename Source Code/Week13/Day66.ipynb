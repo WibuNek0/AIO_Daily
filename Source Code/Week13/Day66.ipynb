{
 "cells": [
  {
   "cell_type": "markdown",
   "metadata": {},
   "source": [
    "### Lý thuyết"
   ]
  },
  {
   "cell_type": "markdown",
   "metadata": {},
   "source": [
    "####  1) Tạo ma trận từ một danh sách"
   ]
  },
  {
   "cell_type": "code",
   "execution_count": null,
   "metadata": {},
   "outputs": [],
   "source": [
    "import numpy as np\n",
    "\n",
    "# Tạo một ma trận với kích thước 2x3\n",
    "matrix = np.array([[1, 2, 3],\n",
    "                   [4, 5, 6]])"
   ]
  },
  {
   "cell_type": "markdown",
   "metadata": {},
   "source": [
    "#### 2)  Phép cộng ma trận"
   ]
  },
  {
   "cell_type": "code",
   "execution_count": null,
   "metadata": {},
   "outputs": [],
   "source": [
    "import numpy as np\n",
    "\n",
    "# Tạo hai ma trận A và B\n",
    "A = np.array([[1, 2],\n",
    "              [3, 4]])\n",
    "\n",
    "B = np.array([[5, 6],\n",
    "              [7, 8]])\n",
    "\n",
    "# Thực hiện cộng ma trận\n",
    "C = A + B\n",
    "print(\"A + B:\\n\", C)"
   ]
  },
  {
   "cell_type": "markdown",
   "metadata": {},
   "source": [
    "#### 3) Hàm np.stack()\n"
   ]
  },
  {
   "cell_type": "code",
   "execution_count": null,
   "metadata": {},
   "outputs": [],
   "source": [
    "import numpy as np\n",
    "\n",
    "# Tạo 2 array 1D\n",
    "arr1 = np.array([1, 2, 3])\n",
    "arr2 = np.array([4, 5, 6])\n",
    "\n",
    "# Stack các array theo một trục\n",
    "stacked_arr = np.stack((arr1, arr2))\n",
    "print(\"Array sau khi stack :\\n\", stacked_arr)"
   ]
  },
  {
   "cell_type": "markdown",
   "metadata": {},
   "source": [
    "#### 4) Hàm np.sum()"
   ]
  },
  {
   "cell_type": "code",
   "execution_count": null,
   "metadata": {},
   "outputs": [],
   "source": [
    "import numpy as np\n",
    "\n",
    "# Tạo một array 2D\n",
    "arr = np.array([[1, 2, 3],\n",
    "                [4, 5, 6],\n",
    "                [7, 8, 9]])\n",
    "\n",
    "# Tính tổng theo từng dòng ( axis =1)\n",
    "row_sum = np.sum(arr, axis=1)\n",
    "print(\"Tổng theo dòng:\", row_sum)\n",
    "\n",
    "# Tính tổng theo từng cột ( axis =0)\n",
    "column_sum = np.sum(arr, axis=0)\n",
    "print(\"Tổng theo cột:\", column_sum)"
   ]
  },
  {
   "cell_type": "markdown",
   "metadata": {},
   "source": [
    "#### 5) Hàm np.where()\n"
   ]
  },
  {
   "cell_type": "code",
   "execution_count": null,
   "metadata": {},
   "outputs": [],
   "source": [
    "import numpy as np\n",
    "\n",
    "# Tạo một array 2D\n",
    "arr = np.array([[1, 2, 3],\n",
    "                [4, 5, 6],\n",
    "                [7, 8, 9]])\n",
    "\n",
    "# Sử dụng hàm where để tạo ra array mới có giá trị các phần tử lớn hơn 5 được thay thế bằng 0, các phần tử còn lại thì giữ nguyên.\n",
    "new_arr = np.where(arr > 5, 0, arr)\n",
    "\n",
    "# In ra array mới\n",
    "print(new_arr)\n"
   ]
  },
  {
   "cell_type": "markdown",
   "metadata": {},
   "source": [
    "### Experiments"
   ]
  },
  {
   "cell_type": "code",
   "execution_count": null,
   "metadata": {},
   "outputs": [],
   "source": [
    "import numpy as np\n",
    "import matplotlib.pyplot as plt\n",
    "import cv2"
   ]
  },
  {
   "cell_type": "code",
   "execution_count": null,
   "metadata": {},
   "outputs": [],
   "source": [
    "def computeDifference(bg_img, input_img):\n",
    "    # Tính toán giá trị khác biệt tuy ệt đối giữa hai hình ảnh\n",
    "    difference_three_channel = np.abs(bg_img - input_img)\n",
    "\n",
    "    # Chuy ển đổi sự khác biệt 3 kênh sang một kênh bằng cách tính trung bình.\n",
    "    # Điều này giúp giảm dữ liệu khác biệt xuống một giá trị cường độ đơn lẻ.\n",
    "    difference_single_channel = np.sum(difference_three_channel, axis=2) / 3.0\n",
    "\n",
    "    # Chuy ển đổi trở lại sang uint8 để phù hợp với xử lý ảnh.\n",
    "    difference_single_channel = difference_single_channel.astype('uint8')\n",
    "\n",
    "    return difference_single_channel"
   ]
  },
  {
   "cell_type": "code",
   "execution_count": null,
   "metadata": {},
   "outputs": [],
   "source": [
    "def computeBinaryMask(difference_single_channel, threshold = 15):\n",
    "    # Áp dụng ngưỡng ( threshold ) để tạo mask nhị phân\n",
    "    # Các điểm ảnh có sự chênh lệch màu sắc lớn hơn hoặc bằng 15 được đặt là 255(trắng), còn lại là 0 (đen).\n",
    "    difference_binary = np.where(difference_single_channel >= threshold, 255, 0)\n",
    "\n",
    "    # Ghép nối mask nhị phân thành 3 kênh để phù hợp với định dạng RGB.\n",
    "    binary_binary = np.stack((difference_binary,) * 3, axis=-1)\n",
    "\n",
    "    return binary_binary"
   ]
  },
  {
   "cell_type": "code",
   "execution_count": null,
   "metadata": {},
   "outputs": [],
   "source": [
    "def replaceBackGround(bg_image1, bg_image2, ob_image):\n",
    "    # Tính toán sự khác biệt giữa hình ảnh đối tượng và hình nền thứ nhất\n",
    "    difference_single_channel = computeDifference(bg_image1, ob_image)\n",
    "\n",
    "    # Tính toán mask nhị phân dựa trên sự khác biêt\n",
    "    binary_mask = computeBinaryMask(difference_single_channel)\n",
    "\n",
    "    # Thay thế hình nền:\n",
    "    # ở vị trí mà mask là trắng (255) : thay thế bằng hình nền thứ hai.\n",
    "    # ở vị trí mà mask là đen (0): giữ hình ảnh đối tượng.\n",
    "    output = np.where(binary_mask == 255, ob_image, bg_image2)\n",
    "\n",
    "    return output"
   ]
  },
  {
   "cell_type": "code",
   "execution_count": null,
   "metadata": {},
   "outputs": [],
   "source": [
    "bg_image1 = cv2.imread('background1.png')\n",
    "bg_image2 = cv2.imread('background2.png')\n",
    "ob_image = cv2.imread('object.png')"
   ]
  },
  {
   "cell_type": "code",
   "execution_count": null,
   "metadata": {},
   "outputs": [],
   "source": [
    "# Resize kích thuớc ảnh đầu vào\n",
    "bg_image1 = cv2.resize(bg_image1, (640, 480))\n",
    "bg_image2 = cv2.resize(bg_image2, (640, 480))\n",
    "ob_image = cv2.resize(ob_image, (640, 480))\n",
    "\n",
    "# Chuy ển đổi ảnh màu từ hệ BRG sang hệ RGB\n",
    "bg_image1 = cv2.cvtColor(bg_image1, cv2.COLOR_BGR2RGB)\n",
    "bg_image2 = cv2.cvtColor(bg_image2, cv2.COLOR_BGR2RGB)\n",
    "ob_image = cv2.cvtColor(ob_image, cv2.COLOR_BGR2RGB)"
   ]
  },
  {
   "cell_type": "code",
   "execution_count": null,
   "metadata": {},
   "outputs": [],
   "source": [
    "# Tiến hành background subtraction\n",
    "output_image = replaceBackGround(bg_image1, bg_image2, ob_image)\n",
    "\n",
    "# Hiển thị kết quả\n",
    "plt.imshow(output_image)"
   ]
  },
  {
   "cell_type": "markdown",
   "metadata": {},
   "source": [
    "### Bài tập"
   ]
  },
  {
   "cell_type": "markdown",
   "metadata": {},
   "source": [
    "#### Bài 1"
   ]
  },
  {
   "cell_type": "code",
   "execution_count": null,
   "metadata": {},
   "outputs": [],
   "source": [
    "import numpy as np\n",
    "\n",
    "# Tạo hai array 1D\n",
    "arr1 = np.array([2, 3, 4])\n",
    "arr2 = np.array([5, 5, 7])\n",
    "\n",
    "# Stack các array\n",
    "stacked_arr = np.stack((arr1, arr2), axis=1)\n",
    "\n",
    "print(\"Array đã stack :\\n\", stacked_arr)"
   ]
  },
  {
   "cell_type": "markdown",
   "metadata": {},
   "source": [
    "#### Bài 2"
   ]
  },
  {
   "cell_type": "code",
   "execution_count": null,
   "metadata": {},
   "outputs": [],
   "source": [
    "import numpy as np\n",
    "\n",
    "# Tạo 2 ma trận\n",
    "matrix1 = np.array([[1, 2], [3, 4]])\n",
    "matrix2 = np.array([[5, 6], [7, 8]])\n",
    "\n",
    "# In ra kết quả\n",
    "print(matrix1 + matrix2)"
   ]
  },
  {
   "cell_type": "markdown",
   "metadata": {},
   "source": [
    "#### Bài 3"
   ]
  },
  {
   "cell_type": "code",
   "execution_count": null,
   "metadata": {},
   "outputs": [],
   "source": [
    "import numpy as np\n",
    "\n",
    "# Tạo 2 ma trận\n",
    "matrix1 = [[1, 2], [3, 4]]\n",
    "matrix2 = [[5, 6], [7, 8]]\n",
    "\n",
    "# In ra kết quả\n",
    "print(matrix1 + matrix2)"
   ]
  },
  {
   "cell_type": "markdown",
   "metadata": {},
   "source": [
    "#### Bài 4"
   ]
  },
  {
   "cell_type": "code",
   "execution_count": null,
   "metadata": {},
   "outputs": [],
   "source": []
  },
  {
   "cell_type": "markdown",
   "metadata": {},
   "source": [
    "#### Bài 5"
   ]
  },
  {
   "cell_type": "code",
   "execution_count": null,
   "metadata": {},
   "outputs": [],
   "source": [
    "import numpy as np\n",
    "\n",
    "array = np.array([1, 2, 3, 4, 5, 6])\n",
    "result = np.where(array > 3, \"A\", \"B\")\n",
    "\n",
    "print(result)"
   ]
  },
  {
   "cell_type": "markdown",
   "metadata": {},
   "source": [
    "#### Bài 6"
   ]
  },
  {
   "cell_type": "code",
   "execution_count": null,
   "metadata": {},
   "outputs": [],
   "source": [
    "import cv2\n",
    "import numpy as np\n",
    "\n",
    "# Load các ảnh input\n",
    "bg_image1 = cv2.imread('background1.png', 0)\n",
    "ob_image = cv2.imread('object.png', 0)\n",
    "\n",
    "# Resize kích thước ảnh đầu vào về cùng kích thước\n",
    "bg_image1 = cv2.resize(bg_image1, (640, 480))\n",
    "ob_image = cv2.resize(ob_image, (640, 480))\n",
    "\n",
    "# Chuy ển đổi cân màu từ BRG sang RGB\n",
    "bg_image1 = cv2.cvtColor(bg_image1, cv2.COLOR_BGR2RGB)\n",
    "ob_image = cv2.cvtColor(ob_image, cv2.COLOR_BGR2RGB)\n",
    "\n",
    "difference_three_channel = # ############# Your code here ###############"
   ]
  },
  {
   "cell_type": "markdown",
   "metadata": {},
   "source": [
    "#### Bài 7"
   ]
  },
  {
   "cell_type": "code",
   "execution_count": null,
   "metadata": {},
   "outputs": [],
   "source": [
    "import cv2\n",
    "import matplotlib.pyplot as plt\n",
    "import numpy as np\n",
    "\n",
    "# Đọc hình ảnh\n",
    "img = cv2.imread(\"nature.jpg\")\n",
    "img = cv2.cvtColor(img, cv2.COLOR_BGR2RGB)\n",
    "\n",
    "# Điều chỉnh độ sáng hình ảnh\n",
    "new_img = # ############### Your code here #################\n",
    "new_img = np.clip(new_img, 0, 255)\n",
    "new_img = new_img.astype(np.uint8)\n",
    "\n",
    "# Hiển thị hình ảnh\n",
    "plt.figure(figsize=(10, 10))\n",
    "\n",
    "plt.subplot(121)\n",
    "plt.imshow(img)\n",
    "plt.title(\"Original Image\")\n",
    "\n",
    "plt.subplot(122)\n",
    "plt.imshow(new_img)\n",
    "plt.title(\"Brightness Image\")\n",
    "plt.show()"
   ]
  },
  {
   "cell_type": "markdown",
   "metadata": {},
   "source": [
    "#### Bài 8"
   ]
  },
  {
   "cell_type": "code",
   "execution_count": null,
   "metadata": {},
   "outputs": [],
   "source": [
    "import cv2\n",
    "import matplotlib.pyplot as plt\n",
    "import numpy as np\n",
    "\n",
    "# Đọc hình ảnh\n",
    "img = cv2.imread(\"nature.jpg\")\n",
    "img = cv2.cvtColor(img, cv2.COLOR_BGR2RGB)\n",
    "\n",
    "# Crop hình ảnh\n",
    "# ##### Your code here ##############\n",
    "\n",
    "# Hiển thị hình ảnh\n",
    "plt.figure(figsize=(10, 10))\n",
    "\n",
    "plt.subplot(121)\n",
    "plt.imshow(img)\n",
    "plt.title(\"Original Image\")\n",
    "\n",
    "plt.subplot(122)\n",
    "plt.imshow(crop_img)\n",
    "plt.title(\"Cropped Image\")\n",
    "plt.show()"
   ]
  }
 ],
 "metadata": {
  "kernelspec": {
   "display_name": "base",
   "language": "python",
   "name": "python3"
  },
  "language_info": {
   "name": "python",
   "version": "3.10.16"
  }
 },
 "nbformat": 4,
 "nbformat_minor": 2
}
