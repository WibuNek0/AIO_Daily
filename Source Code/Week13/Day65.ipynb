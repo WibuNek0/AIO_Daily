{
 "cells": [
  {
   "cell_type": "markdown",
   "metadata": {},
   "source": [
    "### Lý thuyết"
   ]
  },
  {
   "cell_type": "code",
   "execution_count": null,
   "metadata": {},
   "outputs": [],
   "source": [
    "# Load image\n",
    "img = cv2.imread('image.png')\n",
    "\n",
    "# Apply Gaussian Filter with kernel matrix 5x5 , sigma = 1\n",
    "img_filtered = cv2.GaussianBlur(img, (5, 5), 1)\n",
    "\n",
    "def gaussian_kernel ( size , sigma ) :\n",
    "    if size % 2 == 0:\n",
    "        size = size + 1\n",
    "\n",
    "    max_point = size // 2 # both directions (x,y) maximum cell start point\n",
    "    min_point = - max_point # both directions (x,y) minimum cell start point\n",
    "\n",
    "    K = np.zeros((size, size)) # kernel matrix\n",
    "    for x in range(min_point, max_point + 1):\n",
    "        for y in range(min_point, max_point + 1):\n",
    "            value = # Gaussian Filter Forumla Here #\n",
    "            K[x - min_point, y - min_point] = value\n",
    "\n",
    "    return K\n",
    "\n",
    "kernel = gaussian_kernel(5, 1.4)\n",
    "img = cv2.imread(\"image_path\", 0)\n",
    "img_gaussian = cv2.filter2D(img, -1, kernel)"
   ]
  }
 ],
 "metadata": {
  "kernelspec": {
   "display_name": "base",
   "language": "python",
   "name": "python3"
  },
  "language_info": {
   "name": "python",
   "version": "3.10.16"
  }
 },
 "nbformat": 4,
 "nbformat_minor": 2
}
