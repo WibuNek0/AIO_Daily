{
 "cells": [
  {
   "cell_type": "markdown",
   "metadata": {},
   "source": [
    "#### Bài 1"
   ]
  },
  {
   "cell_type": "code",
   "execution_count": null,
   "metadata": {},
   "outputs": [],
   "source": [
    "import numpy as np\n",
    "import matplotlib.pyplot as plt\n",
    "\n",
    "def f(x):\n",
    "# Your code here #\n",
    "\n",
    "def f_prime(x):\n",
    "# Your code here #\n",
    "\n",
    "# Gradient Descent\n",
    "def gradient_descent(f_prime, x_init, learning_rate = 0.01, epochs =100):\n",
    "    x = x_init\n",
    "    history = [x]\n",
    "\n",
    "    for _ in range (epochs):\n",
    "    # Your code here #\n",
    "\n",
    "    return x, history\n",
    "\n",
    "# Chạy Gradient Descent\n",
    "x_init = 0.5\n",
    "learning_rate = 0.01\n",
    "epochs = 100\n",
    "x_optimal, history = gradient_descent(f_prime, x_init, learning_rate, epochs)\n",
    "\n",
    "# Vẽ đồ thị\n",
    "x_vals = np.linspace(-1, 3, 100)\n",
    "y_vals = f(x_vals)\n",
    "\n",
    "plt.plot(x_vals, y_vals, label = \"f(x)\")\n",
    "plt.scatter(history, [f(x) for x in history], color = \"red\", s = 10, label = \"Iterations\")\n",
    "plt.scatter(x_optimal, f(x_optimal), color = \"green\", marker = \"x\", s =100, label = f\"Min at x= {x_optimal:.3f}\")\n",
    "plt.xlabel(\"x\")\n",
    "plt.ylabel(\"f(x)\")\n",
    "plt.legend()\n",
    "plt.grid()\n",
    "plt.show()"
   ]
  },
  {
   "cell_type": "markdown",
   "metadata": {},
   "source": [
    "#### Bài 2"
   ]
  },
  {
   "cell_type": "code",
   "execution_count": null,
   "metadata": {},
   "outputs": [],
   "source": [
    "import numpy as np\n",
    "import matplotlib.pyplot as plt\n",
    "\n",
    "X = np.array([1, 2, 3, 4, 5])\n",
    "y = np.array([2, 3, 4, 5, 6])\n",
    "\n",
    "w, b = 0.0, 0.0\n",
    "learning_rate = 0.01\n",
    "epochs = 1000\n",
    "\n",
    "for _ in range(epochs):\n",
    "# Your code here #\n",
    "\n",
    "# Vẽ đồ thị\n",
    "plt.scatter(X, y, label = \"Data\")\n",
    "plt.plot(X, y_pred, color = 'red', label = \"Regression Line\")\n",
    "plt.xlabel(\"X\")\n",
    "plt.ylabel(\"y\")\n",
    "plt.legend()\n",
    "plt.grid()\n",
    "plt.show()\n",
    "\n",
    "print(f\"Hệ số tối ưu: w = {w:.3f}, b = {b:.3f}\")\n"
   ]
  },
  {
   "cell_type": "markdown",
   "metadata": {},
   "source": [
    "#### Bài 3"
   ]
  },
  {
   "cell_type": "code",
   "execution_count": null,
   "metadata": {},
   "outputs": [],
   "source": [
    "def f_prime(x):\n",
    "# Your code here #\n",
    "\n",
    "def f_double_prime(x):\n",
    "# Your code here #\n",
    "\n",
    "x = 5\n",
    "for _ in range(10):\n",
    "# Your code here #\n",
    "\n",
    "print(f\"Cực tiểu tại x = {x:.3f}\")\n",
    "## Đáp số: Cực tiểu tại x = 3.633\n"
   ]
  }
 ],
 "metadata": {
  "kernelspec": {
   "display_name": "base",
   "language": "python",
   "name": "python3"
  },
  "language_info": {
   "name": "python",
   "version": "3.12.3"
  }
 },
 "nbformat": 4,
 "nbformat_minor": 2
}
