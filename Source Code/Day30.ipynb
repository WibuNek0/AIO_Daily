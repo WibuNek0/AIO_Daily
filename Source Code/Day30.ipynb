{
 "cells": [
  {
   "cell_type": "markdown",
   "metadata": {},
   "source": [
    "#### Bài 1"
   ]
  },
  {
   "cell_type": "code",
   "execution_count": null,
   "metadata": {},
   "outputs": [],
   "source": [
    "import numpy as np\n",
    "\n",
    "def sigmoid(x):\n",
    "# Your code here #\n",
    "\n",
    "def sigmoid_derivative(x):\n",
    "# Your code here #\n",
    "\n",
    "x = np.array([-2, -1, 0, 1, 2])\n",
    "print(\"Sigmoid:\", sigmoid(x))\n",
    "print(\"Sigmoid derivative:\", sigmoid_derivative(x))\n"
   ]
  },
  {
   "cell_type": "markdown",
   "metadata": {},
   "source": [
    "#### Bài 2"
   ]
  },
  {
   "cell_type": "code",
   "execution_count": null,
   "metadata": {},
   "outputs": [],
   "source": [
    "def mse_derivative(y_true, y_pred):\n",
    "# Your code here #\n",
    "\n",
    "y_true = np.array([3, 5, 2, 8])\n",
    "y_pred = np.array([2.5, 4.8, 2.1, 7.5])\n",
    "print(\"Gradient của MSE:\", mse_derivative(y_true, y_pred))"
   ]
  },
  {
   "cell_type": "markdown",
   "metadata": {},
   "source": [
    "#### Bài 3"
   ]
  },
  {
   "cell_type": "code",
   "execution_count": null,
   "metadata": {},
   "outputs": [],
   "source": [
    "def relu(x):\n",
    "# Your code here #\n",
    "\n",
    "def relu_derivative(x):\n",
    "# Your code here #\n",
    "\n",
    "x = np.array([-2, -1, 0, 1, 2])\n",
    "print(\"ReLU:\", relu(x))\n",
    "print(\"ReLU derivative:\", relu_derivative(x))"
   ]
  },
  {
   "cell_type": "markdown",
   "metadata": {},
   "source": [
    "#### Bài 4"
   ]
  },
  {
   "cell_type": "code",
   "execution_count": null,
   "metadata": {},
   "outputs": [],
   "source": [
    "def softmax(z):\n",
    "# Your code here #\n",
    "\n",
    "def softmax_derivative(z):\n",
    "# Your code here #\n",
    "\n",
    "z = np.array([2.0, 1.0, 0.1])\n",
    "print(\"Softmax:\", softmax(z))\n",
    "print(\"Gradient của Softmax:\", softmax_derivative(z))\n"
   ]
  },
  {
   "cell_type": "markdown",
   "metadata": {},
   "source": [
    "#### Bài 5"
   ]
  },
  {
   "cell_type": "code",
   "execution_count": null,
   "metadata": {},
   "outputs": [],
   "source": [
    "def tanh(x):\n",
    "# Your code here #\n",
    "\n",
    "def tanh_derivative(x):\n",
    "# Your code here #\n",
    "\n",
    "x = np.array([-2, -1, 0, 1, 2])\n",
    "print(\"Tanh :\", tanh(x))\n",
    "print(\"Tanh derivative:\", tanh_derivative(x))\n"
   ]
  }
 ],
 "metadata": {
  "kernelspec": {
   "display_name": "base",
   "language": "python",
   "name": "python3"
  },
  "language_info": {
   "name": "python",
   "version": "undefined.undefined.undefined"
  }
 },
 "nbformat": 4,
 "nbformat_minor": 2
}
