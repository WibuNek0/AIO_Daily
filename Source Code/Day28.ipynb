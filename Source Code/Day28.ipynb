{
 "cells": [
  {
   "cell_type": "code",
   "execution_count": null,
   "metadata": {},
   "outputs": [],
   "source": [
    "import numpy as np\n",
    "import matplotlib.pyplot as plt\n",
    "\n",
    "# Hàm tính đạo hàm bằng sai phân hữu hạn\n",
    "def numerical_derivative(f, x, h =1e -5):\n",
    "# Your code here #\n",
    "\n",
    "# Hàm vẽ đồ thị\n",
    "def plot_function_and_derivative (f, x_range = (-2, 2), title = \"Đồ thị f(x) và f'(x)\") :\n",
    "    x_vals = np.linspace(x_range[0], x_range[1], 400)\n",
    "    y_vals = f(x_vals)\n",
    "    y_derivative_vals = numerical_derivative(f, x_vals)\n",
    "\n",
    "    plt.figure(figsize = (8, 5))\n",
    "    plt.plot(x_vals, y_vals, label = \"f(x)\", color = 'blue')\n",
    "    plt.plot(x_vals, y_derivative_vals, label =\"f'(x)(numerical)\", color = 'red', linestyle = \"--\")\n",
    "    plt.axhline(0, color = 'black', linewidth = 0.5, linestyle = '--')\n",
    "    plt.axvline(0, color = 'black', linewidth = 0.5, linestyle = '--')\n",
    "    plt.xlabel(\"x\")\n",
    "    plt.ylabel(\"f(x) & f'(x)\")\n",
    "    plt.title(title)\n",
    "    plt.legend()\n",
    "    plt.grid()\n",
    "    plt.show()\n"
   ]
  }
 ],
 "metadata": {
  "kernelspec": {
   "display_name": "base",
   "language": "python",
   "name": "python3"
  },
  "language_info": {
   "name": "python",
   "version": "3.12.3"
  }
 },
 "nbformat": 4,
 "nbformat_minor": 2
}
