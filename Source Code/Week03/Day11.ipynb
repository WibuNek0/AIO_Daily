{
 "cells": [
  {
   "cell_type": "markdown",
   "metadata": {},
   "source": [
    "#### Bài 1"
   ]
  },
  {
   "cell_type": "code",
   "execution_count": 19,
   "metadata": {},
   "outputs": [],
   "source": [
    "mat_a = [[1, 2, 3], \n",
    "         [4, 5, 6],\n",
    "         [7, 8, 9]]\n",
    "\n",
    "kernal_b = [[2, 4],\n",
    "            [1, 3]]\n",
    "\n",
    "kernal_c = [[1, 1, 1], \n",
    "            [0, 0, 0], \n",
    "            [1, 1, 1]]"
   ]
  },
  {
   "cell_type": "code",
   "execution_count": 20,
   "metadata": {},
   "outputs": [],
   "source": [
    "def convolution(matrix, kernal): \n",
    "    kernal_h = len(kernal)\n",
    "    kernal_w = len(kernal[0])\n",
    "\n",
    "    mat_h = len(matrix)\n",
    "    mat_w = len(matrix[0])\n",
    "\n",
    "    result = []\n",
    "\n",
    "    for i in range(mat_h - kernal_h + 1):\n",
    "        row = []\n",
    "        for j in range(mat_w - kernal_w + 1):\n",
    "            sum_value = 0\n",
    "            for ki in range(kernal_h):\n",
    "                for kj in range(kernal_w):\n",
    "                    sum_value += matrix[i + ki][j + kj] * kernal[ki][kj]\n",
    "            row.append(sum_value)\n",
    "        result.append(row)\n",
    "    \n",
    "    return result"
   ]
  },
  {
   "cell_type": "code",
   "execution_count": 21,
   "metadata": {},
   "outputs": [
    {
     "name": "stdout",
     "output_type": "stream",
     "text": [
      "Câu 1: [[29, 39], [59, 69]]\n",
      "Câu 2: [[30]]\n"
     ]
    }
   ],
   "source": [
    "print(f\"Câu 1: {convolution(mat_a, kernal_b)}\")\n",
    "print(f\"Câu 2: {convolution(mat_a, kernal_c)}\")"
   ]
  },
  {
   "cell_type": "markdown",
   "metadata": {},
   "source": [
    "#### Bài 2"
   ]
  },
  {
   "cell_type": "code",
   "execution_count": 22,
   "metadata": {},
   "outputs": [],
   "source": [
    "mat_a = [[0, 0, 0], \n",
    "         [0, 4, 0], \n",
    "         [0, 1, 0]]\n",
    "\n",
    "kernal_b = [[1, 1], \n",
    "            [1, 1]]\n",
    "\n",
    "kernal_c = [[0, 1, 0], \n",
    "            [0, 1, 0], \n",
    "            [0, 1, 0]]"
   ]
  },
  {
   "cell_type": "code",
   "execution_count": 30,
   "metadata": {},
   "outputs": [],
   "source": [
    "def zero_padding(matrix):\n",
    "    padded_mat = []\n",
    "\n",
    "    padded_mat.append([0] * (len(matrix[0]) + 2))\n",
    "    for row in matrix:\n",
    "        padded_mat.append([0] + row + [0])\n",
    "    padded_mat.append([0] * (len(matrix[0]) + 2))\n",
    "\n",
    "    return padded_mat"
   ]
  },
  {
   "cell_type": "code",
   "execution_count": 31,
   "metadata": {},
   "outputs": [
    {
     "name": "stdout",
     "output_type": "stream",
     "text": [
      "Câu 1: [[0, 0, 0, 0], [0, 4, 4, 0], [0, 5, 5, 0], [0, 1, 1, 0]]\n",
      "Câu 2: [[0, 4, 0], [0, 5, 0], [0, 5, 0]]\n"
     ]
    }
   ],
   "source": [
    "padded_mat_a = zero_padding(mat_a)\n",
    "print(f\"Câu 1: {convolution(padded_mat_a, kernal_b)}\")\n",
    "print(f\"Câu 2: {convolution(padded_mat_a, kernal_c)}\")"
   ]
  },
  {
   "cell_type": "markdown",
   "metadata": {},
   "source": [
    "#### Bài 3"
   ]
  },
  {
   "cell_type": "code",
   "execution_count": 33,
   "metadata": {},
   "outputs": [],
   "source": [
    "mat_a = [[0, 0, 0, 4], \n",
    "         [0, 4, 0, 2], \n",
    "         [0, 1, 0, 2], \n",
    "         [0, 3, 0, 2]]"
   ]
  },
  {
   "cell_type": "code",
   "execution_count": 42,
   "metadata": {},
   "outputs": [],
   "source": [
    "def max_pooling(matrix, step): \n",
    "    result = []\n",
    "    for i in range(0, len(matrix), step):\n",
    "        row = []\n",
    "        for j in range(0, len(matrix[0]), step):\n",
    "            max_value = max(matrix[i][j], matrix[i][j+1], \n",
    "                            matrix[i+1][j], matrix[i+1][j+1])\n",
    "            row.append(max_value)\n",
    "        result.append(row)\n",
    "    return result"
   ]
  },
  {
   "cell_type": "code",
   "execution_count": 45,
   "metadata": {},
   "outputs": [],
   "source": [
    "def avg_pooling(matrix, step):\n",
    "    result = []\n",
    "    for i in range(0, len(matrix), step):\n",
    "        row = []\n",
    "        for j in range(0, len(matrix[0]), step):\n",
    "            values = (matrix[i][j], matrix[i][j+1], matrix[i+1][j], matrix[i+1][j+1])\n",
    "            avg_value = sum(values)/len(values)\n",
    "            row.append(avg_value)\n",
    "        result.append(row)\n",
    "    return result"
   ]
  },
  {
   "cell_type": "code",
   "execution_count": 46,
   "metadata": {},
   "outputs": [
    {
     "name": "stdout",
     "output_type": "stream",
     "text": [
      "Câu 1: [[4, 4], [3, 2]]\n",
      "Câu 2: [[1.0, 1.5], [1.0, 1.0]]\n"
     ]
    }
   ],
   "source": [
    "print(f\"Câu 1: {max_pooling(mat_a, 2)}\")\n",
    "print(f\"Câu 2: {avg_pooling(mat_a, 2)}\")"
   ]
  }
 ],
 "metadata": {
  "kernelspec": {
   "display_name": "Python 3",
   "language": "python",
   "name": "python3"
  },
  "language_info": {
   "codemirror_mode": {
    "name": "ipython",
    "version": 3
   },
   "file_extension": ".py",
   "mimetype": "text/x-python",
   "name": "python",
   "nbconvert_exporter": "python",
   "pygments_lexer": "ipython3",
   "version": "3.13.0"
  }
 },
 "nbformat": 4,
 "nbformat_minor": 2
}
