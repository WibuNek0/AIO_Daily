{
 "cells": [
  {
   "cell_type": "code",
   "execution_count": 3,
   "metadata": {},
   "outputs": [],
   "source": [
    "import pandas as pd\n",
    "import mysql.connector"
   ]
  },
  {
   "cell_type": "code",
   "execution_count": 14,
   "metadata": {},
   "outputs": [],
   "source": [
    "connection = mysql.connector.connect(\n",
    "    host= 'localhost',         \n",
    "    user= 'root',             \n",
    "    password= '123456', \n",
    "    database = 'day_47'     \n",
    ")\n",
    "cursor = connection.cursor()"
   ]
  },
  {
   "cell_type": "markdown",
   "metadata": {},
   "source": [
    "### Bài 1"
   ]
  },
  {
   "cell_type": "code",
   "execution_count": 5,
   "metadata": {},
   "outputs": [],
   "source": [
    "cursor.execute(\"\"\"\n",
    "CREATE TABLE Category (\n",
    "    CategoryID INTEGER PRIMARY KEY AUTO_INCREMENT,\n",
    "    Name VARCHAR(200) NOT NULL\n",
    ");\n",
    "\"\"\")"
   ]
  },
  {
   "cell_type": "code",
   "execution_count": 6,
   "metadata": {},
   "outputs": [],
   "source": [
    "cursor.execute(\"\"\"\n",
    "CREATE TABLE Product (\n",
    "    ProductID INTEGER PRIMARY KEY AUTO_INCREMENT,\n",
    "    Name VARCHAR(200) NOT NULL, \n",
    "    CategoryID INTEGER NOT NULL,\n",
    "    Price DECIMAL(10, 0) NOT NULL, \n",
    "    FOREIGN KEY (CategoryID) REFERENCES Category(CategoryID)\n",
    ");\n",
    "\"\"\")"
   ]
  },
  {
   "cell_type": "code",
   "execution_count": 7,
   "metadata": {},
   "outputs": [],
   "source": [
    "cursor.execute(\"\"\"\n",
    "CREATE TABLE Variant (\n",
    "    VariantID INTEGER PRIMARY KEY AUTO_INCREMENT,\n",
    "    ProductID INTEGER NOT NULL,\n",
    "    Color VARCHAR(20) NOT NULL, \n",
    "    Size VARCHAR(5) NOT NULL, \n",
    "    Stock INT NOT NULL,\n",
    "    FOREIGN KEY (ProductID) REFERENCES Product(ProductID)\n",
    ");\n",
    "\"\"\")"
   ]
  },
  {
   "cell_type": "code",
   "execution_count": 8,
   "metadata": {},
   "outputs": [],
   "source": [
    "cursor.execute(\"\"\"\n",
    "CREATE TABLE Customer (\n",
    "    CustomerID INTEGER PRIMARY KEY AUTO_INCREMENT,\n",
    "    Name TEXT NOT NULL,\n",
    "    Phone VARCHAR(15) UNIQUE, \n",
    "    Address TEXT NOT NULL, \n",
    "    CreatedDate DATE NOT NULL\n",
    ");\n",
    "\"\"\")"
   ]
  },
  {
   "cell_type": "code",
   "execution_count": null,
   "metadata": {},
   "outputs": [],
   "source": [
    "cursor.execute(\"\"\"\n",
    "CREATE TABLE Orders (\n",
    "    OrderID INTEGER PRIMARY KEY AUTO_INCREMENT,\n",
    "    CustomerID INTEGER NOT NULL,\n",
    "    OrderDate DATE NOT NULL,\n",
    "    Status ENUM('Đã đặt', 'Đã giao') NOT NULL,\n",
    "    FOREIGN KEY (CustomerID) REFERENCES Customer(CustomerID)\n",
    ");\n",
    "\"\"\")"
   ]
  },
  {
   "cell_type": "code",
   "execution_count": 13,
   "metadata": {},
   "outputs": [],
   "source": [
    "cursor.execute(\"\"\"\n",
    "CREATE TABLE OrderDetail (\n",
    "    OrderID INTEGER NOT NULL,\n",
    "    VariantID INTEGER NOT NULL,\n",
    "    Quantity INTEGER NOT NULL,\n",
    "    Price DECIMAL(10, 0) NOT NULL, \n",
    "    FOREIGN KEY (OrderID) REFERENCES Orders(OrderID),\n",
    "    FOREIGN KEY (VariantID) REFERENCES Variant(VariantID)\n",
    ");\n",
    "\"\"\")"
   ]
  },
  {
   "cell_type": "markdown",
   "metadata": {},
   "source": [
    "### Bài 2"
   ]
  },
  {
   "cell_type": "code",
   "execution_count": 14,
   "metadata": {},
   "outputs": [],
   "source": [
    "cursor.execute(\"\"\"\n",
    "INSERT INTO Category (CategoryID, Name) VALUES\n",
    "(1, 'Áo'),\n",
    "(2, 'Quần'),\n",
    "(3, 'Váy'),\n",
    "(4, 'Phụ kiện');\n",
    "\"\"\")\n",
    "\n",
    "connection.commit()"
   ]
  },
  {
   "cell_type": "code",
   "execution_count": 15,
   "metadata": {},
   "outputs": [],
   "source": [
    "cursor.execute(\"\"\"\n",
    "INSERT INTO Product (ProductID, Name, CategoryID, Price) VALUES\n",
    "(101, 'Áo sơ mi nam', 1, 300000),\n",
    "(102, 'Quần jeans', 2, 500000),\n",
    "(103, 'Váy xòe', 3, 450000);\n",
    "\"\"\")\n",
    "\n",
    "connection.commit()"
   ]
  },
  {
   "cell_type": "code",
   "execution_count": 17,
   "metadata": {},
   "outputs": [],
   "source": [
    "cursor.execute(\"\"\"\n",
    "INSERT INTO Variant (VariantID, ProductID, Color, Size, Stock) VALUES\n",
    "(1, 101, 'Trắng', 'M', 20),\n",
    "(2, 101, 'Trắng', 'L', 15),\n",
    "(3, 102, 'Xanh', 'M', 10),\n",
    "(4, 103, 'Đỏ', 'S', 5);\n",
    "\"\"\")\n",
    "\n",
    "connection.commit()"
   ]
  },
  {
   "cell_type": "code",
   "execution_count": 18,
   "metadata": {},
   "outputs": [],
   "source": [
    "cursor.execute(\"\"\"\n",
    "INSERT INTO Customer (CustomerID, Name, Phone, Address, CreatedDate) VALUES\n",
    "(1, 'Trần An', '0909123456', 'Hà Nội', '2024-01-10'),\n",
    "(2, 'Lê Bình', '0909223456', 'TP.HCM', '2024-02-05');\n",
    "\"\"\")\n",
    "\n",
    "connection.commit()"
   ]
  },
  {
   "cell_type": "code",
   "execution_count": 23,
   "metadata": {},
   "outputs": [],
   "source": [
    "cursor.execute(\"\"\"\n",
    "INSERT INTO Orders (OrderID, CustomerID, OrderDate, Status) VALUES\n",
    "(1, 1, '2024-03-01', 'Đã giao'),\n",
    "(2, 2, '2024-03-02', 'Đã đặt');\n",
    "\"\"\")\n",
    "\n",
    "connection.commit()"
   ]
  },
  {
   "cell_type": "code",
   "execution_count": 24,
   "metadata": {},
   "outputs": [],
   "source": [
    "cursor.execute(\"\"\"\n",
    "INSERT INTO OrderDetail (OrderID, VariantID, Quantity, Price) VALUES\n",
    "(1, 1, 2, 300000),\n",
    "(1, 3, 1, 500000),\n",
    "(2, 4, 1, 450000);\n",
    "\"\"\")\n",
    "\n",
    "connection.commit()"
   ]
  },
  {
   "cell_type": "markdown",
   "metadata": {},
   "source": [
    "### Bài 3"
   ]
  },
  {
   "cell_type": "code",
   "execution_count": 5,
   "metadata": {},
   "outputs": [
    {
     "name": "stdout",
     "output_type": "stream",
     "text": [
      "   OrderID     Name  Total_Price\n",
      "0        1  Trần An     800000.0\n",
      "1        2  Lê Bình     450000.0\n"
     ]
    },
    {
     "name": "stderr",
     "output_type": "stream",
     "text": [
      "C:\\Users\\Apollonir\\AppData\\Local\\Temp\\ipykernel_18140\\1212662664.py:10: UserWarning: pandas only supports SQLAlchemy connectable (engine/connection) or database string URI or sqlite3 DBAPI2 connection. Other DBAPI2 objects are not tested. Please consider using SQLAlchemy.\n",
      "  data_3 = pd.read_sql_query(query, connection)\n"
     ]
    }
   ],
   "source": [
    "query = (\"\"\"\n",
    "SELECT a.OrderID\n",
    "    , b.Name\n",
    "    , c.Total_Price\n",
    " FROM Orders a\n",
    "LEFT JOIN Customer b on a.CustomerID = b.CustomerID\n",
    "LEFT JOIN (SELECT OrderID, SUM(Price) Total_Price FROM OrderDetail GROUP BY OrderID) c on a.OrderID = c.OrderID;\n",
    "\"\"\")\n",
    "\n",
    "data_3 = pd.read_sql_query(query, connection)\n",
    "print(data_3)"
   ]
  },
  {
   "cell_type": "markdown",
   "metadata": {},
   "source": [
    "### Bài 4"
   ]
  },
  {
   "cell_type": "code",
   "execution_count": 16,
   "metadata": {},
   "outputs": [
    {
     "name": "stdout",
     "output_type": "stream",
     "text": [
      "   ProductID     Name  Total_Stock\n",
      "0        103  Váy xòe          5.0\n"
     ]
    },
    {
     "name": "stderr",
     "output_type": "stream",
     "text": [
      "C:\\Users\\Apollonir\\AppData\\Local\\Temp\\ipykernel_18140\\553456145.py:12: UserWarning: pandas only supports SQLAlchemy connectable (engine/connection) or database string URI or sqlite3 DBAPI2 connection. Other DBAPI2 objects are not tested. Please consider using SQLAlchemy.\n",
      "  data_4 = pd.read_sql_query(query, connection)\n"
     ]
    }
   ],
   "source": [
    "query = (\"\"\"\n",
    "SELECT a.ProductID\n",
    "    , a.Name\n",
    "    , b.Total_Stock\n",
    " FROM Product a\n",
    "RIGHT JOIN (SELECT ProductID, Total_Stock FROM (SELECT ProductID\n",
    "         , SUM(Stock) Total_Stock \n",
    "         FROM Variant \n",
    "         GROUP BY ProductID) a WHERE Total_Stock < 10) b on a.ProductID = b.ProductID;\n",
    "\"\"\")\n",
    "\n",
    "data_4 = pd.read_sql_query(query, connection)\n",
    "print(data_4)"
   ]
  },
  {
   "cell_type": "markdown",
   "metadata": {},
   "source": [
    "### Bài 5"
   ]
  },
  {
   "cell_type": "code",
   "execution_count": 17,
   "metadata": {},
   "outputs": [
    {
     "name": "stdout",
     "output_type": "stream",
     "text": [
      "    OrderDate     Name  Total_Price\n",
      "0  2024-03-01  Trần An     800000.0\n",
      "1  2024-03-02  Lê Bình     450000.0\n"
     ]
    },
    {
     "name": "stderr",
     "output_type": "stream",
     "text": [
      "C:\\Users\\Apollonir\\AppData\\Local\\Temp\\ipykernel_18140\\2845795595.py:10: UserWarning: pandas only supports SQLAlchemy connectable (engine/connection) or database string URI or sqlite3 DBAPI2 connection. Other DBAPI2 objects are not tested. Please consider using SQLAlchemy.\n",
      "  data_5 = pd.read_sql_query(query, connection)\n"
     ]
    }
   ],
   "source": [
    "query = (\"\"\"\n",
    "SELECT a.OrderDate\n",
    "    , b.Name\n",
    "    , c.Total_Price\n",
    " FROM Orders a\n",
    "LEFT JOIN Customer b on a.CustomerID = b.CustomerID\n",
    "LEFT JOIN (SELECT OrderID, SUM(Price) Total_Price FROM OrderDetail GROUP BY OrderID) c on a.OrderID = c.OrderID;\n",
    "\"\"\")\n",
    "\n",
    "data_5 = pd.read_sql_query(query, connection)\n",
    "print(data_5)"
   ]
  },
  {
   "cell_type": "markdown",
   "metadata": {},
   "source": [
    "### Bài 6"
   ]
  },
  {
   "cell_type": "code",
   "execution_count": 18,
   "metadata": {},
   "outputs": [
    {
     "name": "stdout",
     "output_type": "stream",
     "text": [
      "   CustomerID     Name\n",
      "0           1  Trần An\n",
      "1           2  Lê Bình\n"
     ]
    },
    {
     "name": "stderr",
     "output_type": "stream",
     "text": [
      "C:\\Users\\Apollonir\\AppData\\Local\\Temp\\ipykernel_18140\\2398750012.py:9: UserWarning: pandas only supports SQLAlchemy connectable (engine/connection) or database string URI or sqlite3 DBAPI2 connection. Other DBAPI2 objects are not tested. Please consider using SQLAlchemy.\n",
      "  data_6 = pd.read_sql_query(query, connection)\n"
     ]
    }
   ],
   "source": [
    "query = (\"\"\"\n",
    "SELECT a.CustomerID\n",
    "    , a.Name\n",
    " FROM Customer a\n",
    "WHERE 1 = 1 \n",
    "AND a.CustomerID IN (SELECT CustomerID FROM Orders);\n",
    "\"\"\")\n",
    "\n",
    "data_6 = pd.read_sql_query(query, connection)\n",
    "print(data_6)"
   ]
  },
  {
   "cell_type": "markdown",
   "metadata": {},
   "source": [
    "### Bài 7"
   ]
  },
  {
   "cell_type": "code",
   "execution_count": 22,
   "metadata": {},
   "outputs": [
    {
     "name": "stdout",
     "output_type": "stream",
     "text": [
      "   OrderID  Total_Quantity\n",
      "0        1             3.0\n"
     ]
    },
    {
     "name": "stderr",
     "output_type": "stream",
     "text": [
      "C:\\Users\\Apollonir\\AppData\\Local\\Temp\\ipykernel_18140\\838066937.py:10: UserWarning: pandas only supports SQLAlchemy connectable (engine/connection) or database string URI or sqlite3 DBAPI2 connection. Other DBAPI2 objects are not tested. Please consider using SQLAlchemy.\n",
      "  data_7 = pd.read_sql_query(query, connection)\n"
     ]
    }
   ],
   "source": [
    "query = (\"\"\"\n",
    "SELECT OrderID\n",
    "    , SUM(Quantity) Total_Quantity\n",
    " FROM OrderDetail\n",
    "GROUP BY OrderID \n",
    "ORDER BY Total_Quantity DESC\n",
    "LIMIT 1;\n",
    "\"\"\")\n",
    "\n",
    "data_7 = pd.read_sql_query(query, connection)\n",
    "print(data_7)"
   ]
  },
  {
   "cell_type": "markdown",
   "metadata": {},
   "source": [
    "### Bài 8"
   ]
  },
  {
   "cell_type": "code",
   "execution_count": 23,
   "metadata": {},
   "outputs": [
    {
     "name": "stdout",
     "output_type": "stream",
     "text": [
      "           Name  Color  Total_Price\n",
      "0  Áo sơ mi nam  Trắng     300000.0\n",
      "1    Quần jeans   Xanh     500000.0\n",
      "2       Váy xòe     Đỏ     450000.0\n"
     ]
    },
    {
     "name": "stderr",
     "output_type": "stream",
     "text": [
      "C:\\Users\\Apollonir\\AppData\\Local\\Temp\\ipykernel_18140\\2269107156.py:11: UserWarning: pandas only supports SQLAlchemy connectable (engine/connection) or database string URI or sqlite3 DBAPI2 connection. Other DBAPI2 objects are not tested. Please consider using SQLAlchemy.\n",
      "  data_8 = pd.read_sql_query(query, connection)\n"
     ]
    }
   ],
   "source": [
    "query = (\"\"\"\n",
    "SELECT c.Name\n",
    "    , b.Color\n",
    "    , SUM(a.Price) Total_Price\n",
    " FROM OrderDetail a\n",
    "LEFT JOIN Variant b on a.VariantID = b.VariantID\n",
    "LEFT JOIN Product c on b.ProductID = c.ProductID\n",
    "GROUP BY c.Name, b.Color;\n",
    "\"\"\")\n",
    "\n",
    "data_8 = pd.read_sql_query(query, connection)\n",
    "print(data_8)"
   ]
  },
  {
   "cell_type": "markdown",
   "metadata": {},
   "source": [
    "### Bài 9"
   ]
  },
  {
   "cell_type": "code",
   "execution_count": 27,
   "metadata": {},
   "outputs": [
    {
     "name": "stdout",
     "output_type": "stream",
     "text": [
      "           Name  Color Size  Total_Quantity  Total_Price\n",
      "0  Áo sơ mi nam  Trắng    M             2.0     300000.0\n",
      "1    Quần jeans   Xanh    M             1.0     500000.0\n",
      "2       Váy xòe     Đỏ    S             1.0     450000.0\n"
     ]
    },
    {
     "name": "stderr",
     "output_type": "stream",
     "text": [
      "C:\\Users\\Apollonir\\AppData\\Local\\Temp\\ipykernel_18140\\3704359340.py:13: UserWarning: pandas only supports SQLAlchemy connectable (engine/connection) or database string URI or sqlite3 DBAPI2 connection. Other DBAPI2 objects are not tested. Please consider using SQLAlchemy.\n",
      "  data_9 = pd.read_sql_query(query, connection)\n"
     ]
    }
   ],
   "source": [
    "query = (\"\"\"\n",
    "SELECT c.Name\n",
    "    , b.Color\n",
    "    , b.Size\n",
    "    , SUM(a.Quantity) Total_Quantity\n",
    "    , SUM(a.Price) Total_Price\n",
    " FROM OrderDetail a\n",
    "LEFT JOIN Variant b on a.VariantID = b.VariantID\n",
    "LEFT JOIN Product c on b.ProductID = c.ProductID\n",
    "GROUP BY c.Name, b.Color, b.Size;\n",
    "\"\"\")\n",
    "\n",
    "data_9 = pd.read_sql_query(query, connection)\n",
    "print(data_9)"
   ]
  },
  {
   "cell_type": "markdown",
   "metadata": {},
   "source": [
    "### Bài 10"
   ]
  },
  {
   "cell_type": "code",
   "execution_count": 28,
   "metadata": {},
   "outputs": [
    {
     "name": "stdout",
     "output_type": "stream",
     "text": [
      "Empty DataFrame\n",
      "Columns: [CustomerID, Name]\n",
      "Index: []\n"
     ]
    },
    {
     "name": "stderr",
     "output_type": "stream",
     "text": [
      "C:\\Users\\Apollonir\\AppData\\Local\\Temp\\ipykernel_18140\\729503367.py:9: UserWarning: pandas only supports SQLAlchemy connectable (engine/connection) or database string URI or sqlite3 DBAPI2 connection. Other DBAPI2 objects are not tested. Please consider using SQLAlchemy.\n",
      "  data_10 = pd.read_sql_query(query, connection)\n"
     ]
    }
   ],
   "source": [
    "query = (\"\"\"\n",
    "SELECT a.CustomerID\n",
    "    , a.Name\n",
    " FROM Customer a\n",
    "WHERE 1 = 1 \n",
    "AND a.CustomerID NOT IN (SELECT CustomerID FROM Orders);\n",
    "\"\"\")\n",
    "\n",
    "data_10 = pd.read_sql_query(query, connection)\n",
    "print(data_10)"
   ]
  },
  {
   "cell_type": "markdown",
   "metadata": {},
   "source": [
    "### Bài 11"
   ]
  },
  {
   "cell_type": "code",
   "execution_count": 33,
   "metadata": {},
   "outputs": [
    {
     "name": "stdout",
     "output_type": "stream",
     "text": [
      "Empty DataFrame\n",
      "Columns: [OrderMonth, Name, Phone, Address]\n",
      "Index: []\n"
     ]
    },
    {
     "name": "stderr",
     "output_type": "stream",
     "text": [
      "C:\\Users\\Apollonir\\AppData\\Local\\Temp\\ipykernel_18140\\2914171370.py:9: UserWarning: pandas only supports SQLAlchemy connectable (engine/connection) or database string URI or sqlite3 DBAPI2 connection. Other DBAPI2 objects are not tested. Please consider using SQLAlchemy.\n",
      "  data_10 = pd.read_sql_query(query, connection)\n"
     ]
    }
   ],
   "source": [
    "query = (\"\"\"\n",
    "SELECT MONTH(a.OrderDate) OrderMonth, b.Name, b.Phone, b.Address\n",
    "FROM Orders a \n",
    "LEFT JOIN Customer b on a.CustomerID = b.CustomerID\n",
    "WHERE a.CustomerID IN (SELECT CustomerID FROM Customer\n",
    "WHERE CustomerID NOT IN (SELECT CustomerID FROM Orders));\n",
    "\"\"\")\n",
    "\n",
    "data_11 = pd.read_sql_query(query, connection)\n",
    "print(data_11)"
   ]
  },
  {
   "cell_type": "markdown",
   "metadata": {},
   "source": [
    "### Bài 12"
   ]
  },
  {
   "cell_type": "code",
   "execution_count": 34,
   "metadata": {},
   "outputs": [
    {
     "name": "stdout",
     "output_type": "stream",
     "text": [
      "    Status  Total_Order\n",
      "0  Đã giao            1\n",
      "1   Đã đặt            1\n"
     ]
    },
    {
     "name": "stderr",
     "output_type": "stream",
     "text": [
      "C:\\Users\\Apollonir\\AppData\\Local\\Temp\\ipykernel_18140\\1077863239.py:7: UserWarning: pandas only supports SQLAlchemy connectable (engine/connection) or database string URI or sqlite3 DBAPI2 connection. Other DBAPI2 objects are not tested. Please consider using SQLAlchemy.\n",
      "  data_12 = pd.read_sql_query(query, connection)\n"
     ]
    }
   ],
   "source": [
    "query = (\"\"\"\n",
    "SELECT a.Status, COUNT(a.OrderID) Total_Order\n",
    "FROM Orders a \n",
    "GROUP BY a.Status;\n",
    "\"\"\")\n",
    "\n",
    "data_12 = pd.read_sql_query(query, connection)\n",
    "print(data_12)"
   ]
  },
  {
   "cell_type": "markdown",
   "metadata": {},
   "source": [
    "### Bài 13"
   ]
  },
  {
   "cell_type": "code",
   "execution_count": 35,
   "metadata": {},
   "outputs": [
    {
     "name": "stdout",
     "output_type": "stream",
     "text": [
      "   ProductID          Name  Total_Stock  Total_Variant  Average_Stock\n",
      "0        101  Áo sơ mi nam         35.0              2           17.5\n",
      "1        102    Quần jeans         10.0              1           10.0\n",
      "2        103       Váy xòe          5.0              1            5.0\n"
     ]
    },
    {
     "name": "stderr",
     "output_type": "stream",
     "text": [
      "C:\\Users\\Apollonir\\AppData\\Local\\Temp\\ipykernel_18140\\1644216648.py:11: UserWarning: pandas only supports SQLAlchemy connectable (engine/connection) or database string URI or sqlite3 DBAPI2 connection. Other DBAPI2 objects are not tested. Please consider using SQLAlchemy.\n",
      "  data_13 = pd.read_sql_query(query, connection)\n"
     ]
    }
   ],
   "source": [
    "query = (\"\"\"\n",
    "SELECT a.ProductID\n",
    "         , a.Name\n",
    "         , b.Total_Stock\n",
    "         , b.Total_Variant\n",
    "         , b.Total_Stock / b.Total_Variant Average_Stock\n",
    "FROM Product a \n",
    "LEFT JOIN (SELECT ProductID, SUM(Stock) Total_Stock, COUNT(VariantID) Total_Variant FROM Variant GROUP BY ProductID) b on a.ProductID = b.ProductID;\n",
    "\"\"\")\n",
    "\n",
    "data_13 = pd.read_sql_query(query, connection)\n",
    "print(data_13)"
   ]
  }
 ],
 "metadata": {
  "kernelspec": {
   "display_name": "base",
   "language": "python",
   "name": "python3"
  },
  "language_info": {
   "codemirror_mode": {
    "name": "ipython",
    "version": 3
   },
   "file_extension": ".py",
   "mimetype": "text/x-python",
   "name": "python",
   "nbconvert_exporter": "python",
   "pygments_lexer": "ipython3",
   "version": "3.10.16"
  }
 },
 "nbformat": 4,
 "nbformat_minor": 2
}
