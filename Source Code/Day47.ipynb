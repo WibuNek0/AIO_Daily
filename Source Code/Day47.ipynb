{
 "cells": [
  {
   "cell_type": "code",
   "execution_count": 3,
   "metadata": {},
   "outputs": [],
   "source": [
    "import mysql.connector"
   ]
  },
  {
   "cell_type": "code",
   "execution_count": 4,
   "metadata": {},
   "outputs": [],
   "source": [
    "connection = mysql.connector.connect(\n",
    "    host= 'localhost',         \n",
    "    user= 'root',             \n",
    "    password= '123456', \n",
    "    database = 'day_47'     \n",
    ")\n",
    "cursor = connection.cursor()"
   ]
  },
  {
   "cell_type": "markdown",
   "metadata": {},
   "source": [
    "### Bài 1"
   ]
  },
  {
   "cell_type": "code",
   "execution_count": 5,
   "metadata": {},
   "outputs": [],
   "source": [
    "cursor.execute(\"\"\"\n",
    "CREATE TABLE Category (\n",
    "    CategoryID INTEGER PRIMARY KEY AUTO_INCREMENT,\n",
    "    Name VARCHAR(200) NOT NULL\n",
    ");\n",
    "\"\"\")"
   ]
  },
  {
   "cell_type": "code",
   "execution_count": 6,
   "metadata": {},
   "outputs": [],
   "source": [
    "cursor.execute(\"\"\"\n",
    "CREATE TABLE Product (\n",
    "    ProductID INTEGER PRIMARY KEY AUTO_INCREMENT,\n",
    "    Name VARCHAR(200) NOT NULL, \n",
    "    CategoryID INTEGER NOT NULL,\n",
    "    Price DECIMAL(10, 0) NOT NULL, \n",
    "    FOREIGN KEY (CategoryID) REFERENCES Category(CategoryID)\n",
    ");\n",
    "\"\"\")"
   ]
  },
  {
   "cell_type": "code",
   "execution_count": 7,
   "metadata": {},
   "outputs": [],
   "source": [
    "cursor.execute(\"\"\"\n",
    "CREATE TABLE Variant (\n",
    "    VariantID INTEGER PRIMARY KEY AUTO_INCREMENT,\n",
    "    ProductID INTEGER NOT NULL,\n",
    "    Color VARCHAR(20) NOT NULL, \n",
    "    Size VARCHAR(5) NOT NULL, \n",
    "    Stock INT NOT NULL,\n",
    "    FOREIGN KEY (ProductID) REFERENCES Product(ProductID)\n",
    ");\n",
    "\"\"\")"
   ]
  },
  {
   "cell_type": "code",
   "execution_count": 8,
   "metadata": {},
   "outputs": [],
   "source": [
    "cursor.execute(\"\"\"\n",
    "CREATE TABLE Customer (\n",
    "    CustomerID INTEGER PRIMARY KEY AUTO_INCREMENT,\n",
    "    Name TEXT NOT NULL,\n",
    "    Phone VARCHAR(15) UNIQUE, \n",
    "    Address TEXT NOT NULL, \n",
    "    CreatedDate DATE NOT NULL\n",
    ");\n",
    "\"\"\")"
   ]
  },
  {
   "cell_type": "code",
   "execution_count": null,
   "metadata": {},
   "outputs": [],
   "source": [
    "cursor.execute(\"\"\"\n",
    "CREATE TABLE Orders (\n",
    "    OrderID INTEGER PRIMARY KEY AUTO_INCREMENT,\n",
    "    CustomerID INTEGER NOT NULL,\n",
    "    OrderDate DATE NOT NULL,\n",
    "    Status ENUM('Đã đặt', 'Đã giao') NOT NULL,\n",
    "    FOREIGN KEY (CustomerID) REFERENCES Customer(CustomerID)\n",
    ");\n",
    "\"\"\")"
   ]
  },
  {
   "cell_type": "code",
   "execution_count": 13,
   "metadata": {},
   "outputs": [],
   "source": [
    "cursor.execute(\"\"\"\n",
    "CREATE TABLE OrderDetail (\n",
    "    OrderID INTEGER NOT NULL,\n",
    "    VariantID INTEGER NOT NULL,\n",
    "    Quantity INTEGER NOT NULL,\n",
    "    Price DECIMAL(10, 0) NOT NULL, \n",
    "    FOREIGN KEY (OrderID) REFERENCES Orders(OrderID),\n",
    "    FOREIGN KEY (VariantID) REFERENCES Variant(VariantID)\n",
    ");\n",
    "\"\"\")"
   ]
  },
  {
   "cell_type": "markdown",
   "metadata": {},
   "source": [
    "### Bài 2"
   ]
  },
  {
   "cell_type": "code",
   "execution_count": 14,
   "metadata": {},
   "outputs": [],
   "source": [
    "cursor.execute(\"\"\"\n",
    "INSERT INTO Category (CategoryID, Name) VALUES\n",
    "(1, 'Áo'),\n",
    "(2, 'Quần'),\n",
    "(3, 'Váy'),\n",
    "(4, 'Phụ kiện');\n",
    "\"\"\")\n",
    "\n",
    "connection.commit()"
   ]
  },
  {
   "cell_type": "code",
   "execution_count": 15,
   "metadata": {},
   "outputs": [],
   "source": [
    "cursor.execute(\"\"\"\n",
    "INSERT INTO Product (ProductID, Name, CategoryID, Price) VALUES\n",
    "(101, 'Áo sơ mi nam', 1, 300000),\n",
    "(102, 'Quần jeans', 2, 500000),\n",
    "(103, 'Váy xòe', 3, 450000);\n",
    "\"\"\")\n",
    "\n",
    "connection.commit()"
   ]
  },
  {
   "cell_type": "code",
   "execution_count": 17,
   "metadata": {},
   "outputs": [],
   "source": [
    "cursor.execute(\"\"\"\n",
    "INSERT INTO Variant (VariantID, ProductID, Color, Size, Stock) VALUES\n",
    "(1, 101, 'Trắng', 'M', 20),\n",
    "(2, 101, 'Trắng', 'L', 15),\n",
    "(3, 102, 'Xanh', 'M', 10),\n",
    "(4, 103, 'Đỏ', 'S', 5);\n",
    "\"\"\")\n",
    "\n",
    "connection.commit()"
   ]
  },
  {
   "cell_type": "code",
   "execution_count": 18,
   "metadata": {},
   "outputs": [],
   "source": [
    "cursor.execute(\"\"\"\n",
    "INSERT INTO Customer (CustomerID, Name, Phone, Address, CreatedDate) VALUES\n",
    "(1, 'Trần An', '0909123456', 'Hà Nội', '2024-01-10'),\n",
    "(2, 'Lê Bình', '0909223456', 'TP.HCM', '2024-02-05');\n",
    "\"\"\")\n",
    "\n",
    "connection.commit()"
   ]
  },
  {
   "cell_type": "code",
   "execution_count": null,
   "metadata": {},
   "outputs": [],
   "source": [
    "cursor.execute(\"\"\"\n",
    "INSERT INTO Customer (CustomerID, Name, Phone, Address, CreatedDate) VALUES\n",
    "(1, 'Trần An', '0909123456', 'Hà Nội', '2024-01-10'),\n",
    "(2, 'Lê Bình', '0909223456', 'TP.HCM', '2024-02-05');\n",
    "\"\"\")\n",
    "\n",
    "connection.commit()"
   ]
  },
  {
   "cell_type": "code",
   "execution_count": 23,
   "metadata": {},
   "outputs": [],
   "source": [
    "cursor.execute(\"\"\"\n",
    "INSERT INTO Orders (OrderID, CustomerID, OrderDate, Status) VALUES\n",
    "(1, 1, '2024-03-01', 'Đã giao'),\n",
    "(2, 2, '2024-03-02', 'Đã đặt');\n",
    "\"\"\")\n",
    "\n",
    "connection.commit()"
   ]
  },
  {
   "cell_type": "code",
   "execution_count": 24,
   "metadata": {},
   "outputs": [],
   "source": [
    "cursor.execute(\"\"\"\n",
    "INSERT INTO OrderDetail (OrderID, VariantID, Quantity, Price) VALUES\n",
    "(1, 1, 2, 300000),\n",
    "(1, 3, 1, 500000),\n",
    "(2, 4, 1, 450000);\n",
    "\"\"\")\n",
    "\n",
    "connection.commit()"
   ]
  }
 ],
 "metadata": {
  "kernelspec": {
   "display_name": "base",
   "language": "python",
   "name": "python3"
  },
  "language_info": {
   "codemirror_mode": {
    "name": "ipython",
    "version": 3
   },
   "file_extension": ".py",
   "mimetype": "text/x-python",
   "name": "python",
   "nbconvert_exporter": "python",
   "pygments_lexer": "ipython3",
   "version": "3.10.16"
  }
 },
 "nbformat": 4,
 "nbformat_minor": 2
}
