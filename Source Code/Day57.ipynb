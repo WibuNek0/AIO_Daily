{
 "cells": [
  {
   "cell_type": "code",
   "execution_count": null,
   "metadata": {
    "vscode": {
     "languageId": "plaintext"
    }
   },
   "outputs": [],
   "source": [
    "doc1 = \"deep learning for natural language processing\"\n",
    "doc2 = \"transformer models improve language understanding\"\n",
    "doc3 = \"convolutional neural networks for image classification\"\n",
    "query = \"language models for text understanding\""
   ]
  }
 ],
 "metadata": {
  "language_info": {
   "name": "python"
  }
 },
 "nbformat": 4,
 "nbformat_minor": 2
}
