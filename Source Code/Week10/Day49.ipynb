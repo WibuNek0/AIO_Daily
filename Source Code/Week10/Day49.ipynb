{
 "cells": [
  {
   "cell_type": "code",
   "execution_count": 1,
   "metadata": {},
   "outputs": [],
   "source": [
    "import pandas as pd\n",
    "import mysql.connector"
   ]
  },
  {
   "cell_type": "code",
   "execution_count": 5,
   "metadata": {},
   "outputs": [],
   "source": [
    "connection = mysql.connector.connect(\n",
    "    host= 'localhost',         \n",
    "    user= 'root',             \n",
    "    password= '123456', \n",
    "    database = 'day_49'     \n",
    ")\n",
    "cursor = connection.cursor()"
   ]
  },
  {
   "cell_type": "code",
   "execution_count": 3,
   "metadata": {},
   "outputs": [],
   "source": [
    "cursor.execute(\"\"\"\n",
    "CREATE TABLE customers (\n",
    "    id INTEGER PRIMARY KEY AUTO_INCREMENT,\n",
    "    name VARCHAR(200) NOT NULL, \n",
    "    city VARCHAR(200) NOT NULL\n",
    ");\n",
    "\"\"\")"
   ]
  },
  {
   "cell_type": "code",
   "execution_count": 4,
   "metadata": {},
   "outputs": [],
   "source": [
    "cursor.execute(\"\"\"\n",
    "INSERT INTO customers (id, name, city) VALUES\n",
    "(1, 'Alice', 'Hanoi'),\n",
    "(2, 'Bob', 'Ho Chi Minh'),\n",
    "(3, 'Charlie', 'Hanoi');\n",
    "\"\"\")\n",
    "\n",
    "connection.commit()"
   ]
  },
  {
   "cell_type": "code",
   "execution_count": 5,
   "metadata": {},
   "outputs": [],
   "source": [
    "cursor.execute(\"\"\"\n",
    "CREATE TABLE orders (\n",
    "    id INTEGER PRIMARY KEY AUTO_INCREMENT,\n",
    "    customer_id INTEGER NOT NULL,\n",
    "    order_date DATE NOT NULL,\n",
    "    total INTEGER NOT NULL,\n",
    "    FOREIGN KEY (customer_id) REFERENCES customers(id)\n",
    ");\n",
    "\"\"\")"
   ]
  },
  {
   "cell_type": "code",
   "execution_count": 6,
   "metadata": {},
   "outputs": [],
   "source": [
    "cursor.execute(\"\"\"\n",
    "INSERT INTO orders (id, customer_id, order_date, total) VALUES\n",
    "(1, 1, '2024-01-10', 500),\n",
    "(2, 1, '2024-03-01', 800),\n",
    "(3, 2, '2024-02-20', 1200),\n",
    "(4, 3, '2024-01-15', 200);\n",
    "\"\"\")\n",
    "\n",
    "connection.commit()"
   ]
  },
  {
   "cell_type": "code",
   "execution_count": 7,
   "metadata": {},
   "outputs": [],
   "source": [
    "cursor.execute(\"\"\"\n",
    "CREATE TABLE products (\n",
    "    id INTEGER PRIMARY KEY AUTO_INCREMENT,\n",
    "    name VARCHAR(200) NOT NULL,\n",
    "    price INTEGER NOT NULL\n",
    ");\n",
    "\"\"\")"
   ]
  },
  {
   "cell_type": "code",
   "execution_count": 8,
   "metadata": {},
   "outputs": [],
   "source": [
    "cursor.execute(\"\"\"\n",
    "INSERT INTO products (id, name, price) VALUES\n",
    "(1, 'Laptop', 1500),\n",
    "(2, 'Mouse', 50),\n",
    "(3, 'Keyboard', 100),\n",
    "(4, 'Monitor', 300);\n",
    "\"\"\")\n",
    "\n",
    "connection.commit()"
   ]
  },
  {
   "cell_type": "code",
   "execution_count": 9,
   "metadata": {},
   "outputs": [],
   "source": [
    "cursor.execute(\"\"\"\n",
    "CREATE TABLE order_items (\n",
    "    id INTEGER PRIMARY KEY AUTO_INCREMENT,\n",
    "    order_id INTEGER NOT NULL,\n",
    "    product_id INTEGER NOT NULL,\n",
    "    quantity INTEGER NOT NULL,\n",
    "    FOREIGN KEY (order_id) REFERENCES orders(id),\n",
    "    FOREIGN KEY (product_id) REFERENCES products(id)\n",
    ");\n",
    "\"\"\")"
   ]
  },
  {
   "cell_type": "code",
   "execution_count": 10,
   "metadata": {},
   "outputs": [],
   "source": [
    "cursor.execute(\"\"\"\n",
    "INSERT INTO order_items (id, order_id, product_id, quantity) VALUES\n",
    "(1, 1, 2, 2),\n",
    "(2, 1, 3, 1),\n",
    "(3, 2, 1, 1),\n",
    "(4, 2, 4, 1),\n",
    "(5, 3, 1, 1);\n",
    "\"\"\")\n",
    "\n",
    "connection.commit()"
   ]
  },
  {
   "cell_type": "code",
   "execution_count": 11,
   "metadata": {},
   "outputs": [],
   "source": [
    "cursor.execute(\"\"\"\n",
    "CREATE TABLE employees (\n",
    "    id INTEGER PRIMARY KEY AUTO_INCREMENT,\n",
    "    name VARCHAR(200) NOT NULL,\n",
    "    department VARCHAR(200) NOT NULL\n",
    ");\n",
    "\"\"\")"
   ]
  },
  {
   "cell_type": "code",
   "execution_count": 12,
   "metadata": {},
   "outputs": [],
   "source": [
    "cursor.execute(\"\"\"\n",
    "INSERT INTO employees (id, name, department) VALUES\n",
    "(1, 'David', 'Sales'),\n",
    "(2, 'Emma', 'Support'),\n",
    "(3, 'Frank', 'Sales');\n",
    "\"\"\")\n",
    "\n",
    "connection.commit()"
   ]
  },
  {
   "cell_type": "code",
   "execution_count": 13,
   "metadata": {},
   "outputs": [],
   "source": [
    "cursor.execute(\"\"\"\n",
    "CREATE TABLE order_assignments (\n",
    "    id INTEGER PRIMARY KEY AUTO_INCREMENT,\n",
    "    order_id INTEGER NOT NULL,\n",
    "    employee_id INTEGER NOT NULL,\n",
    "    FOREIGN KEY (order_id) REFERENCES orders(id),\n",
    "    FOREIGN KEY (employee_id) REFERENCES employees(id)\n",
    ");\n",
    "\"\"\")"
   ]
  },
  {
   "cell_type": "code",
   "execution_count": 14,
   "metadata": {},
   "outputs": [],
   "source": [
    "cursor.execute(\"\"\"\n",
    "INSERT INTO order_assignments (id, order_id, employee_id) VALUES\n",
    "(1, 1, 1),\n",
    "(2, 2, 3),\n",
    "(3, 3, 2);\n",
    "\"\"\")\n",
    "\n",
    "connection.commit()"
   ]
  },
  {
   "cell_type": "markdown",
   "metadata": {},
   "source": [
    "### Bài 1"
   ]
  },
  {
   "cell_type": "code",
   "execution_count": 16,
   "metadata": {},
   "outputs": [
    {
     "name": "stdout",
     "output_type": "stream",
     "text": [
      "Stored procedure created.\n"
     ]
    }
   ],
   "source": [
    "cursor.execute(\"DROP PROCEDURE IF EXISTS TotalOrderAmount\")\n",
    "cursor.execute(\"\"\"\n",
    "CREATE PROCEDURE TotalOrderAmount(IN customer_id INT, OUT total_order_amount INT)\n",
    "BEGIN\n",
    "    SELECT COUNT(o.id) INTO total_order_amount\n",
    "    FROM orders o\n",
    "    WHERE o.customer_id = customer_id;\n",
    "END;\n",
    "\"\"\")\n",
    "connection.commit()\n",
    "print(\"Stored procedure created.\")"
   ]
  },
  {
   "cell_type": "code",
   "execution_count": 20,
   "metadata": {},
   "outputs": [
    {
     "name": "stdout",
     "output_type": "stream",
     "text": [
      "Tổng số đơn hàng của khách hàng có id 1 là: 2\n"
     ]
    }
   ],
   "source": [
    "customer_id = 1  \n",
    "order_count = 0  \n",
    "\n",
    "results = cursor.callproc('TotalOrderAmount', (customer_id, order_count))\n",
    "\n",
    "print(f\"Tổng số đơn hàng của khách hàng có id {customer_id} là:\", results[1])"
   ]
  },
  {
   "cell_type": "markdown",
   "metadata": {},
   "source": [
    "### Bài 2"
   ]
  },
  {
   "cell_type": "code",
   "execution_count": 23,
   "metadata": {},
   "outputs": [
    {
     "name": "stdout",
     "output_type": "stream",
     "text": [
      "Stored procedure created.\n"
     ]
    }
   ],
   "source": [
    "cursor.execute(\"DROP PROCEDURE IF EXISTS EmployeeName\")\n",
    "cursor.execute(\"\"\"\n",
    "CREATE PROCEDURE EmployeeName(IN employee_id INT, OUT employee_name VARCHAR(200))\n",
    "BEGIN\n",
    "    SELECT e.name INTO employee_name\n",
    "    FROM employees e\n",
    "    WHERE e.id = employee_id;\n",
    "END;\n",
    "\"\"\")\n",
    "connection.commit()\n",
    "print(\"Stored procedure created.\")"
   ]
  },
  {
   "cell_type": "code",
   "execution_count": 24,
   "metadata": {},
   "outputs": [
    {
     "name": "stdout",
     "output_type": "stream",
     "text": [
      "Tên nhân viên có id 1 là: David\n"
     ]
    }
   ],
   "source": [
    "employee_id = 1  \n",
    "employee_name = ''  \n",
    "\n",
    "results = cursor.callproc('EmployeeName', (employee_id, employee_name))\n",
    "\n",
    "print(f\"Tên nhân viên có id {employee_id} là:\", results[1])"
   ]
  },
  {
   "cell_type": "markdown",
   "metadata": {},
   "source": [
    "### Bài 3"
   ]
  },
  {
   "cell_type": "code",
   "execution_count": 25,
   "metadata": {},
   "outputs": [
    {
     "name": "stdout",
     "output_type": "stream",
     "text": [
      "Stored procedure created.\n"
     ]
    }
   ],
   "source": [
    "cursor.execute(\"DROP PROCEDURE IF EXISTS UpdateCityName\")\n",
    "cursor.execute(\"\"\"\n",
    "CREATE PROCEDURE UpdateCityName(IN customer_id INT, IN new_city VARCHAR(200))\n",
    "BEGIN\n",
    "    UPDATE customers\n",
    "    SET city = new_city\n",
    "    WHERE id = customer_id;\n",
    "END;\n",
    "\"\"\")\n",
    "connection.commit()\n",
    "print(\"Stored procedure created.\")"
   ]
  },
  {
   "cell_type": "code",
   "execution_count": 26,
   "metadata": {},
   "outputs": [
    {
     "name": "stdout",
     "output_type": "stream",
     "text": [
      "Đã cập nhật thành phố của khách hàng có id 1 là: HaiPhong\n"
     ]
    }
   ],
   "source": [
    "customer_id = 1  \n",
    "new_city = 'HaiPhong'  \n",
    "\n",
    "results = cursor.callproc('UpdateCityName', (customer_id, new_city))\n",
    "\n",
    "print(f\"Đã cập nhật thành phố của khách hàng có id {customer_id} là:\", results[1])"
   ]
  },
  {
   "cell_type": "code",
   "execution_count": 28,
   "metadata": {},
   "outputs": [
    {
     "name": "stdout",
     "output_type": "stream",
     "text": [
      "   id   name      city\n",
      "0   1  Alice  HaiPhong\n"
     ]
    },
    {
     "name": "stderr",
     "output_type": "stream",
     "text": [
      "C:\\Users\\Apollonir\\AppData\\Local\\Temp\\ipykernel_12444\\4286663439.py:7: UserWarning: pandas only supports SQLAlchemy connectable (engine/connection) or database string URI or sqlite3 DBAPI2 connection. Other DBAPI2 objects are not tested. Please consider using SQLAlchemy.\n",
      "  data_3 = pd.read_sql_query(query, connection)\n"
     ]
    }
   ],
   "source": [
    "query = (\"\"\"\n",
    "SELECT id, name, city\n",
    " FROM customers \n",
    "WHERE id = 1\n",
    "\"\"\")\n",
    "\n",
    "data_3 = pd.read_sql_query(query, connection)\n",
    "print(data_3)"
   ]
  },
  {
   "cell_type": "markdown",
   "metadata": {},
   "source": [
    "### Bài 4"
   ]
  },
  {
   "cell_type": "code",
   "execution_count": 46,
   "metadata": {},
   "outputs": [
    {
     "name": "stdout",
     "output_type": "stream",
     "text": [
      "Stored procedure created.\n"
     ]
    }
   ],
   "source": [
    "cursor.execute(\"DROP PROCEDURE IF EXISTS ProductHavePriceBigger\")\n",
    "cursor.execute(\"\"\"\n",
    "CREATE PROCEDURE ProductHavePriceBigger(IN min_price INT)\n",
    "BEGIN\n",
    "    SELECT p.name, p.price\n",
    "    FROM products p\n",
    "    WHERE p.price >= min_price;\n",
    "END;\n",
    "\"\"\")\n",
    "connection.commit()\n",
    "print(\"Stored procedure created.\")"
   ]
  },
  {
   "cell_type": "code",
   "execution_count": 47,
   "metadata": {},
   "outputs": [
    {
     "name": "stdout",
     "output_type": "stream",
     "text": [
      "('Laptop', 1500)\n",
      "('Monitor', 300)\n"
     ]
    }
   ],
   "source": [
    "min_price = 300 \n",
    "\n",
    "cursor.callproc('ProductHavePriceBigger', [min_price])\n",
    "\n",
    "for result in cursor.stored_results():\n",
    "    rows = result.fetchall()\n",
    "    for row in rows:\n",
    "        print(row)"
   ]
  },
  {
   "cell_type": "markdown",
   "metadata": {},
   "source": [
    "### Bài 5"
   ]
  },
  {
   "cell_type": "code",
   "execution_count": 55,
   "metadata": {},
   "outputs": [
    {
     "name": "stdout",
     "output_type": "stream",
     "text": [
      "Stored procedure created.\n"
     ]
    }
   ],
   "source": [
    "cursor.execute(\"DROP PROCEDURE IF EXISTS DeleteOrder\")\n",
    "cursor.execute(\"\"\"\n",
    "CREATE PROCEDURE DeleteOrder(IN min_total INT)\n",
    "BEGIN\n",
    "    DELETE FROM order_items \n",
    "    WHERE order_id IN (SELECT id FROM orders WHERE total < min_total);\n",
    "\n",
    "    DELETE FROM order_assignments\n",
    "    WHERE order_id IN (SELECT id FROM orders WHERE total < min_total);\n",
    "    \n",
    "    DELETE FROM orders\n",
    "    WHERE total < min_total;\n",
    "END;\n",
    "\"\"\")\n",
    "connection.commit()\n",
    "print(\"Stored procedure created.\")"
   ]
  },
  {
   "cell_type": "code",
   "execution_count": 57,
   "metadata": {},
   "outputs": [
    {
     "name": "stdout",
     "output_type": "stream",
     "text": [
      "Đã xóa các đơn hàng có tổng giá trị nhỏ hơn 900\n"
     ]
    }
   ],
   "source": [
    "min_total = 900 \n",
    "\n",
    "cursor.callproc('DeleteOrder', [min_total])\n",
    "\n",
    "print(f\"Đã xóa các đơn hàng có tổng giá trị nhỏ hơn {min_total}\")"
   ]
  },
  {
   "cell_type": "code",
   "execution_count": 58,
   "metadata": {},
   "outputs": [
    {
     "name": "stdout",
     "output_type": "stream",
     "text": [
      "   id  order_date  total\n",
      "0   3  2024-02-20   1200\n"
     ]
    },
    {
     "name": "stderr",
     "output_type": "stream",
     "text": [
      "C:\\Users\\Apollonir\\AppData\\Local\\Temp\\ipykernel_12444\\1336282475.py:6: UserWarning: pandas only supports SQLAlchemy connectable (engine/connection) or database string URI or sqlite3 DBAPI2 connection. Other DBAPI2 objects are not tested. Please consider using SQLAlchemy.\n",
      "  data_5 = pd.read_sql_query(query, connection)\n"
     ]
    }
   ],
   "source": [
    "query = (\"\"\"\n",
    "SELECT id, order_date, total\n",
    " FROM orders \n",
    "\"\"\")\n",
    "\n",
    "data_5 = pd.read_sql_query(query, connection)\n",
    "print(data_5)"
   ]
  }
 ],
 "metadata": {
  "kernelspec": {
   "display_name": "base",
   "language": "python",
   "name": "python3"
  },
  "language_info": {
   "codemirror_mode": {
    "name": "ipython",
    "version": 3
   },
   "file_extension": ".py",
   "mimetype": "text/x-python",
   "name": "python",
   "nbconvert_exporter": "python",
   "pygments_lexer": "ipython3",
   "version": "3.10.16"
  }
 },
 "nbformat": 4,
 "nbformat_minor": 2
}
