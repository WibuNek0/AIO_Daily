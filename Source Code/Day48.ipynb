{
 "cells": [
  {
   "cell_type": "code",
   "execution_count": 17,
   "metadata": {},
   "outputs": [],
   "source": [
    "import pandas as pd\n",
    "import mysql.connector"
   ]
  },
  {
   "cell_type": "code",
   "execution_count": 18,
   "metadata": {},
   "outputs": [],
   "source": [
    "connection = mysql.connector.connect(\n",
    "    host= 'localhost',         \n",
    "    user= 'root',             \n",
    "    password= '123456', \n",
    "    database = 'day_48'     \n",
    ")\n",
    "cursor = connection.cursor()"
   ]
  },
  {
   "cell_type": "code",
   "execution_count": 3,
   "metadata": {},
   "outputs": [],
   "source": [
    "cursor.execute(\"\"\"\n",
    "CREATE TABLE customers (\n",
    "    id INTEGER PRIMARY KEY AUTO_INCREMENT,\n",
    "    name VARCHAR(200) NOT NULL, \n",
    "    city VARCHAR(200) NOT NULL\n",
    ");\n",
    "\"\"\")"
   ]
  },
  {
   "cell_type": "code",
   "execution_count": 4,
   "metadata": {},
   "outputs": [],
   "source": [
    "cursor.execute(\"\"\"\n",
    "INSERT INTO customers (id, name, city) VALUES\n",
    "(1, 'Alice', 'Hanoi'),\n",
    "(2, 'Bob', 'Ho Chi Minh'),\n",
    "(3, 'Charlie', 'Hanoi');\n",
    "\"\"\")\n",
    "\n",
    "connection.commit()"
   ]
  },
  {
   "cell_type": "code",
   "execution_count": 5,
   "metadata": {},
   "outputs": [],
   "source": [
    "cursor.execute(\"\"\"\n",
    "CREATE TABLE orders (\n",
    "    id INTEGER PRIMARY KEY AUTO_INCREMENT,\n",
    "    customer_id INTEGER NOT NULL,\n",
    "    order_date DATE NOT NULL,\n",
    "    total INTEGER NOT NULL,\n",
    "    FOREIGN KEY (customer_id) REFERENCES customers(id)\n",
    ");\n",
    "\"\"\")"
   ]
  },
  {
   "cell_type": "code",
   "execution_count": 6,
   "metadata": {},
   "outputs": [],
   "source": [
    "cursor.execute(\"\"\"\n",
    "INSERT INTO orders (id, customer_id, order_date, total) VALUES\n",
    "(1, 1, '2024-01-10', 500),\n",
    "(2, 1, '2024-03-01', 800),\n",
    "(3, 2, '2024-02-20', 1200),\n",
    "(4, 3, '2024-01-15', 200);\n",
    "\"\"\")\n",
    "\n",
    "connection.commit()"
   ]
  },
  {
   "cell_type": "code",
   "execution_count": 7,
   "metadata": {},
   "outputs": [],
   "source": [
    "cursor.execute(\"\"\"\n",
    "CREATE TABLE products (\n",
    "    id INTEGER PRIMARY KEY AUTO_INCREMENT,\n",
    "    name VARCHAR(200) NOT NULL,\n",
    "    price INTEGER NOT NULL\n",
    ");\n",
    "\"\"\")"
   ]
  },
  {
   "cell_type": "code",
   "execution_count": 8,
   "metadata": {},
   "outputs": [],
   "source": [
    "cursor.execute(\"\"\"\n",
    "INSERT INTO products (id, name, price) VALUES\n",
    "(1, 'Laptop', 1500),\n",
    "(2, 'Mouse', 50),\n",
    "(3, 'Keyboard', 100),\n",
    "(4, 'Monitor', 300);\n",
    "\"\"\")\n",
    "\n",
    "connection.commit()"
   ]
  },
  {
   "cell_type": "code",
   "execution_count": 9,
   "metadata": {},
   "outputs": [],
   "source": [
    "cursor.execute(\"\"\"\n",
    "CREATE TABLE order_items (\n",
    "    id INTEGER PRIMARY KEY AUTO_INCREMENT,\n",
    "    order_id INTEGER NOT NULL,\n",
    "    product_id INTEGER NOT NULL,\n",
    "    quantity INTEGER NOT NULL,\n",
    "    FOREIGN KEY (order_id) REFERENCES orders(id),\n",
    "    FOREIGN KEY (product_id) REFERENCES products(id)\n",
    ");\n",
    "\"\"\")"
   ]
  },
  {
   "cell_type": "code",
   "execution_count": 10,
   "metadata": {},
   "outputs": [],
   "source": [
    "cursor.execute(\"\"\"\n",
    "INSERT INTO order_items (id, order_id, product_id, quantity) VALUES\n",
    "(1, 1, 2, 2),\n",
    "(2, 1, 3, 1),\n",
    "(3, 2, 1, 1),\n",
    "(4, 2, 4, 1),\n",
    "(5, 3, 1, 1);\n",
    "\"\"\")\n",
    "\n",
    "connection.commit()"
   ]
  },
  {
   "cell_type": "code",
   "execution_count": 11,
   "metadata": {},
   "outputs": [],
   "source": [
    "cursor.execute(\"\"\"\n",
    "CREATE TABLE employees (\n",
    "    id INTEGER PRIMARY KEY AUTO_INCREMENT,\n",
    "    name VARCHAR(200) NOT NULL,\n",
    "    department VARCHAR(200) NOT NULL\n",
    ");\n",
    "\"\"\")"
   ]
  },
  {
   "cell_type": "code",
   "execution_count": 13,
   "metadata": {},
   "outputs": [],
   "source": [
    "cursor.execute(\"\"\"\n",
    "INSERT INTO employees (id, name, department) VALUES\n",
    "(1, 'David', 'Sales'),\n",
    "(2, 'Emma', 'Support'),\n",
    "(3, 'Frank', 'Sales');\n",
    "\"\"\")\n",
    "\n",
    "connection.commit()"
   ]
  },
  {
   "cell_type": "code",
   "execution_count": 14,
   "metadata": {},
   "outputs": [],
   "source": [
    "cursor.execute(\"\"\"\n",
    "CREATE TABLE order_assignments (\n",
    "    id INTEGER PRIMARY KEY AUTO_INCREMENT,\n",
    "    order_id INTEGER NOT NULL,\n",
    "    employee_id INTEGER NOT NULL,\n",
    "    FOREIGN KEY (order_id) REFERENCES orders(id),\n",
    "    FOREIGN KEY (employee_id) REFERENCES employees(id)\n",
    ");\n",
    "\"\"\")"
   ]
  },
  {
   "cell_type": "code",
   "execution_count": 15,
   "metadata": {},
   "outputs": [],
   "source": [
    "cursor.execute(\"\"\"\n",
    "INSERT INTO order_assignments (id, order_id, employee_id) VALUES\n",
    "(1, 1, 1),\n",
    "(2, 2, 3),\n",
    "(3, 3, 2);\n",
    "\"\"\")\n",
    "\n",
    "connection.commit()"
   ]
  },
  {
   "cell_type": "markdown",
   "metadata": {},
   "source": [
    "### Bài 1"
   ]
  },
  {
   "cell_type": "code",
   "execution_count": 22,
   "metadata": {},
   "outputs": [
    {
     "name": "stdout",
     "output_type": "stream",
     "text": [
      "    name  order_date  quantity  total\n",
      "0  Alice  2024-03-01         1    800\n",
      "1    Bob  2024-02-20         1   1200\n"
     ]
    },
    {
     "name": "stderr",
     "output_type": "stream",
     "text": [
      "C:\\Users\\Apollonir\\AppData\\Local\\Temp\\ipykernel_2180\\3133172740.py:12: UserWarning: pandas only supports SQLAlchemy connectable (engine/connection) or database string URI or sqlite3 DBAPI2 connection. Other DBAPI2 objects are not tested. Please consider using SQLAlchemy.\n",
      "  data_3 = pd.read_sql_query(query, connection)\n"
     ]
    }
   ],
   "source": [
    "query = (\"\"\"\n",
    "SELECT c.name\n",
    "    , b.order_date\n",
    "    , a.quantity\n",
    "    , b.total\n",
    " FROM order_items a\n",
    "LEFT JOIN orders b on a.order_id = b.id\n",
    "LEFT JOIN customers c on b.customer_id = c.id\n",
    "WHERE product_id IN (SELECT id FROM products WHERE price > 1000)\n",
    "\"\"\")\n",
    "\n",
    "data_1 = pd.read_sql_query(query, connection)\n",
    "print(data_1)"
   ]
  },
  {
   "cell_type": "markdown",
   "metadata": {},
   "source": [
    "### Bài 2"
   ]
  },
  {
   "cell_type": "code",
   "execution_count": 23,
   "metadata": {},
   "outputs": [
    {
     "name": "stdout",
     "output_type": "stream",
     "text": [
      "      name   total\n",
      "0    Alice  1300.0\n",
      "1      Bob  1200.0\n",
      "2  Charlie   200.0\n"
     ]
    },
    {
     "name": "stderr",
     "output_type": "stream",
     "text": [
      "C:\\Users\\Apollonir\\AppData\\Local\\Temp\\ipykernel_2180\\2421038388.py:9: UserWarning: pandas only supports SQLAlchemy connectable (engine/connection) or database string URI or sqlite3 DBAPI2 connection. Other DBAPI2 objects are not tested. Please consider using SQLAlchemy.\n",
      "  data_2 = pd.read_sql_query(query, connection)\n"
     ]
    }
   ],
   "source": [
    "query = (\"\"\"\n",
    "SELECT b.name\n",
    "    , SUM(a.total) total\n",
    " FROM orders a\n",
    "LEFT JOIN customers b on a.customer_id = b.id\n",
    "GROUP BY b.name\n",
    "\"\"\")\n",
    "\n",
    "data_2 = pd.read_sql_query(query, connection)\n",
    "print(data_2)"
   ]
  },
  {
   "cell_type": "markdown",
   "metadata": {},
   "source": [
    "### Bài 3"
   ]
  },
  {
   "cell_type": "code",
   "execution_count": 24,
   "metadata": {},
   "outputs": [
    {
     "name": "stdout",
     "output_type": "stream",
     "text": [
      "    name   total\n",
      "0  Alice  1300.0\n",
      "1    Bob  1200.0\n"
     ]
    },
    {
     "name": "stderr",
     "output_type": "stream",
     "text": [
      "C:\\Users\\Apollonir\\AppData\\Local\\Temp\\ipykernel_2180\\3420196805.py:13: UserWarning: pandas only supports SQLAlchemy connectable (engine/connection) or database string URI or sqlite3 DBAPI2 connection. Other DBAPI2 objects are not tested. Please consider using SQLAlchemy.\n",
      "  data_3 = pd.read_sql_query(query, connection)\n"
     ]
    }
   ],
   "source": [
    "query = (\"\"\"\n",
    "SELECT a.name, a.total FROM (\n",
    "SELECT b.name\n",
    "    , SUM(a.total) total\n",
    " FROM orders a\n",
    "LEFT JOIN customers b on a.customer_id = b.id\n",
    "GROUP BY b.name\n",
    ") a\n",
    "ORDER BY a.total DESC\n",
    "LIMIT 2\n",
    "\"\"\")\n",
    "\n",
    "data_3 = pd.read_sql_query(query, connection)\n",
    "print(data_3)"
   ]
  },
  {
   "cell_type": "markdown",
   "metadata": {},
   "source": [
    "### Bài 4"
   ]
  },
  {
   "cell_type": "code",
   "execution_count": 30,
   "metadata": {},
   "outputs": [
    {
     "name": "stdout",
     "output_type": "stream",
     "text": [
      "    name department  order_id\n",
      "0  Frank      Sales         2\n"
     ]
    },
    {
     "name": "stderr",
     "output_type": "stream",
     "text": [
      "C:\\Users\\Apollonir\\AppData\\Local\\Temp\\ipykernel_2180\\2305480799.py:11: UserWarning: pandas only supports SQLAlchemy connectable (engine/connection) or database string URI or sqlite3 DBAPI2 connection. Other DBAPI2 objects are not tested. Please consider using SQLAlchemy.\n",
      "  data_4 = pd.read_sql_query(query, connection)\n"
     ]
    }
   ],
   "source": [
    "query = (\"\"\"\n",
    "SELECT c.name\n",
    "    , c.department\n",
    "    , a.order_id\n",
    " FROM order_items a\n",
    "LEFT JOIN order_assignments b on a.order_id = b.id\n",
    "LEFT JOIN employees c on b.employee_id = c.id\n",
    "WHERE EXISTS (SELECT 1 FROM products p WHERE p.id = a.product_id AND p.name LIKE '%Monitor%')\n",
    "\"\"\")\n",
    "\n",
    "data_4 = pd.read_sql_query(query, connection)\n",
    "print(data_4)"
   ]
  },
  {
   "cell_type": "markdown",
   "metadata": {},
   "source": [
    "### Bài 5"
   ]
  },
  {
   "cell_type": "code",
   "execution_count": 40,
   "metadata": {},
   "outputs": [
    {
     "name": "stdout",
     "output_type": "stream",
     "text": [
      "    name   total\n",
      "0  Alice  1300.0\n"
     ]
    },
    {
     "name": "stderr",
     "output_type": "stream",
     "text": [
      "C:\\Users\\Apollonir\\AppData\\Local\\Temp\\ipykernel_2180\\1627744907.py:10: UserWarning: pandas only supports SQLAlchemy connectable (engine/connection) or database string URI or sqlite3 DBAPI2 connection. Other DBAPI2 objects are not tested. Please consider using SQLAlchemy.\n",
      "  data_5 = pd.read_sql_query(query, connection)\n"
     ]
    }
   ],
   "source": [
    "query = (\"\"\"\n",
    "SELECT b.name\n",
    "    , SUM(a.total) total\n",
    " FROM orders a\n",
    "LEFT JOIN customers b on a.customer_id = b.id\n",
    "GROUP BY b.name\n",
    "HAVING SUM(a.total) > (SUM(a.total)/COUNT(b.id))\n",
    "\"\"\")\n",
    "\n",
    "data_5 = pd.read_sql_query(query, connection)\n",
    "print(data_5)"
   ]
  },
  {
   "cell_type": "markdown",
   "metadata": {},
   "source": [
    "### Bài 6"
   ]
  },
  {
   "cell_type": "code",
   "execution_count": 41,
   "metadata": {},
   "outputs": [
    {
     "name": "stdout",
     "output_type": "stream",
     "text": [
      "   id   name   total\n",
      "0   1  Alice  1300.0\n",
      "1   2    Bob  1200.0\n"
     ]
    },
    {
     "name": "stderr",
     "output_type": "stream",
     "text": [
      "C:\\Users\\Apollonir\\AppData\\Local\\Temp\\ipykernel_2180\\2004924268.py:18: UserWarning: pandas only supports SQLAlchemy connectable (engine/connection) or database string URI or sqlite3 DBAPI2 connection. Other DBAPI2 objects are not tested. Please consider using SQLAlchemy.\n",
      "  data_6 = pd.read_sql_query(query, connection)\n"
     ]
    }
   ],
   "source": [
    "cursor.execute(\"\"\"\n",
    "CREATE TEMPORARY TABLE vip_customers (\n",
    "    SELECT b.id \n",
    "        , b.name\n",
    "        , SUM(a.total) total\n",
    "     FROM orders a\n",
    "    LEFT JOIN customers b on a.customer_id = b.id\n",
    "    GROUP BY b.name, b.id\n",
    "    HAVING SUM(a.total) > 1000\n",
    ");\n",
    "\"\"\")\n",
    "\n",
    "query = (\"\"\"\n",
    "SELECT * \n",
    " FROM vip_customers\n",
    "\"\"\")\n",
    "\n",
    "data_6 = pd.read_sql_query(query, connection)\n",
    "print(data_6)"
   ]
  },
  {
   "cell_type": "markdown",
   "metadata": {},
   "source": [
    "### Bài 7"
   ]
  },
  {
   "cell_type": "code",
   "execution_count": 57,
   "metadata": {},
   "outputs": [
    {
     "name": "stdout",
     "output_type": "stream",
     "text": [
      "   id    name  quantity\n",
      "0   2   Mouse       2.0\n",
      "1   1  Laptop       2.0\n"
     ]
    },
    {
     "name": "stderr",
     "output_type": "stream",
     "text": [
      "C:\\Users\\Apollonir\\AppData\\Local\\Temp\\ipykernel_2180\\2365298657.py:18: UserWarning: pandas only supports SQLAlchemy connectable (engine/connection) or database string URI or sqlite3 DBAPI2 connection. Other DBAPI2 objects are not tested. Please consider using SQLAlchemy.\n",
      "  data_7 = pd.read_sql_query(query, connection)\n"
     ]
    }
   ],
   "source": [
    "cursor.execute(\"\"\"\n",
    "CREATE TEMPORARY TABLE popular_products (\n",
    "    SELECT b.id \n",
    "        , b.name\n",
    "        , SUM(a.quantity) quantity\n",
    "     FROM order_items a\n",
    "    LEFT JOIN products b on a.product_id = b.id\n",
    "    GROUP BY b.name, b.id\n",
    "    HAVING SUM(a.quantity) >= 2\n",
    ");\n",
    "\"\"\")\n",
    "\n",
    "query = (\"\"\"\n",
    "SELECT * \n",
    " FROM popular_products\n",
    "\"\"\")\n",
    "\n",
    "data_7 = pd.read_sql_query(query, connection)\n",
    "print(data_7)"
   ]
  },
  {
   "cell_type": "markdown",
   "metadata": {},
   "source": [
    "### Bài 8"
   ]
  },
  {
   "cell_type": "code",
   "execution_count": 71,
   "metadata": {},
   "outputs": [
    {
     "name": "stdout",
     "output_type": "stream",
     "text": [
      "  name  id\n",
      "0  Bob   2\n"
     ]
    },
    {
     "name": "stderr",
     "output_type": "stream",
     "text": [
      "C:\\Users\\Apollonir\\AppData\\Local\\Temp\\ipykernel_2180\\1486653157.py:22: UserWarning: pandas only supports SQLAlchemy connectable (engine/connection) or database string URI or sqlite3 DBAPI2 connection. Other DBAPI2 objects are not tested. Please consider using SQLAlchemy.\n",
      "  data_8 = pd.read_sql_query(query, connection)\n"
     ]
    }
   ],
   "source": [
    "query = (\"\"\"\n",
    "SELECT b.name, b.id \n",
    "FROM orders a \n",
    "LEFT JOIN customers b on a.customer_id = b.id\n",
    "WHERE a.id IN (\n",
    "    SELECT order_id \n",
    "     FROM order_assignments \n",
    "    WHERE employee_id IN (\n",
    "        SELECT employee_id \n",
    "         FROM (\n",
    "            SELECT b.employee_id\n",
    "            , SUM(a.total) total\n",
    "             FROM orders a \n",
    "            LEFT JOIN order_assignments b on a.id = b.order_id\n",
    "            GROUP BY b.employee_id\n",
    "            HAVING SUM(a.total) > 1000\n",
    "        ) a\n",
    "    )\n",
    ")\n",
    "\"\"\")\n",
    "\n",
    "data_8 = pd.read_sql_query(query, connection)\n",
    "print(data_8)"
   ]
  },
  {
   "cell_type": "markdown",
   "metadata": {},
   "source": [
    "### Bài 9"
   ]
  },
  {
   "cell_type": "code",
   "execution_count": 73,
   "metadata": {},
   "outputs": [
    {
     "name": "stdout",
     "output_type": "stream",
     "text": [
      "    name   total\n",
      "0  Alice  1300.0\n",
      "1    Bob  1200.0\n"
     ]
    },
    {
     "name": "stderr",
     "output_type": "stream",
     "text": [
      "C:\\Users\\Apollonir\\AppData\\Local\\Temp\\ipykernel_2180\\1757300236.py:18: UserWarning: pandas only supports SQLAlchemy connectable (engine/connection) or database string URI or sqlite3 DBAPI2 connection. Other DBAPI2 objects are not tested. Please consider using SQLAlchemy.\n",
      "  data_9 = pd.read_sql_query(query, connection)\n"
     ]
    }
   ],
   "source": [
    "cursor.execute(\"\"\"\n",
    "CREATE TEMPORARY TABLE high_value_orders (\n",
    "    SELECT b.id \n",
    "        , b.name\n",
    "        , SUM(a.total) total\n",
    "     FROM orders a\n",
    "    LEFT JOIN customers b on a.customer_id = b.id\n",
    "    GROUP BY b.name, b.id\n",
    "    HAVING SUM(a.total) > 800\n",
    ");\n",
    "\"\"\")\n",
    "\n",
    "query = (\"\"\"\n",
    "SELECT name, total\n",
    " FROM high_value_orders\n",
    "\"\"\")\n",
    "\n",
    "data_9 = pd.read_sql_query(query, connection)\n",
    "print(data_9)"
   ]
  },
  {
   "cell_type": "markdown",
   "metadata": {},
   "source": [
    "### Bài 10"
   ]
  },
  {
   "cell_type": "code",
   "execution_count": 76,
   "metadata": {},
   "outputs": [
    {
     "name": "stdout",
     "output_type": "stream",
     "text": [
      "   order_id   total\n",
      "0         1   200.0\n",
      "1         2  1800.0\n",
      "2         3  1500.0\n"
     ]
    },
    {
     "name": "stderr",
     "output_type": "stream",
     "text": [
      "C:\\Users\\Apollonir\\AppData\\Local\\Temp\\ipykernel_2180\\3672412380.py:15: UserWarning: pandas only supports SQLAlchemy connectable (engine/connection) or database string URI or sqlite3 DBAPI2 connection. Other DBAPI2 objects are not tested. Please consider using SQLAlchemy.\n",
      "  data_5 = pd.read_sql_query(query, connection)\n"
     ]
    }
   ],
   "source": [
    "query = (\"\"\"\n",
    "SELECT order_id, SUM(total) total\n",
    " FROM (\n",
    "    SELECT a.id\n",
    "        , a.order_id\n",
    "        , a.quantity\n",
    "        , b.price\n",
    "        , a.quantity * b.price total\n",
    "     FROM order_items a\n",
    "    LEFT JOIN products b on a.product_id = b.id\n",
    ") a\n",
    "GROUP BY order_id\n",
    "\"\"\")\n",
    "\n",
    "data_10 = pd.read_sql_query(query, connection)\n",
    "print(data_10)"
   ]
  }
 ],
 "metadata": {
  "kernelspec": {
   "display_name": "base",
   "language": "python",
   "name": "python3"
  },
  "language_info": {
   "codemirror_mode": {
    "name": "ipython",
    "version": 3
   },
   "file_extension": ".py",
   "mimetype": "text/x-python",
   "name": "python",
   "nbconvert_exporter": "python",
   "pygments_lexer": "ipython3",
   "version": "3.10.16"
  }
 },
 "nbformat": 4,
 "nbformat_minor": 2
}
