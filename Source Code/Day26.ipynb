{
 "cells": [
  {
   "cell_type": "code",
   "execution_count": null,
   "metadata": {},
   "outputs": [
    {
     "name": "stdout",
     "output_type": "stream",
     "text": [
      "P(Sốt=Cao|Flu=Có) = 0.3750\n",
      "P(Sốt=Cao|Flu=Không) = 0.1667\n",
      "P(Ho=Có|Flu=Có) = 0.6250\n",
      "P(Ho=Có|Flu=Không) = 0.5000\n",
      "P(Đau họng=Có|Flu=Có) = 0.7500\n",
      "P(Đau họng=Có|Flu=Không) = 0.5000\n",
      "P(Mệt mỏi=Không|Flu=Có) = 0.3750\n",
      "P(Mệt mỏi=Không|Flu=Không) = 0.5000\n",
      "\n",
      "Kết quả Naive Bayes:\n",
      "P(Flu = Có|X) = 0.8260\n",
      "P(Flu = Không|X) = 0.1740\n",
      "\n",
      "Kết luận: Bệnh nhân có khả năng bị cúm.\n"
     ]
    }
   ],
   "source": [
    "import numpy as np\n",
    "import pandas as pd\n",
    "\n",
    "# Dữ liệu huấn luyện\n",
    "# Tạo DataFrame chứa dữ liệu bệnh nhân\n",
    "# Your code here\n",
    "\n",
    "data = pd.DataFrame({\n",
    "    \"Sốt\": [\"Cao \", \"Cao\", \"Cao \", \"Thấp\", \" Cao \", \"Thấp\", \"Thấp\", \" Cao \", \"Thấp\", \"Cao\"],\n",
    "    \"Ho\": [\"Có\", \"Không\", \"Có\", \"Có\", \"Có\", \"Không\", \"Có\", \"Không\", \"Không\", \"Có\"],\n",
    "    \"Đau họng\": [\"Có\", \"Có\", \"Không\", \"Có\", \"Có\", \"Có\", \"Không\", \"Có\", \"Không\", \"Có\"],\n",
    "    \"Mệt mỏi\": [\"Có\", \"Không\", \"Có\", \"Có\", \"Không\", \"Không\", \"Có\", \"Có\", \"Không\", \"Có\"],\n",
    "    \"Flu\": [\"Có\", \"Có\", \"Có\", \"Không\", \"Có\", \"Không\", \"Không\", \"Có\", \"Không\", \"Có\"]\n",
    "})\n",
    "\n",
    "# Dữ liệu bệnh nhân cần dự đoán\n",
    "new_patient = {\"Sốt\": \"Cao\", \"Ho\": \"Có\", \"Đau họng\": \"Có\", \"Mệt mỏi\": \"Không\"}\n",
    "\n",
    "# Tính xác suất tiên nghiệm P(C)\n",
    "P_flu = data[\"Flu\"].value_counts(normalize = True)[\"Có\"] # P(C =1)\n",
    "P_not_flu = 1 - P_flu # P(C=0)\n",
    "\n",
    "# Hàm tính xác suất có điều kiện P(x_i |C) với Laplace smoothing\n",
    "def conditional_prob(feature, value, flu_status):\n",
    "    # Laplace smoothing thêm 1 vào tử số để tránh xác suất = 0\n",
    "    # Ví dụ: Nếu không có trường hợp nào \"Sốt=Cao\" khi \"Flu=Có\" thì P(Sốt=Cao|Flu=Có) = 0\n",
    "    # Điều này sẽ làm cho tích các xác suất = 0, gây mất thông tin\n",
    "    count_feature = data[(data[feature] == value) & (data[\"Flu\"] == flu_status)].shape[0]\n",
    "\n",
    "    # Thêm 2 vào mẫu số vì mỗi đặc trưng có 2 giá trị (VD: Sốt: Cao/Thấp)\n",
    "    # Để đảm bảo tổng xác suất = 1: P(Cao|Flu) + P(Thấp|Flu) = 1\n",
    "    count_flu = data[data[\"Flu\"] == flu_status].shape[0]\n",
    "    prob = (count_feature + 1) / (count_flu + 2)\n",
    "\n",
    "    print(f\"P({feature}={value}|Flu={flu_status}) = {prob:.4f}\")\n",
    "    \n",
    "    return prob\n",
    "\n",
    "# Tính P(X|C) = P(x_1 |C) * P(x_2 |C) * ... * P( x_n |C) theo Naive Bayes\n",
    "P_X_given_flu = 1 # P(X|C=1)\n",
    "P_X_given_not_flu = 1 # P(X|C =0)\n",
    "\n",
    "for feature, value in new_patient.items():\n",
    "    P_X_given_flu *= conditional_prob(feature, value, \"Có\")\n",
    "    # print(f\"P_X_given_flu: {P_X_given_flu}\")\n",
    "    P_X_given_not_flu *= conditional_prob(feature, value, \"Không\")\n",
    "    # print(f\"P_X_given_not_flu: {P_X_given_not_flu}\")\n",
    "\n",
    "# Tính P(C|X) trực tiếp từ tỷ lệ(không cần P(X))\n",
    "numerator_flu = P_X_given_flu * P_flu\n",
    "numerator_not_flu = P_X_given_not_flu * P_not_flu\n",
    "\n",
    "# Chu ẩn hóa xác suất\n",
    "total = numerator_flu + numerator_not_flu\n",
    "P_flu_given_X = numerator_flu/ total\n",
    "P_not_flu_given_X = numerator_not_flu/ total\n",
    "\n",
    "print(\"\\nKết quả Naive Bayes:\")\n",
    "print(f\"P(Flu = Có|X) = {P_flu_given_X:.4f}\")\n",
    "print(f\"P(Flu = Không|X) = {P_not_flu_given_X:.4f}\")\n",
    "\n",
    "# Kết luận\n",
    "print(\"\\nKết luận:\", \"Bệnh nhân có khả năng bị cúm.\" if P_flu_given_X > P_not_flu_given_X \n",
    "else \"Bệnh nhân KHÔNG có khả năng bị cúm.\")\n"
   ]
  },
  {
   "cell_type": "code",
   "execution_count": 2,
   "metadata": {},
   "outputs": [
    {
     "data": {
      "text/plain": [
       "10"
      ]
     },
     "execution_count": 2,
     "metadata": {},
     "output_type": "execute_result"
    }
   ],
   "source": [
    "data.shape[0]"
   ]
  },
  {
   "cell_type": "markdown",
   "metadata": {},
   "source": [
    "$$P(A|B) = \\frac{P(A \\cap B)}{P(B)}$$\n"
   ]
  },
  {
   "cell_type": "markdown",
   "metadata": {},
   "source": [
    "$$P(Y|X) = \\frac{P(X|Y)P(Y)}{P(X)}$$\n"
   ]
  },
  {
   "cell_type": "markdown",
   "metadata": {},
   "source": [
    "$$P(A \\cap B) = P(A|B)P(B) = P(B|A)P(A)$$\n"
   ]
  }
 ],
 "metadata": {
  "kernelspec": {
   "display_name": "base",
   "language": "python",
   "name": "python3"
  },
  "language_info": {
   "codemirror_mode": {
    "name": "ipython",
    "version": 3
   },
   "file_extension": ".py",
   "mimetype": "text/x-python",
   "name": "python",
   "nbconvert_exporter": "python",
   "pygments_lexer": "ipython3",
   "version": "3.12.3"
  }
 },
 "nbformat": 4,
 "nbformat_minor": 2
}
