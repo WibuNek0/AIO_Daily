{
 "cells": [
  {
   "cell_type": "markdown",
   "metadata": {},
   "source": [
    "#### Cài đặt lớp TreeNode"
   ]
  },
  {
   "cell_type": "code",
   "execution_count": null,
   "metadata": {},
   "outputs": [],
   "source": [
    "class TreeNode:\n",
    "    def __init__(self, value):\n",
    "        self.value = value\n",
    "        self.children = []\n",
    "\n",
    "    def add_child(self, child):\n",
    "        self.children.append(child)\n",
    "\n",
    "    def remove_child(self, child):\n",
    "        self.children = [c for c in self.children if c != child]\n",
    "\n",
    "    def print_tree(self, level =0):\n",
    "        print(\" \" * (level * 4) + \"| - - \" + self.value)\n",
    "\n",
    "        for child in self.children:\n",
    "            child.print_tree(level + 1)"
   ]
  },
  {
   "cell_type": "markdown",
   "metadata": {},
   "source": [
    "#### Cài đặt lớp Tree"
   ]
  },
  {
   "cell_type": "code",
   "execution_count": null,
   "metadata": {},
   "outputs": [],
   "source": [
    "class Tree:\n",
    "    def __init__(self, root_value):\n",
    "        self.root = TreeNode(root_value)\n",
    "\n",
    "    def find(self, value, node = None):\n",
    "        if node is None:\n",
    "            node = self.root\n",
    "        if node.value == value:\n",
    "            return node\n",
    "        for child in node.children:\n",
    "            found = self.find(value, child)\n",
    "        if found:\n",
    "            return found\n",
    "        return None\n",
    "\n",
    "    def insert(self, parent_value, child_value):\n",
    "        parent_node = self.find(parent_value)\n",
    "        if parent_node:\n",
    "            parent_node.add_child(TreeNode(child_value))\n",
    "        else:\n",
    "            print(f\"Nút cha '{parent_value}' không tồn tại.\")\n",
    "\n",
    "    def print_tree(self):\n",
    "        self.root.print_tree()"
   ]
  },
  {
   "cell_type": "markdown",
   "metadata": {},
   "source": [
    "#### Duyệt cây theo BFS (Breadth-First Search)"
   ]
  },
  {
   "cell_type": "code",
   "execution_count": 3,
   "metadata": {},
   "outputs": [],
   "source": [
    "from collections import deque\n",
    "\n",
    "class Tree:\n",
    "    def __init__(self, root_value):\n",
    "        self.root = TreeNode(root_value)\n",
    "\n",
    "    def traverse_bfs(self):\n",
    "        if not self.root:\n",
    "            return\n",
    "        queue = deque([self.root])\n",
    "        while queue:\n",
    "            node = queue.popleft()\n",
    "            print(node.value, end =\" \")\n",
    "        for child in node.children:\n",
    "            queue.append(child)\n",
    "            print()"
   ]
  },
  {
   "cell_type": "code",
   "execution_count": 4,
   "metadata": {},
   "outputs": [
    {
     "name": "stdout",
     "output_type": "stream",
     "text": [
      "Cây ban đầu:\n",
      "| - - A\n",
      "    | - - B\n",
      "        | - - D\n",
      "        | - - E\n",
      "    | - - C\n",
      "        | - - F\n",
      "\n",
      "Duyệt cây theo BFS:\n",
      "A \n",
      "\n"
     ]
    }
   ],
   "source": [
    "# Khởi tạo cây\n",
    "tree = Tree (\"A\")\n",
    "\n",
    "# Thêm các nút con vào cây\n",
    "tree.root.add_child(TreeNode(\"B\"))\n",
    "tree.root.add_child(TreeNode(\"C\"))\n",
    "\n",
    "tree.root.children[0].add_child(TreeNode(\"D\"))\n",
    "tree.root.children[0].add_child(TreeNode(\"E\"))\n",
    "tree.root.children[1].add_child(TreeNode(\"F\"))\n",
    "\n",
    "# In cây theo dạng phân cấp\n",
    "print(\"Cây ban đầu:\")\n",
    "tree.root.print_tree()\n",
    "\n",
    "# Duy ệt cây theo BFS\n",
    "print(\"\\nDuyệt cây theo BFS:\")\n",
    "tree.traverse_bfs()\n"
   ]
  }
 ],
 "metadata": {
  "kernelspec": {
   "display_name": "base",
   "language": "python",
   "name": "python3"
  },
  "language_info": {
   "codemirror_mode": {
    "name": "ipython",
    "version": 3
   },
   "file_extension": ".py",
   "mimetype": "text/x-python",
   "name": "python",
   "nbconvert_exporter": "python",
   "pygments_lexer": "ipython3",
   "version": "3.12.3"
  }
 },
 "nbformat": 4,
 "nbformat_minor": 2
}
