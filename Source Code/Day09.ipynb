{
 "cells": [
  {
   "cell_type": "markdown",
   "metadata": {},
   "source": [
    "### Bài 1"
   ]
  },
  {
   "cell_type": "code",
   "execution_count": 23,
   "metadata": {},
   "outputs": [
    {
     "data": {
      "text/plain": [
       "[1, 2, 3, 4, 5, 6, 7, 8, 9, 10]"
      ]
     },
     "execution_count": 23,
     "metadata": {},
     "output_type": "execute_result"
    }
   ],
   "source": [
    "lst_data = [i for i in range(1, 11)]\n",
    "lst_data"
   ]
  },
  {
   "cell_type": "code",
   "execution_count": 24,
   "metadata": {},
   "outputs": [
    {
     "name": "stdout",
     "output_type": "stream",
     "text": [
      "5.5\n"
     ]
    }
   ],
   "source": [
    "lst_data.sort()\n",
    "\n",
    "def median(lst_data):\n",
    "    index = len(lst_data)// 2\n",
    "\n",
    "    if len(lst_data) % 2 != 0:\n",
    "        m = lst_data[index]\n",
    "    else: \n",
    "        m = (lst_data[index] + lst_data[index - 1])/ 2\n",
    "    return m\n",
    "\n",
    "print(median(lst_data))"
   ]
  },
  {
   "cell_type": "code",
   "execution_count": 15,
   "metadata": {},
   "outputs": [
    {
     "name": "stdout",
     "output_type": "stream",
     "text": [
      "[9, 7, 5, 3, 1]\n"
     ]
    }
   ],
   "source": [
    "lst_odd_filter = []\n",
    "\n",
    "for i in lst_data: \n",
    "    if i % 2 != 0: \n",
    "        lst_odd_filter.append(i)\n",
    "\n",
    "lst_odd_filter.sort(reverse= True)\n",
    "print(lst_odd_filter)"
   ]
  },
  {
   "cell_type": "markdown",
   "metadata": {},
   "source": [
    "### Bài 2"
   ]
  },
  {
   "cell_type": "code",
   "execution_count": 19,
   "metadata": {},
   "outputs": [
    {
     "data": {
      "text/plain": [
       "[1, 2, 3, 4, 5, 6, 7, 8, 9, 10]"
      ]
     },
     "execution_count": 19,
     "metadata": {},
     "output_type": "execute_result"
    }
   ],
   "source": [
    "lst_data = [i for i in range(1, 11)]\n",
    "lst_data"
   ]
  },
  {
   "cell_type": "code",
   "execution_count": 28,
   "metadata": {},
   "outputs": [
    {
     "name": "stdout",
     "output_type": "stream",
     "text": [
      "6.0\n",
      "5.0\n"
     ]
    }
   ],
   "source": [
    "lst_odd = []\n",
    "lst_even = []\n",
    "\n",
    "for i in lst_data:\n",
    "    if i % 2 != 0:\n",
    "        lst_odd.append(i)\n",
    "    else:\n",
    "        lst_even.append(i)\n",
    "\n",
    "def mean(lst_data):\n",
    "    sum = 0\n",
    "    for i in lst_data:\n",
    "        sum += i\n",
    "    \n",
    "    mean = sum/len(lst_data)\n",
    "    return mean\n",
    "\n",
    "print(mean(lst_even))\n",
    "print(mean(lst_odd))"
   ]
  },
  {
   "cell_type": "code",
   "execution_count": 29,
   "metadata": {},
   "outputs": [
    {
     "name": "stdout",
     "output_type": "stream",
     "text": [
      "5.5\n",
      "5.5\n"
     ]
    }
   ],
   "source": [
    "print(median(lst_data))\n",
    "print(mean(lst_data))"
   ]
  },
  {
   "cell_type": "markdown",
   "metadata": {},
   "source": [
    "==> Mean và median của lst_data bằng nhau"
   ]
  }
 ],
 "metadata": {
  "kernelspec": {
   "display_name": "Python 3",
   "language": "python",
   "name": "python3"
  },
  "language_info": {
   "codemirror_mode": {
    "name": "ipython",
    "version": 3
   },
   "file_extension": ".py",
   "mimetype": "text/x-python",
   "name": "python",
   "nbconvert_exporter": "python",
   "pygments_lexer": "ipython3",
   "version": "3.13.0"
  }
 },
 "nbformat": 4,
 "nbformat_minor": 2
}
