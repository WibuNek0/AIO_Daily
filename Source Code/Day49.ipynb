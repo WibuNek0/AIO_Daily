{
 "cells": [
  {
   "cell_type": "code",
   "execution_count": 1,
   "metadata": {},
   "outputs": [],
   "source": [
    "import pandas as pd\n",
    "import mysql.connector"
   ]
  },
  {
   "cell_type": "code",
   "execution_count": 5,
   "metadata": {},
   "outputs": [],
   "source": [
    "connection = mysql.connector.connect(\n",
    "    host= 'localhost',         \n",
    "    user= 'root',             \n",
    "    password= '123456', \n",
    "    database = 'day_49'     \n",
    ")\n",
    "cursor = connection.cursor()"
   ]
  },
  {
   "cell_type": "code",
   "execution_count": 3,
   "metadata": {},
   "outputs": [],
   "source": [
    "cursor.execute(\"\"\"\n",
    "CREATE TABLE customers (\n",
    "    id INTEGER PRIMARY KEY AUTO_INCREMENT,\n",
    "    name VARCHAR(200) NOT NULL, \n",
    "    city VARCHAR(200) NOT NULL\n",
    ");\n",
    "\"\"\")"
   ]
  },
  {
   "cell_type": "code",
   "execution_count": 4,
   "metadata": {},
   "outputs": [],
   "source": [
    "cursor.execute(\"\"\"\n",
    "INSERT INTO customers (id, name, city) VALUES\n",
    "(1, 'Alice', 'Hanoi'),\n",
    "(2, 'Bob', 'Ho Chi Minh'),\n",
    "(3, 'Charlie', 'Hanoi');\n",
    "\"\"\")\n",
    "\n",
    "connection.commit()"
   ]
  },
  {
   "cell_type": "code",
   "execution_count": 5,
   "metadata": {},
   "outputs": [],
   "source": [
    "cursor.execute(\"\"\"\n",
    "CREATE TABLE orders (\n",
    "    id INTEGER PRIMARY KEY AUTO_INCREMENT,\n",
    "    customer_id INTEGER NOT NULL,\n",
    "    order_date DATE NOT NULL,\n",
    "    total INTEGER NOT NULL,\n",
    "    FOREIGN KEY (customer_id) REFERENCES customers(id)\n",
    ");\n",
    "\"\"\")"
   ]
  },
  {
   "cell_type": "code",
   "execution_count": 6,
   "metadata": {},
   "outputs": [],
   "source": [
    "cursor.execute(\"\"\"\n",
    "INSERT INTO orders (id, customer_id, order_date, total) VALUES\n",
    "(1, 1, '2024-01-10', 500),\n",
    "(2, 1, '2024-03-01', 800),\n",
    "(3, 2, '2024-02-20', 1200),\n",
    "(4, 3, '2024-01-15', 200);\n",
    "\"\"\")\n",
    "\n",
    "connection.commit()"
   ]
  },
  {
   "cell_type": "code",
   "execution_count": 7,
   "metadata": {},
   "outputs": [],
   "source": [
    "cursor.execute(\"\"\"\n",
    "CREATE TABLE products (\n",
    "    id INTEGER PRIMARY KEY AUTO_INCREMENT,\n",
    "    name VARCHAR(200) NOT NULL,\n",
    "    price INTEGER NOT NULL\n",
    ");\n",
    "\"\"\")"
   ]
  },
  {
   "cell_type": "code",
   "execution_count": 8,
   "metadata": {},
   "outputs": [],
   "source": [
    "cursor.execute(\"\"\"\n",
    "INSERT INTO products (id, name, price) VALUES\n",
    "(1, 'Laptop', 1500),\n",
    "(2, 'Mouse', 50),\n",
    "(3, 'Keyboard', 100),\n",
    "(4, 'Monitor', 300);\n",
    "\"\"\")\n",
    "\n",
    "connection.commit()"
   ]
  },
  {
   "cell_type": "code",
   "execution_count": 9,
   "metadata": {},
   "outputs": [],
   "source": [
    "cursor.execute(\"\"\"\n",
    "CREATE TABLE order_items (\n",
    "    id INTEGER PRIMARY KEY AUTO_INCREMENT,\n",
    "    order_id INTEGER NOT NULL,\n",
    "    product_id INTEGER NOT NULL,\n",
    "    quantity INTEGER NOT NULL,\n",
    "    FOREIGN KEY (order_id) REFERENCES orders(id),\n",
    "    FOREIGN KEY (product_id) REFERENCES products(id)\n",
    ");\n",
    "\"\"\")"
   ]
  },
  {
   "cell_type": "code",
   "execution_count": 10,
   "metadata": {},
   "outputs": [],
   "source": [
    "cursor.execute(\"\"\"\n",
    "INSERT INTO order_items (id, order_id, product_id, quantity) VALUES\n",
    "(1, 1, 2, 2),\n",
    "(2, 1, 3, 1),\n",
    "(3, 2, 1, 1),\n",
    "(4, 2, 4, 1),\n",
    "(5, 3, 1, 1);\n",
    "\"\"\")\n",
    "\n",
    "connection.commit()"
   ]
  },
  {
   "cell_type": "code",
   "execution_count": 11,
   "metadata": {},
   "outputs": [],
   "source": [
    "cursor.execute(\"\"\"\n",
    "CREATE TABLE employees (\n",
    "    id INTEGER PRIMARY KEY AUTO_INCREMENT,\n",
    "    name VARCHAR(200) NOT NULL,\n",
    "    department VARCHAR(200) NOT NULL\n",
    ");\n",
    "\"\"\")"
   ]
  },
  {
   "cell_type": "code",
   "execution_count": 12,
   "metadata": {},
   "outputs": [],
   "source": [
    "cursor.execute(\"\"\"\n",
    "INSERT INTO employees (id, name, department) VALUES\n",
    "(1, 'David', 'Sales'),\n",
    "(2, 'Emma', 'Support'),\n",
    "(3, 'Frank', 'Sales');\n",
    "\"\"\")\n",
    "\n",
    "connection.commit()"
   ]
  },
  {
   "cell_type": "code",
   "execution_count": 13,
   "metadata": {},
   "outputs": [],
   "source": [
    "cursor.execute(\"\"\"\n",
    "CREATE TABLE order_assignments (\n",
    "    id INTEGER PRIMARY KEY AUTO_INCREMENT,\n",
    "    order_id INTEGER NOT NULL,\n",
    "    employee_id INTEGER NOT NULL,\n",
    "    FOREIGN KEY (order_id) REFERENCES orders(id),\n",
    "    FOREIGN KEY (employee_id) REFERENCES employees(id)\n",
    ");\n",
    "\"\"\")"
   ]
  },
  {
   "cell_type": "code",
   "execution_count": 14,
   "metadata": {},
   "outputs": [],
   "source": [
    "cursor.execute(\"\"\"\n",
    "INSERT INTO order_assignments (id, order_id, employee_id) VALUES\n",
    "(1, 1, 1),\n",
    "(2, 2, 3),\n",
    "(3, 3, 2);\n",
    "\"\"\")\n",
    "\n",
    "connection.commit()"
   ]
  },
  {
   "cell_type": "markdown",
   "metadata": {},
   "source": [
    "### Bài 1"
   ]
  },
  {
   "cell_type": "code",
   "execution_count": 3,
   "metadata": {},
   "outputs": [
    {
     "name": "stdout",
     "output_type": "stream",
     "text": [
      "Stored procedure created.\n"
     ]
    }
   ],
   "source": [
    "cursor.execute(\"DROP PROCEDURE IF EXISTS ComputeTotalOrderAmount\")\n",
    "cursor.execute(\"\"\"\n",
    "CREATE PROCEDURE ComputeTotalOrderAmount(IN customer_id INT, OUT total_order_amount INT)\n",
    "BEGIN\n",
    "    SELECT COUNT(o.id) INTO total_order_amount\n",
    "    FROM orders o\n",
    "    WHERE o.customer_id = customer_id;\n",
    "END;\n",
    "\"\"\")\n",
    "connection.commit()\n",
    "cursor.close()\n",
    "connection.close()\n",
    "print(\"Stored procedure created.\")"
   ]
  },
  {
   "cell_type": "code",
   "execution_count": 6,
   "metadata": {},
   "outputs": [
    {
     "name": "stdout",
     "output_type": "stream",
     "text": [
      "Tổng số đơn hàng: 2\n"
     ]
    }
   ],
   "source": [
    "cursor = connection.cursor()\n",
    "args = [1, 0]  # 0 là placeholder cho OUT\n",
    "results = cursor.callproc('ComputeTotalOrderAmount', args)\n",
    "\n",
    "# OUT nằm ở vị trí thứ 2 trong mảng args\n",
    "print(\"Tổng số đơn hàng:\", results[1])"
   ]
  }
 ],
 "metadata": {
  "kernelspec": {
   "display_name": "base",
   "language": "python",
   "name": "python3"
  },
  "language_info": {
   "codemirror_mode": {
    "name": "ipython",
    "version": 3
   },
   "file_extension": ".py",
   "mimetype": "text/x-python",
   "name": "python",
   "nbconvert_exporter": "python",
   "pygments_lexer": "ipython3",
   "version": "3.10.16"
  }
 },
 "nbformat": 4,
 "nbformat_minor": 2
}
