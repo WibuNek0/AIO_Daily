{
 "cells": [
  {
   "cell_type": "code",
   "execution_count": null,
   "metadata": {},
   "outputs": [],
   "source": [
    "import numpy as np\n",
    "import matplotlib.pyplot as plt\n",
    "\n",
    "# Dữ liệu mẫu\n",
    "X = np.array([...]) # Như trong bảng dữ liệu\n",
    "y = np.array([...])\n",
    "\n",
    "class LinearRegression:\n",
    "    def __init__(self):\n",
    "        # Khởi tạo weights và bias bằng 0\n",
    "        self.w = np.zeros(X.shape[1]) # weights cho 3 features\n",
    "        self.b = 0 # bias\n",
    "\n",
    "    def compute_gradients(self, X, y):\n",
    "        # Your code here #\n",
    "\n",
    "        return dw, db\n",
    "\n",
    "    def fit(self, X, y, learning_rate = 0.001, epochs = 10):\n",
    "        for epoch in range(epochs):\n",
    "            # Your code here #\n",
    "            print(f'Epoch {epoch}, Loss: {loss:.2f}')\n",
    "\n",
    "    def predict(self, X):\n",
    "        # Your code here #\n",
    "\n",
    "# Normalize chỉ features X để tránh overflow\n",
    "X_normalized = (X - np.mean(X, axis =0)) / np.std(X, axis =0)\n",
    "\n",
    "# Khởi tạo và huấn luyện mô hình\n",
    "model = LinearRegression()\n",
    "model.fit(X_normalized, y, learning_rate = 0.05, epochs = 1000)\n",
    "\n",
    "# In ra weights và bias cuối cùng\n",
    "print(\"\\nFinal weights:\", model.w)\n",
    "print(\"Final bias:\", model.b)\n",
    "\n",
    "# Dự đoán và so sánh kết quả\n",
    "y_pred = model.predict(X_normalized)\n",
    "\n",
    "print(\"\\nSo sánh kết quả thực tế và dự đoán:\")\n",
    "for i in range(5):\n",
    "    print(f\"Thực tế: {y[i]:.2f}, Dự đoán: {y_pred[i]:.2f}\")\n",
    "\n",
    "# ######################################\n",
    "# Đáp số #\n",
    "# So sánh kết quả thực tế và dự đoán: #\n",
    "# Thực tế: 1800.00 , Dự đoán: 1794.78 #\n",
    "# Thực tế: 1825.00 , Dự đoán: 1822.10 #\n",
    "# Thực tế: 1795.00 , Dự đoán: 1789.47 #\n",
    "# Thực tế: 1850.00 , Dự đoán: 1850.66 #\n",
    "# Thực tế: 1880.00 , Dự đoán: 1878.38 #\n",
    "# ######################################"
   ]
  }
 ],
 "metadata": {
  "kernelspec": {
   "display_name": "base",
   "language": "python",
   "name": "python3"
  },
  "language_info": {
   "name": "python",
   "version": "3.12.3"
  }
 },
 "nbformat": 4,
 "nbformat_minor": 2
}
