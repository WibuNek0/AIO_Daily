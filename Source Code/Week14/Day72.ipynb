{
 "cells": [
  {
   "cell_type": "code",
   "execution_count": null,
   "metadata": {
    "vscode": {
     "languageId": "plaintext"
    }
   },
   "outputs": [],
   "source": [
    "dataset = [\n",
    "{\"name\": \"img1.png\", \"label\": \"benign\", \"blurriness\": 0.4, \"similarity\": 0.92},\n",
    "{\"name\": \"img2.png\", \"label\": None, \"blurriness\": 0.6, \"similarity\": 0.95},\n",
    "{\"name\": \"img3.png\", \"label\": \"malignant\", \"blurriness\": 0.3, \"similarity\": 0.84},\n",
    "{\"name\": \"img4.png\", \"label\": None, \"blurriness\": 0.5, \"similarity\": 0.88}\n",
    "]\n"
   ]
  }
 ],
 "metadata": {
  "language_info": {
   "name": "python"
  }
 },
 "nbformat": 4,
 "nbformat_minor": 2
}
