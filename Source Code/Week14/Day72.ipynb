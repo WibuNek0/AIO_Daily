{
 "cells": [
  {
   "cell_type": "code",
   "execution_count": 2,
   "metadata": {},
   "outputs": [],
   "source": [
    "dataset = [\n",
    "{\"name\": \"img1.png\", \"label\": \"benign\", \"blurriness\": 0.4, \"similarity\": 0.92},\n",
    "{\"name\": \"img2.png\", \"label\": None, \"blurriness\": 0.6, \"similarity\": 0.95},\n",
    "{\"name\": \"img3.png\", \"label\": \"malignant\", \"blurriness\": 0.3, \"similarity\": 0.84},\n",
    "{\"name\": \"img4.png\", \"label\": None, \"blurriness\": 0.5, \"similarity\": 0.88}\n",
    "]"
   ]
  },
  {
   "cell_type": "markdown",
   "metadata": {},
   "source": [
    "### Bước 1"
   ]
  },
  {
   "cell_type": "code",
   "execution_count": 6,
   "metadata": {},
   "outputs": [
    {
     "name": "stdout",
     "output_type": "stream",
     "text": [
      "[1, 3]\n"
     ]
    }
   ],
   "source": [
    "def find_unlabeled(dataset):\n",
    "    missing_label = []\n",
    "\n",
    "    for i in range(len(dataset)):\n",
    "        if dataset[i]['label'] is None: \n",
    "            missing_label.append(i)\n",
    "    return missing_label\n",
    "\n",
    "print(find_unlabeled(dataset))"
   ]
  },
  {
   "cell_type": "markdown",
   "metadata": {},
   "source": [
    "### Bước 2"
   ]
  },
  {
   "cell_type": "code",
   "execution_count": 7,
   "metadata": {},
   "outputs": [
    {
     "name": "stdout",
     "output_type": "stream",
     "text": [
      "['img3.png', 'img1.png', 'img4.png', 'img2.png']\n"
     ]
    }
   ],
   "source": [
    "def sort_by_blurriness(dataset):\n",
    "    n = len(dataset)\n",
    "    for i in range(n):\n",
    "        swapped = False\n",
    "        for j in range(0, n - i - 1):\n",
    "            if dataset[j]['blurriness'] > dataset[j+1]['blurriness']:\n",
    "                dataset[j], dataset[j+1] = dataset[j+1], dataset[j]\n",
    "                swapped = True\n",
    "        if not swapped:\n",
    "            break\n",
    "    return dataset\n",
    "\n",
    "sorted_imgs = sort_by_blurriness(dataset)\n",
    "print([img['name'] for img in sorted_imgs])"
   ]
  },
  {
   "cell_type": "markdown",
   "metadata": {},
   "source": [
    "### Bước 3"
   ]
  },
  {
   "cell_type": "code",
   "execution_count": 10,
   "metadata": {},
   "outputs": [
    {
     "name": "stdout",
     "output_type": "stream",
     "text": [
      "True\n"
     ]
    }
   ],
   "source": [
    "def exists_similar_image(dataset, threshold):\n",
    "    left, right = 0, len(dataset) - 1\n",
    "    while left <= right: \n",
    "        mid = (left + right) // 2\n",
    "        if dataset[mid]['similarity'] > threshold:\n",
    "            return True\n",
    "        else: \n",
    "            right = mid - 1\n",
    "    return False\n",
    "\n",
    "print(exists_similar_image(dataset, 0.9))"
   ]
  },
  {
   "cell_type": "markdown",
   "metadata": {},
   "source": [
    "### Mở rộng"
   ]
  },
  {
   "cell_type": "code",
   "execution_count": 11,
   "metadata": {},
   "outputs": [
    {
     "data": {
      "text/plain": [
       "'Đã ghi log vào file low_quality_images.txt'"
      ]
     },
     "execution_count": 11,
     "metadata": {},
     "output_type": "execute_result"
    }
   ],
   "source": [
    "def log_low_quality_images(dataset, blurriness_threshold, similarity_threshold, filename=\"low_quality_images.txt\"):\n",
    "    with open(filename, \"w\") as f:\n",
    "        for img in dataset:\n",
    "            # Kiểm tra hình ảnh có độ mờ cao hoặc độ tương đồng thấp\n",
    "            if img['blurriness'] > blurriness_threshold or img['similarity'] < similarity_threshold:\n",
    "                f.write(f\"Tên ảnh: {img['name']}, Độ mờ: {img['blurriness']}, Độ tương đồng: {img['similarity']}\\n\")\n",
    "    \n",
    "    return f\"Đã ghi log vào file {filename}\"\n",
    "\n",
    "# Sử dụng hàm\n",
    "log_low_quality_images(dataset, blurriness_threshold=0.5, similarity_threshold=0.85)"
   ]
  },
  {
   "cell_type": "code",
   "execution_count": 12,
   "metadata": {},
   "outputs": [
    {
     "name": "stdout",
     "output_type": "stream",
     "text": [
      "Số lượng cặp ảnh trùng: 0\n"
     ]
    }
   ],
   "source": [
    "def check_duplicate_images(dataset, similarity_threshold=0.95, name_similarity_ratio=0.8):\n",
    "    duplicates = []\n",
    "    \n",
    "    # Duyệt qua từng cặp ảnh\n",
    "    for i in range(len(dataset)):\n",
    "        for j in range(i+1, len(dataset)):\n",
    "            img1 = dataset[i]\n",
    "            img2 = dataset[j]\n",
    "            \n",
    "            # Kiểm tra độ tương đồng và độ tương tự của tên tệp\n",
    "            name_similarity = len(set(img1['name']) & set(img2['name'])) / max(len(img1['name']), len(img2['name']))\n",
    "            \n",
    "            if img1['similarity'] >= similarity_threshold and name_similarity >= name_similarity_ratio:\n",
    "                duplicates.append((img1['name'], img2['name'], img1['similarity'], name_similarity))\n",
    "    \n",
    "    return duplicates\n",
    "\n",
    "# Sử dụng hàm\n",
    "duplicates = check_duplicate_images(dataset)\n",
    "print(f\"Số lượng cặp ảnh trùng: {len(duplicates)}\")\n",
    "for pair in duplicates:\n",
    "    print(f\"Ảnh 1: {pair[0]}, Ảnh 2: {pair[1]}, Độ tương đồng: {pair[2]}, Độ tương tự tên: {pair[3]:.2f}\")"
   ]
  },
  {
   "cell_type": "code",
   "execution_count": 13,
   "metadata": {},
   "outputs": [
    {
     "name": "stdout",
     "output_type": "stream",
     "text": [
      "BÁO CÁO TỔNG HỢP:\n",
      "Tổng số ảnh: 4\n",
      "Số ảnh chưa gán nhãn: 2\n",
      "Danh sách ảnh chưa gán nhãn: ['img4.png', 'img2.png']\n",
      "Số ảnh mờ: 1\n",
      "Danh sách ảnh mờ: ['img2.png']\n",
      "Số ảnh tương đồng cao: 2\n",
      "Danh sách ảnh tương đồng cao: ['img1.png', 'img2.png']\n"
     ]
    }
   ],
   "source": [
    "def generate_report(dataset):\n",
    "    # Khởi tạo số liệu thống kê\n",
    "    total_images = len(dataset)\n",
    "    unlabeled_images = sum(1 for img in dataset if img['label'] is None)\n",
    "    high_blurriness = sum(1 for img in dataset if img['blurriness'] > 0.5)\n",
    "    high_similarity = sum(1 for img in dataset if img['similarity'] > 0.9)\n",
    "    \n",
    "    # Danh sách các ảnh theo từng loại\n",
    "    unlabeled_list = [img['name'] for img in dataset if img['label'] is None]\n",
    "    blurry_list = [img['name'] for img in dataset if img['blurriness'] > 0.5]\n",
    "    similar_list = [img['name'] for img in dataset if img['similarity'] > 0.9]\n",
    "    \n",
    "    # Tạo báo cáo\n",
    "    report = {\n",
    "        \"tổng_số_ảnh\": total_images,\n",
    "        \"ảnh_chưa_gán_nhãn\": {\n",
    "            \"số_lượng\": unlabeled_images,\n",
    "            \"danh_sách\": unlabeled_list\n",
    "        },\n",
    "        \"ảnh_mờ\": {\n",
    "            \"số_lượng\": high_blurriness,\n",
    "            \"danh_sách\": blurry_list\n",
    "        },\n",
    "        \"ảnh_tương_đồng_cao\": {\n",
    "            \"số_lượng\": high_similarity,\n",
    "            \"danh_sách\": similar_list\n",
    "        }\n",
    "    }\n",
    "    \n",
    "    return report\n",
    "\n",
    "# Sử dụng hàm\n",
    "report = generate_report(dataset)\n",
    "print(\"BÁO CÁO TỔNG HỢP:\")\n",
    "print(f\"Tổng số ảnh: {report['tổng_số_ảnh']}\")\n",
    "print(f\"Số ảnh chưa gán nhãn: {report['ảnh_chưa_gán_nhãn']['số_lượng']}\")\n",
    "print(f\"Danh sách ảnh chưa gán nhãn: {report['ảnh_chưa_gán_nhãn']['danh_sách']}\")\n",
    "print(f\"Số ảnh mờ: {report['ảnh_mờ']['số_lượng']}\")\n",
    "print(f\"Danh sách ảnh mờ: {report['ảnh_mờ']['danh_sách']}\")\n",
    "print(f\"Số ảnh tương đồng cao: {report['ảnh_tương_đồng_cao']['số_lượng']}\")\n",
    "print(f\"Danh sách ảnh tương đồng cao: {report['ảnh_tương_đồng_cao']['danh_sách']}\")"
   ]
  }
 ],
 "metadata": {
  "kernelspec": {
   "display_name": "base",
   "language": "python",
   "name": "python3"
  },
  "language_info": {
   "codemirror_mode": {
    "name": "ipython",
    "version": 3
   },
   "file_extension": ".py",
   "mimetype": "text/x-python",
   "name": "python",
   "nbconvert_exporter": "python",
   "pygments_lexer": "ipython3",
   "version": "3.10.16"
  }
 },
 "nbformat": 4,
 "nbformat_minor": 2
}
