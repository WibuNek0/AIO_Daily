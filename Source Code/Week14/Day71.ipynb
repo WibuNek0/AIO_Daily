{
 "cells": [
  {
   "cell_type": "markdown",
   "metadata": {},
   "source": [
    "### Bài 1.1 – Tìm prompt chứa từ khoá"
   ]
  },
  {
   "cell_type": "code",
   "execution_count": null,
   "metadata": {},
   "outputs": [],
   "source": [
    "def find_prompt_with_keyword(prompts, keyword):\n",
    "## Your code here ##\n",
    "\n",
    "prompts = [\n",
    "\"Generate a report for patient X.\",\n",
    "\"Summarize the input text.\",\n",
    "\"Suggest a diagnosis based on symptoms.\",\n",
    "\"Translate this to French.\"\n",
    "]\n",
    "print(find_prompt_with_keyword(prompts, \"diagnosis\"))"
   ]
  },
  {
   "cell_type": "markdown",
   "metadata": {},
   "source": [
    "### Bài 1.2 – Tìm mẫu ảnh chưa có annotation\n"
   ]
  },
  {
   "cell_type": "code",
   "execution_count": null,
   "metadata": {},
   "outputs": [],
   "source": [
    "def find_first_unlabeled(images):\n",
    "## Your code here ##\n",
    "\n",
    "images = [\n",
    "{'name': 'img1.png', 'label': 'benign'},\n",
    "{'name': 'img2.png', 'label': None},\n",
    "{'name': 'img3.png', 'label': 'malignant'}\n",
    "]\n",
    "print(find_first_unlabeled(images))"
   ]
  },
  {
   "cell_type": "markdown",
   "metadata": {},
   "source": [
    "### Bài 2.1 – Sắp xếp ảnh theo độ mờ\n"
   ]
  },
  {
   "cell_type": "code",
   "execution_count": null,
   "metadata": {},
   "outputs": [],
   "source": [
    "def sort_by_blurriness(images):\n",
    "## Your code here ##\n",
    "\n",
    "image_data = [\n",
    "{'name': 'img1', 'blurriness': 0.8},\n",
    "{'name': 'img2', 'blurriness': 0.3},\n",
    "{'name': 'img3', 'blurriness': 0.5}\n",
    "]\n",
    "sorted_imgs = sort_by_blurriness(image_data)\n",
    "print([img['name'] for img in sorted_imgs])"
   ]
  },
  {
   "cell_type": "markdown",
   "metadata": {},
   "source": [
    "### Bài 2.2 – Sắp xếp mô hình theo độ chính xác\n"
   ]
  },
  {
   "cell_type": "code",
   "execution_count": null,
   "metadata": {},
   "outputs": [],
   "source": [
    "def sort_models_by_accuracy(models, accuracies):\n",
    "## Your code here ##\n",
    "\n",
    "models = [\"ModelA\", \"ModelB\", \"ModelC\"]\n",
    "accuracies = [0.89, 0.93, 0.91]\n",
    "print(sort_models_by_accuracy(models, accuracies))"
   ]
  },
  {
   "cell_type": "markdown",
   "metadata": {},
   "source": [
    "### Bài 2.3 – Đếm số lần hoán đổi theo loss\n"
   ]
  },
  {
   "cell_type": "code",
   "execution_count": null,
   "metadata": {},
   "outputs": [],
   "source": [
    "def bubble_sort_with_count(arr):\n",
    "    count = 0\n",
    "    ## Your code here ##\n",
    "    return count\n",
    "\n",
    "losses = [0.4, 0.3, 0.5, 0.2]\n",
    "print(bubble_sort_with_count(losses))"
   ]
  },
  {
   "cell_type": "markdown",
   "metadata": {},
   "source": [
    "### Bài 3.1 – Tìm xác suất bệnh >= ngưỡng\n"
   ]
  },
  {
   "cell_type": "code",
   "execution_count": null,
   "metadata": {},
   "outputs": [],
   "source": [
    "def find_first_greater_or_equal(arr, x):\n",
    "    left, right = 0, len(arr) - 1\n",
    "    result = -1\n",
    "    ## Your code here ##\n",
    "    return result\n",
    "\n",
    "probs = [0.12, 0.23, 0.35, 0.47, 0.59, 0.61, 0.74, 0.81]\n",
    "print(find_first_greater_or_equal(probs, 0.6))"
   ]
  },
  {
   "cell_type": "markdown",
   "metadata": {},
   "source": [
    "### Bài 3.2 – Tìm threshold có F1-score tốt nhất\n"
   ]
  },
  {
   "cell_type": "code",
   "execution_count": null,
   "metadata": {},
   "outputs": [],
   "source": [
    "def binary_search_threshold(f1_scores, threshold):\n",
    "    left, right = 0, len(f1_scores) - 1\n",
    "    ## Your code here ##\n",
    "    return None\n",
    "\n",
    "f1_scores = [(0.1, 0.6), (0.2, 0.65), (0.3, 0.7), (0.4, 0.68)]\n",
    "print(binary_search_threshold(f1_scores, 0.3))"
   ]
  },
  {
   "cell_type": "markdown",
   "metadata": {},
   "source": [
    "### Bài 3.3 – Kiểm tra có ảnh tương đồng cao không\n"
   ]
  },
  {
   "cell_type": "code",
   "execution_count": null,
   "metadata": {},
   "outputs": [],
   "source": [
    "def exists_similar_image(similarities, threshold):\n",
    "    left, right = 0, len(similarities) - 1\n",
    "    ## Your code here ##\n",
    "    return False\n",
    "\n",
    "sims = [0.95, 0.89, 0.85, 0.80, 0.75] # descending order\n",
    "print(exists_similar_image(sims, 0.85) )\n"
   ]
  }
 ],
 "metadata": {
  "kernelspec": {
   "display_name": "base",
   "language": "python",
   "name": "python3"
  },
  "language_info": {
   "name": "python",
   "version": "3.10.16"
  }
 },
 "nbformat": 4,
 "nbformat_minor": 2
}
