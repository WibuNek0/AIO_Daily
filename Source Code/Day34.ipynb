{
 "cells": [
  {
   "cell_type": "code",
   "execution_count": 1,
   "metadata": {},
   "outputs": [],
   "source": [
    "import sqlite3\n",
    "import pandas as pd\n",
    "\n",
    "connection = sqlite3.connect('database.sqlite')\n",
    "cursor = connection.cursor()"
   ]
  },
  {
   "cell_type": "code",
   "execution_count": null,
   "metadata": {},
   "outputs": [],
   "source": [
    "cursor.execute(\"\"\"\n",
    "CREATE TABLE STOCK(\n",
    "ID INTERGER PRIMARY KEY,\n",
    "NAME TEXT NOT NULL,\n",
    "BUY INTERGER NOT NULL,\n",
    "INVESTOR TEXT NOT NULL\n",
    ");\n",
    "\"\"\")"
   ]
  },
  {
   "cell_type": "code",
   "execution_count": 18,
   "metadata": {},
   "outputs": [
    {
     "data": {
      "text/plain": [
       "<sqlite3.Cursor at 0x1ccdf873940>"
      ]
     },
     "execution_count": 18,
     "metadata": {},
     "output_type": "execute_result"
    }
   ],
   "source": [
    "cursor.execute (\"\"\"\n",
    "INSERT INTO STOCK(ID, NAME, BUY, INVESTOR)\n",
    "VALUES\n",
    "('1', 'ACB', '29.45', 'Nguyen'),\n",
    "('2', 'VIC', '44.55', 'Nguyen'),\n",
    "('3', 'GMD', '74.30', 'Nguyen'),\n",
    "('4', 'ACB', '28.45', 'Vinh'),\n",
    "('5', 'VIC', '40.55', 'Vinh'),\n",
    "('6', 'GMD', '60.30', 'Vinh');\n",
    "\"\"\" )"
   ]
  },
  {
   "cell_type": "code",
   "execution_count": 19,
   "metadata": {},
   "outputs": [
    {
     "name": "stdout",
     "output_type": "stream",
     "text": [
      "   total_revenue\n",
      "0          277.6\n"
     ]
    }
   ],
   "source": [
    "query = \"\"\"\n",
    "SELECT SUM(BUY) AS total_revenue\n",
    "FROM STOCK;\n",
    "\"\"\"\n",
    "\n",
    "data_sum = pd.read_sql_query(query, connection)\n",
    "print(data_sum)"
   ]
  },
  {
   "cell_type": "code",
   "execution_count": 20,
   "metadata": {},
   "outputs": [
    {
     "name": "stdout",
     "output_type": "stream",
     "text": [
      "  INVESTOR NAME  MAX_PRICE\n",
      "0   Nguyen  GMD       74.3\n",
      "1     Vinh  GMD       60.3\n"
     ]
    }
   ],
   "source": [
    "# Query để lấy thông tin sản phẩm có giá bán thấp nhất\n",
    "query = \"\"\"\n",
    "SELECT INVESTOR, NAME, MAX(BUY) AS MAX_PRICE\n",
    "FROM STOCK\n",
    "GROUP BY INVESTOR;\n",
    "\"\"\"\n",
    "data_max_by_brand = pd.read_sql_query(query, connection)\n",
    "print(data_max_by_brand)"
   ]
  }
 ],
 "metadata": {
  "kernelspec": {
   "display_name": "base",
   "language": "python",
   "name": "python3"
  },
  "language_info": {
   "codemirror_mode": {
    "name": "ipython",
    "version": 3
   },
   "file_extension": ".py",
   "mimetype": "text/x-python",
   "name": "python",
   "nbconvert_exporter": "python",
   "pygments_lexer": "ipython3",
   "version": "3.12.3"
  }
 },
 "nbformat": 4,
 "nbformat_minor": 2
}
