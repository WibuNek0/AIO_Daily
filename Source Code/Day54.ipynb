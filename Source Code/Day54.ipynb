{
 "cells": [
  {
   "cell_type": "code",
   "execution_count": 1,
   "metadata": {},
   "outputs": [
    {
     "name": "stdout",
     "output_type": "stream",
     "text": [
      "E[X] = 2.0999999999999996\n"
     ]
    }
   ],
   "source": [
    "import numpy as np\n",
    "\n",
    "x = np.array([1, 2, 3])\n",
    "p = np.array([0.2, 0.5, 0.3])\n",
    "\n",
    "expectation = np.sum(x * p)\n",
    "print (\"E[X] =\", expectation)"
   ]
  },
  {
   "cell_type": "code",
   "execution_count": null,
   "metadata": {},
   "outputs": [],
   "source": [
    "data = np.random.normal(5, 2, 10000)\n",
    "expectation = np.mean(data)"
   ]
  },
  {
   "cell_type": "code",
   "execution_count": null,
   "metadata": {},
   "outputs": [],
   "source": [
    "y_pred = np.array([0.1, 0.4, 0.6, 0.9])\n",
    "y_true = np.array([0, 0, 1, 1])"
   ]
  },
  {
   "cell_type": "code",
   "execution_count": null,
   "metadata": {},
   "outputs": [],
   "source": [
    "rewards = np.random.choice(\n",
    "np.arange(0, 11), size =100,\n",
    "p =[0.05, 0.1, 0.1, 0.15, 0.1, 0.1, 0.1, 0.1, 0.05, 0.1, 0.05])"
   ]
  },
  {
   "cell_type": "code",
   "execution_count": null,
   "metadata": {},
   "outputs": [],
   "source": [
    "model1 = np.array ([[0.2, 0.5, 0.3],\n",
    "                [0.1 , 0.7 , 0.2]])\n",
    "\n",
    "model2 = np.array([[0.3, 0.4, 0.3],\n",
    "                [0.2, 0.6, 0.2]])\n",
    "\n",
    "labels = np.array([1, 1]) # ground truth"
   ]
  }
 ],
 "metadata": {
  "kernelspec": {
   "display_name": "base",
   "language": "python",
   "name": "python3"
  },
  "language_info": {
   "codemirror_mode": {
    "name": "ipython",
    "version": 3
   },
   "file_extension": ".py",
   "mimetype": "text/x-python",
   "name": "python",
   "nbconvert_exporter": "python",
   "pygments_lexer": "ipython3",
   "version": "3.10.16"
  }
 },
 "nbformat": 4,
 "nbformat_minor": 2
}
