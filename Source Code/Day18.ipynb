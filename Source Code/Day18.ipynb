{
 "cells": [
  {
   "cell_type": "markdown",
   "metadata": {},
   "source": [
    "#### Lớp (Class) và Đối Tượng (Object)"
   ]
  },
  {
   "cell_type": "code",
   "execution_count": 15,
   "metadata": {},
   "outputs": [
    {
     "name": "stdout",
     "output_type": "stream",
     "text": [
      "Buddy\n",
      "Some generic sound\n"
     ]
    }
   ],
   "source": [
    "class Animal:\n",
    "    def __init__(self, name):\n",
    "        self.name = name\n",
    "\n",
    "    def make_sound(self):\n",
    "        return \"Some generic sound\"\n",
    "\n",
    "dog = Animal(\"Buddy\")\n",
    "print(dog.name) # Output: Buddy\n",
    "print(dog.make_sound()) # Output : Some generic sound\n"
   ]
  },
  {
   "cell_type": "markdown",
   "metadata": {},
   "source": [
    "#### Đóng Gói (Encapsulation)\n",
    "Giới hạn truy cập vào dữ liệu, chỉ cho phép truy cập thông qua các phương thức của class."
   ]
  },
  {
   "cell_type": "code",
   "execution_count": null,
   "metadata": {},
   "outputs": [
    {
     "name": "stdout",
     "output_type": "stream",
     "text": [
      "Deposited500, New balance: 1500\n"
     ]
    }
   ],
   "source": [
    "class BankAccount:\n",
    "    def __init__(self, owner, balance):\n",
    "        self.owner = owner\n",
    "        self.__balance = balance # Thuộc tính private\n",
    "\n",
    "    def deposit(self, amount):\n",
    "        self.__balance += amount\n",
    "        return f\"Deposited{amount}, New balance: {self.__balance}\"\n",
    "\n",
    "account = BankAccount(\"Alice\", 1000)\n",
    "print(account.deposit(500)) # Output: Deposited 500, New balance: 1500"
   ]
  },
  {
   "cell_type": "markdown",
   "metadata": {},
   "source": [
    "#### Kế Thừa (Inheritance)\n",
    "Cho phép một class sử dụng lại code từ class khác."
   ]
  },
  {
   "cell_type": "code",
   "execution_count": 16,
   "metadata": {},
   "outputs": [
    {
     "name": "stdout",
     "output_type": "stream",
     "text": [
      "Woof! Woof!\n"
     ]
    }
   ],
   "source": [
    "class Dog(Animal): # Lớp Dog kế thừa từ Animal\n",
    "    def make_sound(self):\n",
    "        return \"Woof! Woof!\"\n",
    "\n",
    "dog = Dog(\"Max\")\n",
    "print(dog.make_sound()) # Output : Woof ! Woof !"
   ]
  },
  {
   "cell_type": "markdown",
   "metadata": {},
   "source": [
    "#### Đa Hình (Polymorphism)\n",
    "Cùng một phương thức nhưng hoạt động khác nhau dựa trên đối tượng sử dụng."
   ]
  },
  {
   "cell_type": "code",
   "execution_count": 18,
   "metadata": {},
   "outputs": [
    {
     "name": "stdout",
     "output_type": "stream",
     "text": [
      "Buddy says Woof! Woof!\n",
      "Whiskers says Meow! Meow!\n"
     ]
    }
   ],
   "source": [
    "class Cat(Animal):\n",
    "    def make_sound(self):\n",
    "        return \"Meow! Meow!\"\n",
    "\n",
    "animals = [Dog(\"Buddy\"), Cat(\"Whiskers\")]\n",
    "for animal in animals :\n",
    "    print(f\"{animal.name} says {animal.make_sound()}\")"
   ]
  },
  {
   "cell_type": "markdown",
   "metadata": {},
   "source": [
    "#### Trừu Tượng (Abstraction)\n",
    "Chỉ cung cấp những gì cần thiết và ẩn bớt những chi tiết không quan trọng."
   ]
  },
  {
   "cell_type": "code",
   "execution_count": null,
   "metadata": {},
   "outputs": [
    {
     "name": "stdout",
     "output_type": "stream",
     "text": [
      "Car is moving on the road\n",
      "Boat is sailing on the water\n"
     ]
    }
   ],
   "source": [
    "from abc import ABC, abstractmethod\n",
    "\n",
    "class Vehicle(ABC):\n",
    "    @abstractmethod\n",
    "    def move(self):\n",
    "        pass\n",
    "\n",
    "class Car(Vehicle):\n",
    "    def move(self):\n",
    "        return \"Car is moving on the road\"\n",
    "\n",
    "class Boat(Vehicle):\n",
    "    def move(self):\n",
    "        return \"Boat is sailing on the water\"\n",
    "\n",
    "car = Car()\n",
    "boat = Boat()\n",
    "print(car.move()) # Output : Car is moving on the road\n",
    "print(boat.move()) # Output : Boat is sailing on the water"
   ]
  },
  {
   "cell_type": "markdown",
   "metadata": {},
   "source": [
    "#### Bài 1"
   ]
  },
  {
   "cell_type": "code",
   "execution_count": 20,
   "metadata": {},
   "outputs": [],
   "source": [
    "class Manufacturer():\n",
    "    def __init__(self, identity, location):\n",
    "        self.identity = identity\n",
    "        self.location = location\n",
    "    \n",
    "    def describe(self):\n",
    "        print(f\"Identity: {self.identity} - Location: {self.location}\")     \n",
    "\n",
    "class Device():\n",
    "    def __init__(self, name, price, identity, location):\n",
    "        self.name = name\n",
    "        self.price = price\n",
    "        self.manufacturer = Manufacturer(identity, location)\n",
    "    \n",
    "    def describe(self):\n",
    "        print(f\">> Name: {self.name} - Price: {self.price}\")\n",
    "        self.manufacturer.describe()\n",
    "           "
   ]
  },
  {
   "cell_type": "code",
   "execution_count": 21,
   "metadata": {},
   "outputs": [
    {
     "name": "stdout",
     "output_type": "stream",
     "text": [
      ">> Name: mouse - Price: 2.5\n",
      "Identity: 9725 - Location: Vietnam\n",
      ">> Name: monitor - Price: 12.5\n",
      "Identity: 11 - Location: Germany\n"
     ]
    }
   ],
   "source": [
    "device1 = Device(name = \"mouse\", price =2.5, identity =9725, location = \"Vietnam\")\n",
    "device1.describe()\n",
    "\n",
    "device2 = Device(name =\"monitor\", price =12.5, identity =11, location =\"Germany\")\n",
    "device2.describe()"
   ]
  },
  {
   "cell_type": "markdown",
   "metadata": {},
   "source": [
    "#### Bài 2"
   ]
  },
  {
   "cell_type": "code",
   "execution_count": 25,
   "metadata": {},
   "outputs": [],
   "source": [
    "class Person: \n",
    "    def __init__(self, name, yob):\n",
    "        self.name = name\n",
    "        self.yob = yob\n",
    "\n",
    "class Student(Person): \n",
    "    def __init__(self, name, yob, grade):\n",
    "        super().__init__(name, yob)\n",
    "        self.grade = grade\n",
    "\n",
    "    def describe(self):\n",
    "        print(f\"Student - Name: {self.name} - YoB: {self.yob} - Grade: {self.grade}\")\n",
    "\n",
    "class Teacher(Person):\n",
    "    def __init__(self, name, yob, subject):\n",
    "        super().__init__(name, yob)\n",
    "        self.subject = subject\n",
    "\n",
    "    def describe(self):\n",
    "        print(f\"Teacher - Name: {self.name} - YoB: {self.yob} - Subject: {self.subject}\")\n",
    "\n",
    "class Doctor(Person):\n",
    "    def __init__(self, name, yob, specialist):\n",
    "        super().__init__(name, yob)\n",
    "        self.specialist = specialist\n",
    "    \n",
    "    def describe(self):\n",
    "        print(f\"Doctor - Name: {self.name} - YoB: {self.yob} - Subject: {self.specialist}\")"
   ]
  },
  {
   "cell_type": "code",
   "execution_count": 26,
   "metadata": {},
   "outputs": [
    {
     "name": "stdout",
     "output_type": "stream",
     "text": [
      "Student - Name: studentA - YoB: 2010 - Grade: 7\n",
      "Teacher - Name: teacherA - YoB: 1969 - Subject: Math\n",
      "Doctor - Name: doctorA - YoB: 1945 - Subject: Endocrinologists\n"
     ]
    }
   ],
   "source": [
    "student1 = Student(name = \"studentA\", yob = 2010, grade = \"7\")\n",
    "student1.describe()\n",
    "\n",
    "teacher1 = Teacher(name = \"teacherA\", yob = 1969, subject = \"Math\")\n",
    "teacher1.describe()\n",
    "\n",
    "doctor1 = Doctor(name = \"doctorA\", yob = 1945, specialist = \"Endocrinologists\")\n",
    "doctor1.describe()"
   ]
  },
  {
   "cell_type": "code",
   "execution_count": 40,
   "metadata": {},
   "outputs": [],
   "source": [
    "class Ward: \n",
    "    def __init__(self, name):\n",
    "        self.name = name\n",
    "        self.people = []\n",
    "    \n",
    "    def addPerson(self, person):\n",
    "        self.people.append(person)\n",
    "\n",
    "    def describe(self):\n",
    "        print(f\"Ward Name: {self.name}\")\n",
    "        for person in self.people:\n",
    "            person.describe()\n",
    "    \n",
    "    def countDoctor(self):\n",
    "        numDoctor = sum(1 for person in self.people if isinstance(person, Doctor))\n",
    "        return numDoctor\n",
    "    \n",
    "    def sortAge(self):\n",
    "        self.people.sort(key= lambda x: x.yob, reverse= True)\n",
    "\n",
    "    def aveTeacherYearOfBirth(self):\n",
    "        teachers = [person for person in self.people if isinstance(person, Teacher)]\n",
    "        if not Teacher:\n",
    "            return 0\n",
    "        avgYoB = sum(t.yob for t in teachers)/len(teachers)\n",
    "        return avgYoB"
   ]
  },
  {
   "cell_type": "code",
   "execution_count": 41,
   "metadata": {},
   "outputs": [
    {
     "name": "stdout",
     "output_type": "stream",
     "text": [
      "Ward Name: Ward1\n",
      "Student - Name: studentA - YoB: 2010 - Grade: 7\n",
      "Teacher - Name: teacherA - YoB: 1969 - Subject: Math\n",
      "Teacher - Name: teacherB - YoB: 1995 - Subject: History\n",
      "Doctor - Name: doctorA - YoB: 1945 - Subject: Endocrinologists\n",
      "Doctor - Name: doctorB - YoB: 1975 - Subject: Cardiologists\n"
     ]
    }
   ],
   "source": [
    "teacher2 = Teacher(name =\"teacherB\", yob =1995, subject =\"History\")\n",
    "doctor2 = Doctor(name =\"doctorB\", yob =1975, specialist =\"Cardiologists\")\n",
    "ward1 = Ward(name =\"Ward1\")\n",
    "ward1.addPerson(student1)\n",
    "ward1.addPerson(teacher1)\n",
    "ward1.addPerson(teacher2)\n",
    "ward1.addPerson(doctor1)\n",
    "ward1.addPerson(doctor2)\n",
    "ward1.describe()"
   ]
  },
  {
   "cell_type": "code",
   "execution_count": 42,
   "metadata": {},
   "outputs": [
    {
     "name": "stdout",
     "output_type": "stream",
     "text": [
      "Number of doctors: 2\n"
     ]
    }
   ],
   "source": [
    "print(f\"Number of doctors: {ward1.countDoctor()}\")"
   ]
  },
  {
   "cell_type": "code",
   "execution_count": 43,
   "metadata": {},
   "outputs": [
    {
     "name": "stdout",
     "output_type": "stream",
     "text": [
      "After sorting Age of Ward1 people\n",
      "Ward Name: Ward1\n",
      "Student - Name: studentA - YoB: 2010 - Grade: 7\n",
      "Teacher - Name: teacherB - YoB: 1995 - Subject: History\n",
      "Doctor - Name: doctorB - YoB: 1975 - Subject: Cardiologists\n",
      "Teacher - Name: teacherA - YoB: 1969 - Subject: Math\n",
      "Doctor - Name: doctorA - YoB: 1945 - Subject: Endocrinologists\n"
     ]
    }
   ],
   "source": [
    "print(\"After sorting Age of Ward1 people\")\n",
    "ward1.sortAge()\n",
    "ward1.describe()"
   ]
  },
  {
   "cell_type": "code",
   "execution_count": 44,
   "metadata": {},
   "outputs": [
    {
     "name": "stdout",
     "output_type": "stream",
     "text": [
      "Average year of birth(teachers): 1982.0\n"
     ]
    }
   ],
   "source": [
    "print(f\"Average year of birth(teachers): {ward1.aveTeacherYearOfBirth()}\")"
   ]
  },
  {
   "cell_type": "markdown",
   "metadata": {},
   "source": [
    "#### Bài 3"
   ]
  },
  {
   "cell_type": "code",
   "execution_count": null,
   "metadata": {},
   "outputs": [],
   "source": [
    "class MyStack:\n",
    "    def __init__(self, capacity):\n",
    "        self.capacity = capacity\n",
    "        self.stack = []\n",
    "    \n",
    "    def isEmpty(self):\n",
    "        return len(self.stack) == 0\n",
    "    \n",
    "    def isFull(self):\n",
    "        return len(self.stack) >= self.capacity\n",
    "    \n",
    "    def push(self, value):\n",
    "        if self.isFull():\n",
    "            print(\"Stack is full\")\n",
    "            return False\n",
    "        self.stack.append(value)\n",
    "        return True\n",
    "    \n",
    "    def pop(self):\n",
    "        if self.isEmpty():\n",
    "            print(\"Stack is empty!\")\n",
    "            return None\n",
    "        return self.stack.pop()\n",
    "    \n",
    "    def top(self):\n",
    "        if self.isEmpty():\n",
    "            print(\"Stack is empty!\")\n",
    "            return None\n",
    "        return self.stack[-1]"
   ]
  },
  {
   "cell_type": "code",
   "execution_count": 46,
   "metadata": {},
   "outputs": [
    {
     "data": {
      "text/plain": [
       "True"
      ]
     },
     "execution_count": 46,
     "metadata": {},
     "output_type": "execute_result"
    }
   ],
   "source": [
    "stack1 = MyStack(capacity = 5)\n",
    "stack1.push(1)\n",
    "stack1.push(2)"
   ]
  },
  {
   "cell_type": "code",
   "execution_count": 47,
   "metadata": {},
   "outputs": [
    {
     "name": "stdout",
     "output_type": "stream",
     "text": [
      "False\n"
     ]
    }
   ],
   "source": [
    "print(stack1.isFull())"
   ]
  },
  {
   "cell_type": "code",
   "execution_count": 48,
   "metadata": {},
   "outputs": [
    {
     "name": "stdout",
     "output_type": "stream",
     "text": [
      "2\n"
     ]
    }
   ],
   "source": [
    "print(stack1.top())"
   ]
  },
  {
   "cell_type": "code",
   "execution_count": 49,
   "metadata": {},
   "outputs": [
    {
     "name": "stdout",
     "output_type": "stream",
     "text": [
      "2\n"
     ]
    }
   ],
   "source": [
    "print(stack1.pop())"
   ]
  },
  {
   "cell_type": "code",
   "execution_count": 50,
   "metadata": {},
   "outputs": [
    {
     "name": "stdout",
     "output_type": "stream",
     "text": [
      "1\n"
     ]
    }
   ],
   "source": [
    "print(stack1.top())"
   ]
  },
  {
   "cell_type": "code",
   "execution_count": 51,
   "metadata": {},
   "outputs": [
    {
     "name": "stdout",
     "output_type": "stream",
     "text": [
      "1\n"
     ]
    }
   ],
   "source": [
    "print(stack1.pop())"
   ]
  },
  {
   "cell_type": "code",
   "execution_count": 52,
   "metadata": {},
   "outputs": [
    {
     "name": "stdout",
     "output_type": "stream",
     "text": [
      "True\n"
     ]
    }
   ],
   "source": [
    "print(stack1.isEmpty())"
   ]
  },
  {
   "cell_type": "markdown",
   "metadata": {},
   "source": [
    "#### Bài 4"
   ]
  },
  {
   "cell_type": "code",
   "execution_count": 55,
   "metadata": {},
   "outputs": [],
   "source": [
    "class MyQueue:\n",
    "    def __init__(self, capacity):\n",
    "        self.capacity = capacity\n",
    "        self.queue = []\n",
    "    \n",
    "    def isEmpty(self):\n",
    "        return len(self.queue) == 0\n",
    "    \n",
    "    def isFull(self):\n",
    "        return len(self.queue) >= self.capacity\n",
    "    \n",
    "    def enqueue(self, value):\n",
    "        if self.isFull():\n",
    "            print(\"Queue is full\")\n",
    "            return False\n",
    "        self.queue.append(value)\n",
    "        return True\n",
    "    \n",
    "    def dequeue(self):\n",
    "        if self.isEmpty():\n",
    "            print(\"Queue is empty!\")\n",
    "            return None\n",
    "        return self.queue.pop(0)\n",
    "    \n",
    "    def front(self):\n",
    "        if self.isEmpty():\n",
    "            print(\"Queue is empty!\")\n",
    "            return None\n",
    "        return self.queue[0]"
   ]
  },
  {
   "cell_type": "code",
   "execution_count": 56,
   "metadata": {},
   "outputs": [
    {
     "data": {
      "text/plain": [
       "True"
      ]
     },
     "execution_count": 56,
     "metadata": {},
     "output_type": "execute_result"
    }
   ],
   "source": [
    "queue1 = MyQueue(capacity = 5)\n",
    "queue1.enqueue(1)\n",
    "queue1.enqueue(2)"
   ]
  },
  {
   "cell_type": "code",
   "execution_count": 57,
   "metadata": {},
   "outputs": [
    {
     "name": "stdout",
     "output_type": "stream",
     "text": [
      "False\n"
     ]
    }
   ],
   "source": [
    "print(queue1.isFull())"
   ]
  },
  {
   "cell_type": "code",
   "execution_count": 58,
   "metadata": {},
   "outputs": [
    {
     "name": "stdout",
     "output_type": "stream",
     "text": [
      "1\n"
     ]
    }
   ],
   "source": [
    "print(queue1.front())"
   ]
  },
  {
   "cell_type": "code",
   "execution_count": 59,
   "metadata": {},
   "outputs": [
    {
     "name": "stdout",
     "output_type": "stream",
     "text": [
      "1\n"
     ]
    }
   ],
   "source": [
    "print(queue1.dequeue())"
   ]
  },
  {
   "cell_type": "code",
   "execution_count": 60,
   "metadata": {},
   "outputs": [
    {
     "name": "stdout",
     "output_type": "stream",
     "text": [
      "2\n"
     ]
    }
   ],
   "source": [
    "print(queue1.front())"
   ]
  },
  {
   "cell_type": "code",
   "execution_count": 61,
   "metadata": {},
   "outputs": [
    {
     "name": "stdout",
     "output_type": "stream",
     "text": [
      "2\n"
     ]
    }
   ],
   "source": [
    "print(queue1.dequeue())"
   ]
  },
  {
   "cell_type": "code",
   "execution_count": 62,
   "metadata": {},
   "outputs": [
    {
     "name": "stdout",
     "output_type": "stream",
     "text": [
      "True\n"
     ]
    }
   ],
   "source": [
    "print(queue1.isEmpty())"
   ]
  },
  {
   "cell_type": "markdown",
   "metadata": {},
   "source": [
    "#### Trắc nghiệm"
   ]
  },
  {
   "cell_type": "code",
   "execution_count": null,
   "metadata": {},
   "outputs": [],
   "source": [
    "# Câu 1: B -> D"
   ]
  },
  {
   "cell_type": "code",
   "execution_count": null,
   "metadata": {},
   "outputs": [
    {
     "name": "stdout",
     "output_type": "stream",
     "text": [
      "Identity: 100 - Location: Vietnam\n"
     ]
    }
   ],
   "source": [
    "class Manufacturer:\n",
    "    def __init__(self, identity: int, location: str):\n",
    "        self.__identity = identity\n",
    "        self.__location = location\n",
    "\n",
    "    def describe(self):\n",
    "        print(f\"Identity: {self.__identity} - Location: {self.__location}\")\n",
    "\n",
    "manu1 = Manufacturer(identity = 100, location = 'Vietnam')\n",
    "manu1.describe()\n",
    "\n",
    "# Câu 2: A -> B"
   ]
  },
  {
   "cell_type": "code",
   "execution_count": null,
   "metadata": {},
   "outputs": [
    {
     "name": "stdout",
     "output_type": "stream",
     "text": [
      " Name: touchpad - Price: 3.3\n",
      "Identity: 1111 - Location: Vietnam\n"
     ]
    }
   ],
   "source": [
    "class Manufacturer:\n",
    "    def __init__(self, identity: int, location: str):\n",
    "        self.__identity = identity\n",
    "        self.__location = location\n",
    "\n",
    "    def describe(self):\n",
    "        print(f\"Identity: {self.__identity} - Location: {self.__location}\")\n",
    "\n",
    "class Device:\n",
    "    def __init__(self, name: str, price : float, identity : int, location : str):\n",
    "        self.__name = name\n",
    "        self.__price = price\n",
    "        self.__manufacturer = Manufacturer(identity, location)\n",
    "\n",
    "    def describe(self):\n",
    "        print(f\"Name: {self.__name} - Price: {self.__price}\")\n",
    "        self.__manufacturer.describe()\n",
    "\n",
    "device1 = Device(name = \"touchpad\", price = 3.3, identity = 1111, location = \"Vietnam\")\n",
    "device1.describe()\n",
    "\n",
    "# Câu 3: B"
   ]
  },
  {
   "cell_type": "code",
   "execution_count": null,
   "metadata": {},
   "outputs": [
    {
     "name": "stdout",
     "output_type": "stream",
     "text": [
      "Name: touchpad - Price: 3.3\n",
      "Identity: 1111 - Location: Vietnam\n"
     ]
    }
   ],
   "source": [
    "class Manufacturer:\n",
    "    def __init__(self, identity: int, location: str):\n",
    "        self.__identity = identity\n",
    "        self.__location = location\n",
    "\n",
    "    def describe(self):\n",
    "        print(f\"Identity: {self.__identity} - Location: {self.__location}\")\n",
    "\n",
    "class Device:\n",
    "    def __init__(self, name: str, price: float, manu: Manufacturer):\n",
    "        self.__name = name\n",
    "        self.__price = price\n",
    "        self.__manufacturer = manu\n",
    "\n",
    "    def describe(self):\n",
    "        print(f\"Name: {self.__name} - Price: {self.__price}\")\n",
    "        self.__manufacturer.describe()\n",
    "\n",
    "manu1 = Manufacturer(identity = 1111, location = 'Vietnam')\n",
    "device1 = Device(name =  \"touchpad\", price = 3.3, manu = manu1)\n",
    "device1.describe()\n",
    "\n",
    "# Câu 4: B -> A"
   ]
  },
  {
   "cell_type": "code",
   "execution_count": null,
   "metadata": {},
   "outputs": [
    {
     "name": "stdout",
     "output_type": "stream",
     "text": [
      "Student - Name: studentZ2023 - YoB: 2011 - Grade: 6\n"
     ]
    }
   ],
   "source": [
    "from abc import ABC, abstractmethod\n",
    "\n",
    "class Person(ABC):\n",
    "    def __init__(self, name: str, yob: int):\n",
    "        self._name = name\n",
    "        self._yob = yob\n",
    "\n",
    "    def getYoB(self):\n",
    "        return self._yob\n",
    "\n",
    "    @abstractmethod\n",
    "    def describe(self):\n",
    "        pass\n",
    "\n",
    "class Student(Person):\n",
    "    def __init__(self, name: str, yob: int, grade: str):\n",
    "        self.name = name\n",
    "        self.yob = yob\n",
    "        self.grade = grade\n",
    "\n",
    "    def describe(self):\n",
    "        print(f\"Student - Name: {self.name} - YoB: {self.yob} - Grade: {self.grade}\")\n",
    "\n",
    "student1 = Student(name = \"studentZ2023\", yob = 2011, grade = \"6\")\n",
    "student1.describe()\n",
    "\n",
    "# Câu 5: A"
   ]
  },
  {
   "cell_type": "code",
   "execution_count": null,
   "metadata": {},
   "outputs": [
    {
     "name": "stdout",
     "output_type": "stream",
     "text": [
      "Teacher - Name: teacherZ2023 - YoB: 1991 - Subject: History\n"
     ]
    }
   ],
   "source": [
    "from abc import ABC, abstractmethod\n",
    "\n",
    "class Person(ABC):\n",
    "    def __init__(self, name: str, yob: int):\n",
    "        self._name = name\n",
    "        self._yob = yob\n",
    "\n",
    "    def getYoB(self):\n",
    "        return self._yob\n",
    "\n",
    "    @abstractmethod\n",
    "    def describe(self):\n",
    "        pass\n",
    "\n",
    "class Teacher(Person):\n",
    "    def __init__(self, name: str, yob: int, subject: str):\n",
    "        self.name = name\n",
    "        self.yob = yob\n",
    "        self.subject = subject\n",
    "\n",
    "    def describe(self):\n",
    "        print(f\"Teacher - Name: {self.name} - YoB: {self.yob} - Subject: {self.subject}\")\n",
    "\n",
    "teacher1 = Teacher(name = \"teacherZ2023\", yob = 1991, subject = \"History\")\n",
    "teacher1.describe()\n",
    "\n",
    "# Câu 6: A"
   ]
  },
  {
   "cell_type": "code",
   "execution_count": null,
   "metadata": {},
   "outputs": [
    {
     "name": "stdout",
     "output_type": "stream",
     "text": [
      "Doctor - Name: doctorZ2023 - YoB: 1981 - Specialist: Endocrinologists\n"
     ]
    }
   ],
   "source": [
    "from abc import ABC, abstractmethod\n",
    "\n",
    "class Person(ABC):\n",
    "    def __init__(self, name: str, yob: int):\n",
    "        self._name = name\n",
    "        self._yob = yob\n",
    "\n",
    "    def getYoB(self):\n",
    "        return self._yob\n",
    "\n",
    "    @abstractmethod\n",
    "    def describe(self):\n",
    "        pass\n",
    "\n",
    "\n",
    "class Doctor(Person):\n",
    "    def __init__(self, name: str, yob: int, specialist: str):\n",
    "        self.name = name\n",
    "        self.yob = yob\n",
    "        self.specialist = specialist\n",
    "\n",
    "    def describe(self):\n",
    "        print(f\"Doctor - Name: {self.name} - YoB: {self.yob} - Specialist: {self.specialist}\")\n",
    "\n",
    "doctor1 = Doctor(name = \"doctorZ2023\", yob = 1981, specialist = \"Endocrinologists\")\n",
    "doctor1.describe()\n",
    "\n",
    "# Câu 7: A"
   ]
  },
  {
   "cell_type": "code",
   "execution_count": null,
   "metadata": {},
   "outputs": [
    {
     "name": "stdout",
     "output_type": "stream",
     "text": [
      "Ward Name: Ward11\n",
      "Student - Name: studentK-111 - YoB: 2012 - Grade: 5\n",
      "Teacher - Name: teacherK-222 - YoB: 1966 - Subject: Math\n",
      "Teacher - Name: teacherK-444 - YoB: 1945 - Subject: History\n",
      "Doctor - Name: doctorK-333 - YoB: 1965 - Specialist: Endocrinologists\n",
      "Doctor - Name: doctorK-555 - YoB: 1975 - Specialist: Cardiologists\n"
     ]
    }
   ],
   "source": [
    "class Ward:\n",
    "    def __init__(self, name: str):\n",
    "        self.name = name\n",
    "        self.people = []\n",
    "\n",
    "    def addPerson(self, person: Person):\n",
    "        self.people.append(person)\n",
    "\n",
    "    def describe(self):\n",
    "        print(f\"Ward Name: {self.name}\")\n",
    "        for person in self.people:\n",
    "            person.describe()\n",
    "\n",
    "student1 = Student(name = \"studentK-111\", yob = 2012, grade = \"5\")\n",
    "teacher1 = Teacher(name = \"teacherK-222\", yob = 1966, subject = \"Math\")\n",
    "doctor1 = Doctor(name = \"doctorK-333\", yob = 1965, specialist = \"Endocrinologists\")\n",
    "teacher2 = Teacher(name = \"teacherK-444\", yob = 1945, subject = \"History\")\n",
    "doctor2 = Doctor(name = \"doctorK-555\", yob = 1975, specialist = \"Cardiologists\")\n",
    "ward1 = Ward(name = \"Ward11\")\n",
    "ward1.addPerson(student1)\n",
    "ward1.addPerson(teacher1)\n",
    "ward1.addPerson(teacher2)\n",
    "ward1.addPerson(doctor1)\n",
    "ward1.addPerson(doctor2)\n",
    "ward1.describe()\n",
    "\n",
    "# Câu 8: A"
   ]
  },
  {
   "cell_type": "code",
   "execution_count": null,
   "metadata": {},
   "outputs": [
    {
     "name": "stdout",
     "output_type": "stream",
     "text": [
      "True\n"
     ]
    }
   ],
   "source": [
    "class MyStack:\n",
    "    def __init__(self, capacity):\n",
    "        self.__capacity = capacity\n",
    "        self.__stack = []\n",
    "\n",
    "    def isEmpty(self):\n",
    "        return len(self.__stack) == 0\n",
    "\n",
    "stack1 = MyStack(capacity = 5)\n",
    "print(stack1.isEmpty())\n",
    "\n",
    "# Câu 9: A -> B"
   ]
  },
  {
   "cell_type": "code",
   "execution_count": null,
   "metadata": {},
   "outputs": [
    {
     "name": "stdout",
     "output_type": "stream",
     "text": [
      "True\n"
     ]
    }
   ],
   "source": [
    "class MyStack:\n",
    "    def __init__(self, capacity):\n",
    "        self.__capacity = capacity\n",
    "        self.__stack = [1, 2, 3, 4, 5]\n",
    "\n",
    "    def isFull(self):\n",
    "        return len(self.__stack) == self.__capacity\n",
    "\n",
    "stack1 = MyStack(capacity = 5)\n",
    "print(stack1.isFull())\n",
    "\n",
    "# Câu 10: A"
   ]
  },
  {
   "cell_type": "code",
   "execution_count": null,
   "metadata": {},
   "outputs": [
    {
     "name": "stdout",
     "output_type": "stream",
     "text": [
      "False\n"
     ]
    }
   ],
   "source": [
    "class MyStack:\n",
    "    def __init__(self, capacity):\n",
    "        self.__capacity = capacity\n",
    "        self.__stack = []\n",
    "\n",
    "    def isFull(self):\n",
    "        return len(self.__stack) == self.__capacity\n",
    "\n",
    "    def push(self, value):\n",
    "        if self.isFull():\n",
    "            print(\"Stack is full\")\n",
    "            return False\n",
    "        self.__stack.append(value)\n",
    "        return True\n",
    "    \n",
    "stack1 = MyStack(capacity = 5)\n",
    "stack1.push(1)\n",
    "stack1.push(2)\n",
    "print(stack1.isFull())\n",
    "\n",
    "# Câu 11: B"
   ]
  },
  {
   "cell_type": "code",
   "execution_count": null,
   "metadata": {},
   "outputs": [
    {
     "name": "stdout",
     "output_type": "stream",
     "text": [
      "2\n"
     ]
    }
   ],
   "source": [
    "class MyStack:\n",
    "    def __init__(self, capacity):\n",
    "        self.__capacity = capacity\n",
    "        self.__stack = []\n",
    "\n",
    "    def isEmpty(self):\n",
    "        return len(self.__stack) == 0\n",
    "\n",
    "    def isFull(self):\n",
    "        return len(self.__stack) == self.__capacity\n",
    "\n",
    "    def push(self, value):\n",
    "        if self.isFull():\n",
    "            print(\"Stack is full\")\n",
    "            return False\n",
    "        self.__stack.append(value)\n",
    "        return True\n",
    "\n",
    "    def top(self):\n",
    "        if self.isEmpty():\n",
    "            print(\"Stack is empty!\")\n",
    "            return None\n",
    "        return self.__stack[-1]\n",
    "\n",
    "stack1 = MyStack(capacity = 5)\n",
    "stack1.push(1)\n",
    "stack1.push(2)\n",
    "print(stack1.top())\n",
    "\n",
    "# Câu 12: B -> A"
   ]
  },
  {
   "cell_type": "code",
   "execution_count": null,
   "metadata": {},
   "outputs": [
    {
     "name": "stdout",
     "output_type": "stream",
     "text": [
      "True\n"
     ]
    }
   ],
   "source": [
    "class MyQueue:\n",
    "    def __init__(self, capacity):\n",
    "        self.__capacity = capacity\n",
    "        self.__queue = []\n",
    "\n",
    "    def isEmpty(self):\n",
    "        return len(self.__queue) == 0\n",
    "    \n",
    "queue1 = MyQueue(capacity =5)\n",
    "print(queue1.isEmpty())\n",
    "\n",
    "# Câu 13: A"
   ]
  },
  {
   "cell_type": "code",
   "execution_count": null,
   "metadata": {},
   "outputs": [
    {
     "name": "stdout",
     "output_type": "stream",
     "text": [
      "False\n"
     ]
    }
   ],
   "source": [
    "class MyQueue:\n",
    "    def __init__(self, capacity):\n",
    "        self.__capacity = capacity\n",
    "        self.__queue = []\n",
    "\n",
    "    def isFull(self):\n",
    "        return len(self.__queue) == self.__capacity\n",
    "\n",
    "queue1 = MyQueue(capacity =5)\n",
    "print(queue1.isFull())\n",
    "\n",
    "# Câu 14: B"
   ]
  },
  {
   "cell_type": "code",
   "execution_count": null,
   "metadata": {},
   "outputs": [
    {
     "name": "stdout",
     "output_type": "stream",
     "text": [
      "False\n"
     ]
    }
   ],
   "source": [
    "class MyQueue:\n",
    "    def __init__(self, capacity):\n",
    "        self.__capacity = capacity\n",
    "        self.__queue = []\n",
    "\n",
    "    def isFull(self):\n",
    "        return len(self.__queue) == self.__capacity\n",
    "\n",
    "    def enqueue(self, value):\n",
    "        if self.isFull():\n",
    "            print(\"Queue is full\")\n",
    "            return False\n",
    "        self.__queue.append(value)\n",
    "        return True\n",
    "\n",
    "queue1 = MyQueue(capacity = 5)\n",
    "queue1.enqueue(1)\n",
    "queue1.enqueue(2)\n",
    "print(queue1.isFull())\n",
    "\n",
    "# Câu 15: B"
   ]
  },
  {
   "cell_type": "code",
   "execution_count": null,
   "metadata": {},
   "outputs": [
    {
     "name": "stdout",
     "output_type": "stream",
     "text": [
      "1\n"
     ]
    }
   ],
   "source": [
    "class MyQueue:\n",
    "    def __init__(self, capacity):\n",
    "        self.__capacity = capacity\n",
    "        self.__queue = []\n",
    "\n",
    "    def isEmpty(self):\n",
    "        return len(self.__queue) == 0\n",
    "\n",
    "    def isFull(self):\n",
    "        return len(self.__queue) == self.__capacity\n",
    "\n",
    "    def enqueue(self, value):\n",
    "        if self.isFull():\n",
    "            print(\"Queue is full\")\n",
    "            return False\n",
    "        self.__queue.append(value)\n",
    "        return True\n",
    "    \n",
    "    def front(self):\n",
    "        if self.isEmpty():\n",
    "            print(\"Queue is empty!\")\n",
    "            return None\n",
    "        return self.__queue[0]\n",
    "queue1 = MyQueue(capacity = 5)\n",
    "queue1.enqueue(1)\n",
    "queue1.enqueue(2)\n",
    "print(queue1.front())\n",
    "\n",
    "# Câu 16: A"
   ]
  }
 ],
 "metadata": {
  "kernelspec": {
   "display_name": "base",
   "language": "python",
   "name": "python3"
  },
  "language_info": {
   "codemirror_mode": {
    "name": "ipython",
    "version": 3
   },
   "file_extension": ".py",
   "mimetype": "text/x-python",
   "name": "python",
   "nbconvert_exporter": "python",
   "pygments_lexer": "ipython3",
   "version": "3.12.3"
  }
 },
 "nbformat": 4,
 "nbformat_minor": 2
}
