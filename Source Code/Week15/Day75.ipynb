{
 "cells": [
  {
   "cell_type": "code",
   "execution_count": 1,
   "metadata": {},
   "outputs": [],
   "source": [
    "import mysql.connector\n",
    "import pandas as pd"
   ]
  },
  {
   "cell_type": "code",
   "execution_count": 2,
   "metadata": {},
   "outputs": [],
   "source": [
    "connection = mysql.connector.connect(\n",
    "    host= 'localhost',         \n",
    "    database = 'day_75',\n",
    "    user= 'root',             \n",
    "    password= '123456'       \n",
    ")\n",
    "cursor = connection.cursor()"
   ]
  },
  {
   "cell_type": "code",
   "execution_count": 3,
   "metadata": {},
   "outputs": [],
   "source": [
    "import warnings\n",
    "warnings.filterwarnings('ignore')"
   ]
  },
  {
   "cell_type": "markdown",
   "metadata": {},
   "source": [
    "#### Bệnh nhân (Patients)"
   ]
  },
  {
   "cell_type": "code",
   "execution_count": null,
   "metadata": {},
   "outputs": [],
   "source": [
    "cursor.execute(\"\"\"\n",
    "CREATE TABLE IF NOT EXISTS Patients (\n",
    "    PatientID INTEGER PRIMARY KEY AUTO_INCREMENT,\n",
    "    FullName VARCHAR(100) NOT NULL,\n",
    "    DateOfBirth DATE NOT NULL,\n",
    "    Gender ENUM('Male', 'Female', 'Other') NOT NULL,\n",
    "    Address TEXT,\n",
    "    PhoneNumber VARCHAR(15),\n",
    "    Email VARCHAR(100),\n",
    "    MedicalID VARCHAR(20) UNIQUE,\n",
    "    CreatedAt TIMESTAMP DEFAULT CURRENT_TIMESTAMP,\n",
    "    UpdatedAt TIMESTAMP DEFAULT CURRENT_TIMESTAMP ON UPDATE CURRENT_TIMESTAMP\n",
    ");\n",
    "\"\"\")"
   ]
  },
  {
   "cell_type": "markdown",
   "metadata": {},
   "source": [
    "#### Bác sĩ (Doctors)"
   ]
  },
  {
   "cell_type": "code",
   "execution_count": null,
   "metadata": {},
   "outputs": [],
   "source": [
    "cursor.execute(\"\"\"\n",
    "CREATE TABLE IF NOT EXISTS Doctors (\n",
    "    DoctorID INTEGER PRIMARY KEY AUTO_INCREMENT,\n",
    "    FullName VARCHAR(100) NOT NULL,\n",
    "    Specialization VARCHAR(100) NOT NULL,\n",
    "    LicenseNumber VARCHAR(50) UNIQUE NOT NULL,\n",
    "    Department VARCHAR(100),\n",
    "    PhoneNumber VARCHAR(15),\n",
    "    Email VARCHAR(100),\n",
    "    CreatedAt TIMESTAMP DEFAULT CURRENT_TIMESTAMP\n",
    ");\n",
    "\"\"\")"
   ]
  },
  {
   "cell_type": "markdown",
   "metadata": {},
   "source": [
    "#### Thuốc (Medicines)"
   ]
  },
  {
   "cell_type": "code",
   "execution_count": null,
   "metadata": {},
   "outputs": [],
   "source": [
    "cursor.execute(\"\"\"\n",
    "CREATE TABLE IF NOT EXISTS Medicines (\n",
    "    MedicineID INTEGER PRIMARY KEY AUTO_INCREMENT,\n",
    "    MedicineName VARCHAR(200) NOT NULL,\n",
    "    ActiveIngredient VARCHAR(200),\n",
    "    Dosage VARCHAR(50),\n",
    "    Unit VARCHAR(20),\n",
    "    Category VARCHAR(100),\n",
    "    Manufacturer VARCHAR(100),\n",
    "    CreatedAt TIMESTAMP DEFAULT CURRENT_TIMESTAMP\n",
    ");\n",
    "\"\"\")"
   ]
  },
  {
   "cell_type": "markdown",
   "metadata": {},
   "source": [
    "#### Lượt khám (Visits)\n"
   ]
  },
  {
   "cell_type": "code",
   "execution_count": null,
   "metadata": {},
   "outputs": [],
   "source": [
    "cursor.execute(\"\"\"\n",
    "CREATE TABLE IF NOT EXISTS Visits (\n",
    "    VisitID INTEGER PRIMARY KEY AUTO_INCREMENT,\n",
    "    PatientID INTEGER NOT NULL,\n",
    "    DoctorID INTEGER NOT NULL,\n",
    "    VisitDate DATETIME NOT NULL,\n",
    "    VisitType ENUM('Khám bệnh', 'Tái khám', 'Cấp cứu', 'Nhập viện') DEFAULT 'Khám bệnh',\n",
    "    Symptoms TEXT,\n",
    "    Diagnosis TEXT,\n",
    "    TreatmentPlan TEXT,\n",
    "    Notes TEXT,\n",
    "    Status ENUM('Đang khám', 'Hoàn thành', 'Hủy') DEFAULT 'Đang khám',\n",
    "    CreatedAt TIMESTAMP DEFAULT CURRENT_TIMESTAMP,\n",
    "    UpdatedAt TIMESTAMP DEFAULT CURRENT_TIMESTAMP ON UPDATE CURRENT_TIMESTAMP,\n",
    "    \n",
    "    FOREIGN KEY (PatientID) REFERENCES Patients(PatientID) ON DELETE CASCADE,\n",
    "    FOREIGN KEY (DoctorID) REFERENCES Doctors(DoctorID) ON DELETE RESTRICT\n",
    ");\n",
    "\"\"\")"
   ]
  },
  {
   "cell_type": "markdown",
   "metadata": {},
   "source": [
    "#### Đơn thuốc (Prescriptions)\n"
   ]
  },
  {
   "cell_type": "code",
   "execution_count": null,
   "metadata": {},
   "outputs": [],
   "source": [
    "cursor.execute(\"\"\"\n",
    "CREATE TABLE IF NOT EXISTS Prescriptions (\n",
    "    PrescriptionID INTEGER PRIMARY KEY AUTO_INCREMENT,\n",
    "    VisitID INTEGER NOT NULL,\n",
    "    MedicineID INTEGER NOT NULL,\n",
    "    Dosage VARCHAR(100) NOT NULL,\n",
    "    Duration VARCHAR(50),\n",
    "    Instructions TEXT,\n",
    "    Quantity INTEGER,\n",
    "    CreatedAt TIMESTAMP DEFAULT CURRENT_TIMESTAMP,\n",
    "    \n",
    "    FOREIGN KEY (VisitID) REFERENCES Visits(VisitID) ON DELETE CASCADE,\n",
    "    FOREIGN KEY (MedicineID) REFERENCES Medicines(MedicineID) ON DELETE RESTRICT\n",
    ");\n",
    "\"\"\")"
   ]
  },
  {
   "cell_type": "markdown",
   "metadata": {},
   "source": [
    "#### Xét nghiệm (Tests)"
   ]
  },
  {
   "cell_type": "code",
   "execution_count": null,
   "metadata": {},
   "outputs": [],
   "source": [
    "cursor.execute(\"\"\"\n",
    "CREATE TABLE IF NOT EXISTS Tests (\n",
    "    TestID INTEGER PRIMARY KEY AUTO_INCREMENT,\n",
    "    VisitID INTEGER NOT NULL,\n",
    "    TestType VARCHAR(100) NOT NULL,\n",
    "    TestName VARCHAR(200) NOT NULL,\n",
    "    TestDate DATETIME,\n",
    "    Results TEXT,\n",
    "    NormalRange VARCHAR(100),\n",
    "    Status ENUM('Chờ thực hiện', 'Đang thực hiện', 'Có kết quả', 'Hủy') DEFAULT 'Chờ thực hiện',\n",
    "    Notes TEXT,\n",
    "    CreatedAt TIMESTAMP DEFAULT CURRENT_TIMESTAMP,\n",
    "    UpdatedAt TIMESTAMP DEFAULT CURRENT_TIMESTAMP ON UPDATE CURRENT_TIMESTAMP,\n",
    "    \n",
    "    FOREIGN KEY (VisitID) REFERENCES Visits(VisitID) ON DELETE CASCADE\n",
    ");\n",
    "\"\"\")"
   ]
  },
  {
   "cell_type": "markdown",
   "metadata": {},
   "source": [
    "#### Hình ảnh y học (MedicalImages)\n"
   ]
  },
  {
   "cell_type": "code",
   "execution_count": null,
   "metadata": {},
   "outputs": [],
   "source": [
    "cursor.execute(\"\"\"\n",
    "CREATE TABLE IF NOT EXISTS MedicalImages (\n",
    "    ImageID INTEGER PRIMARY KEY AUTO_INCREMENT,\n",
    "    VisitID INTEGER NOT NULL,\n",
    "    ImageType VARCHAR(50), -- \"X-ray\", \"CT\", \"MRI\", \"Siêu âm\"\n",
    "    ImagePath VARCHAR(500), -- Đường dẫn file ảnh\n",
    "    Description TEXT,\n",
    "    UploadDate DATETIME DEFAULT CURRENT_TIMESTAMP,\n",
    "    \n",
    "    FOREIGN KEY (VisitID) REFERENCES Visits(VisitID) ON DELETE CASCADE\n",
    ");\n",
    "\"\"\")"
   ]
  },
  {
   "cell_type": "code",
   "execution_count": null,
   "metadata": {},
   "outputs": [],
   "source": [
    "#### Khoa/chuyên khoa (Departments)\n",
    "cursor.execute(\"\"\"\n",
    "CREATE TABLE IF NOT EXISTS Departments (\n",
    "    DepartmentID INTEGER PRIMARY KEY AUTO_INCREMENT,\n",
    "    DepartmentName VARCHAR(100) NOT NULL UNIQUE,\n",
    "    Description TEXT,\n",
    "    Location VARCHAR(100),\n",
    "    HeadDoctorID INTEGER,\n",
    "    DoctorID INTEGER,\n",
    "    CreatedAt TIMESTAMP DEFAULT CURRENT_TIMESTAMP,\n",
    "    \n",
    "    FOREIGN KEY (HeadDoctorID) REFERENCES Doctors(DoctorID) ON DELETE SET NULL\n",
    ");\n",
    "\"\"\")"
   ]
  }
 ],
 "metadata": {
  "kernelspec": {
   "display_name": "base",
   "language": "python",
   "name": "python3"
  },
  "language_info": {
   "codemirror_mode": {
    "name": "ipython",
    "version": 3
   },
   "file_extension": ".py",
   "mimetype": "text/x-python",
   "name": "python",
   "nbconvert_exporter": "python",
   "pygments_lexer": "ipython3",
   "version": "3.10.16"
  }
 },
 "nbformat": 4,
 "nbformat_minor": 2
}
