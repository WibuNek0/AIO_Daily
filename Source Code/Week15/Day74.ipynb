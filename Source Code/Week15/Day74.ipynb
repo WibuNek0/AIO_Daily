{
 "cells": [
  {
   "cell_type": "code",
   "execution_count": 12,
   "metadata": {},
   "outputs": [],
   "source": [
    "import mysql.connector\n",
    "import pandas as pd"
   ]
  },
  {
   "cell_type": "code",
   "execution_count": 1,
   "metadata": {},
   "outputs": [],
   "source": [
    "connection = mysql.connector.connect(\n",
    "    host= 'localhost',         \n",
    "    user= 'root',             \n",
    "    password= '123456', \n",
    "    database = 'day_74'     \n",
    ")\n",
    "cursor = connection.cursor()"
   ]
  },
  {
   "cell_type": "markdown",
   "metadata": {},
   "source": [
    "### Bài 1"
   ]
  },
  {
   "cell_type": "code",
   "execution_count": 4,
   "metadata": {},
   "outputs": [],
   "source": [
    "# Tạo bảng\n",
    "cursor.execute(\"\"\"\n",
    "CREATE TABLE IF NOT EXISTS students(\n",
    "id INT AUTO_INCREMENT PRIMARY KEY,\n",
    "name VARCHAR(100),\n",
    "age INT,\n",
    "email VARCHAR(100)\n",
    ")\n",
    "\"\"\")"
   ]
  },
  {
   "cell_type": "markdown",
   "metadata": {},
   "source": [
    "### Bài 2"
   ]
  },
  {
   "cell_type": "code",
   "execution_count": 5,
   "metadata": {},
   "outputs": [],
   "source": [
    "# Thêm dữ liệu\n",
    "sql = \"INSERT INTO students (name, age, email) VALUES (%s, %s, %s)\"\n",
    "val = (\"Nguyen Van A\", 20, \"a@gmail.com\")\n",
    "cursor.execute(sql, val)\n",
    "connection.commit()"
   ]
  },
  {
   "cell_type": "code",
   "execution_count": 6,
   "metadata": {},
   "outputs": [],
   "source": [
    "cursor.execute(\"SELECT * FROM students\")\n",
    "result = cursor.fetchall()"
   ]
  },
  {
   "cell_type": "code",
   "execution_count": 7,
   "metadata": {},
   "outputs": [
    {
     "name": "stdout",
     "output_type": "stream",
     "text": [
      "(5, 'Nguyen Van A', 20, 'a@gmail.com')\n"
     ]
    }
   ],
   "source": [
    "for row in result:\n",
    "    print(row)"
   ]
  },
  {
   "cell_type": "code",
   "execution_count": null,
   "metadata": {},
   "outputs": [],
   "source": [
    "# Cập nhật\n",
    "cursor.execute(\"UPDATE students SET age = 21 WHERE name = 'Nguyen Van A'\")\n",
    "connection.commit()"
   ]
  },
  {
   "cell_type": "code",
   "execution_count": null,
   "metadata": {},
   "outputs": [],
   "source": [
    "# Xóa\n",
    "cursor.execute(\"DELETE FROM students WHERE name = 'Nguyen Van A'\")\n",
    "connection.commit()"
   ]
  },
  {
   "cell_type": "markdown",
   "metadata": {},
   "source": [
    "### Bài 3"
   ]
  },
  {
   "cell_type": "code",
   "execution_count": 20,
   "metadata": {},
   "outputs": [],
   "source": [
    "sql = \"INSERT INTO students (name, age, email) VALUES (%s, %s, %s)\"\n",
    "\n",
    "val_List = [(\"Nguyen Van Anh\", 27, \"a@gmail.com\"), (\"Nguyen Anh Van\", 17, \"b@gmail.com\"), (\"Nguyen Van Ba\", 22, \"c@gmail.com\")]\n",
    "\n",
    "for i in range(len(val_List)):\n",
    "    cursor.execute(sql, val_List[i])\n",
    "    connection.commit()"
   ]
  },
  {
   "cell_type": "code",
   "execution_count": 21,
   "metadata": {},
   "outputs": [
    {
     "name": "stdout",
     "output_type": "stream",
     "text": [
      "(5, 'Nguyen Van A', 20, 'a@gmail.com')\n",
      "(6, 'Nguyen Van Mot', 20, 'a@gmail.com')\n",
      "(7, 'Nguyen Van Hai', 21, 'b@gmail.com')\n",
      "(8, 'Nguyen Van Ba', 22, 'c@gmail.com')\n",
      "(9, 'Nguyen Van Mot', 16, 'a@gmail.com')\n",
      "(10, 'Nguyen Van Hai', 17, 'b@gmail.com')\n",
      "(11, 'Nguyen Van Ba', 22, 'c@gmail.com')\n",
      "(12, 'Nguyen Van B', 16, 'nguyenb@gmail.com')\n",
      "(13, 'Nguyen Van Hai', 17, 'b@gmail.com')\n",
      "(14, 'Nguyen Van Ba', 22, 'c@gmail.com')\n",
      "(16, 'Nguyen Van Hai', 17, 'b@gmail.com')\n",
      "(17, 'Nguyen Van Ba', 22, 'c@gmail.com')\n",
      "(18, 'Nguyen Van Anh', 27, 'a@gmail.com')\n",
      "(19, 'Nguyen Van Hai', 17, 'b@gmail.com')\n",
      "(20, 'Nguyen Van Ba', 22, 'c@gmail.com')\n",
      "(21, 'Nguyen Van Anh', 27, 'a@gmail.com')\n",
      "(22, 'Nguyen Anh Van', 17, 'b@gmail.com')\n",
      "(23, 'Nguyen Van Ba', 22, 'c@gmail.com')\n"
     ]
    }
   ],
   "source": [
    "cursor.execute(\"SELECT * FROM students\")\n",
    "result = cursor.fetchall()\n",
    "for row in result:\n",
    "    print(row)"
   ]
  },
  {
   "cell_type": "markdown",
   "metadata": {},
   "source": [
    "### Bài 4"
   ]
  },
  {
   "cell_type": "code",
   "execution_count": 13,
   "metadata": {},
   "outputs": [
    {
     "name": "stdout",
     "output_type": "stream",
     "text": [
      "   id            name  age        email\n",
      "0   5    Nguyen Van A   20  a@gmail.com\n",
      "1   6  Nguyen Van Mot   20  a@gmail.com\n",
      "2   7  Nguyen Van Hai   21  b@gmail.com\n"
     ]
    },
    {
     "name": "stderr",
     "output_type": "stream",
     "text": [
      "C:\\Users\\Apollonir\\AppData\\Local\\Temp\\ipykernel_46572\\2819361976.py:7: UserWarning: pandas only supports SQLAlchemy connectable (engine/connection) or database string URI or sqlite3 DBAPI2 connection. Other DBAPI2 objects are not tested. Please consider using SQLAlchemy.\n",
      "  data = pd.read_sql_query(query, connection)\n"
     ]
    }
   ],
   "source": [
    "query = (\"\"\"\n",
    "SELECT *\n",
    " FROM students\n",
    "WHERE age > 18 AND age < 22;\n",
    "\"\"\")\n",
    "\n",
    "data = pd.read_sql_query(query, connection)\n",
    "print(data)"
   ]
  },
  {
   "cell_type": "markdown",
   "metadata": {},
   "source": [
    "### Bài 5"
   ]
  },
  {
   "cell_type": "code",
   "execution_count": 15,
   "metadata": {},
   "outputs": [],
   "source": [
    "cursor.execute(\"UPDATE students SET email = 'nguyenb@gmail.com' WHERE name = 'Nguyen Van B'\")\n",
    "connection.commit()"
   ]
  },
  {
   "cell_type": "markdown",
   "metadata": {},
   "source": [
    "### Bài 6"
   ]
  },
  {
   "cell_type": "code",
   "execution_count": 18,
   "metadata": {},
   "outputs": [],
   "source": [
    "cursor.execute(\"DELETE FROM students WHERE age > 25\")\n",
    "connection.commit()"
   ]
  },
  {
   "cell_type": "markdown",
   "metadata": {},
   "source": [
    "### Bài 7"
   ]
  },
  {
   "cell_type": "code",
   "execution_count": 22,
   "metadata": {},
   "outputs": [
    {
     "name": "stdout",
     "output_type": "stream",
     "text": [
      "   id            name  age        email\n",
      "0  18  Nguyen Van Anh   27  a@gmail.com\n",
      "1  21  Nguyen Van Anh   27  a@gmail.com\n",
      "2  22  Nguyen Anh Van   17  b@gmail.com\n"
     ]
    },
    {
     "name": "stderr",
     "output_type": "stream",
     "text": [
      "C:\\Users\\Apollonir\\AppData\\Local\\Temp\\ipykernel_46572\\1919951059.py:7: UserWarning: pandas only supports SQLAlchemy connectable (engine/connection) or database string URI or sqlite3 DBAPI2 connection. Other DBAPI2 objects are not tested. Please consider using SQLAlchemy.\n",
      "  data = pd.read_sql_query(query, connection)\n"
     ]
    }
   ],
   "source": [
    "query = (\"\"\"\n",
    "SELECT *\n",
    " FROM students\n",
    "WHERE name like '%Anh%';\n",
    "\"\"\")\n",
    "\n",
    "data = pd.read_sql_query(query, connection)\n",
    "print(data)"
   ]
  },
  {
   "cell_type": "markdown",
   "metadata": {},
   "source": [
    "### Bài 8"
   ]
  },
  {
   "cell_type": "code",
   "execution_count": 23,
   "metadata": {},
   "outputs": [
    {
     "name": "stdout",
     "output_type": "stream",
     "text": [
      "   age  count\n",
      "0   20      2\n",
      "1   21      1\n",
      "2   22      6\n",
      "3   16      2\n",
      "4   17      5\n",
      "5   27      2\n"
     ]
    },
    {
     "name": "stderr",
     "output_type": "stream",
     "text": [
      "C:\\Users\\Apollonir\\AppData\\Local\\Temp\\ipykernel_46572\\3311831908.py:7: UserWarning: pandas only supports SQLAlchemy connectable (engine/connection) or database string URI or sqlite3 DBAPI2 connection. Other DBAPI2 objects are not tested. Please consider using SQLAlchemy.\n",
      "  data = pd.read_sql_query(query, connection)\n"
     ]
    }
   ],
   "source": [
    "query = (\"\"\"\n",
    "SELECT age, COUNT(*) as count\n",
    " FROM students\n",
    "GROUP BY age;\n",
    "\"\"\")\n",
    "\n",
    "data = pd.read_sql_query(query, connection)\n",
    "print(data)"
   ]
  }
 ],
 "metadata": {
  "kernelspec": {
   "display_name": "base",
   "language": "python",
   "name": "python3"
  },
  "language_info": {
   "codemirror_mode": {
    "name": "ipython",
    "version": 3
   },
   "file_extension": ".py",
   "mimetype": "text/x-python",
   "name": "python",
   "nbconvert_exporter": "python",
   "pygments_lexer": "ipython3",
   "version": "3.10.16"
  }
 },
 "nbformat": 4,
 "nbformat_minor": 2
}
