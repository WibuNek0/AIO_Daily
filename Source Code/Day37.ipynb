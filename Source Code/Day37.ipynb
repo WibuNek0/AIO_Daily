{
 "cells": [
  {
   "cell_type": "code",
   "execution_count": null,
   "metadata": {
    "vscode": {
     "languageId": "plaintext"
    }
   },
   "outputs": [],
   "source": [
    "sample_docs = [\n",
    "(\"Bài luận 1\", \"Trí tuệ nhân tạo đang phát triển nhanh chóng và tác động lớn đến cuộc sống.\"),\n",
    "(\"Bài luận 2\", \"Trí tuệ nhân tạo đang phát triển mạnh mẽ và ảnh hưởng nhiều đến đời sống con người.\"),\n",
    "(\"Bài luận 3\", \"Trí tuệ nhân tạo rất mạnh mẽ và ảnh hưởng nhiều đến đời sống con người.\"),\n",
    "(\"Bài luận 4\", \"Deep Learning đã mang lại những bước tiến vượt bậc trong lĩnh vực xử lý ngôn ngữ tự nhiên.\"),\n",
    "(\"Bài luận 5\", \"Robotics và tự động hóa đang thay đổi cách chúng ta làm việc trong các nhà máy.\"),\n",
    "(\"Bài luận 6\", \"Internet of Things kết nối hàng tỷ thiết bị thông minh trên toàn cầu.\"),\n",
    "(\"Bài luận 7\", \"Blockchain không chỉ dùng cho tiền điện tử mà còn nhiều ứng dụng khác.\"),\n",
    "(\"Bài luận 8\", \"Cloud Computing giúp doanh nghiệp tiết kiệm chi phí và tăng hiệu quả.\"),\n",
    "(\"Bài luận 9\", \"Bảo mật thông tin là thách thức lớn trong kỷ nguyên số.\"),\n",
    "(\"Bài luận 10\", \"5G sẽ tạo ra cuộc cách mạng trong truyền thông di động.\")\n",
    "]"
   ]
  }
 ],
 "metadata": {
  "language_info": {
   "name": "python"
  }
 },
 "nbformat": 4,
 "nbformat_minor": 2
}
