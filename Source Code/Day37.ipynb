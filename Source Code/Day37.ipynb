{
 "cells": [
  {
   "cell_type": "code",
   "execution_count": 1,
   "metadata": {},
   "outputs": [],
   "source": [
    "import mysql.connector\n",
    "import pandas as pd\n",
    "\n",
    "connection = mysql.connector.connect(\n",
    "    host= 'localhost',         \n",
    "    database = 'day37',\n",
    "    user= 'root',             \n",
    "    password= '123456'       \n",
    ")\n",
    "cursor = connection.cursor()"
   ]
  },
  {
   "cell_type": "code",
   "execution_count": 2,
   "metadata": {},
   "outputs": [],
   "source": [
    "import warnings\n",
    "warnings.filterwarnings('ignore')"
   ]
  },
  {
   "cell_type": "code",
   "execution_count": null,
   "metadata": {},
   "outputs": [],
   "source": [
    "sample_docs = [\n",
    "(\"Bài luận 1\", \"Trí tuệ nhân tạo đang phát triển nhanh chóng và tác động lớn đến cuộc sống.\"),\n",
    "(\"Bài luận 2\", \"Trí tuệ nhân tạo đang phát triển mạnh mẽ và ảnh hưởng nhiều đến đời sống con người.\"),\n",
    "(\"Bài luận 3\", \"Trí tuệ nhân tạo rất mạnh mẽ và ảnh hưởng nhiều đến đời sống con người.\"),\n",
    "(\"Bài luận 4\", \"Deep Learning đã mang lại những bước tiến vượt bậc trong lĩnh vực xử lý ngôn ngữ tự nhiên.\"),\n",
    "(\"Bài luận 5\", \"Robotics và tự động hóa đang thay đổi cách chúng ta làm việc trong các nhà máy.\"),\n",
    "(\"Bài luận 6\", \"Internet of Things kết nối hàng tỷ thiết bị thông minh trên toàn cầu.\"),\n",
    "(\"Bài luận 7\", \"Blockchain không chỉ dùng cho tiền điện tử mà còn nhiều ứng dụng khác.\"),\n",
    "(\"Bài luận 8\", \"Cloud Computing giúp doanh nghiệp tiết kiệm chi phí và tăng hiệu quả.\"),\n",
    "(\"Bài luận 9\", \"Bảo mật thông tin là thách thức lớn trong kỷ nguyên số.\"),\n",
    "(\"Bài luận 10\", \"5G sẽ tạo ra cuộc cách mạng trong truyền thông di động.\")\n",
    "]"
   ]
  },
  {
   "cell_type": "markdown",
   "metadata": {},
   "source": [
    "### Phần 1"
   ]
  },
  {
   "cell_type": "markdown",
   "metadata": {},
   "source": [
    "### Phần 2"
   ]
  },
  {
   "cell_type": "markdown",
   "metadata": {},
   "source": [
    "### Phần 3"
   ]
  },
  {
   "cell_type": "code",
   "execution_count": 3,
   "metadata": {},
   "outputs": [],
   "source": [
    "cursor.execute(\"\"\"\n",
    "CREATE TABLE documents (\n",
    "    doc_id INTEGER PRIMARY KEY AUTO_INCREMENT,\n",
    "    title VARCHAR(200) NOT NULL,\n",
    "    content TEXT NOT NULL,\n",
    "    upload_date TIMESTAMP NOT NULL, \n",
    "    last_modified TIMESTAMP NOT NULL\n",
    ");\n",
    "\"\"\")"
   ]
  },
  {
   "cell_type": "code",
   "execution_count": 4,
   "metadata": {},
   "outputs": [],
   "source": [
    "cursor.execute(\"\"\"\n",
    "CREATE TABLE similarity_scores (\n",
    "    score_id INTEGER PRIMARY KEY AUTO_INCREMENT,\n",
    "    doc1_id INTEGER NOT NULL,\n",
    "    doc2_id INTEGER NOT NULL,\n",
    "    similarity_score FLOAT NOT NULL, \n",
    "    check_date TIMESTAMP NOT NULL,\n",
    "    FOREIGN KEY (doc1_id) REFERENCES documents(doc_id),\n",
    "    FOREIGN KEY (doc2_id) REFERENCES documents(doc_id)\n",
    ");\n",
    "\"\"\")"
   ]
  },
  {
   "cell_type": "code",
   "execution_count": 5,
   "metadata": {},
   "outputs": [],
   "source": [
    "cursor.execute(\"\"\"\n",
    "CREATE TABLE plagiarism_reports (\n",
    "    report_id INTEGER PRIMARY KEY AUTO_INCREMENT,\n",
    "    doc_id INTEGER NOT NULL,\n",
    "    report_date TIMESTAMP NOT NULL,\n",
    "    status ENUM('pending', 'reviewed', 'confirmed', 'rejected') NOT NULL, \n",
    "    reviewer_notes TEXT NOT NULL,\n",
    "    FOREIGN KEY (doc_id) REFERENCES documents(doc_id)\n",
    ");\n",
    "\"\"\")"
   ]
  },
  {
   "cell_type": "code",
   "execution_count": 6,
   "metadata": {},
   "outputs": [],
   "source": [
    "cursor.execute(\"\"\"\n",
    "CREATE TABLE document_metadata (\n",
    "    metadata_id INTEGER PRIMARY KEY AUTO_INCREMENT,\n",
    "    doc_id INTEGER NOT NULL,\n",
    "    word_count INT NOT NULL,\n",
    "    language VARCHAR(50) NOT NULL, \n",
    "    category VARCHAR(100) NOT NULL, \n",
    "    keywords TEXT NOT NULL,             \n",
    "    FOREIGN KEY (doc_id) REFERENCES documents(doc_id)\n",
    ");\n",
    "\"\"\")"
   ]
  },
  {
   "cell_type": "markdown",
   "metadata": {},
   "source": [
    "### Phần 4"
   ]
  }
 ],
 "metadata": {
  "kernelspec": {
   "display_name": "base",
   "language": "python",
   "name": "python3"
  },
  "language_info": {
   "codemirror_mode": {
    "name": "ipython",
    "version": 3
   },
   "file_extension": ".py",
   "mimetype": "text/x-python",
   "name": "python",
   "nbconvert_exporter": "python",
   "pygments_lexer": "ipython3",
   "version": "3.10.16"
  }
 },
 "nbformat": 4,
 "nbformat_minor": 2
}
