{
 "cells": [
  {
   "cell_type": "code",
   "execution_count": 2,
   "metadata": {},
   "outputs": [],
   "source": [
    "import pandas as pd\n",
    "import mysql.connector"
   ]
  },
  {
   "cell_type": "code",
   "execution_count": 3,
   "metadata": {},
   "outputs": [],
   "source": [
    "connection = mysql.connector.connect(\n",
    "    host= 'localhost',         \n",
    "    user= 'root',             \n",
    "    password= '123456', \n",
    "    database = 'day_46'     \n",
    ")\n",
    "cursor = connection.cursor()"
   ]
  },
  {
   "cell_type": "code",
   "execution_count": 3,
   "metadata": {},
   "outputs": [],
   "source": [
    "cursor.execute(\"\"\"\n",
    "CREATE TABLE Customers (\n",
    "    CustomerID INTEGER PRIMARY KEY AUTO_INCREMENT,\n",
    "    Name VARCHAR(200) NOT NULL, \n",
    "    City VARCHAR(200) NOT NULL\n",
    ");\n",
    "\"\"\")"
   ]
  },
  {
   "cell_type": "code",
   "execution_count": 4,
   "metadata": {},
   "outputs": [],
   "source": [
    "cursor.execute(\"\"\"\n",
    "INSERT INTO Customers (CustomerID, Name, City) VALUES\n",
    "(1, 'Alice', 'Hanoi'),\n",
    "(2, 'Bob', 'HCM'),\n",
    "(3, 'Charlie', 'Danang'),\n",
    "(4, 'Diana', 'Hanoi');\n",
    "\"\"\")\n",
    "\n",
    "connection.commit()"
   ]
  },
  {
   "cell_type": "code",
   "execution_count": 5,
   "metadata": {},
   "outputs": [],
   "source": [
    "cursor.execute(\"\"\"\n",
    "CREATE TABLE Accounts (\n",
    "    AccountID VARCHAR(200) PRIMARY KEY,\n",
    "    CustomerID INTEGER NOT NULL,\n",
    "    Balance DECIMAL(10, 0) NOT NULL\n",
    ");\n",
    "\"\"\")"
   ]
  },
  {
   "cell_type": "code",
   "execution_count": 4,
   "metadata": {},
   "outputs": [],
   "source": [
    "cursor.execute(\"\"\"\n",
    "INSERT INTO Accounts (AccountID, CustomerID, Balance) VALUES\n",
    "('A1', 1, 500),\n",
    "('A2', 1, 1000),\n",
    "('A3', 2, 1500),\n",
    "('A4', 5, 300);\n",
    "\"\"\")\n",
    "\n",
    "connection.commit()"
   ]
  },
  {
   "cell_type": "markdown",
   "metadata": {},
   "source": [
    "### Bài 1"
   ]
  },
  {
   "cell_type": "code",
   "execution_count": 6,
   "metadata": {},
   "outputs": [
    {
     "name": "stdout",
     "output_type": "stream",
     "text": [
      "      Name    City AccountID\n",
      "0    Alice   Hanoi        A2\n",
      "1    Alice   Hanoi        A1\n",
      "2      Bob     HCM        A3\n",
      "3  Charlie  Danang      None\n",
      "4    Diana   Hanoi      None\n"
     ]
    },
    {
     "name": "stderr",
     "output_type": "stream",
     "text": [
      "C:\\Users\\Apollonir\\AppData\\Local\\Temp\\ipykernel_29360\\2440638325.py:9: UserWarning: pandas only supports SQLAlchemy connectable (engine/connection) or database string URI or sqlite3 DBAPI2 connection. Other DBAPI2 objects are not tested. Please consider using SQLAlchemy.\n",
      "  data_1 = pd.read_sql_query(query, connection)\n"
     ]
    }
   ],
   "source": [
    "query = (\"\"\"\n",
    "SELECT a.Name\n",
    "    , a.City\n",
    "    , b.AccountID\n",
    " FROM Customers a\n",
    "LEFT JOIN Accounts b on a.CustomerID = b.CustomerID\n",
    "\"\"\")\n",
    "\n",
    "data_1 = pd.read_sql_query(query, connection)\n",
    "print(data_1)"
   ]
  },
  {
   "cell_type": "markdown",
   "metadata": {},
   "source": [
    "### Bài 2"
   ]
  },
  {
   "cell_type": "code",
   "execution_count": 7,
   "metadata": {},
   "outputs": [
    {
     "name": "stdout",
     "output_type": "stream",
     "text": [
      "    Name   City AccountID\n",
      "0  Alice  Hanoi        A1\n",
      "1  Alice  Hanoi        A2\n",
      "2    Bob    HCM        A3\n",
      "3   None   None        A4\n"
     ]
    },
    {
     "name": "stderr",
     "output_type": "stream",
     "text": [
      "C:\\Users\\Apollonir\\AppData\\Local\\Temp\\ipykernel_29360\\2805505836.py:9: UserWarning: pandas only supports SQLAlchemy connectable (engine/connection) or database string URI or sqlite3 DBAPI2 connection. Other DBAPI2 objects are not tested. Please consider using SQLAlchemy.\n",
      "  data_2 = pd.read_sql_query(query, connection)\n"
     ]
    }
   ],
   "source": [
    "query = (\"\"\"\n",
    "SELECT a.Name\n",
    "    , a.City\n",
    "    , b.AccountID\n",
    " FROM Customers a\n",
    "RIGHT JOIN Accounts b on a.CustomerID = b.CustomerID\n",
    "\"\"\")\n",
    "\n",
    "data_2 = pd.read_sql_query(query, connection)\n",
    "print(data_2)"
   ]
  },
  {
   "cell_type": "markdown",
   "metadata": {},
   "source": [
    "### Bài 3"
   ]
  },
  {
   "cell_type": "code",
   "execution_count": 13,
   "metadata": {},
   "outputs": [
    {
     "name": "stdout",
     "output_type": "stream",
     "text": [
      "      Name    City AccountID\n",
      "0    Alice   Hanoi        A2\n",
      "1    Alice   Hanoi        A1\n",
      "2      Bob     HCM        A3\n",
      "3  Charlie  Danang      None\n",
      "4    Diana   Hanoi      None\n",
      "5     None    None        A4\n"
     ]
    },
    {
     "name": "stderr",
     "output_type": "stream",
     "text": [
      "C:\\Users\\Apollonir\\AppData\\Local\\Temp\\ipykernel_29360\\3477105701.py:13: UserWarning: pandas only supports SQLAlchemy connectable (engine/connection) or database string URI or sqlite3 DBAPI2 connection. Other DBAPI2 objects are not tested. Please consider using SQLAlchemy.\n",
      "  data_3 = pd.read_sql_query(query, connection)\n"
     ]
    }
   ],
   "source": [
    "query = (\"\"\"\n",
    "SELECT a.Name, a.City, b.AccountID\n",
    "FROM Customers a\n",
    "LEFT JOIN Accounts b ON a.CustomerID = b.CustomerID\n",
    "\n",
    "UNION\n",
    "\n",
    "SELECT a.Name, a.City, b.AccountID\n",
    "FROM Customers a\n",
    "RIGHT JOIN Accounts b ON a.CustomerID = b.CustomerID;\n",
    "\"\"\")\n",
    "\n",
    "data_3 = pd.read_sql_query(query, connection)\n",
    "print(data_3)"
   ]
  }
 ],
 "metadata": {
  "kernelspec": {
   "display_name": "base",
   "language": "python",
   "name": "python3"
  },
  "language_info": {
   "codemirror_mode": {
    "name": "ipython",
    "version": 3
   },
   "file_extension": ".py",
   "mimetype": "text/x-python",
   "name": "python",
   "nbconvert_exporter": "python",
   "pygments_lexer": "ipython3",
   "version": "3.10.16"
  }
 },
 "nbformat": 4,
 "nbformat_minor": 2
}
