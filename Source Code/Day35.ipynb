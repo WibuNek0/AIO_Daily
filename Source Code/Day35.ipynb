{
 "cells": [
  {
   "cell_type": "code",
   "execution_count": 22,
   "metadata": {},
   "outputs": [],
   "source": [
    "import mysql.connector\n",
    "import pandas as pd\n",
    "\n",
    "connection = mysql.connector.connect(\n",
    "    host= 'localhost',         \n",
    "    database = 'AIO2025',\n",
    "    user= 'root',             \n",
    "    password= '123456'       \n",
    ")\n",
    "cursor = connection.cursor()"
   ]
  },
  {
   "cell_type": "code",
   "execution_count": 27,
   "metadata": {},
   "outputs": [],
   "source": [
    "import warnings\n",
    "\n",
    "warnings.filterwarnings('ignore')"
   ]
  },
  {
   "cell_type": "code",
   "execution_count": 2,
   "metadata": {},
   "outputs": [],
   "source": [
    "cursor.execute(\"\"\"\n",
    "CREATE TABLE Salespersons (\n",
    "    SalespersonID INTEGER PRIMARY KEY,\n",
    "    FullName VARCHAR(100) NOT NULL,\n",
    "    Email VARCHAR(100) NOT NULL,\n",
    "    PhoneNumber VARCHAR(15) NOT NULL\n",
    ");\n",
    "\"\"\")"
   ]
  },
  {
   "cell_type": "code",
   "execution_count": 3,
   "metadata": {},
   "outputs": [],
   "source": [
    "cursor.execute(\"\"\"\n",
    "INSERT INTO Salespersons (SalespersonID, FullName, Email, PhoneNumber) VALUES\n",
    "(1, 'Nguyễn Văn A', 'a@example.com', '0123456789'),\n",
    "(2, 'Trần Thị B', 'b@example.com', '0987654321'),\n",
    "(3, 'Lê Văn C', 'c@example.com', '0112233445');\n",
    "\"\"\")\n",
    "\n",
    "connection.commit()"
   ]
  },
  {
   "cell_type": "code",
   "execution_count": 4,
   "metadata": {},
   "outputs": [],
   "source": [
    "cursor.execute(\"\"\"\n",
    "CREATE TABLE Customers (\n",
    "    CustomerID INTEGER PRIMARY KEY,\n",
    "    FullName VARCHAR(100) NOT NULL,\n",
    "    Email VARCHAR(100) NOT NULL,\n",
    "    PhoneNumber VARCHAR(15) NOT NULL\n",
    ");\n",
    "\"\"\")"
   ]
  },
  {
   "cell_type": "code",
   "execution_count": 5,
   "metadata": {},
   "outputs": [],
   "source": [
    "cursor.execute(\"\"\"\n",
    "INSERT INTO Customers (CustomerID, FullName, Email, PhoneNumber) VALUES\n",
    "(1, 'Phạm Văn D', 'd@example.com', '0123456780'),\n",
    "(2, 'Nguyễn Thị E', 'e@example.com', '0987654320'),\n",
    "(3, 'Trần Văn F', 'f@example.com', '0112233446');\n",
    "\"\"\")\n",
    "\n",
    "connection.commit()"
   ]
  },
  {
   "cell_type": "code",
   "execution_count": 6,
   "metadata": {},
   "outputs": [],
   "source": [
    "cursor.execute(\"\"\"\n",
    "CREATE TABLE Orders (\n",
    "    OrderID INTEGER PRIMARY KEY,\n",
    "    CustomerID INTEGER NOT NULL,\n",
    "    SalespersonID INTEGER NOT NULL,\n",
    "    OrderDate DATE NOT NULL,\n",
    "    TotalAmount DECIMAL NOT NULL\n",
    ");\n",
    "\"\"\")"
   ]
  },
  {
   "cell_type": "code",
   "execution_count": 19,
   "metadata": {},
   "outputs": [],
   "source": [
    "cursor.execute(\"\"\"\n",
    "INSERT INTO Orders (OrderID, SalespersonID, CustomerID, OrderDate, TotalAmount) VALUES\n",
    "(1, 1, 1, '2023-10-01', 100000),\n",
    "(2, 2, 2, '2023-10-02', 250000),\n",
    "(3, 3, 3, '2023-10-03', 150000),\n",
    "(4, 3, 2, '2023-10-05', 200000),\n",
    "(5, 2, 3, '2023-10-10', 90000),\n",
    "(6, 1, 3, '2023-10-15', 80000)\n",
    "\"\"\")\n",
    "\n",
    "connection.commit()"
   ]
  },
  {
   "cell_type": "code",
   "execution_count": 30,
   "metadata": {},
   "outputs": [
    {
     "name": "stdout",
     "output_type": "stream",
     "text": [
      "   SalespersonID      FullName          Email PhoneNumber\n",
      "0              1  Nguyễn Văn A  a@example.com  0123456789\n"
     ]
    }
   ],
   "source": [
    "query = (\"\"\"\n",
    "SELECT * FROM Salespersons\n",
    "WHERE SalespersonID = 1;\n",
    "\"\"\")\n",
    "\n",
    "data = pd.read_sql_query(query, connection)\n",
    "print(data)"
   ]
  },
  {
   "cell_type": "code",
   "execution_count": 31,
   "metadata": {},
   "outputs": [
    {
     "name": "stdout",
     "output_type": "stream",
     "text": [
      "   CustomerID  TotalOrders\n",
      "0           3            3\n"
     ]
    }
   ],
   "source": [
    "query = (\"\"\"\n",
    "SELECT CustomerID, COUNT(OrderID) TotalOrders\n",
    " FROM Orders\n",
    "GROUP BY CustomerID\n",
    "ORDER BY TotalOrders DESC\n",
    "LIMIT 1;\n",
    "\"\"\")\n",
    "\n",
    "data = pd.read_sql_query(query, connection)\n",
    "print(data)"
   ]
  },
  {
   "cell_type": "code",
   "execution_count": 32,
   "metadata": {},
   "outputs": [
    {
     "name": "stdout",
     "output_type": "stream",
     "text": [
      "   SalespersonID  TotalSales\n",
      "0              1    180000.0\n",
      "1              2    340000.0\n",
      "2              3    350000.0\n"
     ]
    }
   ],
   "source": [
    "query = (\"\"\"\n",
    "SELECT SalespersonID, SUM(TotalAmount) TotalSales\n",
    " FROM Orders\n",
    "GROUP BY SalespersonID\n",
    "\"\"\")\n",
    "\n",
    "data = pd.read_sql_query(query, connection)\n",
    "print(data)"
   ]
  },
  {
   "cell_type": "code",
   "execution_count": 33,
   "metadata": {},
   "outputs": [
    {
     "name": "stdout",
     "output_type": "stream",
     "text": [
      "   SalespersonID  TotalSales\n",
      "0              3    350000.0\n"
     ]
    }
   ],
   "source": [
    "query = (\"\"\"\n",
    "SELECT SalespersonID, SUM(TotalAmount) TotalSales\n",
    " FROM Orders\n",
    "GROUP BY SalespersonID\n",
    "ORDER BY TotalSales DESC\n",
    "LIMIT 1;\n",
    "\"\"\")\n",
    "\n",
    "data = pd.read_sql_query(query, connection)\n",
    "print(data)"
   ]
  },
  {
   "cell_type": "code",
   "execution_count": 34,
   "metadata": {},
   "outputs": [
    {
     "name": "stdout",
     "output_type": "stream",
     "text": [
      "   OrderID  CustomerID  SalespersonID   OrderDate  TotalAmount\n",
      "0        1           1              1  2023-10-01     100000.0\n",
      "1        2           2              2  2023-10-02    4500000.0\n",
      "2        3           3              3  2023-10-03     150000.0\n",
      "3        4           2              3  2023-10-05     200000.0\n",
      "4        5           3              2  2023-10-10      90000.0\n",
      "5        6           3              1  2023-10-15      80000.0\n"
     ]
    }
   ],
   "source": [
    "cursor.execute(\"\"\"\n",
    "UPDATE Orders\n",
    "SET TotalAmount = 4500000\n",
    "WHERE 1 = 1\n",
    "AND OrderID = 2;\n",
    "\"\"\" )\n",
    "\n",
    "connection.commit()\n",
    "data = pd.read_sql_query(\"SELECT * FROM Orders\", connection)\n",
    "print(data)"
   ]
  },
  {
   "cell_type": "code",
   "execution_count": 35,
   "metadata": {},
   "outputs": [
    {
     "name": "stdout",
     "output_type": "stream",
     "text": [
      "   CustomerID      FullName          Email PhoneNumber\n",
      "0           1    Phạm Văn D  d@example.com  0123456780\n",
      "1           2  Nguyễn Thị E  e@example.com  0987654320\n",
      "2           3    Trần Văn F  f@example.com    89754314\n"
     ]
    }
   ],
   "source": [
    "cursor.execute(\"\"\"\n",
    "UPDATE Customers\n",
    "SET PhoneNumber = 89754314\n",
    "WHERE 1 = 1\n",
    "AND CustomerID = 3;\n",
    "\"\"\" )\n",
    "\n",
    "connection.commit()\n",
    "data = pd.read_sql_query(\"SELECT * FROM Customers\", connection)\n",
    "print(data)"
   ]
  },
  {
   "cell_type": "code",
   "execution_count": 36,
   "metadata": {},
   "outputs": [
    {
     "name": "stdout",
     "output_type": "stream",
     "text": [
      "   OrderID  CustomerID  SalespersonID   OrderDate  TotalAmount\n",
      "0        1           1              1  2023-10-01     100000.0\n",
      "1        3           3              3  2023-10-03     150000.0\n",
      "2        5           3              2  2023-10-10      90000.0\n",
      "3        6           3              1  2023-10-15      80000.0\n"
     ]
    }
   ],
   "source": [
    "# Update name của email: nguyen@aivietnam.edu.vn\n",
    "cursor.execute(\"\"\"\n",
    "DELETE FROM Orders\n",
    "WHERE 1 = 1\n",
    "AND CustomerID = 2;\n",
    "\"\"\" )\n",
    "\n",
    "connection.commit()\n",
    "data = pd.read_sql_query(\"SELECT * FROM Orders\", connection)\n",
    "print(data)"
   ]
  }
 ],
 "metadata": {
  "kernelspec": {
   "display_name": "base",
   "language": "python",
   "name": "python3"
  },
  "language_info": {
   "codemirror_mode": {
    "name": "ipython",
    "version": 3
   },
   "file_extension": ".py",
   "mimetype": "text/x-python",
   "name": "python",
   "nbconvert_exporter": "python",
   "pygments_lexer": "ipython3",
   "version": "3.10.16"
  }
 },
 "nbformat": 4,
 "nbformat_minor": 2
}
