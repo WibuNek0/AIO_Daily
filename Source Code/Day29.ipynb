{
 "cells": [
  {
   "cell_type": "code",
   "execution_count": null,
   "metadata": {},
   "outputs": [],
   "source": [
    "# Hàm tính đạo hàm bằng sai phân hữu hạn\n",
    "def numerical_derivative(f, x, h = 1e-5):\n",
    "    return (f(x + h) - f(x))/ h\n",
    "\n",
    "# Hàm vẽ đồ thị của hàm số và đạo hàm\n",
    "def plot_chain_rule(f, g, x_range = (-2, 2), title = \"Đạo hàm Chain Rule\"):\n",
    "    x_vals = np.linspace(x_range[0], x_range[1], 400)\n",
    "\n",
    "    # Tính giá trị của g(x) và f(g(x))\n",
    "    g_vals = g(x_vals)\n",
    "    f_vals = f(g_vals)\n",
    "\n",
    "    # Tính đạo hàm theo Chain Rule\n",
    "    # Your Code here #\n",
    "\n",
    "    # Vẽ đồ thị của f(g(x)) và đạo hàm\n",
    "    plt.figure(figsize = (8, 5))\n",
    "    plt.plot(x_vals, f_vals, label =\"f(g(x))\", color = 'blue')\n",
    "    plt.plot(x_vals, chain_rule_derivative_vals, label =\"f'(x) theo Chain Rule\", color = 'red', linestyle =\" --\")\n",
    "\n",
    "    plt.axhline(0, color = 'black', linewidth = 0.5, linestyle = '--')\n",
    "    plt.axvline(0, color = 'black', linewidth = 0.5, linestyle = '--')\n",
    "\n",
    "    plt.xlabel(\"x\")\n",
    "    plt.ylabel(\"Giá trị\")\n",
    "    plt.title(title)\n",
    "    plt.legend ()\n",
    "    plt.grid()"
   ]
  }
 ],
 "metadata": {
  "kernelspec": {
   "display_name": "base",
   "language": "python",
   "name": "python3"
  },
  "language_info": {
   "name": "python",
   "version": "3.12.3"
  }
 },
 "nbformat": 4,
 "nbformat_minor": 2
}
