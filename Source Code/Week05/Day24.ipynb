{
 "cells": [
  {
   "cell_type": "code",
   "execution_count": null,
   "metadata": {},
   "outputs": [],
   "source": []
  },
  {
   "cell_type": "code",
   "execution_count": 1,
   "metadata": {},
   "outputs": [
    {
     "name": "stdout",
     "output_type": "stream",
     "text": [
      "Xác suất của sự kiện là: 0.25\n"
     ]
    }
   ],
   "source": [
    "def calculate_probability(event_occurrences, total_trials):\n",
    "    \"\"\"\n",
    "    Tính xác suất của một sự kiện.\n",
    "\n",
    "    Parameters:\n",
    "    event_occurrences(int): Số lần sự kiện xảy ra.\n",
    "    total_trials(int): Tổng số lần thử nghiệm.\n",
    "\n",
    "    Returns:\n",
    "    float: Xác suất của sự kiện.\n",
    "    \"\"\"\n",
    "    result = event_occurrences/total_trials\n",
    "    return result\n",
    "\n",
    "# Ví dụ sử dụng\n",
    "event_occurrences = 5\n",
    "total_trials = 20\n",
    "probability = calculate_probability(event_occurrences, total_trials)\n",
    "print(f\"Xác suất của sự kiện là: {probability}\")\n"
   ]
  },
  {
   "cell_type": "code",
   "execution_count": 2,
   "metadata": {},
   "outputs": [
    {
     "name": "stdout",
     "output_type": "stream",
     "text": [
      "Xác suất có điều kiện P(B|A) là: 0.4\n"
     ]
    }
   ],
   "source": [
    "def calculate_conditional_probability(P_A_and_B, P_A):\n",
    "    \"\"\"\n",
    "    Tính xác suất có điều kiện P(B|A).\n",
    "\n",
    "    Parameters:\n",
    "    P_A_and_B(float): Xác suất của sự kiện A và B xảy ra.\n",
    "    P_A(float): Xác suất của sự kiện A.\n",
    "\n",
    "    Returns:\n",
    "    float: Xác suất có điều kiện P(B|A).\n",
    "    \"\"\"\n",
    "    return P_A_and_B/P_A\n",
    "\n",
    "# Ví dụ sử dụng\n",
    "P_A_and_B = 0.2\n",
    "P_A = 0.5\n",
    "P_B_given_A = calculate_conditional_probability(P_A_and_B, P_A)\n",
    "print(f\"Xác suất có điều kiện P(B|A) là: {P_B_given_A}\")"
   ]
  },
  {
   "cell_type": "code",
   "execution_count": 3,
   "metadata": {},
   "outputs": [
    {
     "name": "stdout",
     "output_type": "stream",
     "text": [
      "Covariance giữa X và Y là: 10.0\n",
      "Correlation giữa X và Y là: 0.9999999999999998\n"
     ]
    }
   ],
   "source": [
    "import numpy as np\n",
    "\n",
    "def calculate_covariance(X, Y):\n",
    "    \"\"\"\n",
    "    Tính covariance giữa hai biến X và Y.\n",
    "\n",
    "    Parameters:\n",
    "    X (list): Danh sách các giá trị của biến X.\n",
    "    Y (list): Danh sách các giá trị của biến Y.\n",
    "\n",
    "    Returns:\n",
    "    float: Covariance giữa X và Y.\n",
    "    \"\"\"\n",
    "  \n",
    "    mean_x = np.mean(X)\n",
    "    mean_y = np.mean(Y)\n",
    "    \n",
    "    covariance = np.sum((X - mean_x) * (Y - mean_y)) / (len(X) - 1)\n",
    "    return covariance\n",
    "\n",
    "def calculate_correlation(X, Y):\n",
    "    \"\"\"\n",
    "    Tính correlation giữa hai biến X và Y.\n",
    "\n",
    "    Parameters:\n",
    "    X (list): Danh sách các giá trị của biến X.\n",
    "    Y (list): Danh sách các giá trị của biến Y.\n",
    "\n",
    "    Returns:\n",
    "    float: Correlation giữa X và Y.\n",
    "    \"\"\"\n",
    "    covariance = calculate_covariance(X, Y)\n",
    "    std_x = np.std(X, ddof=1)  \n",
    "    std_y = np.std(Y, ddof=1) \n",
    "    \n",
    "    correlation = covariance / (std_x * std_y)\n",
    "    return correlation\n",
    "\n",
    "# Ví dụ sử dụng\n",
    "X = [2, 4, 6, 8, 10]\n",
    "Y = [1, 3, 5, 7, 9]\n",
    "\n",
    "covariance = calculate_covariance(X, Y)\n",
    "correlation = calculate_correlation(X, Y)\n",
    "\n",
    "print(f\"Covariance giữa X và Y là: {covariance}\")\n",
    "print(f\"Correlation giữa X và Y là: {correlation}\")\n"
   ]
  },
  {
   "cell_type": "markdown",
   "metadata": {},
   "source": [
    "$$ \\text{Cov}(X, Y) = \\frac{1}{n-1} \\sum_{i=1}^{n} (X_i - \\bar{X})(Y_i - \\bar{Y}) $$"
   ]
  },
  {
   "cell_type": "markdown",
   "metadata": {},
   "source": [
    "$$ r = \\frac{\\text{Cov}(X, Y)}{\\sigma_X \\sigma_Y} $$\n"
   ]
  }
 ],
 "metadata": {
  "kernelspec": {
   "display_name": "base",
   "language": "python",
   "name": "python3"
  },
  "language_info": {
   "codemirror_mode": {
    "name": "ipython",
    "version": 3
   },
   "file_extension": ".py",
   "mimetype": "text/x-python",
   "name": "python",
   "nbconvert_exporter": "python",
   "pygments_lexer": "ipython3",
   "version": "3.12.3"
  }
 },
 "nbformat": 4,
 "nbformat_minor": 2
}
