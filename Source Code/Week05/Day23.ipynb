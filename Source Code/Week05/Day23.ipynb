{
 "cells": [
  {
   "cell_type": "code",
   "execution_count": 2,
   "metadata": {},
   "outputs": [
    {
     "data": {
      "text/plain": [
       "0.375"
      ]
     },
     "execution_count": 2,
     "metadata": {},
     "output_type": "execute_result"
    }
   ],
   "source": [
    "# 1. Một túi có 3 quả bóng đỏ và 5 quả bóng xanh. Xác suất rút được một quả bóng đỏ là bao nhiêu?\n",
    "result = 3/(3+5)\n",
    "result"
   ]
  },
  {
   "cell_type": "code",
   "execution_count": 3,
   "metadata": {},
   "outputs": [
    {
     "data": {
      "text/plain": [
       "0.5"
      ]
     },
     "execution_count": 3,
     "metadata": {},
     "output_type": "execute_result"
    }
   ],
   "source": [
    "# 2. Một con súc sắc sáu mặt được tung. Xác suất để số điểm là số chẵn?\n",
    "result = 3/6\n",
    "result"
   ]
  },
  {
   "cell_type": "code",
   "execution_count": 5,
   "metadata": {},
   "outputs": [
    {
     "data": {
      "text/plain": [
       "0.25"
      ]
     },
     "execution_count": 5,
     "metadata": {},
     "output_type": "execute_result"
    }
   ],
   "source": [
    "# 3. Từ bộ bài 52 lá, xác suất để rút được một lá bài là quân bích?\n",
    "result = 13/52\n",
    "result"
   ]
  },
  {
   "cell_type": "code",
   "execution_count": 6,
   "metadata": {},
   "outputs": [
    {
     "data": {
      "text/plain": [
       "0.3"
      ]
     },
     "execution_count": 6,
     "metadata": {},
     "output_type": "execute_result"
    }
   ],
   "source": [
    "# 4. Một hộp chứa 10 viên kẹo, trong đó có 7 viên kẹo vị dâu và 3 viên kẹo vị nho. Xác suất để lấy được viên kẹo vị nho?\n",
    "result = 3/10\n",
    "result"
   ]
  },
  {
   "cell_type": "code",
   "execution_count": 7,
   "metadata": {},
   "outputs": [
    {
     "data": {
      "text/plain": [
       "0.08333333333333333"
      ]
     },
     "execution_count": 7,
     "metadata": {},
     "output_type": "execute_result"
    }
   ],
   "source": [
    "# 5. Xác suất để một người chọn ngẫu nhiên sinh vào tháng 5?\n",
    "result = 1/12\n",
    "result"
   ]
  },
  {
   "cell_type": "code",
   "execution_count": 8,
   "metadata": {},
   "outputs": [
    {
     "data": {
      "text/plain": [
       "0.7142857142857143"
      ]
     },
     "execution_count": 8,
     "metadata": {},
     "output_type": "execute_result"
    }
   ],
   "source": [
    "# 6. Xác suất để một học sinh học giỏi toán (A) là 0.7. \n",
    "# Xác suất để học sinh đó cũng học giỏi lý (B) là 0.6. \n",
    "# Xác suất để học sinh học giỏi cả hai môn (A và B) là 0.5. \n",
    "# Tìm xác suất để học sinh học giỏi lý biết rằng học sinh đó học giỏi toán.\n",
    "\n",
    "result = 0.5/0.7\n",
    "result"
   ]
  },
  {
   "cell_type": "markdown",
   "metadata": {},
   "source": [
    "$$ P(A|B) = \\frac{P(A \\cap B)}{P(B)} $$"
   ]
  },
  {
   "cell_type": "code",
   "execution_count": 9,
   "metadata": {},
   "outputs": [
    {
     "data": {
      "text/plain": [
       "0.5"
      ]
     },
     "execution_count": 9,
     "metadata": {},
     "output_type": "execute_result"
    }
   ],
   "source": [
    "# 7. Trong một lớp học, xác suất để học sinh đạt điểm A môn toán là 0.3, \n",
    "# xác suất để đạt điểm A môn lý là 0.4. \n",
    "# Biết rằng xác suất để đạt điểm A cả hai môn là 0.2, \n",
    "# tìm xác suất để học sinh đạt điểm A môn toán biết rằng học sinh đó đã đạt điểm A môn lý.\n",
    "\n",
    "result = 0.2/0.4\n",
    "result"
   ]
  },
  {
   "cell_type": "code",
   "execution_count": 10,
   "metadata": {},
   "outputs": [],
   "source": [
    "# 8. Một túi có 5 quả táo và 3 quả cam. \n",
    "# Rút ngẫu nhiên một quả và biết rằng quả đó là quả cam, xác suất để rút được một quả táo?\n",
    "\n",
    "result = 0"
   ]
  },
  {
   "cell_type": "code",
   "execution_count": 15,
   "metadata": {},
   "outputs": [
    {
     "name": "stdout",
     "output_type": "stream",
     "text": [
      "0.24\n",
      "0.5\n"
     ]
    }
   ],
   "source": [
    "# 9. Một công ty có 60% nhân viên nam và 40% nhân viên nữ. \n",
    "# Xác suất để một nhân viên nữ được thăng chức là 30%, \n",
    "# và xác suất để một nhân viên nam được thăng chức là 20%. \n",
    "# Tìm xác suất để một nhân viên được thăng chức biết rằng đó là nhân viên nữ.\n",
    "\n",
    "thang_chuc = 0.4*0.3 + 0.6*0.2\n",
    "print(thang_chuc)   \n",
    "result = 0.4*0.3/thang_chuc\n",
    "print(result)"
   ]
  },
  {
   "cell_type": "markdown",
   "metadata": {},
   "source": [
    "$$ P(Thăng chức) = P(Thăng chức | Nữ) \\cdot P(Nữ) + P(Thăng chức | Nam) \\cdot P(Nam) $$"
   ]
  },
  {
   "cell_type": "markdown",
   "metadata": {},
   "source": [
    "$$ P(Nữ | Thăng chức) = \\frac{P(Thăng chức | Nữ) \\cdot P(Nữ)}{P(Thăng chức)} $$"
   ]
  },
  {
   "cell_type": "code",
   "execution_count": 16,
   "metadata": {},
   "outputs": [
    {
     "data": {
      "text/plain": [
       "0.7499999999999999"
      ]
     },
     "execution_count": 16,
     "metadata": {},
     "output_type": "execute_result"
    }
   ],
   "source": [
    "# 10. Xác suất để một sinh viên đậu một môn thi là 0.8. \n",
    "# Xác suất để sinh viên đó đậu cả hai môn thi là 0.6. \n",
    "# Tìm xác suất để sinh viên đậu môn thứ hai biết rằng đã đậu môn thứ nhất.\n",
    "\n",
    "result = 0.6/0.8\n",
    "result"
   ]
  },
  {
   "cell_type": "code",
   "execution_count": 18,
   "metadata": {},
   "outputs": [],
   "source": [
    "# 11. Có một túi gồm 4 viên kẹo đỏ và 6 viên kẹo xanh. \n",
    "# Một viên kẹo được chọn ngẫu nhiên và thấy là kẹo đỏ. \n",
    "# Tìm xác suất túi còn lại có 5 viên kẹo đỏ và 5 viên kẹo xanh.\n",
    "\n",
    "# Không thể xác định"
   ]
  },
  {
   "cell_type": "code",
   "execution_count": 20,
   "metadata": {},
   "outputs": [
    {
     "name": "stdout",
     "output_type": "stream",
     "text": [
      "0.057\n",
      "0.8333333333333333\n"
     ]
    }
   ],
   "source": [
    "# 12. Một bác sĩ cho biết có xác suất 5% để một bệnh nhân có bệnh khi kết quả xét nghiệm là dương tính. \n",
    "# Xác suất để xét nghiệm dương tính khi bệnh nhân thực sự có bệnh là 95%, \n",
    "# và xác suất để xét nghiệm dương tính khi bệnh nhân không có bệnh là 1%. \n",
    "# Tìm xác suất thực sự có bệnh khi xét nghiệm dương tính.\n",
    "\n",
    "duong_tinh = 0.05*0.95 + 0.95*0.01\n",
    "print(duong_tinh)\n",
    "\n",
    "result = 0.05*0.95/duong_tinh\n",
    "print(result)"
   ]
  },
  {
   "cell_type": "markdown",
   "metadata": {},
   "source": [
    "$$ P(Dương tính) = P(Dương tính | Bệnh) \\cdot P(Bệnh) + P(Dương tính | Không bệnh) \\cdot P(Không bệnh) $$"
   ]
  },
  {
   "cell_type": "markdown",
   "metadata": {},
   "source": [
    "$$ P(Bệnh | Dương tính) = \\frac{P(Dương tính | Bệnh) \\cdot P(Bệnh)}{P(Dương tính)} $$"
   ]
  },
  {
   "cell_type": "code",
   "execution_count": 21,
   "metadata": {},
   "outputs": [
    {
     "name": "stdout",
     "output_type": "stream",
     "text": [
      "0.36\n"
     ]
    }
   ],
   "source": [
    "# 13. Một người bạn của bạn có 60% khả năng xuất hiện tại một buổi tiệc nếu trời mưa \n",
    "# và 30% nếu trời không mưa. Biết rằng xác suất trời mưa là 20%, \n",
    "# xác suất người đó sẽ đến tiệc là bao nhiêu?\n",
    "\n",
    "result = 0.6*0.2 + 0.3*0.8\n",
    "print(result)"
   ]
  },
  {
   "cell_type": "markdown",
   "metadata": {},
   "source": [
    "$$ P(Đến tiệc) = P(Đến tiệc | Mưa) \\cdot P(Mưa) + P(Đến tiệc | Không mưa) \\cdot P(Không mưa) $$"
   ]
  },
  {
   "cell_type": "code",
   "execution_count": 23,
   "metadata": {},
   "outputs": [
    {
     "name": "stdout",
     "output_type": "stream",
     "text": [
      "0.5599999999999999\n",
      "0.375\n"
     ]
    }
   ],
   "source": [
    "# 14. Trong một lớp học, 30% học sinh sử dụng máy tính xách tay, \n",
    "# và trong số những học sinh này, 70% là nữ. \n",
    "# Trong số những học sinh không sử dụng máy tính xách tay, 50% là nữ. \n",
    "# Tìm xác suất để một học sinh sử dụng máy tính xách tay biết rằng học sinh đó là nữ.\n",
    "\n",
    "xac_suat_nu = 0.3*0.7 + 0.7*0.5\n",
    "print(xac_suat_nu)\n",
    "\n",
    "result = 0.3*0.7/xac_suat_nu\n",
    "print(result)"
   ]
  },
  {
   "cell_type": "markdown",
   "metadata": {},
   "source": [
    "$$ P(Nữ) = P(Nữ | Sử dụng máy tính xách tay) \\cdot P(Sử dụng máy tính xách tay) + P(Nữ | Không sử dụng máy tính xách tay) \\cdot P(Không sử dụng máy tính xách tay) $$"
   ]
  },
  {
   "cell_type": "markdown",
   "metadata": {},
   "source": [
    "$$ P(Sử dụng máy tính xách tay | Nữ) = \\frac{P(Nữ | Sử dụng máy tính xách tay) \\cdot P(Sử dụng máy tính xách tay)}{P(Nữ)} $$"
   ]
  },
  {
   "cell_type": "code",
   "execution_count": 24,
   "metadata": {},
   "outputs": [
    {
     "name": "stdout",
     "output_type": "stream",
     "text": [
      "0.0594\n",
      "0.16666666666666669\n"
     ]
    }
   ],
   "source": [
    "# 15. Một bài kiểm tra y tế có độ nhạy (sensitivity) là 99% \n",
    "# và độ đặc hiệu (specificity) là 95%. \n",
    "# Xác suất mắc bệnh là 1%. \n",
    "# Tìm xác suất để một người có kết quả dương tính thực sự mắc bệnh.\n",
    "\n",
    "mack_benh = 0.01*0.99 + 0.99*0.05\n",
    "print(mack_benh)\n",
    "\n",
    "result = 0.01*0.99/mack_benh\n",
    "print(result)"
   ]
  },
  {
   "cell_type": "markdown",
   "metadata": {},
   "source": [
    "$$ P(Dương tính) = P(Dương tính | Mắc bệnh) \\cdot P(Mắc bệnh) + P(Dương tính | Không mắc bệnh) \\cdot P(Không mắc bệnh) $$"
   ]
  },
  {
   "cell_type": "markdown",
   "metadata": {},
   "source": [
    "$$ P(Mắc bệnh | Dương tính) = \\frac{P(Dương tính | Mắc bệnh) \\cdot P(Mắc bệnh)}{P(Dương tính)} $$"
   ]
  },
  {
   "cell_type": "code",
   "execution_count": 27,
   "metadata": {},
   "outputs": [
    {
     "name": "stdout",
     "output_type": "stream",
     "text": [
      "0.15865525393145707\n"
     ]
    }
   ],
   "source": [
    "# 16. Cho biết phân phối chuẩn có trung bình là 0 và độ lệch chuẩn là 1. \n",
    "# Tính xác suất để một biến ngẫu nhiên chuẩn nhận giá trị lớn hơn 1.\n",
    "import scipy.stats as stats\n",
    "\n",
    "result = 1 - stats.norm.cdf(1, 0, 1)\n",
    "print(result)"
   ]
  },
  {
   "cell_type": "markdown",
   "metadata": {},
   "source": [
    "$$ P(Z > 1) = 1 - P(Z \\leq 1) $$"
   ]
  },
  {
   "cell_type": "code",
   "execution_count": 28,
   "metadata": {},
   "outputs": [
    {
     "name": "stdout",
     "output_type": "stream",
     "text": [
      "0.15865525393145707 0.8413447460685429\n",
      "0.6826894921370859\n"
     ]
    }
   ],
   "source": [
    "# 17. Một biến ngẫu nhiên X có phân phối chuẩn với trung bình 100 và độ lệch chuẩn 15.\n",
    "# Tính xác suất để X nằm trong khoảng từ 85 đến 115.\n",
    "\n",
    "x1 = stats.norm.cdf(85, 100, 15)\n",
    "x2 = stats.norm.cdf(115, 100, 15)\n",
    "print(x1, x2)\n",
    "\n",
    "result = x2 - x1\n",
    "print(result)\n"
   ]
  },
  {
   "cell_type": "markdown",
   "metadata": {},
   "source": [
    "$$ Z_1 = \\frac{85 - 100}{15}, \\quad Z_2 = \\frac{115 - 100}{15} $$"
   ]
  },
  {
   "cell_type": "code",
   "execution_count": 29,
   "metadata": {},
   "outputs": [
    {
     "name": "stdout",
     "output_type": "stream",
     "text": [
      "0.022750131948179195\n"
     ]
    }
   ],
   "source": [
    "# 18. Xác suất để một biến ngẫu nhiên chuẩn nhận giá trị nhỏ hơn -2?\n",
    "\n",
    "result = stats.norm.cdf(-2, 0, 1)\n",
    "print(result)\n"
   ]
  },
  {
   "cell_type": "code",
   "execution_count": 30,
   "metadata": {},
   "outputs": [
    {
     "name": "stdout",
     "output_type": "stream",
     "text": [
      "0.06680720126885809\n"
     ]
    }
   ],
   "source": [
    "# 19. Một bài kiểm tra có điểm trung bình là 75 và độ lệch chuẩn là 10. \n",
    "# Tính xác suất để một học sinh đạt điểm trên 90.\n",
    "\n",
    "result = 1 - stats.norm.cdf(90, 75, 10)\n",
    "print(result)   "
   ]
  },
  {
   "cell_type": "code",
   "execution_count": 31,
   "metadata": {},
   "outputs": [
    {
     "name": "stdout",
     "output_type": "stream",
     "text": [
      "0.26598552904870054 0.7340144709512995\n",
      "0.4680289419025989\n"
     ]
    }
   ],
   "source": [
    "# 20. Trong một kỳ thi, điểm của các sinh viên tuân theo phân phối chuẩn với trung bình 70\n",
    "#  và độ lệch chuẩn 8. Tính xác suất để điểm số của một sinh viên nằm giữa 65 và 75.\n",
    "    \n",
    "x1 = stats.norm.cdf(65, 70, 8)\n",
    "x2 = stats.norm.cdf(75, 70, 8)\n",
    "print(x1, x2)\n",
    "\n",
    "result = x2 - x1\n",
    "print(result)\n",
    "\n"
   ]
  }
 ],
 "metadata": {
  "kernelspec": {
   "display_name": "base",
   "language": "python",
   "name": "python3"
  },
  "language_info": {
   "codemirror_mode": {
    "name": "ipython",
    "version": 3
   },
   "file_extension": ".py",
   "mimetype": "text/x-python",
   "name": "python",
   "nbconvert_exporter": "python",
   "pygments_lexer": "ipython3",
   "version": "3.12.3"
  }
 },
 "nbformat": 4,
 "nbformat_minor": 2
}
