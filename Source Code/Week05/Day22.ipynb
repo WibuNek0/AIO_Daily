{
 "cells": [
  {
   "cell_type": "markdown",
   "metadata": {},
   "source": [
    "#### Cây quyết định sử dụng Gini"
   ]
  },
  {
   "cell_type": "code",
   "execution_count": 2,
   "metadata": {},
   "outputs": [
    {
     "name": "stdout",
     "output_type": "stream",
     "text": [
      "Gini Index: -1.0000\n"
     ]
    }
   ],
   "source": [
    "import numpy as np\n",
    "\n",
    "def gini_index(groups, classes):\n",
    "    \"\"\" Tính toán chỉ số Gini của một tập hợp \"\"\"\n",
    "    total_samples = float(sum([len(group) for group in groups]))\n",
    "    gini = 0.0\n",
    "    for group in groups:\n",
    "        size = float(len(group))\n",
    "        if size == 0:\n",
    "            continue\n",
    "        score = sum([(row[-1] == c) for row in group for c in classes])/ size\n",
    "        gini += (1.0 - sum([score ** 2 for c in classes])) * (size/ total_samples)\n",
    "    return gini\n",
    "\n",
    "# Ví dụ dữ liệu\n",
    "dataset = [[2.8, 'Yes'],\n",
    "            [1.2, 'No'],\n",
    "            [3.6, 'Yes'],\n",
    "            [4.5, 'No'],\n",
    "            [5.1, 'Yes']]\n",
    "\n",
    "# Chia tập dữ liệu theo một giá trị ngưỡng\n",
    "def split_data(dataset, feature_index, threshold):\n",
    "    left = [row for row in dataset if row[feature_index] < threshold]\n",
    "    right = [row for row in dataset if row[feature_index] >= threshold]\n",
    "    return left, right\n",
    "\n",
    "# Ví dụ tính Gini cho một cách chia dữ liệu\n",
    "groups = split_data(dataset, 0, 3.0)\n",
    "classes = ['Yes', 'No']\n",
    "gini = gini_index(groups, classes)\n",
    "print (f'Gini Index: {gini:.4f}')"
   ]
  },
  {
   "cell_type": "markdown",
   "metadata": {},
   "source": [
    "#### Cây quyết định sử dụng OOP - Lớp TreeNode - Biểu diễn một nút trong cây"
   ]
  },
  {
   "cell_type": "code",
   "execution_count": 3,
   "metadata": {},
   "outputs": [],
   "source": [
    "class TreeNode:\n",
    "    def __init__(self, feature_index = None, threshold = None, left = None, right = None, label = None):\n",
    "    # Khởi tạo một nút trong cây quyết định.\n",
    "    # - feature_index: Chỉ số thuộc tính được chọn để chia.\n",
    "    # - threshold: Ngưỡng giá trị để phân chia dữ liệu.\n",
    "    # - left: Nhánh trái của cây.\n",
    "    # - right: Nhánh phải của cây.\n",
    "    # - label: Nhãn dự đoán nếu là nút lá.\n",
    "\n",
    "        self.feature_index = feature_index\n",
    "        self.threshold = threshold\n",
    "        self.left = left\n",
    "        self.right = right\n",
    "        self.label = label"
   ]
  },
  {
   "cell_type": "markdown",
   "metadata": {},
   "source": [
    "#### Cây quyết định sử dụng OOP - Lớp DecisionTree - Xây dựng cây quyết định"
   ]
  },
  {
   "cell_type": "code",
   "execution_count": 4,
   "metadata": {},
   "outputs": [],
   "source": [
    "import numpy as np\n",
    "\n",
    "class DecisionTree:\n",
    "    def __init__(self, max_depth = 3):\n",
    "    # Khởi tạo cây quyết định với độ sâu tối đa.\n",
    "        self.max_depth = max_depth\n",
    "        self.root = None\n",
    "\n",
    "    def gini_index(self, groups, classes):\n",
    "    # Tính chỉ số Gini cho một tập hợp.\n",
    "        total_samples = sum([len(group) for group in groups])\n",
    "        gini = 0.0\n",
    "        for group in groups:\n",
    "            size = len(group)\n",
    "            if size == 0:\n",
    "                continue\n",
    "            score = 0.0\n",
    "            for class_val in classes:\n",
    "                proportion = [row[-1] for row in group].count(class_val)/ size\n",
    "                score += proportion ** 2\n",
    "            gini += (1.0 - score) * (size/ total_samples)\n",
    "        return gini\n",
    "\n",
    "    def split_data(self, dataset, feature_index, threshold):\n",
    "        # Chia tập dữ liệu dựa trên một thuộc tính và ngưỡng giá trị.\n",
    "        left = [row for row in dataset if row[feature_index] < threshold]\n",
    "        right = [row for row in dataset if row[feature_index] >= threshold]\n",
    "        return left, right\n",
    "\n",
    "    def best_split(self, dataset):\n",
    "        # Tìm thuộc tính tốt nhất để chia tập dữ liệu.\n",
    "        class_values = list(set(row[-1] for row in dataset))\n",
    "        best_index, best_threshold, best_score, best_groups = None, None, float('inf'), None\n",
    "\n",
    "        for index in range(len(dataset[0]) - 1):\n",
    "            for row in dataset:\n",
    "                groups = self.split_data(dataset, index, row[index])\n",
    "                gini = self.gini_index(groups, class_values)\n",
    "                if gini < best_score:\n",
    "                    best_index, best_threshold, best_score, best_groups = index, row[index], gini, groups\n",
    "        return best_index, best_threshold, best_groups\n",
    "\n",
    "    def build_tree(self, dataset, depth =0):\n",
    "        # Xây dựng cây quyết định đệ quy.\n",
    "        class_values = [row[-1] for row in dataset]\n",
    "\n",
    "        # Điều kiện dừng: Nếu chỉ có một lớp hoặc đạt đến độ sâu tối đa\n",
    "        if len(set(class_values)) == 1 or depth >= self.max_depth:\n",
    "            return TreeNode(label = max(set(class_values), key = class_values.count))\n",
    "\n",
    "        # Tìm thuộc tính và giá trị ngưỡng tốt nhất để chia dữ liệu\n",
    "        feature_index, threshold, (left, right) = self.best_split(dataset)\n",
    "        # Nếu không thể chia tiếp, tạo nút lá\n",
    "        if not left or not right:\n",
    "            return TreeNode(label = max(set(class_values), key = class_values.count))\n",
    "\n",
    "        # Xây dựng nhánh trái và nhánh phải\n",
    "        left_node = self.build_tree(left, depth + 1)\n",
    "        right_node = self.build_tree(right, depth + 1)\n",
    "\n",
    "        return TreeNode(feature_index, threshold, left_node, right_node)\n",
    "\n",
    "    def fit(self, dataset):\n",
    "    # Huấn luyện cây quyết định bằng cách xây dựng cây từ dữ liệu đầu vào.\n",
    "        self.root = self.build_tree(dataset)\n",
    "\n",
    "    def print_tree(self, node = None, depth = 0):\n",
    "    # In ra cây quy ết định theo dạng phân cấp.\n",
    "        if node is None:\n",
    "            node = self.root\n",
    "\n",
    "        if node.label is not None:\n",
    "            print(f\"{' ' * depth} [Leaf] Label: {node.label}\")\n",
    "        else:\n",
    "            print(f\"{' ' * depth} [Node] Feature {node.feature_index} <= {node.threshold}\")\n",
    "            self.print_tree(node.left, depth + 1)\n",
    "            self.print_tree(node.right, depth + 1)"
   ]
  },
  {
   "cell_type": "code",
   "execution_count": 5,
   "metadata": {},
   "outputs": [
    {
     "name": "stdout",
     "output_type": "stream",
     "text": [
      "Cây quyết định được xây dựng:\n",
      " [Node] Feature 0 <= 2.8\n",
      "  [Leaf] Label: No\n",
      "  [Node] Feature 0 <= 4.5\n",
      "   [Leaf] Label: Yes\n",
      "   [Node] Feature 0 <= 5.1\n",
      "    [Leaf] Label: No\n",
      "    [Leaf] Label: Yes\n"
     ]
    }
   ],
   "source": [
    "# Tập dữ liệu đơn giản: [Thuộc tính, Nhãn]\n",
    "dataset = [[2.8, 'Yes'],\n",
    "            [1.2, 'No'],\n",
    "            [3.6, 'Yes'],\n",
    "            [4.5, 'No'],\n",
    "            [5.1, 'Yes']]\n",
    "\n",
    "# Khởi tạo và huấn luyện cây quy ết định\n",
    "tree = DecisionTree(max_depth =3)\n",
    "tree.fit(dataset)\n",
    "\n",
    "# In ra cây quyết định\n",
    "print(\"Cây quyết định được xây dựng:\")\n",
    "tree.print_tree()"
   ]
  },
  {
   "cell_type": "markdown",
   "metadata": {},
   "source": [
    "#### Bài 1"
   ]
  },
  {
   "cell_type": "code",
   "execution_count": 6,
   "metadata": {},
   "outputs": [
    {
     "name": "stdout",
     "output_type": "stream",
     "text": [
      "0.5\n"
     ]
    }
   ],
   "source": [
    "dataset = [[50, 'Yes'],\n",
    "            [20, 'No'],\n",
    "            [30, 'No'],\n",
    "            [70, 'Yes'],\n",
    "            [40, 'No'],\n",
    "            [60, 'Yes']]\n",
    "\n",
    "def cal_gini(data):\n",
    "    total = len(data)\n",
    "    yes_count = sum(1 for row in data if row[-1] == 'Yes')\n",
    "    no_count = total - yes_count\n",
    "    \n",
    "    p_yes = yes_count / total\n",
    "    p_no = no_count / total \n",
    "\n",
    "    gini = 1 - (p_yes**2 + p_no**2)\n",
    "    return gini\n",
    "\n",
    "print(cal_gini(dataset))"
   ]
  },
  {
   "cell_type": "markdown",
   "metadata": {},
   "source": [
    "#### Bài 2"
   ]
  },
  {
   "cell_type": "code",
   "execution_count": 7,
   "metadata": {},
   "outputs": [],
   "source": [
    "data_extended = [\n",
    "    [50, 25, 700, 'Yes'],  # [Luong, Tuoi, Diem_tin_dung, Ket_qua]\n",
    "    [20, 30, 500, 'No'],\n",
    "    [30, 35, 600, 'No'],\n",
    "    [70, 40, 800, 'Yes'],\n",
    "    [40, 45, 550, 'No'],\n",
    "    [60, 50, 750, 'Yes']\n",
    "]"
   ]
  },
  {
   "cell_type": "code",
   "execution_count": 8,
   "metadata": {},
   "outputs": [
    {
     "name": "stdout",
     "output_type": "stream",
     "text": [
      "0.5\n"
     ]
    }
   ],
   "source": [
    "print(cal_gini(data_extended))"
   ]
  },
  {
   "cell_type": "code",
   "execution_count": 9,
   "metadata": {},
   "outputs": [
    {
     "name": "stdout",
     "output_type": "stream",
     "text": [
      " [Node] Feature 0 <= 50\n",
      "  [Leaf] Label: No\n",
      "  [Leaf] Label: Yes\n"
     ]
    }
   ],
   "source": [
    "X = np.array([[row[0], row[1], row[2]] for row in data_extended])\n",
    "y = np.array([row[3] for row in data_extended])\n",
    "\n",
    "dataset = [list(x) + [y_val] for x, y_val in zip(X, y)]\n",
    "\n",
    "tree = DecisionTree(max_depth = 3)\n",
    "tree.fit(dataset)\n",
    "tree.print_tree()"
   ]
  },
  {
   "cell_type": "code",
   "execution_count": 15,
   "metadata": {},
   "outputs": [],
   "source": [
    "import numpy as np\n",
    "\n",
    "class DecisionTree:\n",
    "    def __init__(self, max_depth = 3):\n",
    "    # Khởi tạo cây quyết định với độ sâu tối đa.\n",
    "        self.max_depth = max_depth\n",
    "        self.root = None\n",
    "        self.feature_names = None  # Thêm tên các thuộc tính\n",
    "\n",
    "    def gini_index(self, groups, classes):\n",
    "    # Tính chỉ số Gini cho một tập hợp.\n",
    "        total_samples = sum([len(group) for group in groups])\n",
    "        gini = 0.0\n",
    "        for group in groups:\n",
    "            size = len(group)\n",
    "            if size == 0:\n",
    "                continue\n",
    "            score = 0.0\n",
    "            for class_val in classes:\n",
    "                proportion = [row[-1] for row in group].count(class_val)/ size\n",
    "                score += proportion ** 2\n",
    "            gini += (1.0 - score) * (size/ total_samples)\n",
    "        return gini\n",
    "\n",
    "    def split_data(self, dataset, feature_index, threshold):\n",
    "        # Chia tập dữ liệu dựa trên một thuộc tính và ngưỡng giá trị.\n",
    "        left = [row for row in dataset if row[feature_index] < threshold]\n",
    "        right = [row for row in dataset if row[feature_index] >= threshold]\n",
    "        return left, right\n",
    "\n",
    "    def best_split(self, dataset):\n",
    "        # Tìm thuộc tính tốt nhất để chia tập dữ liệu.\n",
    "        class_values = list(set(row[-1] for row in dataset))\n",
    "        best_index, best_threshold, best_score, best_groups = None, None, float('inf'), None\n",
    "\n",
    "        for index in range(len(dataset[0]) - 1):\n",
    "            for row in dataset:\n",
    "                groups = self.split_data(dataset, index, row[index])\n",
    "                gini = self.gini_index(groups, class_values)\n",
    "                if gini < best_score:\n",
    "                    best_index, best_threshold, best_score, best_groups = index, row[index], gini, groups\n",
    "        return best_index, best_threshold, best_groups\n",
    "\n",
    "    def build_tree(self, dataset, depth =0):\n",
    "        # Xây dựng cây quyết định đệ quy.\n",
    "        class_values = [row[-1] for row in dataset]\n",
    "\n",
    "        # Điều kiện dừng: Nếu chỉ có một lớp hoặc đạt đến độ sâu tối đa\n",
    "        if len(set(class_values)) == 1 or depth >= self.max_depth:\n",
    "            return TreeNode(label = max(set(class_values), key = class_values.count))\n",
    "\n",
    "        # Tìm thuộc tính và giá trị ngưỡng tốt nhất để chia dữ liệu\n",
    "        feature_index, threshold, (left, right) = self.best_split(dataset)\n",
    "        # Nếu không thể chia tiếp, tạo nút lá\n",
    "        if not left or not right:\n",
    "            return TreeNode(label = max(set(class_values), key = class_values.count))\n",
    "\n",
    "        # Xây dựng nhánh trái và nhánh phải\n",
    "        left_node = self.build_tree(left, depth + 1)\n",
    "        right_node = self.build_tree(right, depth + 1)\n",
    "\n",
    "        return TreeNode(feature_index, threshold, left_node, right_node)\n",
    "\n",
    "    def fit(self, dataset, feature_names=None):\n",
    "        # Thêm tên các thuộc tính khi huấn luyện\n",
    "        self.feature_names = feature_names if feature_names else [f\"Feature_{i}\" for i in range(len(dataset[0])-1)]\n",
    "        self.root = self.build_tree(dataset)\n",
    "    \n",
    "    def print_tree(self, node=None, depth=0, is_last=True, prefix=\"\"):\n",
    "        if node is None:\n",
    "            node = self.root\n",
    "\n",
    "        # Tạo các ký tự để vẽ cây\n",
    "        indent = \"    \" * depth  # Tăng khoảng cách thụt lề\n",
    "        branch = \"└── \" if is_last else \"├── \"\n",
    "        \n",
    "        # In node hiện tại\n",
    "        if node.label is not None:\n",
    "            print(f\"{prefix}{branch}Kết quả: {node.label}\")\n",
    "        else:\n",
    "            feature_name = self.feature_names[node.feature_index]\n",
    "            print(f\"{prefix}{branch}{feature_name} ≤ {node.threshold}\")\n",
    "            \n",
    "            # Chuẩn bị prefix cho các node con\n",
    "            new_prefix = prefix + (\"    \" if is_last else \"│   \")\n",
    "            \n",
    "            # In node con trái\n",
    "            self.print_tree(node.left, depth + 1, False, new_prefix)\n",
    "            # In node con phải\n",
    "            self.print_tree(node.right, depth + 1, True, new_prefix)\n"
   ]
  },
  {
   "cell_type": "code",
   "execution_count": 16,
   "metadata": {},
   "outputs": [
    {
     "name": "stdout",
     "output_type": "stream",
     "text": [
      "Cây quyết định cho vay:\n",
      "└─ Root\n",
      "└── Lương (triệu) ≤ 50\n",
      "    ├── Kết quả: No\n",
      "    └── Kết quả: Yes\n"
     ]
    }
   ],
   "source": [
    "# Dữ liệu mở rộng với tên các thuộc tính\n",
    "data_extended = [\n",
    "    [50, 25, 700, 'Yes'],  # [Luong, Tuoi, Diem_tin_dung, Ket_qua]\n",
    "    [20, 30, 500, 'No'],\n",
    "    [30, 35, 600, 'No'],\n",
    "    [70, 40, 800, 'Yes'],\n",
    "    [40, 45, 550, 'No'],\n",
    "    [60, 50, 750, 'Yes']\n",
    "]\n",
    "\n",
    "# Tên các thuộc tính\n",
    "feature_names = ['Lương (triệu)', 'Tuổi', 'Điểm tín dụng']\n",
    "\n",
    "# Khởi tạo và huấn luyện cây quyết định\n",
    "tree = DecisionTree(max_depth=3)\n",
    "tree.fit(data_extended, feature_names)\n",
    "\n",
    "# In ra cây quyết định với định dạng dễ đọc\n",
    "print(\"Cây quyết định cho vay:\")\n",
    "print(\"└─ Root\")\n",
    "tree.print_tree()"
   ]
  }
 ],
 "metadata": {
  "kernelspec": {
   "display_name": "base",
   "language": "python",
   "name": "python3"
  },
  "language_info": {
   "codemirror_mode": {
    "name": "ipython",
    "version": 3
   },
   "file_extension": ".py",
   "mimetype": "text/x-python",
   "name": "python",
   "nbconvert_exporter": "python",
   "pygments_lexer": "ipython3",
   "version": "3.12.3"
  }
 },
 "nbformat": 4,
 "nbformat_minor": 2
}
