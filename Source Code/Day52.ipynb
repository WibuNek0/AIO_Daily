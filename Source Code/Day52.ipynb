{
 "cells": [
  {
   "cell_type": "code",
   "execution_count": 1,
   "metadata": {},
   "outputs": [],
   "source": [
    "import pandas as pd\n",
    "import mysql.connector"
   ]
  },
  {
   "cell_type": "code",
   "execution_count": 2,
   "metadata": {},
   "outputs": [],
   "source": [
    "connection = mysql.connector.connect(\n",
    "    host= 'localhost',         \n",
    "    user= 'root',             \n",
    "    password= '123456', \n",
    "    database = 'day_52'     \n",
    ")\n",
    "cursor = connection.cursor()"
   ]
  },
  {
   "cell_type": "code",
   "execution_count": 3,
   "metadata": {},
   "outputs": [],
   "source": [
    "cursor.execute(\"\"\"\n",
    "CREATE TABLE customers (\n",
    "    id INTEGER PRIMARY KEY AUTO_INCREMENT,\n",
    "    name VARCHAR(200) NOT NULL, \n",
    "    city VARCHAR(200) NOT NULL\n",
    ");\n",
    "\"\"\")"
   ]
  },
  {
   "cell_type": "code",
   "execution_count": 4,
   "metadata": {},
   "outputs": [],
   "source": [
    "cursor.execute(\"\"\"\n",
    "INSERT INTO customers (id, name, city) VALUES\n",
    "(1, 'Alice', 'Hanoi'),\n",
    "(2, 'Bob', 'Ho Chi Minh'),\n",
    "(3, 'Charlie', 'Hanoi');\n",
    "\"\"\")\n",
    "\n",
    "connection.commit()"
   ]
  },
  {
   "cell_type": "code",
   "execution_count": 5,
   "metadata": {},
   "outputs": [],
   "source": [
    "cursor.execute(\"\"\"\n",
    "CREATE TABLE orders (\n",
    "    id INTEGER PRIMARY KEY AUTO_INCREMENT,\n",
    "    customer_id INTEGER NOT NULL,\n",
    "    order_date DATE NOT NULL,\n",
    "    total INTEGER NOT NULL,\n",
    "    FOREIGN KEY (customer_id) REFERENCES customers(id)\n",
    ");\n",
    "\"\"\")"
   ]
  },
  {
   "cell_type": "code",
   "execution_count": 6,
   "metadata": {},
   "outputs": [],
   "source": [
    "cursor.execute(\"\"\"\n",
    "INSERT INTO orders (id, customer_id, order_date, total) VALUES\n",
    "(1, 1, '2024-01-10', 500),\n",
    "(2, 1, '2024-03-01', 800),\n",
    "(3, 2, '2024-02-20', 1200),\n",
    "(4, 3, '2024-01-15', 200);\n",
    "\"\"\")\n",
    "\n",
    "connection.commit()"
   ]
  },
  {
   "cell_type": "code",
   "execution_count": 7,
   "metadata": {},
   "outputs": [],
   "source": [
    "cursor.execute(\"\"\"\n",
    "CREATE TABLE products (\n",
    "    id INTEGER PRIMARY KEY AUTO_INCREMENT,\n",
    "    name VARCHAR(200) NOT NULL,\n",
    "    price INTEGER NOT NULL\n",
    ");\n",
    "\"\"\")"
   ]
  },
  {
   "cell_type": "code",
   "execution_count": 8,
   "metadata": {},
   "outputs": [],
   "source": [
    "cursor.execute(\"\"\"\n",
    "INSERT INTO products (id, name, price) VALUES\n",
    "(1, 'Laptop', 1500),\n",
    "(2, 'Mouse', 50),\n",
    "(3, 'Keyboard', 100),\n",
    "(4, 'Monitor', 300);\n",
    "\"\"\")\n",
    "\n",
    "connection.commit()"
   ]
  },
  {
   "cell_type": "code",
   "execution_count": 9,
   "metadata": {},
   "outputs": [],
   "source": [
    "cursor.execute(\"\"\"\n",
    "CREATE TABLE order_items (\n",
    "    id INTEGER PRIMARY KEY AUTO_INCREMENT,\n",
    "    order_id INTEGER NOT NULL,\n",
    "    product_id INTEGER NOT NULL,\n",
    "    quantity INTEGER NOT NULL,\n",
    "    FOREIGN KEY (order_id) REFERENCES orders(id),\n",
    "    FOREIGN KEY (product_id) REFERENCES products(id)\n",
    ");\n",
    "\"\"\")"
   ]
  },
  {
   "cell_type": "code",
   "execution_count": 10,
   "metadata": {},
   "outputs": [],
   "source": [
    "cursor.execute(\"\"\"\n",
    "INSERT INTO order_items (id, order_id, product_id, quantity) VALUES\n",
    "(1, 1, 2, 2),\n",
    "(2, 1, 3, 1),\n",
    "(3, 2, 1, 1),\n",
    "(4, 2, 4, 1),\n",
    "(5, 3, 1, 1);\n",
    "\"\"\")\n",
    "\n",
    "connection.commit()"
   ]
  },
  {
   "cell_type": "code",
   "execution_count": 11,
   "metadata": {},
   "outputs": [],
   "source": [
    "cursor.execute(\"\"\"\n",
    "CREATE TABLE employees (\n",
    "    id INTEGER PRIMARY KEY AUTO_INCREMENT,\n",
    "    name VARCHAR(200) NOT NULL,\n",
    "    department VARCHAR(200) NOT NULL\n",
    ");\n",
    "\"\"\")"
   ]
  },
  {
   "cell_type": "code",
   "execution_count": 12,
   "metadata": {},
   "outputs": [],
   "source": [
    "cursor.execute(\"\"\"\n",
    "INSERT INTO employees (id, name, department) VALUES\n",
    "(1, 'David', 'Sales'),\n",
    "(2, 'Emma', 'Support'),\n",
    "(3, 'Frank', 'Sales');\n",
    "\"\"\")\n",
    "\n",
    "connection.commit()"
   ]
  },
  {
   "cell_type": "code",
   "execution_count": 13,
   "metadata": {},
   "outputs": [],
   "source": [
    "cursor.execute(\"\"\"\n",
    "CREATE TABLE order_assignments (\n",
    "    id INTEGER PRIMARY KEY AUTO_INCREMENT,\n",
    "    order_id INTEGER NOT NULL,\n",
    "    employee_id INTEGER NOT NULL,\n",
    "    FOREIGN KEY (order_id) REFERENCES orders(id),\n",
    "    FOREIGN KEY (employee_id) REFERENCES employees(id)\n",
    ");\n",
    "\"\"\")"
   ]
  },
  {
   "cell_type": "code",
   "execution_count": 14,
   "metadata": {},
   "outputs": [],
   "source": [
    "cursor.execute(\"\"\"\n",
    "INSERT INTO order_assignments (id, order_id, employee_id) VALUES\n",
    "(1, 1, 1),\n",
    "(2, 2, 3),\n",
    "(3, 3, 2);\n",
    "\"\"\")\n",
    "\n",
    "connection.commit()"
   ]
  },
  {
   "cell_type": "markdown",
   "metadata": {},
   "source": [
    "### Bài 1"
   ]
  },
  {
   "cell_type": "code",
   "execution_count": 3,
   "metadata": {},
   "outputs": [],
   "source": [
    "cursor.execute(\"\"\"\n",
    "CREATE INDEX city_index\n",
    "ON customers (city)\n",
    ";\n",
    "\"\"\")"
   ]
  },
  {
   "cell_type": "markdown",
   "metadata": {},
   "source": [
    "### Bài 2"
   ]
  },
  {
   "cell_type": "code",
   "execution_count": 4,
   "metadata": {},
   "outputs": [],
   "source": [
    "cursor.execute(\"\"\"\n",
    "CREATE INDEX customer_index\n",
    "ON orders (customer_id)\n",
    ";\n",
    "\"\"\")"
   ]
  },
  {
   "cell_type": "markdown",
   "metadata": {},
   "source": [
    "### Bài 3"
   ]
  },
  {
   "cell_type": "code",
   "execution_count": 5,
   "metadata": {},
   "outputs": [],
   "source": [
    "cursor.execute(\"\"\"\n",
    "CREATE UNIQUE INDEX name_index\n",
    "ON products (name)\n",
    ";\n",
    "\"\"\")"
   ]
  },
  {
   "cell_type": "markdown",
   "metadata": {},
   "source": [
    "### Bài 4"
   ]
  },
  {
   "cell_type": "code",
   "execution_count": 6,
   "metadata": {},
   "outputs": [],
   "source": [
    "cursor.execute(\"\"\"\n",
    "CREATE INDEX order_product_index\n",
    "ON order_items (product_id, order_id)\n",
    ";\n",
    "\"\"\")"
   ]
  },
  {
   "cell_type": "markdown",
   "metadata": {},
   "source": [
    "### Bài 5"
   ]
  },
  {
   "cell_type": "code",
   "execution_count": null,
   "metadata": {},
   "outputs": [],
   "source": [
    "cursor.execute(\"\"\"\n",
    "CREATE INDEX order_product_index\n",
    "ON order_items (product_id, order_id)\n",
    ";\n",
    "\"\"\")"
   ]
  },
  {
   "cell_type": "markdown",
   "metadata": {},
   "source": [
    "### Bài 6"
   ]
  },
  {
   "cell_type": "code",
   "execution_count": 7,
   "metadata": {},
   "outputs": [
    {
     "name": "stdout",
     "output_type": "stream",
     "text": [
      "Hiệu suất truy vấn KHÔNG có index:\n",
      "(1, 'SIMPLE', 'products', None, 'ALL', None, None, None, None, 4, 33.33, 'Using where')\n"
     ]
    }
   ],
   "source": [
    "cursor.execute(\"EXPLAIN SELECT * FROM products WHERE price > 1000\")\n",
    "print(\"Hiệu suất truy vấn KHÔNG có index:\")\n",
    "for row in cursor.fetchall():\n",
    "    print(row)"
   ]
  },
  {
   "cell_type": "code",
   "execution_count": 8,
   "metadata": {},
   "outputs": [
    {
     "name": "stdout",
     "output_type": "stream",
     "text": [
      "\n",
      "Hiệu suất truy vấn CÓ index:\n",
      "(1, 'SIMPLE', 'products', None, 'range', 'idx_product_price', 'idx_product_price', '4', None, 1, 100.0, 'Using index condition')\n"
     ]
    }
   ],
   "source": [
    "cursor.execute(\"CREATE INDEX idx_product_price ON products(price)\")\n",
    "connection.commit()\n",
    "\n",
    "cursor.execute(\"EXPLAIN SELECT * FROM products WHERE price > 1000\")\n",
    "print(\"\\nHiệu suất truy vấn CÓ index:\")\n",
    "for row in cursor.fetchall():\n",
    "    print(row)"
   ]
  },
  {
   "cell_type": "markdown",
   "metadata": {},
   "source": [
    "### Bài 7"
   ]
  },
  {
   "cell_type": "code",
   "execution_count": 9,
   "metadata": {},
   "outputs": [],
   "source": [
    "cursor.execute(\"\"\"\n",
    "DROP INDEX city_index\n",
    "ON customers;\n",
    "\"\"\")"
   ]
  },
  {
   "cell_type": "markdown",
   "metadata": {},
   "source": [
    "### Bài 8"
   ]
  },
  {
   "cell_type": "code",
   "execution_count": 10,
   "metadata": {},
   "outputs": [],
   "source": [
    "cursor.execute(\"\"\"\n",
    "CREATE INDEX department_index\n",
    "ON employees (department)\n",
    ";\n",
    "\"\"\")"
   ]
  },
  {
   "cell_type": "code",
   "execution_count": 11,
   "metadata": {},
   "outputs": [
    {
     "name": "stderr",
     "output_type": "stream",
     "text": [
      "C:\\Users\\Apollonir\\AppData\\Local\\Temp\\ipykernel_2320\\2348000317.py:6: UserWarning: pandas only supports SQLAlchemy connectable (engine/connection) or database string URI or sqlite3 DBAPI2 connection. Other DBAPI2 objects are not tested. Please consider using SQLAlchemy.\n",
      "  data_8 = pd.read_sql_query(query, connection)\n"
     ]
    },
    {
     "data": {
      "text/html": [
       "<div>\n",
       "<style scoped>\n",
       "    .dataframe tbody tr th:only-of-type {\n",
       "        vertical-align: middle;\n",
       "    }\n",
       "\n",
       "    .dataframe tbody tr th {\n",
       "        vertical-align: top;\n",
       "    }\n",
       "\n",
       "    .dataframe thead th {\n",
       "        text-align: right;\n",
       "    }\n",
       "</style>\n",
       "<table border=\"1\" class=\"dataframe\">\n",
       "  <thead>\n",
       "    <tr style=\"text-align: right;\">\n",
       "      <th></th>\n",
       "      <th>id</th>\n",
       "      <th>name</th>\n",
       "      <th>department</th>\n",
       "    </tr>\n",
       "  </thead>\n",
       "  <tbody>\n",
       "    <tr>\n",
       "      <th>0</th>\n",
       "      <td>1</td>\n",
       "      <td>David</td>\n",
       "      <td>Sales</td>\n",
       "    </tr>\n",
       "    <tr>\n",
       "      <th>1</th>\n",
       "      <td>2</td>\n",
       "      <td>Emma</td>\n",
       "      <td>Support</td>\n",
       "    </tr>\n",
       "    <tr>\n",
       "      <th>2</th>\n",
       "      <td>3</td>\n",
       "      <td>Frank</td>\n",
       "      <td>Sales</td>\n",
       "    </tr>\n",
       "  </tbody>\n",
       "</table>\n",
       "</div>"
      ],
      "text/plain": [
       "   id   name department\n",
       "0   1  David      Sales\n",
       "1   2   Emma    Support\n",
       "2   3  Frank      Sales"
      ]
     },
     "execution_count": 11,
     "metadata": {},
     "output_type": "execute_result"
    }
   ],
   "source": [
    "query = (\"\"\"\n",
    "SELECT * \n",
    " FROM employees\n",
    "\"\"\")\n",
    "\n",
    "data_8 = pd.read_sql_query(query, connection)\n",
    "data_8"
   ]
  },
  {
   "cell_type": "markdown",
   "metadata": {},
   "source": [
    "### Bài 9"
   ]
  },
  {
   "cell_type": "code",
   "execution_count": 12,
   "metadata": {},
   "outputs": [
    {
     "name": "stdout",
     "output_type": "stream",
     "text": [
      "Thời gian truy vấn không có index: 0.285116 giây\n"
     ]
    }
   ],
   "source": [
    "import time\n",
    "\n",
    "cursor.execute(\"DROP INDEX idx_product_price ON products\")\n",
    "connection.commit()\n",
    "\n",
    "start_time = time.time()\n",
    "\n",
    "for _ in range(1000):\n",
    "    cursor.execute(\"SELECT * FROM products WHERE price > 1000\")\n",
    "    cursor.fetchall()\n",
    "\n",
    "end_time = time.time()\n",
    "no_index_time = end_time - start_time\n",
    "print(f\"Thời gian truy vấn không có index: {no_index_time:.6f} giây\")"
   ]
  },
  {
   "cell_type": "code",
   "execution_count": 13,
   "metadata": {},
   "outputs": [
    {
     "name": "stdout",
     "output_type": "stream",
     "text": [
      "Thời gian truy vấn có index: 0.280940 giây\n"
     ]
    }
   ],
   "source": [
    "cursor.execute(\"CREATE INDEX idx_product_price ON products(price)\")\n",
    "connection.commit()\n",
    "\n",
    "start_time = time.time()\n",
    "\n",
    "for _ in range(1000):\n",
    "    cursor.execute(\"SELECT * FROM products WHERE price > 1000\")\n",
    "    cursor.fetchall()\n",
    "\n",
    "end_time = time.time()\n",
    "with_index_time = end_time - start_time\n",
    "print(f\"Thời gian truy vấn có index: {with_index_time:.6f} giây\")"
   ]
  },
  {
   "cell_type": "code",
   "execution_count": 14,
   "metadata": {},
   "outputs": [
    {
     "name": "stdout",
     "output_type": "stream",
     "text": [
      "Cải thiện hiệu suất: 1.46%\n"
     ]
    }
   ],
   "source": [
    "improvement = (no_index_time - with_index_time) / no_index_time * 100\n",
    "print(f\"Cải thiện hiệu suất: {improvement:.2f}%\")"
   ]
  },
  {
   "cell_type": "markdown",
   "metadata": {},
   "source": [
    "### Bài 10"
   ]
  },
  {
   "cell_type": "code",
   "execution_count": 15,
   "metadata": {},
   "outputs": [],
   "source": [
    "cursor.execute(\"\"\"\n",
    "CREATE INDEX date_index\n",
    "ON orders (order_date)\n",
    ";\n",
    "\"\"\")"
   ]
  }
 ],
 "metadata": {
  "kernelspec": {
   "display_name": "base",
   "language": "python",
   "name": "python3"
  },
  "language_info": {
   "codemirror_mode": {
    "name": "ipython",
    "version": 3
   },
   "file_extension": ".py",
   "mimetype": "text/x-python",
   "name": "python",
   "nbconvert_exporter": "python",
   "pygments_lexer": "ipython3",
   "version": "3.10.16"
  }
 },
 "nbformat": 4,
 "nbformat_minor": 2
}
