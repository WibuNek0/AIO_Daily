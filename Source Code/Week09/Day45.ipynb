{
 "cells": [
  {
   "cell_type": "code",
   "execution_count": 1,
   "metadata": {},
   "outputs": [],
   "source": [
    "import pandas as pd\n",
    "import mysql.connector"
   ]
  },
  {
   "cell_type": "code",
   "execution_count": 2,
   "metadata": {},
   "outputs": [],
   "source": [
    "connection = mysql.connector.connect(\n",
    "    host= 'localhost',         \n",
    "    user= 'root',             \n",
    "    password= '123456', \n",
    "    database = 'day_45'     \n",
    ")\n",
    "cursor = connection.cursor()"
   ]
  },
  {
   "cell_type": "markdown",
   "metadata": {},
   "source": [
    "### Bài 1"
   ]
  },
  {
   "cell_type": "code",
   "execution_count": 3,
   "metadata": {},
   "outputs": [],
   "source": [
    "# Khóa chính của bảng record_id"
   ]
  },
  {
   "cell_type": "markdown",
   "metadata": {},
   "source": [
    "### Bài 2"
   ]
  },
  {
   "cell_type": "code",
   "execution_count": 4,
   "metadata": {},
   "outputs": [],
   "source": [
    "# Bảng đã đạt 1NF\n",
    "# Bảng có các thuộc tính khác nhau phụ thuốc vào các khóa khác nhau như item_code, warehouse_id, customer_id, staff_id nên không thể đạt 2NF\n",
    "# Các thuộc tính vi phạm 3NF: item_name, quantity, warehouse_name, location, customer_name, staff_name"
   ]
  },
  {
   "cell_type": "markdown",
   "metadata": {},
   "source": [
    "### Bài 3"
   ]
  },
  {
   "cell_type": "code",
   "execution_count": 5,
   "metadata": {},
   "outputs": [],
   "source": [
    "cursor.execute(\"\"\"\n",
    "CREATE TABLE Items (\n",
    "    item_code VARCHAR(5) PRIMARY KEY,\n",
    "    item_name VARCHAR(100) NOT NULL\n",
    ");\n",
    "\"\"\")"
   ]
  },
  {
   "cell_type": "code",
   "execution_count": 6,
   "metadata": {},
   "outputs": [],
   "source": [
    "cursor.execute(\"\"\"\n",
    "INSERT INTO Items (item_code, item_name) VALUES\n",
    "('IT001', 'Motor Oil 5L'),\n",
    "('IT002', 'Engine Cleaner'),\n",
    "('IT003', 'Battery 12V');\n",
    "\"\"\")\n",
    "\n",
    "connection.commit()"
   ]
  },
  {
   "cell_type": "code",
   "execution_count": 7,
   "metadata": {},
   "outputs": [],
   "source": [
    "cursor.execute(\"\"\"\n",
    "CREATE TABLE Warehouse (\n",
    "    warehouse_id VARCHAR(4) PRIMARY KEY,\n",
    "    warehouse_name VARCHAR(100) NOT NULL\n",
    ");\n",
    "\"\"\")"
   ]
  },
  {
   "cell_type": "code",
   "execution_count": 8,
   "metadata": {},
   "outputs": [],
   "source": [
    "cursor.execute(\"\"\"\n",
    "INSERT INTO Warehouse (warehouse_id, warehouse_name) VALUES\n",
    "('WH01', 'Main Warehouse'),\n",
    "('WH02', 'North Depot');\n",
    "\"\"\")\n",
    "\n",
    "connection.commit()"
   ]
  },
  {
   "cell_type": "code",
   "execution_count": 9,
   "metadata": {},
   "outputs": [],
   "source": [
    "cursor.execute(\"\"\"\n",
    "CREATE TABLE Customers (\n",
    "    customer_id VARCHAR(4) PRIMARY KEY,\n",
    "    customer_name VARCHAR(100) NOT NULL\n",
    ");\n",
    "\"\"\")"
   ]
  },
  {
   "cell_type": "code",
   "execution_count": 10,
   "metadata": {},
   "outputs": [],
   "source": [
    "cursor.execute(\"\"\"\n",
    "INSERT INTO Customers (customer_id, customer_name) VALUES\n",
    "('C001', 'Mekong Corp'),\n",
    "('C002', 'Vina Auto'),\n",
    "('C003', 'Delta Co');\n",
    "\"\"\")\n",
    "\n",
    "connection.commit()"
   ]
  },
  {
   "cell_type": "code",
   "execution_count": 11,
   "metadata": {},
   "outputs": [],
   "source": [
    "cursor.execute(\"\"\"\n",
    "CREATE TABLE Staffs (\n",
    "    staff_id VARCHAR(3) PRIMARY KEY,\n",
    "    staff_name VARCHAR(100) NOT NULL\n",
    ");\n",
    "\"\"\")"
   ]
  },
  {
   "cell_type": "code",
   "execution_count": 12,
   "metadata": {},
   "outputs": [],
   "source": [
    "cursor.execute(\"\"\"\n",
    "INSERT INTO Staffs (staff_id, staff_name) VALUES\n",
    "('S01', 'Hoa Nguyen'),\n",
    "('S02', 'Khang Tran');\n",
    "\"\"\")\n",
    "\n",
    "connection.commit()"
   ]
  },
  {
   "cell_type": "code",
   "execution_count": 13,
   "metadata": {},
   "outputs": [],
   "source": [
    "cursor.execute(\"\"\"\n",
    "CREATE TABLE RecordDetails (\n",
    "    record_id VARCHAR(4) PRIMARY KEY,\n",
    "    item_code VARCHAR(5) NOT NULL,\n",
    "    warehouse_id VARCHAR(4) NOT NULL,\n",
    "    customer_id VARCHAR(4) NOT NULL,\n",
    "    staff_id VARCHAR(3) NOT NULL,\n",
    "    quantity INT NOT NULL,\n",
    "    location VARCHAR(100) NOT NULL, \n",
    "    FOREIGN KEY (item_code) REFERENCES Items(item_code),\n",
    "    FOREIGN KEY (warehouse_id) REFERENCES Warehouse(warehouse_id),\n",
    "    FOREIGN KEY (customer_id) REFERENCES Customers(customer_id),\n",
    "    FOREIGN KEY (staff_id) REFERENCES Staffs(staff_id)\n",
    ");\n",
    "\"\"\")"
   ]
  },
  {
   "cell_type": "code",
   "execution_count": 14,
   "metadata": {},
   "outputs": [],
   "source": [
    "cursor.execute(\"\"\"\n",
    "INSERT INTO RecordDetails (record_id, item_code, warehouse_id, customer_id, staff_id, quantity, location) VALUES\n",
    "('R001', 'IT001', 'WH01', 'C001', 'S01', 50, 'Shelf A1'),\n",
    "('R002', 'IT002', 'WH01', 'C002', 'S02', 30, 'Shelf B2'),\n",
    "('R003', 'IT001', 'WH02', 'C001', 'S01', 40, 'Shelf C3'),\n",
    "('R004', 'IT003', 'WH01', 'C003', 'S02', 25, 'Shelf A1');\n",
    "\"\"\")\n",
    "\n",
    "connection.commit()"
   ]
  },
  {
   "cell_type": "markdown",
   "metadata": {},
   "source": [
    "### Bài 4"
   ]
  },
  {
   "cell_type": "code",
   "execution_count": 24,
   "metadata": {},
   "outputs": [
    {
     "name": "stdout",
     "output_type": "stream",
     "text": [
      "   warehouse_name       item_name  Total_Quantity\n",
      "0  Main Warehouse    Motor Oil 5L            50.0\n",
      "1  Main Warehouse  Engine Cleaner            30.0\n",
      "2     North Depot    Motor Oil 5L            40.0\n",
      "3  Main Warehouse     Battery 12V            25.0\n"
     ]
    },
    {
     "name": "stderr",
     "output_type": "stream",
     "text": [
      "C:\\Users\\Apollonir\\AppData\\Local\\Temp\\ipykernel_8764\\1717026112.py:11: UserWarning: pandas only supports SQLAlchemy connectable (engine/connection) or database string URI or sqlite3 DBAPI2 connection. Other DBAPI2 objects are not tested. Please consider using SQLAlchemy.\n",
      "  data_4a = pd.read_sql_query(query, connection)\n"
     ]
    }
   ],
   "source": [
    "query = (\"\"\"\n",
    "SELECT c.warehouse_name\n",
    "    , b.item_name\n",
    "    , SUM(a.quantity) Total_Quantity\n",
    " FROM RecordDetails a\n",
    "LEFT JOIN Items b on a.item_code = b.item_code\n",
    "LEFT JOIN Warehouse c on a.warehouse_id = c.warehouse_id\n",
    "GROUP BY c.warehouse_name, b.item_name\n",
    "\"\"\")\n",
    "\n",
    "data_4a = pd.read_sql_query(query, connection)\n",
    "print(data_4a)"
   ]
  },
  {
   "cell_type": "code",
   "execution_count": 29,
   "metadata": {},
   "outputs": [
    {
     "name": "stdout",
     "output_type": "stream",
     "text": [
      "  customer_name       item_name\n",
      "0   Mekong Corp    Motor Oil 5L\n",
      "1     Vina Auto  Engine Cleaner\n",
      "2      Delta Co     Battery 12V\n"
     ]
    },
    {
     "name": "stderr",
     "output_type": "stream",
     "text": [
      "C:\\Users\\Apollonir\\AppData\\Local\\Temp\\ipykernel_8764\\3768883129.py:10: UserWarning: pandas only supports SQLAlchemy connectable (engine/connection) or database string URI or sqlite3 DBAPI2 connection. Other DBAPI2 objects are not tested. Please consider using SQLAlchemy.\n",
      "  data_4b = pd.read_sql_query(query, connection)\n"
     ]
    }
   ],
   "source": [
    "query = (\"\"\"\n",
    "SELECT b.customer_name\n",
    "    , c.item_name\n",
    " FROM RecordDetails a\n",
    "LEFT JOIN Customers b on a.customer_id = b.customer_id\n",
    "LEFT JOIN Items c on a.item_code = c.item_code\n",
    "GROUP BY b.customer_name, c.item_name\n",
    "\"\"\")\n",
    "\n",
    "data_4b = pd.read_sql_query(query, connection)\n",
    "print(data_4b)"
   ]
  },
  {
   "cell_type": "code",
   "execution_count": 31,
   "metadata": {},
   "outputs": [
    {
     "name": "stdout",
     "output_type": "stream",
     "text": [
      "   staff_name       item_name\n",
      "0  Hoa Nguyen    Motor Oil 5L\n",
      "1  Khang Tran  Engine Cleaner\n",
      "2  Khang Tran     Battery 12V\n"
     ]
    },
    {
     "name": "stderr",
     "output_type": "stream",
     "text": [
      "C:\\Users\\Apollonir\\AppData\\Local\\Temp\\ipykernel_8764\\4012103865.py:10: UserWarning: pandas only supports SQLAlchemy connectable (engine/connection) or database string URI or sqlite3 DBAPI2 connection. Other DBAPI2 objects are not tested. Please consider using SQLAlchemy.\n",
      "  data_4c = pd.read_sql_query(query, connection)\n"
     ]
    }
   ],
   "source": [
    "query = (\"\"\"\n",
    "SELECT b.staff_name\n",
    "    , c.item_name\n",
    " FROM RecordDetails a\n",
    "LEFT JOIN Staffs b on a.staff_id = b.staff_id\n",
    "LEFT JOIN Items c on a.item_code = c.item_code\n",
    "WHERE a.warehouse_id in (SELECT warehouse_id FROM Warehouse WHERE warehouse_name = 'Main Warehouse')\n",
    "\"\"\")\n",
    "\n",
    "data_4c = pd.read_sql_query(query, connection)\n",
    "print(data_4c)"
   ]
  },
  {
   "cell_type": "code",
   "execution_count": 35,
   "metadata": {},
   "outputs": [
    {
     "name": "stdout",
     "output_type": "stream",
     "text": [
      "        item_name  location\n",
      "0    Motor Oil 5L  Shelf A1\n",
      "1  Engine Cleaner  Shelf B2\n",
      "2    Motor Oil 5L  Shelf C3\n",
      "3     Battery 12V  Shelf A1\n"
     ]
    },
    {
     "name": "stderr",
     "output_type": "stream",
     "text": [
      "C:\\Users\\Apollonir\\AppData\\Local\\Temp\\ipykernel_8764\\2889416905.py:9: UserWarning: pandas only supports SQLAlchemy connectable (engine/connection) or database string URI or sqlite3 DBAPI2 connection. Other DBAPI2 objects are not tested. Please consider using SQLAlchemy.\n",
      "  data_4d = pd.read_sql_query(query, connection)\n"
     ]
    }
   ],
   "source": [
    "query = (\"\"\"\n",
    "SELECT b.item_name\n",
    "    , a.location\n",
    " FROM RecordDetails a\n",
    "LEFT JOIN Items b on a.item_code = b.item_code\n",
    "GROUP BY b.item_name, a.location\n",
    "\"\"\")\n",
    "\n",
    "data_4d = pd.read_sql_query(query, connection)\n",
    "print(data_4d)"
   ]
  },
  {
   "cell_type": "code",
   "execution_count": 44,
   "metadata": {},
   "outputs": [
    {
     "name": "stdout",
     "output_type": "stream",
     "text": [
      "   warehouse_name  Total_Customer\n",
      "0  Main Warehouse               3\n",
      "1     North Depot               1\n"
     ]
    },
    {
     "name": "stderr",
     "output_type": "stream",
     "text": [
      "C:\\Users\\Apollonir\\AppData\\Local\\Temp\\ipykernel_8764\\268266142.py:9: UserWarning: pandas only supports SQLAlchemy connectable (engine/connection) or database string URI or sqlite3 DBAPI2 connection. Other DBAPI2 objects are not tested. Please consider using SQLAlchemy.\n",
      "  data_4d = pd.read_sql_query(query, connection)\n"
     ]
    }
   ],
   "source": [
    "query = (\"\"\"\n",
    "SELECT b.warehouse_name\n",
    "    , COUNT(DISTINCT (a.customer_id)) Total_Customer\n",
    " FROM RecordDetails a\n",
    "LEFT JOIN Warehouse b on a.warehouse_id = b.warehouse_id\n",
    "GROUP BY b.warehouse_name\n",
    "\"\"\")\n",
    "\n",
    "data_4d = pd.read_sql_query(query, connection)\n",
    "print(data_4d)"
   ]
  }
 ],
 "metadata": {
  "kernelspec": {
   "display_name": "base",
   "language": "python",
   "name": "python3"
  },
  "language_info": {
   "codemirror_mode": {
    "name": "ipython",
    "version": 3
   },
   "file_extension": ".py",
   "mimetype": "text/x-python",
   "name": "python",
   "nbconvert_exporter": "python",
   "pygments_lexer": "ipython3",
   "version": "3.10.16"
  }
 },
 "nbformat": 4,
 "nbformat_minor": 2
}
