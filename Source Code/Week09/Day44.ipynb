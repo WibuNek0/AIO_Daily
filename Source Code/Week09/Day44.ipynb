{
 "cells": [
  {
   "cell_type": "code",
   "execution_count": 2,
   "metadata": {},
   "outputs": [],
   "source": [
    "import pandas as pd\n",
    "import mysql.connector"
   ]
  },
  {
   "cell_type": "code",
   "execution_count": 3,
   "metadata": {},
   "outputs": [],
   "source": [
    "connection = mysql.connector.connect(\n",
    "    host= 'localhost',         \n",
    "    user= 'root',             \n",
    "    password= '123456', \n",
    "    database = 'day_44'     \n",
    ")\n",
    "cursor = connection.cursor()"
   ]
  },
  {
   "cell_type": "markdown",
   "metadata": {},
   "source": [
    "### Bài 1"
   ]
  },
  {
   "cell_type": "code",
   "execution_count": 4,
   "metadata": {},
   "outputs": [],
   "source": [
    "# Khóa chính: agent_id & task_id"
   ]
  },
  {
   "cell_type": "markdown",
   "metadata": {},
   "source": [
    "### Bài 2"
   ]
  },
  {
   "cell_type": "code",
   "execution_count": 5,
   "metadata": {},
   "outputs": [],
   "source": [
    "# Có vi phạm 2NP\n",
    "# agent_name và llm_model phụ thuộc 1 phần vào agent_id\n",
    "# task_name và task_type phụ thuộc 1 phần vào task_id"
   ]
  },
  {
   "cell_type": "markdown",
   "metadata": {},
   "source": [
    "### Bài 3"
   ]
  },
  {
   "cell_type": "code",
   "execution_count": 6,
   "metadata": {},
   "outputs": [],
   "source": [
    "cursor.execute(\"\"\"\n",
    "CREATE TABLE Agent (\n",
    "    agent_id VARCHAR(10) PRIMARY KEY,\n",
    "    agent_name VARCHAR(200) NOT NULL, \n",
    "    llm_model VARCHAR(200) NOT NULL\n",
    ");\n",
    "\"\"\")"
   ]
  },
  {
   "cell_type": "code",
   "execution_count": 8,
   "metadata": {},
   "outputs": [],
   "source": [
    "cursor.execute(\"\"\"\n",
    "INSERT INTO Agent (agent_id, agent_name, llm_model) VALUES\n",
    "('A01', 'Claude Agent', 'Claude 3'),\n",
    "('A02', 'GPT Assistant', 'GPT-4'),\n",
    "('A03', 'Gemini Helper', 'Gemini 1.5');\n",
    "\"\"\")\n",
    "\n",
    "connection.commit()"
   ]
  },
  {
   "cell_type": "code",
   "execution_count": 9,
   "metadata": {},
   "outputs": [],
   "source": [
    "cursor.execute(\"\"\"\n",
    "CREATE TABLE Tasks (\n",
    "    task_id VARCHAR(10) PRIMARY KEY,\n",
    "    task_name VARCHAR(200) NOT NULL, \n",
    "    task_type VARCHAR(200) NOT NULL\n",
    ");\n",
    "\"\"\")"
   ]
  },
  {
   "cell_type": "code",
   "execution_count": 10,
   "metadata": {},
   "outputs": [],
   "source": [
    "cursor.execute(\"\"\"\n",
    "INSERT INTO Tasks (task_id, task_name, task_type) VALUES\n",
    "('T02', 'SQL Generation', 'Code'),\n",
    "('T03', 'Sentiment Analysis', 'NLP'),\n",
    "('T01', 'Summarization', 'NLP');\n",
    "\"\"\")\n",
    "\n",
    "connection.commit()"
   ]
  },
  {
   "cell_type": "code",
   "execution_count": 11,
   "metadata": {},
   "outputs": [],
   "source": [
    "cursor.execute(\"\"\"\n",
    "CREATE TABLE AgentTasks (\n",
    "    task_id VARCHAR(10) NOT NULL,\n",
    "    agent_id VARCHAR(10) NOT NULL,\n",
    "    FOREIGN KEY (task_id) REFERENCES Tasks(task_id),\n",
    "    FOREIGN KEY (agent_id) REFERENCES Agent(agent_id)\n",
    ");\n",
    "\"\"\")"
   ]
  },
  {
   "cell_type": "code",
   "execution_count": 12,
   "metadata": {},
   "outputs": [],
   "source": [
    "cursor.execute(\"\"\"\n",
    "INSERT INTO AgentTasks (task_id, agent_id) VALUES\n",
    "('T01', 'A01'),\n",
    "('T02', 'A02'),\n",
    "('T03', 'A01'), \n",
    "('T01', 'A03');\n",
    "\"\"\")\n",
    "\n",
    "connection.commit()"
   ]
  },
  {
   "cell_type": "markdown",
   "metadata": {},
   "source": [
    "### Bài 4"
   ]
  },
  {
   "cell_type": "code",
   "execution_count": 13,
   "metadata": {},
   "outputs": [],
   "source": [
    "# Bảng Agent có các cột: agent_id (khóa chính), agent_name, llm_model\n",
    "# Bảng Tasks có các cột: task_id (khóa chính), task_name, task_type\n",
    "# Bảng AgentTasks có các cột: task_id (khóa ngoại), agent_id (khóa ngoại)"
   ]
  },
  {
   "cell_type": "markdown",
   "metadata": {},
   "source": [
    "### Bài 5"
   ]
  },
  {
   "cell_type": "code",
   "execution_count": 15,
   "metadata": {},
   "outputs": [
    {
     "name": "stdout",
     "output_type": "stream",
     "text": [
      "            task_name     agent_name\n",
      "0       Summarization   Claude Agent\n",
      "1      SQL Generation  GPT Assistant\n",
      "2  Sentiment Analysis   Claude Agent\n",
      "3       Summarization  Gemini Helper\n"
     ]
    },
    {
     "name": "stderr",
     "output_type": "stream",
     "text": [
      "C:\\Users\\Apollonir\\AppData\\Local\\Temp\\ipykernel_9068\\1832001570.py:8: UserWarning: pandas only supports SQLAlchemy connectable (engine/connection) or database string URI or sqlite3 DBAPI2 connection. Other DBAPI2 objects are not tested. Please consider using SQLAlchemy.\n",
      "  data_5a = pd.read_sql_query(query, connection)\n"
     ]
    }
   ],
   "source": [
    "query = (\"\"\"\n",
    "SELECT b.task_name, a.agent_name\n",
    "FROM AgentTasks c\n",
    "LEFT JOIN Agent a ON c.agent_id = a.agent_id\n",
    "LEFT JOIN Tasks b ON c.task_id = b.task_id\n",
    "\"\"\")\n",
    "\n",
    "data_5a = pd.read_sql_query(query, connection)\n",
    "print(data_5a)"
   ]
  },
  {
   "cell_type": "code",
   "execution_count": 16,
   "metadata": {},
   "outputs": [
    {
     "name": "stdout",
     "output_type": "stream",
     "text": [
      "    llm_model\n",
      "0    Claude 3\n",
      "1       GPT-4\n",
      "2  Gemini 1.5\n"
     ]
    },
    {
     "name": "stderr",
     "output_type": "stream",
     "text": [
      "C:\\Users\\Apollonir\\AppData\\Local\\Temp\\ipykernel_9068\\1530377249.py:7: UserWarning: pandas only supports SQLAlchemy connectable (engine/connection) or database string URI or sqlite3 DBAPI2 connection. Other DBAPI2 objects are not tested. Please consider using SQLAlchemy.\n",
      "  data_5b = pd.read_sql_query(query, connection)\n"
     ]
    }
   ],
   "source": [
    "query = (\"\"\"\n",
    "SELECT llm_model\n",
    "FROM Agent  \n",
    "WHERE agent_id IN (SELECT agent_id FROM AgentTasks)\n",
    "\"\"\")\n",
    "\n",
    "data_5b = pd.read_sql_query(query, connection)\n",
    "print(data_5b)"
   ]
  },
  {
   "cell_type": "code",
   "execution_count": 17,
   "metadata": {},
   "outputs": [
    {
     "name": "stdout",
     "output_type": "stream",
     "text": [
      "  task_type  COUNT(task_type)\n",
      "0       NLP                 2\n",
      "1      Code                 1\n"
     ]
    },
    {
     "name": "stderr",
     "output_type": "stream",
     "text": [
      "C:\\Users\\Apollonir\\AppData\\Local\\Temp\\ipykernel_9068\\3451656160.py:7: UserWarning: pandas only supports SQLAlchemy connectable (engine/connection) or database string URI or sqlite3 DBAPI2 connection. Other DBAPI2 objects are not tested. Please consider using SQLAlchemy.\n",
      "  data_5c = pd.read_sql_query(query, connection)\n"
     ]
    }
   ],
   "source": [
    "query = (\"\"\"\n",
    "SELECT task_type, COUNT(task_type) \n",
    "FROM Tasks  \n",
    "GROUP BY task_type\n",
    "\"\"\")\n",
    "\n",
    "data_5c = pd.read_sql_query(query, connection)\n",
    "print(data_5c)"
   ]
  },
  {
   "cell_type": "code",
   "execution_count": 19,
   "metadata": {},
   "outputs": [
    {
     "name": "stdout",
     "output_type": "stream",
     "text": [
      "      agent_name   llm_model\n",
      "0  GPT Assistant       GPT-4\n",
      "1  Gemini Helper  Gemini 1.5\n"
     ]
    },
    {
     "name": "stderr",
     "output_type": "stream",
     "text": [
      "C:\\Users\\Apollonir\\AppData\\Local\\Temp\\ipykernel_9068\\2888069077.py:7: UserWarning: pandas only supports SQLAlchemy connectable (engine/connection) or database string URI or sqlite3 DBAPI2 connection. Other DBAPI2 objects are not tested. Please consider using SQLAlchemy.\n",
      "  data_5d = pd.read_sql_query(query, connection)\n"
     ]
    }
   ],
   "source": [
    "query = (\"\"\"\n",
    "SELECT agent_name, llm_model\n",
    "FROM Agent  \n",
    "WHERE llm_model LIKE 'G%'\n",
    "\"\"\")\n",
    "\n",
    "data_5d = pd.read_sql_query(query, connection)\n",
    "print(data_5d)"
   ]
  }
 ],
 "metadata": {
  "kernelspec": {
   "display_name": "base",
   "language": "python",
   "name": "python3"
  },
  "language_info": {
   "codemirror_mode": {
    "name": "ipython",
    "version": 3
   },
   "file_extension": ".py",
   "mimetype": "text/x-python",
   "name": "python",
   "nbconvert_exporter": "python",
   "pygments_lexer": "ipython3",
   "version": "3.10.16"
  }
 },
 "nbformat": 4,
 "nbformat_minor": 2
}
