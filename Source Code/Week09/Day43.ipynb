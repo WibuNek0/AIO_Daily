{
 "cells": [
  {
   "cell_type": "code",
   "execution_count": 1,
   "metadata": {},
   "outputs": [],
   "source": [
    "import pandas as pd\n",
    "import mysql.connector"
   ]
  },
  {
   "cell_type": "code",
   "execution_count": 2,
   "metadata": {},
   "outputs": [],
   "source": [
    "connection = mysql.connector.connect(\n",
    "    host= 'localhost',         \n",
    "    user= 'root',             \n",
    "    password= '123456', \n",
    "    database = 'day_43'     \n",
    ")\n",
    "cursor = connection.cursor()"
   ]
  },
  {
   "cell_type": "markdown",
   "metadata": {},
   "source": [
    "### Bài 1"
   ]
  },
  {
   "cell_type": "code",
   "execution_count": 3,
   "metadata": {},
   "outputs": [],
   "source": [
    "# Bảng Transactions_Raw vi phạm 1NF vì cột stock_codes có chứa danh sách, tập hợp trong 1 cột"
   ]
  },
  {
   "cell_type": "markdown",
   "metadata": {},
   "source": [
    "### Bài 2"
   ]
  },
  {
   "cell_type": "code",
   "execution_count": 4,
   "metadata": {},
   "outputs": [],
   "source": [
    "cursor.execute(\"\"\"\n",
    "CREATE TABLE Transactions (\n",
    "    transaction_id INTEGER AUTO_INCREMENT PRIMARY KEY,\n",
    "    customer_name VARCHAR(200) NOT NULL, \n",
    "    transaction_date DATE NOT NULL\n",
    ");\n",
    "\"\"\")"
   ]
  },
  {
   "cell_type": "code",
   "execution_count": 5,
   "metadata": {},
   "outputs": [],
   "source": [
    "cursor.execute(\"\"\"\n",
    "INSERT INTO Transactions (transaction_id, customer_name, transaction_date) VALUES\n",
    "(1, 'Nguyen Van A', '2024-12-01'),\n",
    "(2, 'Le Thi B', '2024-12-02'),                \n",
    "(3, 'Tran Van C', '2024-12-03');\n",
    "\"\"\")\n",
    "\n",
    "connection.commit()"
   ]
  },
  {
   "cell_type": "code",
   "execution_count": 6,
   "metadata": {},
   "outputs": [],
   "source": [
    "cursor.execute(\"\"\"\n",
    "CREATE TABLE StockCodes (\n",
    "    transaction_id INTEGER NOT NULL,\n",
    "    stock_code VARCHAR(5) NOT NULL, \n",
    "    FOREIGN KEY (transaction_id) REFERENCES Transactions(transaction_id)\n",
    ");\n",
    "\"\"\")"
   ]
  },
  {
   "cell_type": "code",
   "execution_count": 7,
   "metadata": {},
   "outputs": [],
   "source": [
    "cursor.execute(\"\"\"\n",
    "INSERT INTO StockCodes (transaction_id, stock_code) VALUES\n",
    "(1, 'VNM'),\n",
    "(1, 'FPT'),\n",
    "(1, 'MWG'), \n",
    "(2, 'SSI'),                \n",
    "(3, 'VCB'), \n",
    "(3, 'TCB');\n",
    "\"\"\")\n",
    "\n",
    "connection.commit()"
   ]
  },
  {
   "cell_type": "markdown",
   "metadata": {},
   "source": [
    "### Bài 3"
   ]
  },
  {
   "cell_type": "code",
   "execution_count": 8,
   "metadata": {},
   "outputs": [],
   "source": [
    "# Bảng Transactions có các cột: transaction_id (khóa chính), customer_name, transaction_date\n",
    "# Bảng StockCodes có các cột: transaction_id (khóa ngoại), stock_code"
   ]
  },
  {
   "cell_type": "markdown",
   "metadata": {},
   "source": [
    "### Bài 4"
   ]
  },
  {
   "cell_type": "code",
   "execution_count": 9,
   "metadata": {},
   "outputs": [
    {
     "name": "stdout",
     "output_type": "stream",
     "text": [
      "  customer_name stock_code\n",
      "0  Nguyen Van A        VNM\n",
      "1  Nguyen Van A        FPT\n",
      "2  Nguyen Van A        MWG\n",
      "3      Le Thi B        SSI\n",
      "4    Tran Van C        VCB\n",
      "5    Tran Van C        TCB\n"
     ]
    },
    {
     "name": "stderr",
     "output_type": "stream",
     "text": [
      "C:\\Users\\Apollonir\\AppData\\Local\\Temp\\ipykernel_23648\\1450763689.py:7: UserWarning: pandas only supports SQLAlchemy connectable (engine/connection) or database string URI or sqlite3 DBAPI2 connection. Other DBAPI2 objects are not tested. Please consider using SQLAlchemy.\n",
      "  data_4a = pd.read_sql_query(query, connection)\n"
     ]
    }
   ],
   "source": [
    "query = (\"\"\"\n",
    "SELECT a.customer_name, b.stock_code\n",
    "FROM Transactions a\n",
    "LEFT JOIN StockCodes b ON b.transaction_id = a.transaction_id\n",
    "\"\"\")\n",
    "\n",
    "data_4a = pd.read_sql_query(query, connection)\n",
    "print(data_4a)"
   ]
  },
  {
   "cell_type": "code",
   "execution_count": 10,
   "metadata": {},
   "outputs": [],
   "source": [
    "cursor.execute(\"\"\"\n",
    "UPDATE Transactions\n",
    "SET customer_name = 'Nguyen V. A'\n",
    "WHERE customer_name = 'Nguyen Van A';\n",
    "\"\"\");\n",
    "\n",
    "connection.commit()"
   ]
  },
  {
   "cell_type": "code",
   "execution_count": 11,
   "metadata": {},
   "outputs": [],
   "source": [
    "cursor.execute(\"\"\"\n",
    "DELETE FROM StockCodes\n",
    "WHERE stock_code = 'MWG' AND transaction_id IN (\n",
    "    SELECT transaction_id\n",
    "    FROM Transactions\n",
    "    WHERE customer_name = 'Nguyen V. A');\n",
    "\"\"\")\n",
    "\n",
    "connection.commit()"
   ]
  },
  {
   "cell_type": "markdown",
   "metadata": {},
   "source": [
    "### Bài 5"
   ]
  },
  {
   "cell_type": "code",
   "execution_count": 12,
   "metadata": {},
   "outputs": [
    {
     "name": "stdout",
     "output_type": "stream",
     "text": [
      "  customer_name  total_stock_codes\n",
      "0      Le Thi B                  1\n",
      "1   Nguyen V. A                  2\n",
      "2    Tran Van C                  2\n"
     ]
    },
    {
     "name": "stderr",
     "output_type": "stream",
     "text": [
      "C:\\Users\\Apollonir\\AppData\\Local\\Temp\\ipykernel_23648\\3082205704.py:8: UserWarning: pandas only supports SQLAlchemy connectable (engine/connection) or database string URI or sqlite3 DBAPI2 connection. Other DBAPI2 objects are not tested. Please consider using SQLAlchemy.\n",
      "  data_5a = pd.read_sql_query(query, connection)\n"
     ]
    }
   ],
   "source": [
    "query = (\"\"\"\n",
    "SELECT a.customer_name, COUNT(DISTINCT b.stock_code) AS total_stock_codes\n",
    "FROM Transactions a\n",
    "LEFT JOIN StockCodes b ON b.transaction_id = a.transaction_id\n",
    "GROUP BY a.customer_name;\n",
    "\"\"\")\n",
    "\n",
    "data_5a = pd.read_sql_query(query, connection)\n",
    "print(data_5a)"
   ]
  },
  {
   "cell_type": "code",
   "execution_count": 15,
   "metadata": {},
   "outputs": [
    {
     "name": "stdout",
     "output_type": "stream",
     "text": [
      "  customer_name  total_stock_codes\n",
      "0   Nguyen V. A                  2\n"
     ]
    },
    {
     "name": "stderr",
     "output_type": "stream",
     "text": [
      "C:\\Users\\Apollonir\\AppData\\Local\\Temp\\ipykernel_23648\\2014431092.py:10: UserWarning: pandas only supports SQLAlchemy connectable (engine/connection) or database string URI or sqlite3 DBAPI2 connection. Other DBAPI2 objects are not tested. Please consider using SQLAlchemy.\n",
      "  data_5b = pd.read_sql_query(query, connection)\n"
     ]
    }
   ],
   "source": [
    "query = (\"\"\"\n",
    "SELECT a.customer_name, COUNT(DISTINCT b.stock_code) AS total_stock_codes\n",
    "FROM Transactions a\n",
    "LEFT JOIN StockCodes b ON b.transaction_id = a.transaction_id\n",
    "GROUP BY a.customer_name\n",
    "ORDER BY total_stock_codes DESC\n",
    "LIMIT 1;\n",
    "\"\"\")\n",
    "\n",
    "data_5b = pd.read_sql_query(query, connection)\n",
    "print(data_5b)"
   ]
  }
 ],
 "metadata": {
  "kernelspec": {
   "display_name": "base",
   "language": "python",
   "name": "python3"
  },
  "language_info": {
   "codemirror_mode": {
    "name": "ipython",
    "version": 3
   },
   "file_extension": ".py",
   "mimetype": "text/x-python",
   "name": "python",
   "nbconvert_exporter": "python",
   "pygments_lexer": "ipython3",
   "version": "3.10.16"
  }
 },
 "nbformat": 4,
 "nbformat_minor": 2
}
