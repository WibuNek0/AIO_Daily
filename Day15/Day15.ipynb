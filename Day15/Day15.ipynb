{
 "cells": [
  {
   "cell_type": "code",
   "execution_count": null,
   "metadata": {},
   "outputs": [],
   "source": [
    "import numpy as np\n",
    "import pandas as pd\n",
    "import matplotlib.pyplot as plt\n",
    "import seaborn as sns\n",
    "\n",
    "# Đọc dataset\n",
    "data = pd.read_csv(\"advertising.csv\")\n",
    "\n",
    "def correlation(x, y):\n",
    "## Your code here ##\n",
    "\n",
    "# Example usage :\n",
    "x = data['TV']\n",
    "y = data['Radio']\n",
    "corr_xy = correlation(x , y)\n",
    "print (f\"Correlation between TV and Sales: {corr_xy}\") ## Output : 0.0548"
   ]
  },
  {
   "cell_type": "code",
   "execution_count": null,
   "metadata": {},
   "outputs": [],
   "source": [
    "## Calculate coerelation here ##\n",
    "plt.figure(figsize = (10, 8))\n",
    "sns.heatmap(\n",
    "    # Your result coerelation here # , annot =True , fmt =\".2 f\", linewidth =.5\n",
    "    )\n",
    "plt.show()"
   ]
  }
 ],
 "metadata": {
  "kernelspec": {
   "display_name": "Python 3",
   "language": "python",
   "name": "python3"
  },
  "language_info": {
   "name": "python",
   "version": "3.13.0"
  }
 },
 "nbformat": 4,
 "nbformat_minor": 2
}
