{
 "cells": [
  {
   "cell_type": "code",
   "execution_count": null,
   "metadata": {},
   "outputs": [],
   "source": [
    "import pandas as pd\n",
    "import wandb\n",
    "\n",
    "areas = [6.7, 4.6, 3.5, 5.5]\n",
    "prices = [9.1, 5.9, 4.6, 6.7]\n",
    "\n",
    "dataset = pd.DataFrame ({\n",
    "'areas': areas ,\n",
    "'prices': prices\n",
    "})"
   ]
  },
  {
   "cell_type": "code",
   "execution_count": 4,
   "metadata": {},
   "outputs": [],
   "source": [
    "# forward\n",
    "def predict(x, w, b):\n",
    "    return x * w + b\n",
    "\n",
    "# compute gradient\n",
    "def gradient(y_hat, y, x):\n",
    "    dw = 2* x *(y_hat - y)\n",
    "    db = 2*(y_hat - y)\n",
    "\n",
    "    return(dw, db)\n",
    "\n",
    "# update weights\n",
    "def update_weight(w, b, lr, dw, db):\n",
    "    w_new = w - lr * dw\n",
    "    b_new = b - lr * db\n",
    "\n",
    "    return(w_new, b_new)"
   ]
  },
  {
   "cell_type": "code",
   "execution_count": 5,
   "metadata": {},
   "outputs": [
    {
     "name": "stderr",
     "output_type": "stream",
     "text": [
      "\u001b[34m\u001b[1mwandb\u001b[0m: Using wandb-core as the SDK backend.  Please refer to https://wandb.me/wandb-core for more information.\n",
      "\u001b[34m\u001b[1mwandb\u001b[0m: Currently logged in as: \u001b[33mvthieu0204\u001b[0m (\u001b[33mvthieu0204-vietnam-national-university-hanoi\u001b[0m) to \u001b[32mhttps://api.wandb.ai\u001b[0m. Use \u001b[1m`wandb login --relogin`\u001b[0m to force relogin\n"
     ]
    },
    {
     "data": {
      "text/html": [
       "Tracking run with wandb version 0.19.7"
      ],
      "text/plain": [
       "<IPython.core.display.HTML object>"
      ]
     },
     "metadata": {},
     "output_type": "display_data"
    },
    {
     "data": {
      "text/html": [
       "Run data is saved locally in <code>d:\\GitHub\\AIO_Daily\\wandb\\run-20250304_013220-12vz0vl7</code>"
      ],
      "text/plain": [
       "<IPython.core.display.HTML object>"
      ]
     },
     "metadata": {},
     "output_type": "display_data"
    },
    {
     "data": {
      "text/html": [
       "Syncing run <strong><a href='https://wandb.ai/vthieu0204-vietnam-national-university-hanoi/demo-linear-regression/runs/12vz0vl7' target=\"_blank\">ethereal-elevator-1</a></strong> to <a href='https://wandb.ai/vthieu0204-vietnam-national-university-hanoi/demo-linear-regression' target=\"_blank\">Weights & Biases</a> (<a href='https://wandb.me/developer-guide' target=\"_blank\">docs</a>)<br>"
      ],
      "text/plain": [
       "<IPython.core.display.HTML object>"
      ]
     },
     "metadata": {},
     "output_type": "display_data"
    },
    {
     "data": {
      "text/html": [
       " View project at <a href='https://wandb.ai/vthieu0204-vietnam-national-university-hanoi/demo-linear-regression' target=\"_blank\">https://wandb.ai/vthieu0204-vietnam-national-university-hanoi/demo-linear-regression</a>"
      ],
      "text/plain": [
       "<IPython.core.display.HTML object>"
      ]
     },
     "metadata": {},
     "output_type": "display_data"
    },
    {
     "data": {
      "text/html": [
       " View run at <a href='https://wandb.ai/vthieu0204-vietnam-national-university-hanoi/demo-linear-regression/runs/12vz0vl7' target=\"_blank\">https://wandb.ai/vthieu0204-vietnam-national-university-hanoi/demo-linear-regression/runs/12vz0vl7</a>"
      ],
      "text/plain": [
       "<IPython.core.display.HTML object>"
      ]
     },
     "metadata": {},
     "output_type": "display_data"
    },
    {
     "data": {
      "text/html": [],
      "text/plain": [
       "<IPython.core.display.HTML object>"
      ]
     },
     "metadata": {},
     "output_type": "display_data"
    },
    {
     "data": {
      "text/html": [
       "<br>    <style><br>        .wandb-row {<br>            display: flex;<br>            flex-direction: row;<br>            flex-wrap: wrap;<br>            justify-content: flex-start;<br>            width: 100%;<br>        }<br>        .wandb-col {<br>            display: flex;<br>            flex-direction: column;<br>            flex-basis: 100%;<br>            flex: 1;<br>            padding: 10px;<br>        }<br>    </style><br><div class=\"wandb-row\"><div class=\"wandb-col\"><h3>Run history:</h3><br/><table class=\"wandb\"><tr><td>loss</td><td>█▁▁▁▁▁▁▁▁▁▁▁▁▁▁▁▁▁▁▁▁▁▁▁▁▁▁▁▁▁▁▁▁▁▁▁▁▁▁▁</td></tr></table><br/></div><div class=\"wandb-col\"><h3>Run summary:</h3><br/><table class=\"wandb\"><tr><td>loss</td><td>0.13448</td></tr></table><br/></div></div>"
      ],
      "text/plain": [
       "<IPython.core.display.HTML object>"
      ]
     },
     "metadata": {},
     "output_type": "display_data"
    },
    {
     "data": {
      "text/html": [
       " View run <strong style=\"color:#cdcd00\">ethereal-elevator-1</strong> at: <a href='https://wandb.ai/vthieu0204-vietnam-national-university-hanoi/demo-linear-regression/runs/12vz0vl7' target=\"_blank\">https://wandb.ai/vthieu0204-vietnam-national-university-hanoi/demo-linear-regression/runs/12vz0vl7</a><br> View project at: <a href='https://wandb.ai/vthieu0204-vietnam-national-university-hanoi/demo-linear-regression' target=\"_blank\">https://wandb.ai/vthieu0204-vietnam-national-university-hanoi/demo-linear-regression</a><br>Synced 5 W&B file(s), 1 media file(s), 2 artifact file(s) and 0 other file(s)"
      ],
      "text/plain": [
       "<IPython.core.display.HTML object>"
      ]
     },
     "metadata": {},
     "output_type": "display_data"
    },
    {
     "data": {
      "text/html": [
       "Find logs at: <code>.\\wandb\\run-20250304_013220-12vz0vl7\\logs</code>"
      ],
      "text/plain": [
       "<IPython.core.display.HTML object>"
      ]
     },
     "metadata": {},
     "output_type": "display_data"
    }
   ],
   "source": [
    "# init weights\n",
    "b = 0.04\n",
    "w = -0.34\n",
    "lr = 0.01\n",
    "epochs = 10\n",
    "\n",
    "# init project wandb\n",
    "wandb.init (\n",
    "    # Set the project where this run will be logged\n",
    "    project =\"demo-linear-regression\",\n",
    "    config ={\n",
    "        \"learning_rate\": lr,\n",
    "        \"epochs\": epochs,\n",
    "    },\n",
    ")\n",
    "\n",
    "wandb.run.log({\"Dataset\" : wandb.Table(dataframe = dataset)})\n",
    "\n",
    "X_train = dataset['areas']\n",
    "Y_train = dataset['prices']\n",
    "\n",
    "N = len(X_train)\n",
    "# parameter\n",
    "losses = [] # for debug\n",
    "\n",
    "for epoch in range(epochs):\n",
    "# for an epoch\n",
    "    for i in range(N):\n",
    "        # get a sample\n",
    "        x = X_train[i]\n",
    "        y = Y_train[i]\n",
    "\n",
    "        # predict y_hat\n",
    "        y_hat = predict(x, w, b)\n",
    "\n",
    "        # compute loss\n",
    "        loss = (y_hat - y) *(y_hat - y) / 2.0\n",
    "\n",
    "        # tracking loss with WandB\n",
    "        wandb.log({\"loss\": loss})\n",
    "\n",
    "        # compute gradient\n",
    "        (dw, db) = gradient(y_hat, y, x)\n",
    "\n",
    "        # update weights\n",
    "        (w, b) = update_weight(w, b, lr, dw, db)\n",
    "\n",
    "# Mark a run as finished , and finish uploading all data .\n",
    "wandb.finish()\n"
   ]
  },
  {
   "cell_type": "code",
   "execution_count": 6,
   "metadata": {},
   "outputs": [
    {
     "data": {
      "text/html": [
       "<div>\n",
       "<style scoped>\n",
       "    .dataframe tbody tr th:only-of-type {\n",
       "        vertical-align: middle;\n",
       "    }\n",
       "\n",
       "    .dataframe tbody tr th {\n",
       "        vertical-align: top;\n",
       "    }\n",
       "\n",
       "    .dataframe thead th {\n",
       "        text-align: right;\n",
       "    }\n",
       "</style>\n",
       "<table border=\"1\" class=\"dataframe\">\n",
       "  <thead>\n",
       "    <tr style=\"text-align: right;\">\n",
       "      <th></th>\n",
       "      <th>TV</th>\n",
       "      <th>Radio</th>\n",
       "      <th>Newspaper</th>\n",
       "      <th>Sales</th>\n",
       "    </tr>\n",
       "  </thead>\n",
       "  <tbody>\n",
       "    <tr>\n",
       "      <th>0</th>\n",
       "      <td>230.1</td>\n",
       "      <td>37.8</td>\n",
       "      <td>69.2</td>\n",
       "      <td>22.1</td>\n",
       "    </tr>\n",
       "    <tr>\n",
       "      <th>1</th>\n",
       "      <td>44.5</td>\n",
       "      <td>39.3</td>\n",
       "      <td>45.1</td>\n",
       "      <td>10.4</td>\n",
       "    </tr>\n",
       "    <tr>\n",
       "      <th>2</th>\n",
       "      <td>17.2</td>\n",
       "      <td>45.9</td>\n",
       "      <td>69.3</td>\n",
       "      <td>12.0</td>\n",
       "    </tr>\n",
       "    <tr>\n",
       "      <th>3</th>\n",
       "      <td>151.5</td>\n",
       "      <td>41.3</td>\n",
       "      <td>58.5</td>\n",
       "      <td>16.5</td>\n",
       "    </tr>\n",
       "    <tr>\n",
       "      <th>4</th>\n",
       "      <td>180.8</td>\n",
       "      <td>10.8</td>\n",
       "      <td>58.4</td>\n",
       "      <td>17.9</td>\n",
       "    </tr>\n",
       "  </tbody>\n",
       "</table>\n",
       "</div>"
      ],
      "text/plain": [
       "      TV  Radio  Newspaper  Sales\n",
       "0  230.1   37.8       69.2   22.1\n",
       "1   44.5   39.3       45.1   10.4\n",
       "2   17.2   45.9       69.3   12.0\n",
       "3  151.5   41.3       58.5   16.5\n",
       "4  180.8   10.8       58.4   17.9"
      ]
     },
     "execution_count": 6,
     "metadata": {},
     "output_type": "execute_result"
    }
   ],
   "source": [
    "data = pd.read_csv('advertising.csv')\n",
    "data.head()"
   ]
  },
  {
   "cell_type": "code",
   "execution_count": 10,
   "metadata": {},
   "outputs": [],
   "source": [
    "w1 = w2 = w3 = 0  \n",
    "b = 1  \n",
    "lr = 0.000000001\n",
    "epochs = 1000 "
   ]
  },
  {
   "cell_type": "code",
   "execution_count": 11,
   "metadata": {},
   "outputs": [],
   "source": [
    "def predict(x1, x2, x3, w1, w2, w3, b):\n",
    "    return x1*w1 + x2*w2 + x3*w3 + b\n",
    "\n",
    "def gradient(x1, x2, x3, w1, w2, w3, b, y_hat, y):\n",
    "    dw1 = (y_hat - y) * x1\n",
    "    dw2 = (y_hat - y) * x2\n",
    "    dw3 = (y_hat - y) * x3\n",
    "    db = (y_hat - y)\n",
    "    return dw1, dw2, dw3, db\n",
    "\n",
    "def update_weights(w1, w2, w3, b, dw1, dw2, dw3, db, lr):\n",
    "    w1 = w1 - lr * dw1\n",
    "    w2 = w2 - lr * dw2\n",
    "    w3 = w3 - lr * dw3\n",
    "    b = b - lr * db\n",
    "    return w1, w2, w3, b"
   ]
  },
  {
   "cell_type": "code",
   "execution_count": 12,
   "metadata": {},
   "outputs": [
    {
     "data": {
      "text/html": [
       "Tracking run with wandb version 0.19.7"
      ],
      "text/plain": [
       "<IPython.core.display.HTML object>"
      ]
     },
     "metadata": {},
     "output_type": "display_data"
    },
    {
     "data": {
      "text/html": [
       "Run data is saved locally in <code>d:\\GitHub\\AIO_Daily\\wandb\\run-20250304_013334-kf15knh7</code>"
      ],
      "text/plain": [
       "<IPython.core.display.HTML object>"
      ]
     },
     "metadata": {},
     "output_type": "display_data"
    },
    {
     "data": {
      "text/html": [
       "Syncing run <strong><a href='https://wandb.ai/vthieu0204-vietnam-national-university-hanoi/Linear%20Regression/runs/kf15knh7' target=\"_blank\">warm-snow-7</a></strong> to <a href='https://wandb.ai/vthieu0204-vietnam-national-university-hanoi/Linear%20Regression' target=\"_blank\">Weights & Biases</a> (<a href='https://wandb.me/developer-guide' target=\"_blank\">docs</a>)<br>"
      ],
      "text/plain": [
       "<IPython.core.display.HTML object>"
      ]
     },
     "metadata": {},
     "output_type": "display_data"
    },
    {
     "data": {
      "text/html": [
       " View project at <a href='https://wandb.ai/vthieu0204-vietnam-national-university-hanoi/Linear%20Regression' target=\"_blank\">https://wandb.ai/vthieu0204-vietnam-national-university-hanoi/Linear%20Regression</a>"
      ],
      "text/plain": [
       "<IPython.core.display.HTML object>"
      ]
     },
     "metadata": {},
     "output_type": "display_data"
    },
    {
     "data": {
      "text/html": [
       " View run at <a href='https://wandb.ai/vthieu0204-vietnam-national-university-hanoi/Linear%20Regression/runs/kf15knh7' target=\"_blank\">https://wandb.ai/vthieu0204-vietnam-national-university-hanoi/Linear%20Regression/runs/kf15knh7</a>"
      ],
      "text/plain": [
       "<IPython.core.display.HTML object>"
      ]
     },
     "metadata": {},
     "output_type": "display_data"
    },
    {
     "data": {
      "text/html": [],
      "text/plain": [
       "<IPython.core.display.HTML object>"
      ]
     },
     "metadata": {},
     "output_type": "display_data"
    },
    {
     "data": {
      "text/html": [
       "<br>    <style><br>        .wandb-row {<br>            display: flex;<br>            flex-direction: row;<br>            flex-wrap: wrap;<br>            justify-content: flex-start;<br>            width: 100%;<br>        }<br>        .wandb-col {<br>            display: flex;<br>            flex-direction: column;<br>            flex-basis: 100%;<br>            flex: 1;<br>            padding: 10px;<br>        }<br>    </style><br><div class=\"wandb-row\"><div class=\"wandb-col\"><h3>Run history:</h3><br/><table class=\"wandb\"><tr><td>loss</td><td>▄▄█▄▁▂▁▂▂▂▂▁▁▁▁▁▁▁▂▁▁▁▁▁▂▁▁▁▁▁▃▁▁▁▁▁▁▁▁▁</td></tr></table><br/></div><div class=\"wandb-col\"><h3>Run summary:</h3><br/><table class=\"wandb\"><tr><td>loss</td><td>2.52276</td></tr></table><br/></div></div>"
      ],
      "text/plain": [
       "<IPython.core.display.HTML object>"
      ]
     },
     "metadata": {},
     "output_type": "display_data"
    },
    {
     "data": {
      "text/html": [
       " View run <strong style=\"color:#cdcd00\">warm-snow-7</strong> at: <a href='https://wandb.ai/vthieu0204-vietnam-national-university-hanoi/Linear%20Regression/runs/kf15knh7' target=\"_blank\">https://wandb.ai/vthieu0204-vietnam-national-university-hanoi/Linear%20Regression/runs/kf15knh7</a><br> View project at: <a href='https://wandb.ai/vthieu0204-vietnam-national-university-hanoi/Linear%20Regression' target=\"_blank\">https://wandb.ai/vthieu0204-vietnam-national-university-hanoi/Linear%20Regression</a><br>Synced 5 W&B file(s), 1 media file(s), 2 artifact file(s) and 0 other file(s)"
      ],
      "text/plain": [
       "<IPython.core.display.HTML object>"
      ]
     },
     "metadata": {},
     "output_type": "display_data"
    },
    {
     "data": {
      "text/html": [
       "Find logs at: <code>.\\wandb\\run-20250304_013334-kf15knh7\\logs</code>"
      ],
      "text/plain": [
       "<IPython.core.display.HTML object>"
      ]
     },
     "metadata": {},
     "output_type": "display_data"
    }
   ],
   "source": [
    "wandb.init (project =\"Linear Regression\", config ={\n",
    "        \"learning_rate\": lr,\n",
    "        \"epochs\": epochs,\n",
    "    },\n",
    ")\n",
    "wandb.run.log({\"Dataset\" : wandb.Table(dataframe = data)})\n",
    "\n",
    "losses = [] \n",
    "\n",
    "for epoch in range(epochs):\n",
    "    for i in range(len(data)):\n",
    "        x1 = data.iloc[i, 0]\n",
    "        x2 = data.iloc[i, 1]\n",
    "        x3 = data.iloc[i, 2]\n",
    "        y = data.iloc[i, 3]\n",
    "\n",
    "        y_hat = predict(x1, x2, x3, w1, w2, w3, b)\n",
    "\n",
    "        loss = (y_hat - y)**2\n",
    "\n",
    "        wandb.log({\"loss\": loss})\n",
    "\n",
    "        dw1, dw2, dw3, db = gradient(x1, x2, x3, w1, w2, w3, b, y_hat, y)\n",
    "\n",
    "        w1, w2, w3, b = update_weights(w1, w2, w3, b, dw1, dw2, dw3, db, lr)\n",
    "    losses.append(loss)\n",
    "\n",
    "wandb.finish()\n"
   ]
  }
 ],
 "metadata": {
  "kernelspec": {
   "display_name": "base",
   "language": "python",
   "name": "python3"
  },
  "language_info": {
   "codemirror_mode": {
    "name": "ipython",
    "version": 3
   },
   "file_extension": ".py",
   "mimetype": "text/x-python",
   "name": "python",
   "nbconvert_exporter": "python",
   "pygments_lexer": "ipython3",
   "version": "3.12.3"
  }
 },
 "nbformat": 4,
 "nbformat_minor": 2
}
