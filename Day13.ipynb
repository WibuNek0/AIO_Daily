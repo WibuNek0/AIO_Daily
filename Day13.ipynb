{
 "cells": [
  {
   "cell_type": "markdown",
   "metadata": {},
   "source": [
    "### Lý thuyết"
   ]
  },
  {
   "cell_type": "code",
   "execution_count": 10,
   "metadata": {},
   "outputs": [
    {
     "name": "stdout",
     "output_type": "stream",
     "text": [
      "a: [1 2 3 4]\n",
      "b: \n",
      "[[1 2]\n",
      " [3 4]]\n",
      "zero_matrix: \n",
      "[[0. 0. 0.]\n",
      " [0. 0. 0.]\n",
      " [0. 0. 0.]]\n",
      "ones_matrix: \n",
      "[[1. 1.]\n",
      " [1. 1.]]\n",
      "rand_matrix: \n",
      "[[0.4816044  0.27659551 0.05710078]\n",
      " [0.88745288 0.73522115 0.31593835]\n",
      " [0.29278153 0.68938446 0.60905962]]\n",
      "identity_matrix: \n",
      "[[1. 0. 0.]\n",
      " [0. 1. 0.]\n",
      " [0. 0. 1.]]\n"
     ]
    }
   ],
   "source": [
    "import numpy as np\n",
    "\n",
    "# Tạo mảng 1D ( vector )\n",
    "a = np.array([1, 2, 3, 4])\n",
    "print(f\"a: {a}\")\n",
    "\n",
    "# Tạo mảng 2D (ma trận)\n",
    "b = np.array([[1, 2], [3, 4]])\n",
    "print(f\"b: \\n{b}\")\n",
    "\n",
    "# Tạo mảng số 0, số 1 và mảng ngẫu nhi ên\n",
    "zero_matrix = np.zeros((3, 3))\n",
    "print(f\"zero_matrix: \\n{zero_matrix}\")\n",
    "ones_matrix = np.ones((2, 2))\n",
    "print(f\"ones_matrix: \\n{ones_matrix}\")\n",
    "rand_matrix = np.random.rand(3, 3)\n",
    "print(f\"rand_matrix: \\n{rand_matrix}\")\n",
    "\n",
    "# Tạo ma trận đơn vị\n",
    "identity_matrix = np.eye(3)\n",
    "print(f\"identity_matrix: \\n{identity_matrix}\")"
   ]
  },
  {
   "cell_type": "markdown",
   "metadata": {},
   "source": [
    "#### Phép Cộng, Trừ Hai Ma Trận"
   ]
  },
  {
   "cell_type": "code",
   "execution_count": 12,
   "metadata": {},
   "outputs": [
    {
     "name": "stdout",
     "output_type": "stream",
     "text": [
      "C: \n",
      "[[ 6  8]\n",
      " [10 12]]\n",
      "D: \n",
      "[[-4 -4]\n",
      " [-4 -4]]\n"
     ]
    }
   ],
   "source": [
    "A = np . array ([[1 , 2] , [3 , 4]])\n",
    "B = np . array ([[5 , 6] , [7 , 8]])\n",
    "\n",
    "C = A + B # Cộng ma trận\n",
    "D = A - B # Trừ ma trận\n",
    "\n",
    "print(f\"C: \\n{C}\")\n",
    "print(f\"D: \\n{D}\")"
   ]
  },
  {
   "cell_type": "markdown",
   "metadata": {},
   "source": [
    "####  Phép Nhân Từng Phần Tử (Element-wise)"
   ]
  },
  {
   "cell_type": "code",
   "execution_count": 13,
   "metadata": {},
   "outputs": [
    {
     "name": "stdout",
     "output_type": "stream",
     "text": [
      "E: \n",
      "[[ 5 12]\n",
      " [21 32]]\n"
     ]
    }
   ],
   "source": [
    "E = A * B # Nhân từng phần tử\n",
    "\n",
    "print(f\"E: \\n{E}\")"
   ]
  },
  {
   "cell_type": "markdown",
   "metadata": {},
   "source": [
    "####  Phép Nhân Ma Trận (Matrix Multiplication)"
   ]
  },
  {
   "cell_type": "code",
   "execution_count": 15,
   "metadata": {},
   "outputs": [
    {
     "name": "stdout",
     "output_type": "stream",
     "text": [
      "C_1: \n",
      "[[19 22]\n",
      " [43 50]]\n",
      "C_2: \n",
      "[[19 22]\n",
      " [43 50]]\n"
     ]
    }
   ],
   "source": [
    "C_1 = A @ B \n",
    "C_2 = np.dot(A, B)\n",
    "\n",
    "print(f\"C_1: \\n{C_1}\")\n",
    "print(f\"C_2: \\n{C_2}\")"
   ]
  },
  {
   "cell_type": "markdown",
   "metadata": {},
   "source": [
    "#### Định Thức Ma Trận"
   ]
  },
  {
   "cell_type": "code",
   "execution_count": null,
   "metadata": {},
   "outputs": [
    {
     "name": "stdout",
     "output_type": "stream",
     "text": [
      "det_A: -2.0000000000000004\n"
     ]
    }
   ],
   "source": [
    "det_A = np.linalg.det(A)\n",
    "\n",
    "print(f\"det_A: {det_A}\")"
   ]
  },
  {
   "cell_type": "markdown",
   "metadata": {},
   "source": [
    "#### Ma Trận Nghịch Đảo"
   ]
  },
  {
   "cell_type": "code",
   "execution_count": 19,
   "metadata": {},
   "outputs": [
    {
     "name": "stdout",
     "output_type": "stream",
     "text": [
      "A_inv: \n",
      "[[-2.   1. ]\n",
      " [ 1.5 -0.5]]\n"
     ]
    }
   ],
   "source": [
    "A_inv = np.linalg.inv(A)\n",
    "\n",
    "print(f\"A_inv: \\n{A_inv}\")"
   ]
  },
  {
   "cell_type": "markdown",
   "metadata": {},
   "source": [
    "#### Hạng của Ma Trận"
   ]
  },
  {
   "cell_type": "code",
   "execution_count": 21,
   "metadata": {},
   "outputs": [
    {
     "name": "stdout",
     "output_type": "stream",
     "text": [
      "rank_A: 2\n"
     ]
    }
   ],
   "source": [
    "rank_A = np.linalg.matrix_rank(A)\n",
    "\n",
    "print(f\"rank_A: {rank_A}\")"
   ]
  },
  {
   "cell_type": "markdown",
   "metadata": {},
   "source": [
    "#### Giải Hệ Phương Trình Tuyến Tính"
   ]
  },
  {
   "cell_type": "code",
   "execution_count": 23,
   "metadata": {},
   "outputs": [
    {
     "name": "stdout",
     "output_type": "stream",
     "text": [
      "x: \n",
      "[[-3. -4.]\n",
      " [ 4.  5.]]\n"
     ]
    }
   ],
   "source": [
    "x = np.linalg.solve(A, B)\n",
    "\n",
    "print(f\"x: \\n{x}\")"
   ]
  },
  {
   "cell_type": "markdown",
   "metadata": {},
   "source": [
    "#### Tính Giá Trị Riêng và Vector Riêng\n"
   ]
  },
  {
   "cell_type": "code",
   "execution_count": 25,
   "metadata": {},
   "outputs": [
    {
     "name": "stdout",
     "output_type": "stream",
     "text": [
      "eig_values: \n",
      "[-0.37228132  5.37228132]\n",
      "eig_vectors: \n",
      "[[-0.82456484 -0.41597356]\n",
      " [ 0.56576746 -0.90937671]]\n"
     ]
    }
   ],
   "source": [
    "eig_values, eig_vectors = np.linalg.eig(A)\n",
    "\n",
    "print(f\"eig_values: \\n{eig_values}\")\n",
    "print(f\"eig_vectors: \\n{eig_vectors}\")"
   ]
  },
  {
   "cell_type": "markdown",
   "metadata": {},
   "source": [
    "####  Phân Rã SVD (Singular Value Decomposition)\n"
   ]
  },
  {
   "cell_type": "code",
   "execution_count": 27,
   "metadata": {},
   "outputs": [
    {
     "name": "stdout",
     "output_type": "stream",
     "text": [
      "U: \n",
      "[[-0.40455358 -0.9145143 ]\n",
      " [-0.9145143   0.40455358]]\n",
      "S: \n",
      "[5.4649857  0.36596619]\n",
      "V: \n",
      "[[-0.57604844 -0.81741556]\n",
      " [ 0.81741556 -0.57604844]]\n"
     ]
    }
   ],
   "source": [
    "U, S, V = np.linalg.svd(A)\n",
    "\n",
    "print(f\"U: \\n{U}\")\n",
    "print(f\"S: \\n{S}\")\n",
    "print(f\"V: \\n{V}\")"
   ]
  },
  {
   "cell_type": "markdown",
   "metadata": {},
   "source": [
    "#### Tích Vô Hướng (Dot Product)\n"
   ]
  },
  {
   "cell_type": "code",
   "execution_count": null,
   "metadata": {},
   "outputs": [],
   "source": []
  },
  {
   "cell_type": "code",
   "execution_count": null,
   "metadata": {},
   "outputs": [],
   "source": [
    "dot_product = np.dot(v1, v2)\n",
    "\n",
    "print(f\"dot_product: {dot_product}\")"
   ]
  },
  {
   "cell_type": "markdown",
   "metadata": {},
   "source": [
    "####  Tích Có Hướng (Cross Product)"
   ]
  },
  {
   "cell_type": "code",
   "execution_count": null,
   "metadata": {},
   "outputs": [],
   "source": [
    "cross_product = np.cross(v1, v2)\n",
    "\n",
    "print(f\"cross_product: {cross_product}\")"
   ]
  },
  {
   "cell_type": "markdown",
   "metadata": {},
   "source": [
    "#### Chuẩn của Vector (Norm)\n"
   ]
  },
  {
   "cell_type": "code",
   "execution_count": null,
   "metadata": {},
   "outputs": [],
   "source": [
    "norm_v = np.linalg.norm(v)"
   ]
  },
  {
   "cell_type": "markdown",
   "metadata": {},
   "source": [
    "#### Chuyển Vị Ma Trận"
   ]
  },
  {
   "cell_type": "code",
   "execution_count": null,
   "metadata": {},
   "outputs": [],
   "source": [
    "A_transpose = A.T\n",
    "\n",
    "print(f\"A_transpose: {A_transpose}\")"
   ]
  },
  {
   "cell_type": "markdown",
   "metadata": {},
   "source": [
    "### Bài tập"
   ]
  },
  {
   "cell_type": "markdown",
   "metadata": {},
   "source": [
    "#### Bài 1"
   ]
  },
  {
   "cell_type": "code",
   "execution_count": 35,
   "metadata": {},
   "outputs": [],
   "source": [
    "A = np.array([[1, 2], [3, 4]])\n",
    "\n",
    "B = np.array([[5, 6], [7, 8]])"
   ]
  },
  {
   "cell_type": "code",
   "execution_count": 36,
   "metadata": {},
   "outputs": [
    {
     "name": "stdout",
     "output_type": "stream",
     "text": [
      "C: \n",
      "[[ 6  8]\n",
      " [10 12]]\n",
      "D: \n",
      "[[-4 -4]\n",
      " [-4 -4]]\n"
     ]
    }
   ],
   "source": [
    "C = A + B\n",
    "D = A - B\n",
    "\n",
    "print(f\"C: \\n{C}\")\n",
    "print(f\"D: \\n{D}\")"
   ]
  },
  {
   "cell_type": "markdown",
   "metadata": {},
   "source": [
    "#### Bài 2"
   ]
  },
  {
   "cell_type": "code",
   "execution_count": 41,
   "metadata": {},
   "outputs": [
    {
     "name": "stdout",
     "output_type": "stream",
     "text": [
      "C + D: \n",
      "[[3 1]\n",
      " [2 1]]\n",
      "C - D: \n",
      "[[  1  -7]\n",
      " [  6 -11]]\n"
     ]
    }
   ],
   "source": [
    "C = np.array([[2, -3], [4, -5]])\n",
    "\n",
    "D = np.array([[1, 4], [-2, 6]])\n",
    "\n",
    "print(f\"C + D: \\n{C + D}\")\n",
    "print(f\"C - D: \\n{C - D}\")"
   ]
  },
  {
   "cell_type": "markdown",
   "metadata": {},
   "source": [
    "#### Bài 3"
   ]
  },
  {
   "cell_type": "code",
   "execution_count": 44,
   "metadata": {},
   "outputs": [
    {
     "name": "stdout",
     "output_type": "stream",
     "text": [
      "A * B: \n",
      "[[ 5 12]\n",
      " [21 32]]\n"
     ]
    }
   ],
   "source": [
    "A = np.array([[1, 2], [3, 4]])\n",
    "\n",
    "B = np.array([[5, 6], [7, 8]])\n",
    "\n",
    "print(f\"A * B: \\n{A * B}\")"
   ]
  },
  {
   "cell_type": "markdown",
   "metadata": {},
   "source": [
    "#### Bài 4"
   ]
  },
  {
   "cell_type": "code",
   "execution_count": 43,
   "metadata": {},
   "outputs": [
    {
     "name": "stdout",
     "output_type": "stream",
     "text": [
      "E * F: \n",
      "[[0 4 6]\n",
      " [6 4 0]]\n"
     ]
    }
   ],
   "source": [
    "E = np.array([[0, 1, 2], [3, 4, 5]])\n",
    "F = np.array([[5, 4, 3], [2, 1, 0]])\n",
    "\n",
    "print(f\"E * F: \\n{E * F}\")"
   ]
  },
  {
   "cell_type": "markdown",
   "metadata": {},
   "source": [
    "#### Bài 5"
   ]
  },
  {
   "cell_type": "code",
   "execution_count": 48,
   "metadata": {},
   "outputs": [
    {
     "name": "stdout",
     "output_type": "stream",
     "text": [
      "v1 * v2: 32\n"
     ]
    }
   ],
   "source": [
    "v1 = np.array([1, 2, 3])\n",
    "v2 = np.array([4, 5, 6])\n",
    "\n",
    "dot_product = np.dot(v1, v2)\n",
    "print(f\"v1 * v2: {dot_product}\")"
   ]
  },
  {
   "cell_type": "markdown",
   "metadata": {},
   "source": [
    "#### Bài 6"
   ]
  },
  {
   "cell_type": "code",
   "execution_count": 49,
   "metadata": {},
   "outputs": [],
   "source": [
    "def convolution(matrix, kernal): \n",
    "    kernal_h = len(kernal)\n",
    "    kernal_w = len(kernal[0])\n",
    "\n",
    "    mat_h = len(matrix)\n",
    "    mat_w = len(matrix[0])\n",
    "\n",
    "    result = []\n",
    "\n",
    "    for i in range(mat_h - kernal_h + 1):\n",
    "        row = []\n",
    "        for j in range(mat_w - kernal_w + 1):\n",
    "            sum_value = 0\n",
    "            for ki in range(kernal_h):\n",
    "                for kj in range(kernal_w):\n",
    "                    sum_value += matrix[i + ki][j + kj] * kernal[ki][kj]\n",
    "            row.append(sum_value)\n",
    "        result.append(row)\n",
    "    \n",
    "    return result"
   ]
  },
  {
   "cell_type": "code",
   "execution_count": 52,
   "metadata": {},
   "outputs": [
    {
     "name": "stdout",
     "output_type": "stream",
     "text": [
      "C: \n",
      "[[-4 -4]\n",
      " [-4 -4]]\n"
     ]
    }
   ],
   "source": [
    "A = np.array([[1, 2, 3], [4, 5, 6], [7, 8, 9]])\n",
    "B = np.array([[1, 0], [0, -1]])\n",
    "\n",
    "C = convolution(A, B)\n",
    "C = np.array(C)\n",
    "print(f\"C: \\n{C}\")"
   ]
  },
  {
   "cell_type": "markdown",
   "metadata": {},
   "source": [
    "#### Bài 8"
   ]
  },
  {
   "cell_type": "code",
   "execution_count": null,
   "metadata": {},
   "outputs": [
    {
     "name": "stdout",
     "output_type": "stream",
     "text": [
      "v_rotated: [0.52532199 0.85090352]\n"
     ]
    }
   ],
   "source": [
    "v = np.array([1, 0])\n",
    "\n",
    "theta = 45\n",
    "\n",
    "rotation_matrix = np.array([[np.cos(theta), np.sin(theta)], \n",
    "                            [-np.sin(theta), np.cos(theta)]])\n",
    "\n",
    "v_rotated = np.dot(v, rotation_matrix)\n",
    "\n",
    "print(f\"v_rotated: {v_rotated}\")"
   ]
  }
 ],
 "metadata": {
  "kernelspec": {
   "display_name": "Python 3",
   "language": "python",
   "name": "python3"
  },
  "language_info": {
   "codemirror_mode": {
    "name": "ipython",
    "version": 3
   },
   "file_extension": ".py",
   "mimetype": "text/x-python",
   "name": "python",
   "nbconvert_exporter": "python",
   "pygments_lexer": "ipython3",
   "version": "3.13.0"
  }
 },
 "nbformat": 4,
 "nbformat_minor": 2
}
