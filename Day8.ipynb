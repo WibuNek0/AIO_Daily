{
 "cells": [
  {
   "cell_type": "markdown",
   "metadata": {},
   "source": [
    "#### List and Tuple"
   ]
  },
  {
   "cell_type": "code",
   "execution_count": 1,
   "metadata": {},
   "outputs": [],
   "source": [
    "my_tuple1 = (2, 3)\n",
    "my_tuple2 = (3, 6)"
   ]
  },
  {
   "cell_type": "code",
   "execution_count": 5,
   "metadata": {},
   "outputs": [
    {
     "name": "stdout",
     "output_type": "stream",
     "text": [
      "(5, 9)\n",
      "(6, 18)\n"
     ]
    }
   ],
   "source": [
    "result_vector1 = (my_tuple1[0] + my_tuple2[0], my_tuple1[1] + my_tuple2[1])\n",
    "result_vector2 = (my_tuple1[0] * my_tuple2[0], my_tuple1[1] * my_tuple2[1])\n",
    "print(result_vector1)\n",
    "print(result_vector2)"
   ]
  },
  {
   "cell_type": "code",
   "execution_count": 6,
   "metadata": {},
   "outputs": [
    {
     "name": "stdout",
     "output_type": "stream",
     "text": [
      "3.1622776601683795\n"
     ]
    }
   ],
   "source": [
    "distance = ((my_tuple1[0] - my_tuple2[0])**2 + (my_tuple1[1] - my_tuple2[1])**2)**0.5\n",
    "print(distance)"
   ]
  },
  {
   "cell_type": "code",
   "execution_count": 11,
   "metadata": {},
   "outputs": [
    {
     "name": "stdout",
     "output_type": "stream",
     "text": [
      "(1, 0)\n"
     ]
    }
   ],
   "source": [
    "index_1 = my_tuple1.index(3)\n",
    "index_2 = my_tuple2.index(3)\n",
    "\n",
    "print(f'({index_1}, {index_2})')"
   ]
  },
  {
   "cell_type": "markdown",
   "metadata": {},
   "source": [
    "#### NLP"
   ]
  },
  {
   "cell_type": "code",
   "execution_count": 19,
   "metadata": {},
   "outputs": [
    {
     "name": "stdout",
     "output_type": "stream",
     "text": [
      "Tôi thích AI thích Toán: [1, 1, 1, 0, 0, 2, 0]\n",
      "['AI', 'Toán', 'Tôi', 'môn', 'nhạc', 'thích', 'âm']\n"
     ]
    }
   ],
   "source": [
    "corpus = ['Tôi thích môn Toán', 'Tôi thích AI', 'Tôi thích âm nhạc']\n",
    "\n",
    "tokens = []\n",
    "for words in corpus: \n",
    "    tokens.extend(words.split())\n",
    "\n",
    "word = sorted(set(tokens))\n",
    "\n",
    "\n",
    "out_put = ['Tôi thích AI thích Toán']\n",
    "vector_list = []\n",
    "for words in out_put: \n",
    "    vector = []\n",
    "\n",
    "    for i in word: \n",
    "        vector.append(words.split().count(i))\n",
    "    vector_list.append(vector)\n",
    "\n",
    "for i, words in enumerate(out_put):\n",
    "    print(f\"{words}: {vector_list[i]}\")\n",
    "\n",
    "print(word)"
   ]
  },
  {
   "cell_type": "markdown",
   "metadata": {},
   "source": [
    "#### Algorithmn on List"
   ]
  },
  {
   "cell_type": "code",
   "execution_count": 21,
   "metadata": {},
   "outputs": [
    {
     "name": "stdout",
     "output_type": "stream",
     "text": [
      "Vị trí đầu tiên: 2\n",
      "Danh sách: [2, 4, 6]\n"
     ]
    }
   ],
   "source": [
    "lst_data = [1, 1.1, None, 1.4, None, 1.5, None, 2.0]\n",
    "\n",
    "idx_lst = []\n",
    "for i, word in enumerate(lst_data):\n",
    "    if word == None:\n",
    "        idx_lst.append(i)\n",
    "    \n",
    "print(f\"Vị trí đầu tiên: {idx_lst[0]}\")\n",
    "print(f\"Danh sách: {idx_lst}\")"
   ]
  },
  {
   "cell_type": "markdown",
   "metadata": {},
   "source": [
    "#### Interpolation for List"
   ]
  },
  {
   "cell_type": "code",
   "execution_count": 22,
   "metadata": {},
   "outputs": [
    {
     "name": "stdout",
     "output_type": "stream",
     "text": [
      "Danh sách: [1, 1.1, 1.1, 1.4, 1.4, 1.5, 1.5, 2.0]\n"
     ]
    }
   ],
   "source": [
    "lst_data = [1, 1.1, None, 1.4, None, 1.5, None, 2.0]\n",
    "\n",
    "for i, number in enumerate(lst_data):\n",
    "    if number == None:\n",
    "        lst_data[i] = lst_data[i-1]\n",
    "\n",
    "print(f\"Danh sách: {lst_data}\")"
   ]
  },
  {
   "cell_type": "markdown",
   "metadata": {},
   "source": [
    "#### 2D List"
   ]
  },
  {
   "cell_type": "code",
   "execution_count": 27,
   "metadata": {},
   "outputs": [
    {
     "name": "stdout",
     "output_type": "stream",
     "text": [
      "[[1, 3], [4, 6], [7, 9]]\n"
     ]
    }
   ],
   "source": [
    "lst_data = [[1, 2, 3],\n",
    "           [4, 5, 6],\n",
    "           [7, 8, 9]]\n",
    "\n",
    "lst_sub_data = []\n",
    "for i in range(len(lst_data)):\n",
    "    lst_sub_data.append([lst_data[i][0], lst_data[i][2]])\n",
    "\n",
    "print(lst_sub_data)"
   ]
  },
  {
   "cell_type": "markdown",
   "metadata": {},
   "source": [
    "#### Matrix representation using List"
   ]
  },
  {
   "cell_type": "code",
   "execution_count": 29,
   "metadata": {},
   "outputs": [
    {
     "name": "stdout",
     "output_type": "stream",
     "text": [
      "[[3, 6, 9], [5, 8, 11], [8, 8, 10]]\n",
      "[[-1, -2, -3], [3, 2, 1], [6, 8, 8]]\n"
     ]
    }
   ],
   "source": [
    "mat_a = [[1, 2, 3], \n",
    "         [4, 5, 6], \n",
    "         [7, 8, 9]]\n",
    "\n",
    "mat_b = [[2, 4, 6], \n",
    "         [1, 3, 5], \n",
    "         [1, 0, 1]]\n",
    "\n",
    "sum_matrix = []\n",
    "diff_matrix = []\n",
    "for i in range(len(mat_a)): \n",
    "    sum_row = []\n",
    "    diff_row = []\n",
    "    for j in range(len(mat_a[i])):\n",
    "        sum_row.append(mat_a[i][j] + mat_b[i][j])\n",
    "        diff_row.append(mat_a[i][j] - mat_b[i][j])\n",
    "    sum_matrix.append(sum_row)\n",
    "    diff_matrix.append(diff_row)\n",
    "\n",
    "print(sum_matrix)\n",
    "print(diff_matrix)    "
   ]
  },
  {
   "cell_type": "code",
   "execution_count": 30,
   "metadata": {},
   "outputs": [
    {
     "name": "stdout",
     "output_type": "stream",
     "text": [
      "[[7, 10, 19], [19, 31, 55], [31, 52, 91]]\n"
     ]
    }
   ],
   "source": [
    "dot_product = []\n",
    "for i in range(len(mat_a)):\n",
    "    dot_row = []\n",
    "    for j in range(len(mat_b[0])):\n",
    "        product_sum = 0\n",
    "        for k in range(len(mat_b)):\n",
    "            product_sum += mat_a[i][k] * mat_b[k][j]\n",
    "        dot_row.append(product_sum)\n",
    "    dot_product.append(dot_row)\n",
    "\n",
    "print(dot_product)"
   ]
  },
  {
   "cell_type": "markdown",
   "metadata": {},
   "source": [
    "#### List Comprehension"
   ]
  },
  {
   "cell_type": "code",
   "execution_count": 35,
   "metadata": {},
   "outputs": [
    {
     "name": "stdout",
     "output_type": "stream",
     "text": [
      "['AI', 'listen', 'music']\n"
     ]
    }
   ],
   "source": [
    "stop_words = [\"I\", \"love\", \"and\", \"to\"]\n",
    "input = \"I love AI and listen to music\"\n",
    "\n",
    "lst_input = input.split()\n",
    "\n",
    "output = [word for word in lst_input if word not in stop_words]\n",
    "print(output)"
   ]
  },
  {
   "cell_type": "markdown",
   "metadata": {},
   "source": [
    "#### Mathemetic with List"
   ]
  },
  {
   "cell_type": "code",
   "execution_count": 45,
   "metadata": {},
   "outputs": [
    {
     "name": "stdout",
     "output_type": "stream",
     "text": [
      "Test 1: [0.0, 0.28, 0.52, 0.76, 1.0]\n",
      "Test 2: [0.0, 0.25, 0.5, 0.75, 1.0]\n",
      "Test 3: [0.0, 0.25, 0.5, 0.75, 1.0]\n"
     ]
    }
   ],
   "source": [
    "def normalize(lst_data):\n",
    "    data = []\n",
    "    min_val = min(lst_data)\n",
    "    max_val = max(lst_data)\n",
    "\n",
    "    for value in lst_data:\n",
    "        data.append((value - min_val)/(max_val - min_val))    \n",
    "    return data\n",
    "\n",
    "test_cases = [[11, 18, 24, 30, 36],\n",
    "              [50, 100, 150, 200, 250],\n",
    "              [3, 5, 7, 9, 11]]\n",
    "\n",
    "for i, test in enumerate(test_cases):\n",
    "    result = normalize(test)\n",
    "    print (f\"Test {i +1}: {result}\")\n"
   ]
  },
  {
   "cell_type": "code",
   "execution_count": 3,
   "metadata": {},
   "outputs": [
    {
     "name": "stdout",
     "output_type": "stream",
     "text": [
      "Test 1: [2.0, 3.0, 4.0, 5.0, 6.0, 7.0, 8.0]\n",
      "Test 2: [25.0, 35.0, 45.0, 55.0]\n",
      "Test 3: [7.5, 12.5, 17.5, 22.5]\n"
     ]
    }
   ],
   "source": [
    "def moving_average(lst, k):\n",
    "    averages = []\n",
    "    n = len(lst)\n",
    "\n",
    "    for i in range(n - k + 1): \n",
    "        window = lst[i:i + k]\n",
    "        total = sum(window)\n",
    "        avg = total/k\n",
    "        averages.append(avg)\n",
    "        \n",
    "    return averages\n",
    "\n",
    "test_cases = [([1, 2, 3, 4, 5, 6, 7, 8, 9], 3),\n",
    "              ([10, 20, 30, 40, 50, 60, 70], 4),\n",
    "              ([5, 10, 15, 20, 25], 2)]\n",
    "\n",
    "for i, (test, k) in enumerate(test_cases):\n",
    "    result = moving_average(test, k)\n",
    "    print(f\"Test {i +1}: {result}\")\n"
   ]
  },
  {
   "cell_type": "code",
   "execution_count": 54,
   "metadata": {},
   "outputs": [
    {
     "name": "stdout",
     "output_type": "stream",
     "text": [
      " Test 1: 32\n",
      " Test 2: 44\n",
      " Test 3: 14\n"
     ]
    }
   ],
   "source": [
    "def dot_product(v1, v2):\n",
    "    total = 0\n",
    "    for i in range(len(v1)):\n",
    "        total += v1[i] * v2[i]\n",
    "    return total\n",
    "\n",
    "test_cases = [([1, 2, 3], [4, 5, 6]),\n",
    "              ([2, 4, 6], [1, 3, 5]),\n",
    "              ([0, 1, 2], [3, 4, 5])]\n",
    "\n",
    "for i, (v1, v2) in enumerate(test_cases):\n",
    "    result = dot_product(v1, v2 )\n",
    "    print ( f\" Test {i +1}: {result}\")\n"
   ]
  },
  {
   "cell_type": "code",
   "execution_count": 10,
   "metadata": {},
   "outputs": [
    {
     "name": "stdout",
     "output_type": "stream",
     "text": [
      "Test 1: 1.0\n",
      "Test 2: 1.7000000000000002\n",
      "Test 3: 0\n"
     ]
    }
   ],
   "source": [
    "def perceptron_relu(weights, inputs, bias):\n",
    "    y = sum(w * x for w, x in zip(weights, inputs)) + bias\n",
    "    return max(0, y)\n",
    "\n",
    "test_cases = [([0.5, -0.6, 0.8], [1.0, 0.0, 1.0], -0.3),\n",
    "              ([0.2, 0.5, -0.4], [1.0, 2.0, -1.0], 0.1),\n",
    "              ([1.0, -1.0, 0.5], [0.5, 1.0, -0.5], -0.2)]\n",
    "\n",
    "for i, (weights, inputs, bias) in enumerate (test_cases):\n",
    "    result = perceptron_relu(weights, inputs, bias )\n",
    "    print (f\"Test {i +1}: { result }\")"
   ]
  }
 ],
 "metadata": {
  "kernelspec": {
   "display_name": "Python 3",
   "language": "python",
   "name": "python3"
  },
  "language_info": {
   "codemirror_mode": {
    "name": "ipython",
    "version": 3
   },
   "file_extension": ".py",
   "mimetype": "text/x-python",
   "name": "python",
   "nbconvert_exporter": "python",
   "pygments_lexer": "ipython3",
   "version": "3.13.0"
  }
 },
 "nbformat": 4,
 "nbformat_minor": 2
}
