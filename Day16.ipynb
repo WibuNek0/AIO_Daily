{
 "cells": [
  {
   "cell_type": "code",
   "execution_count": null,
   "metadata": {},
   "outputs": [],
   "source": [
    "import numpy as np\n",
    "\n",
    "def compute_gram_matrix(feature_map: np.ndarray ) -> np.ndarray:\n",
    "\n",
    "\n",
    "\n",
    "# Feature Map đầu vào cố định\n",
    "feature_map = np.array([\n",
    "    [[1 , 2] , [3 , 4]] , # Kênh 1\n",
    "    [[5 , 6] , [7 , 8]] , # Kênh 2\n",
    "    [[9 , 10] , [11 , 12]] # Kênh 3\n",
    "])\n",
    "\n",
    "# Tính Gram Matrix\n",
    "gram_matrix = compute_gram_matrix(feature_map)\n",
    "print(gram_matrix)"
   ]
  }
 ],
 "metadata": {
  "kernelspec": {
   "display_name": "base",
   "language": "python",
   "name": "python3"
  },
  "language_info": {
   "name": "python",
   "version": "3.12.3"
  }
 },
 "nbformat": 4,
 "nbformat_minor": 2
}
