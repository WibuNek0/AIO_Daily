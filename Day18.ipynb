{
 "cells": [
  {
   "cell_type": "markdown",
   "metadata": {},
   "source": [
    "#### Lớp (Class) và Đối Tượng (Object)"
   ]
  },
  {
   "cell_type": "code",
   "execution_count": 15,
   "metadata": {},
   "outputs": [
    {
     "name": "stdout",
     "output_type": "stream",
     "text": [
      "Buddy\n",
      "Some generic sound\n"
     ]
    }
   ],
   "source": [
    "class Animal:\n",
    "    def __init__(self, name):\n",
    "        self.name = name\n",
    "\n",
    "    def make_sound(self):\n",
    "        return \"Some generic sound\"\n",
    "\n",
    "dog = Animal(\"Buddy\")\n",
    "print(dog.name) # Output: Buddy\n",
    "print(dog.make_sound()) # Output : Some generic sound\n"
   ]
  },
  {
   "cell_type": "markdown",
   "metadata": {},
   "source": [
    "#### Đóng Gói (Encapsulation)\n",
    "Giới hạn truy cập vào dữ liệu, chỉ cho phép truy cập thông qua các phương thức của class."
   ]
  },
  {
   "cell_type": "code",
   "execution_count": 13,
   "metadata": {},
   "outputs": [
    {
     "name": "stdout",
     "output_type": "stream",
     "text": [
      "Deposited500, New balance: 1500\n"
     ]
    }
   ],
   "source": [
    "class BankAccount:\n",
    "    def __init__(self, owner, balance):\n",
    "        self.owner = owner\n",
    "        self.__balance = balance # Thu ộc tính private\n",
    "\n",
    "    def deposit(self, amount):\n",
    "        self.__balance += amount\n",
    "        return f\"Deposited{amount}, New balance: {self.__balance}\"\n",
    "\n",
    "account = BankAccount(\"Alice\", 1000)\n",
    "print(account.deposit(500)) # Output: Deposited 500, New balance: 1500"
   ]
  },
  {
   "cell_type": "markdown",
   "metadata": {},
   "source": [
    "#### Kế Thừa (Inheritance)\n",
    "Cho phép một class sử dụng lại code từ class khác."
   ]
  },
  {
   "cell_type": "code",
   "execution_count": 16,
   "metadata": {},
   "outputs": [
    {
     "name": "stdout",
     "output_type": "stream",
     "text": [
      "Woof! Woof!\n"
     ]
    }
   ],
   "source": [
    "class Dog(Animal): # Lớp Dog kế thừa từ Animal\n",
    "    def make_sound(self):\n",
    "        return \"Woof! Woof!\"\n",
    "\n",
    "dog = Dog(\"Max\")\n",
    "print(dog.make_sound()) # Output : Woof ! Woof !"
   ]
  },
  {
   "cell_type": "markdown",
   "metadata": {},
   "source": [
    "#### Đa Hình (Polymorphism)\n",
    "Cùng một phương thức nhưng hoạt động khác nhau dựa trên đối tượng sử dụng."
   ]
  },
  {
   "cell_type": "code",
   "execution_count": 18,
   "metadata": {},
   "outputs": [
    {
     "name": "stdout",
     "output_type": "stream",
     "text": [
      "Buddy says Woof! Woof!\n",
      "Whiskers says Meow! Meow!\n"
     ]
    }
   ],
   "source": [
    "class Cat(Animal):\n",
    "    def make_sound(self):\n",
    "        return \"Meow! Meow!\"\n",
    "\n",
    "animals = [Dog(\"Buddy\"), Cat(\"Whiskers\")]\n",
    "for animal in animals :\n",
    "    print(f\"{animal.name} says {animal.make_sound()}\")"
   ]
  },
  {
   "cell_type": "markdown",
   "metadata": {},
   "source": [
    "#### Trừu Tượng (Abstraction)\n",
    "Chỉ cung cấp những gì cần thiết và ẩn bớt những chi tiết không quan trọng."
   ]
  },
  {
   "cell_type": "code",
   "execution_count": null,
   "metadata": {},
   "outputs": [
    {
     "name": "stdout",
     "output_type": "stream",
     "text": [
      "Car is moving on the road\n",
      "Boat is sailing on the water\n"
     ]
    }
   ],
   "source": [
    "from abc import ABC, abstractmethod\n",
    "\n",
    "class Vehicle(ABC):\n",
    "    @abstractmethod\n",
    "    def move(self):\n",
    "        pass\n",
    "\n",
    "class Car(Vehicle):\n",
    "    def move(self):\n",
    "        return \"Car is moving on the road\"\n",
    "\n",
    "class Boat(Vehicle):\n",
    "    def move(self):\n",
    "        return \"Boat is sailing on the water\"\n",
    "\n",
    "car = Car()\n",
    "boat = Boat()\n",
    "print(car.move()) # Output : Car is moving on the road\n",
    "print(boat.move()) # Output : Boat is sailing on the water"
   ]
  }
 ],
 "metadata": {
  "kernelspec": {
   "display_name": "base",
   "language": "python",
   "name": "python3"
  },
  "language_info": {
   "codemirror_mode": {
    "name": "ipython",
    "version": 3
   },
   "file_extension": ".py",
   "mimetype": "text/x-python",
   "name": "python",
   "nbconvert_exporter": "python",
   "pygments_lexer": "ipython3",
   "version": "3.12.3"
  }
 },
 "nbformat": 4,
 "nbformat_minor": 2
}
