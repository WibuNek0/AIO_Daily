{
 "cells": [
  {
   "cell_type": "code",
   "execution_count": null,
   "metadata": {},
   "outputs": [
    {
     "name": "stdout",
     "output_type": "stream",
     "text": [
      "tf_result: [{'Tôi': 0.25, 'thích': 0.25, 'học': 0.25, 'AI': 0.25}, {'AI': 0.16666666666666666, 'là': 0.16666666666666666, 'trí': 0.16666666666666666, 'tuệ': 0.16666666666666666, 'nhân': 0.16666666666666666, 'tạo': 0.16666666666666666}, {'AGI': 0.14285714285714285, 'là': 0.14285714285714285, 'siêu': 0.14285714285714285, 'trí': 0.14285714285714285, 'tuệ': 0.14285714285714285, 'nhân': 0.14285714285714285, 'tạo': 0.14285714285714285}]\n",
      "idf_result: {'Tôi': 0.4054651081081644, 'AI': 0.0, 'thích': 0.4054651081081644, 'học': 0.4054651081081644, 'tạo': 0.0, 'nhân': 0.0, 'trí': 0.0, 'tuệ': 0.0, 'là': 0.0, 'AGI': 0.4054651081081644, 'siêu': 0.4054651081081644}\n",
      "tf_idf_result: [{'Tôi': 0.1013662770270411, 'thích': 0.1013662770270411, 'học': 0.1013662770270411, 'AI': 0.0}, {'AI': 0.0, 'là': 0.0, 'trí': 0.0, 'tuệ': 0.0, 'nhân': 0.0, 'tạo': 0.0}, {'AGI': 0.05792358687259491, 'là': 0.0, 'siêu': 0.05792358687259491, 'trí': 0.0, 'tuệ': 0.0, 'nhân': 0.0, 'tạo': 0.0}]\n",
      "Tài liệu 1: {'Tôi': 0.1013662770270411, 'thích': 0.1013662770270411, 'học': 0.1013662770270411, 'AI': 0.0}\n",
      "Tài liệu 2: {'AI': 0.0, 'là': 0.0, 'trí': 0.0, 'tuệ': 0.0, 'nhân': 0.0, 'tạo': 0.0}\n",
      "Tài liệu 3: {'AGI': 0.05792358687259491, 'là': 0.0, 'siêu': 0.05792358687259491, 'trí': 0.0, 'tuệ': 0.0, 'nhân': 0.0, 'tạo': 0.0}\n"
     ]
    }
   ],
   "source": [
    "import numpy as np\n",
    "import math\n",
    "\n",
    "# Bước 1: Tạo tập tài liệu mẫu\n",
    "documents = [\"Tôi thích học AI\", \"AI là trí tuệ nhân tạo\", \" AGI là siêu trí tuệ nhân tạo\"]\n",
    "\n",
    "# Bước 2: Tiền xử lý - tách từ và tính tần số\n",
    "def compute_tf(doc):\n",
    "    words = doc.split()\n",
    "    tf_dict = {}\n",
    "\n",
    "    for word in words: \n",
    "        tf_dict[word] = tf_dict.get(word, 0) + 1\n",
    "\n",
    "    for word in tf_dict: \n",
    "        tf_dict[word] = tf_dict[word]/len(words)\n",
    "    \n",
    "    return tf_dict\n",
    "\n",
    "# Bước 3: Tính toán IDF\n",
    "def compute_idf(docs):\n",
    "    idf_dict = {}\n",
    "    total_docs = len(docs)\n",
    "\n",
    "    for doc in docs: \n",
    "        words = set(doc.split())\n",
    "        for word in words: \n",
    "            idf_dict[word] = idf_dict.get(word, 0) + 1\n",
    "\n",
    "    for word, count in idf_dict.items(): \n",
    "        idf_dict[word] = math.log(total_docs/(1 + count))\n",
    "\n",
    "    return idf_dict\n",
    "\n",
    "# Bước 4: Tính toán TF - IDF\n",
    "def compute_tf_idf(tf, idf):\n",
    "    tf_idf_dict = {}\n",
    "    \n",
    "    for word in tf: \n",
    "        tf_idf_dict[word] = tf[word] * idf.get(word, 0)\n",
    "    return tf_idf_dict\n",
    "\n",
    "# In kết quả\n",
    "tf_result = [compute_tf(doc) for doc in documents]\n",
    "print(f\"tf_result: {tf_result}\")\n",
    "\n",
    "idf_result = compute_idf(documents)\n",
    "print(f\"idf_result: {idf_result}\")\n",
    "\n",
    "tf_idf_result = [compute_tf_idf(tf, idf_result) for tf in tf_result]\n",
    "print(f\"tf_idf_result: {tf_idf_result}\")\n",
    "\n",
    "for i, tf_idf in enumerate(tf_idf_result):\n",
    "    print(f\"Tài liệu {i+1}: {tf_idf}\")"
   ]
  }
 ],
 "metadata": {
  "kernelspec": {
   "display_name": "Python 3",
   "language": "python",
   "name": "python3"
  },
  "language_info": {
   "codemirror_mode": {
    "name": "ipython",
    "version": 3
   },
   "file_extension": ".py",
   "mimetype": "text/x-python",
   "name": "python",
   "nbconvert_exporter": "python",
   "pygments_lexer": "ipython3",
   "version": "3.13.0"
  }
 },
 "nbformat": 4,
 "nbformat_minor": 2
}
